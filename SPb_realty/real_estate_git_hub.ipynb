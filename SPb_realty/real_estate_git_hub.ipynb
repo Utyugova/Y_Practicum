{
 "cells": [
  {
   "cell_type": "markdown",
   "id": "1da66213",
   "metadata": {
    "toc": true
   },
   "source": [
    "<h1>Table of Contents<span class=\"tocSkip\"></span></h1>\n",
    "<div class=\"toc\"><ul class=\"toc-item\"><li><ul class=\"toc-item\"><li><span><a href=\"#Открываем-файл-с-данными-и-изучаем-общую-информацию\" data-toc-modified-id=\"Открываем-файл-с-данными-и-изучаем-общую-информацию-0.1\"><span class=\"toc-item-num\">0.1&nbsp;&nbsp;</span>Открываем файл с данными и изучаем общую информацию</a></span></li></ul></li><li><span><a href=\"#Первое-впечатление-от-даных\" data-toc-modified-id=\"Первое-впечатление-от-даных-1\"><span class=\"toc-item-num\">1&nbsp;&nbsp;</span>Первое впечатление от даных</a></span><ul class=\"toc-item\"><li><span><a href=\"#Мнение-после-первичного-ознакомленя-с-материалами:\" data-toc-modified-id=\"Мнение-после-первичного-ознакомленя-с-материалами:-1.1\"><span class=\"toc-item-num\">1.1&nbsp;&nbsp;</span>Мнение после первичного ознакомленя с материалами:</a></span></li></ul></li><li><span><a href=\"#Предобработка-данных\" data-toc-modified-id=\"Предобработка-данных-2\"><span class=\"toc-item-num\">2&nbsp;&nbsp;</span>Предобработка данных</a></span><ul class=\"toc-item\"><li><span><a href=\"#Реализуем-обработку\" data-toc-modified-id=\"Реализуем-обработку-2.1\"><span class=\"toc-item-num\">2.1&nbsp;&nbsp;</span>Реализуем обработку</a></span></li><li><span><a href=\"#Выводы-по--результатам-предобработки:\" data-toc-modified-id=\"Выводы-по--результатам-предобработки:-2.2\"><span class=\"toc-item-num\">2.2&nbsp;&nbsp;</span><strong>Выводы по  результатам предобработки:</strong></a></span></li><li><span><a href=\"#Добавим-в-таблицу-новые-колонки-со-следующими-параметрами:\" data-toc-modified-id=\"Добавим-в-таблицу-новые-колонки-со-следующими-параметрами:-2.3\"><span class=\"toc-item-num\">2.3&nbsp;&nbsp;</span>Добавим в таблицу новые колонки со следующими параметрами:</a></span></li><li><span><a href=\"#Проведем-исследовательский-анализ-данных:\" data-toc-modified-id=\"Проведем-исследовательский-анализ-данных:-2.4\"><span class=\"toc-item-num\">2.4&nbsp;&nbsp;</span>Проведем исследовательский анализ данных:</a></span></li><li><span><a href=\"#Аккуратно-делаем-выводы:\" data-toc-modified-id=\"Аккуратно-делаем-выводы:-2.5\"><span class=\"toc-item-num\">2.5&nbsp;&nbsp;</span>Аккуратно делаем выводы:</a></span></li><li><span><a href=\"#ВЫВОДЫ:\" data-toc-modified-id=\"ВЫВОДЫ:-2.6\"><span class=\"toc-item-num\">2.6&nbsp;&nbsp;</span>ВЫВОДЫ:</a></span><ul class=\"toc-item\"><li><span><a href=\"#В-Санкт-Петербурге---самая-высокая-средняя-цена-1-кв.м.,-самая-низкая-цена--1-кв.м.-из-топ-10--&quot;Наибольшего-числа-объявлений&quot;---Выборг.\" data-toc-modified-id=\"В-Санкт-Петербурге---самая-высокая-средняя-цена-1-кв.м.,-самая-низкая-цена--1-кв.м.-из-топ-10--&quot;Наибольшего-числа-объявлений&quot;---Выборг.-2.6.1\"><span class=\"toc-item-num\">2.6.1&nbsp;&nbsp;</span>В Санкт Петербурге   самая высокая средняя цена 1 кв.м., самая низкая цена  1 кв.м. из топ-10  \"Наибольшего числа объявлений\" - Выборг.</a></span></li><li><span><a href=\"#Ранее-вы-посчитали-расстояние-до-центра-в-километрах.-Теперь-выделите-квартиры-в-Санкт-Петербурге-с-помощью-столбца-locality_name-и-вычислите-среднюю-цену-каждого-километра.-Опишите,-как-стоимость-объектов-зависит-от-расстояния-до-центра-города.\" data-toc-modified-id=\"Ранее-вы-посчитали-расстояние-до-центра-в-километрах.-Теперь-выделите-квартиры-в-Санкт-Петербурге-с-помощью-столбца-locality_name-и-вычислите-среднюю-цену-каждого-километра.-Опишите,-как-стоимость-объектов-зависит-от-расстояния-до-центра-города.-2.6.2\"><span class=\"toc-item-num\">2.6.2&nbsp;&nbsp;</span>Ранее вы посчитали расстояние до центра в километрах. Теперь выделите квартиры в Санкт-Петербурге с помощью столбца locality_name и вычислите среднюю цену каждого километра. Опишите, как стоимость объектов зависит от расстояния до центра города.</a></span></li></ul></li><li><span><a href=\"#Общие-выводы\" data-toc-modified-id=\"Общие-выводы-2.7\"><span class=\"toc-item-num\">2.7&nbsp;&nbsp;</span>Общие выводы</a></span></li></ul></li></ul></div>"
   ]
  },
  {
   "cell_type": "markdown",
   "id": "3a62f354",
   "metadata": {},
   "source": [
    "# Исследование объявлений о продаже квартир\n",
    "\n",
    "В вашем распоряжении данные сервиса Яндекс.Недвижимость — архив объявлений о продаже квартир в Санкт-Петербурге и соседних населённых пунктов за несколько лет. Нужно научиться определять рыночную стоимость объектов недвижимости. Ваша задача — установить параметры. Это позволит построить автоматизированную систему: она отследит аномалии и мошенническую деятельность. \n",
    "\n",
    "По каждой квартире на продажу доступны два вида данных. Первые вписаны пользователем, вторые — получены автоматически на основе картографических данных. Например, расстояние до центра, аэропорта, ближайшего парка и водоёма. "
   ]
  },
  {
   "cell_type": "code",
   "execution_count": 1,
   "id": "33b29ab5",
   "metadata": {},
   "outputs": [],
   "source": [
    "import pandas as pd\n",
    "import numpy as np\n",
    "import matplotlib.pyplot as plt\n"
   ]
  },
  {
   "cell_type": "code",
   "execution_count": 2,
   "id": "8c187576",
   "metadata": {},
   "outputs": [],
   "source": [
    "import pandas as pd\n",
    "\n",
    "try:\n",
    "    datad= pd.read_csv(r'C:\\Users\\real_estate_data.csv',sep = '\\t')\n",
    "    \n",
    "except:\n",
    "    data = pd.read_csv('/datasets/real_estate_data.csv',sep = '\\t')"
   ]
  },
  {
   "cell_type": "code",
   "execution_count": 3,
   "id": "96009795",
   "metadata": {},
   "outputs": [],
   "source": [
    "#data = pd.read_csv(r'C:\\Users\\frecom\\Desktop\\jp\\real_estate_data.csv',sep = '\\t')\n",
    "#загружаем данные,указываем табуляцию разделителем между столбцов\n"
   ]
  },
  {
   "cell_type": "markdown",
   "id": "1d3621e4",
   "metadata": {},
   "source": [
    "### Открываем файл с данными и изучаем общую информацию "
   ]
  },
  {
   "cell_type": "markdown",
   "id": "65bad5df",
   "metadata": {},
   "source": [
    "При получении файла к нему были приложены описания содержимого в колонках:\n",
    "Описание данных\n",
    "\n",
    "* airports_nearest — расстояние до ближайшего аэропорта в метрах (м)\n",
    "* balcony — число балконов\n",
    "* ceiling_height — высота потолков (м)\n",
    "* cityCenters_nearest — расстояние до центра города (м)\n",
    "* days_exposition — сколько дней было размещено объявление (от публикации до снятия)\n",
    "* first_day_exposition — дата публикации\n",
    "* floor — этаж\n",
    "* floors_total — всего этажей в доме\n",
    "* is_apartment — апартаменты (булев тип)\n",
    "* kitchen_area — площадь кухни в квадратных метрах (м²)\n",
    "* last_price — цена на момент снятия с публикации\n",
    "* living_area — жилая площадь в квадратных метрах (м²)\n",
    "* locality_name — название населённого пункта\n",
    "* open_plan — свободная планировка (булев тип)\n",
    "* parks_around3000 — число парков в радиусе 3 км\n",
    "* parks_nearest — расстояние до ближайшего парка (м)\n",
    "* ponds_around3000 — число водоёмов в радиусе 3 км\n",
    "* ponds_nearest — расстояние до ближайшего водоёма (м)\n",
    "* rooms — число комнат\n",
    "* studio — квартира-студия (булев тип)\n",
    "* total_area — общая площадь квартиры в квадратных метрах (м²)\n",
    "* total_images — число фотографий квартиры в объявлении\n"
   ]
  },
  {
   "cell_type": "code",
   "execution_count": 4,
   "id": "4b853bf5",
   "metadata": {
    "scrolled": false
   },
   "outputs": [],
   "source": [
    "#🏁 БЫЛО:\n",
    "#data.head(3)  #откроем Датафрейм (далее - ДФ) выведем немного информации только для ознакомления и\n",
    "              #убедимся что все можем прочитать"
   ]
  },
  {
   "cell_type": "code",
   "execution_count": 5,
   "id": "212d3391",
   "metadata": {
    "scrolled": true
   },
   "outputs": [
    {
     "data": {
      "text/html": [
       "<div>\n",
       "<style scoped>\n",
       "    .dataframe tbody tr th:only-of-type {\n",
       "        vertical-align: middle;\n",
       "    }\n",
       "\n",
       "    .dataframe tbody tr th {\n",
       "        vertical-align: top;\n",
       "    }\n",
       "\n",
       "    .dataframe thead th {\n",
       "        text-align: right;\n",
       "    }\n",
       "</style>\n",
       "<table border=\"1\" class=\"dataframe\">\n",
       "  <thead>\n",
       "    <tr style=\"text-align: right;\">\n",
       "      <th></th>\n",
       "      <th>total_images</th>\n",
       "      <th>last_price</th>\n",
       "      <th>total_area</th>\n",
       "      <th>first_day_exposition</th>\n",
       "      <th>rooms</th>\n",
       "      <th>ceiling_height</th>\n",
       "      <th>floors_total</th>\n",
       "      <th>living_area</th>\n",
       "      <th>floor</th>\n",
       "      <th>is_apartment</th>\n",
       "      <th>studio</th>\n",
       "      <th>open_plan</th>\n",
       "      <th>kitchen_area</th>\n",
       "      <th>balcony</th>\n",
       "      <th>locality_name</th>\n",
       "      <th>airports_nearest</th>\n",
       "      <th>cityCenters_nearest</th>\n",
       "      <th>parks_around3000</th>\n",
       "      <th>parks_nearest</th>\n",
       "      <th>ponds_around3000</th>\n",
       "      <th>ponds_nearest</th>\n",
       "      <th>days_exposition</th>\n",
       "    </tr>\n",
       "  </thead>\n",
       "  <tbody>\n",
       "    <tr>\n",
       "      <th>0</th>\n",
       "      <td>20</td>\n",
       "      <td>13000000.0</td>\n",
       "      <td>108.0</td>\n",
       "      <td>2019-03-07T00:00:00</td>\n",
       "      <td>3</td>\n",
       "      <td>2.7</td>\n",
       "      <td>16.0</td>\n",
       "      <td>51.0</td>\n",
       "      <td>8</td>\n",
       "      <td>NaN</td>\n",
       "      <td>False</td>\n",
       "      <td>False</td>\n",
       "      <td>25.0</td>\n",
       "      <td>NaN</td>\n",
       "      <td>Санкт-Петербург</td>\n",
       "      <td>18863.0</td>\n",
       "      <td>16028.0</td>\n",
       "      <td>1.0</td>\n",
       "      <td>482.0</td>\n",
       "      <td>2.0</td>\n",
       "      <td>755.0</td>\n",
       "      <td>NaN</td>\n",
       "    </tr>\n",
       "    <tr>\n",
       "      <th>1</th>\n",
       "      <td>7</td>\n",
       "      <td>3350000.0</td>\n",
       "      <td>40.4</td>\n",
       "      <td>2018-12-04T00:00:00</td>\n",
       "      <td>1</td>\n",
       "      <td>NaN</td>\n",
       "      <td>11.0</td>\n",
       "      <td>18.6</td>\n",
       "      <td>1</td>\n",
       "      <td>NaN</td>\n",
       "      <td>False</td>\n",
       "      <td>False</td>\n",
       "      <td>11.0</td>\n",
       "      <td>2.0</td>\n",
       "      <td>посёлок Шушары</td>\n",
       "      <td>12817.0</td>\n",
       "      <td>18603.0</td>\n",
       "      <td>0.0</td>\n",
       "      <td>NaN</td>\n",
       "      <td>0.0</td>\n",
       "      <td>NaN</td>\n",
       "      <td>81.0</td>\n",
       "    </tr>\n",
       "    <tr>\n",
       "      <th>2</th>\n",
       "      <td>10</td>\n",
       "      <td>5196000.0</td>\n",
       "      <td>56.0</td>\n",
       "      <td>2015-08-20T00:00:00</td>\n",
       "      <td>2</td>\n",
       "      <td>NaN</td>\n",
       "      <td>5.0</td>\n",
       "      <td>34.3</td>\n",
       "      <td>4</td>\n",
       "      <td>NaN</td>\n",
       "      <td>False</td>\n",
       "      <td>False</td>\n",
       "      <td>8.3</td>\n",
       "      <td>0.0</td>\n",
       "      <td>Санкт-Петербург</td>\n",
       "      <td>21741.0</td>\n",
       "      <td>13933.0</td>\n",
       "      <td>1.0</td>\n",
       "      <td>90.0</td>\n",
       "      <td>2.0</td>\n",
       "      <td>574.0</td>\n",
       "      <td>558.0</td>\n",
       "    </tr>\n",
       "  </tbody>\n",
       "</table>\n",
       "</div>"
      ],
      "text/plain": [
       "   total_images  last_price  total_area first_day_exposition  rooms  \\\n",
       "0            20  13000000.0       108.0  2019-03-07T00:00:00      3   \n",
       "1             7   3350000.0        40.4  2018-12-04T00:00:00      1   \n",
       "2            10   5196000.0        56.0  2015-08-20T00:00:00      2   \n",
       "\n",
       "   ceiling_height  floors_total  living_area  floor is_apartment  studio  \\\n",
       "0             2.7          16.0         51.0      8          NaN   False   \n",
       "1             NaN          11.0         18.6      1          NaN   False   \n",
       "2             NaN           5.0         34.3      4          NaN   False   \n",
       "\n",
       "   open_plan  kitchen_area  balcony    locality_name  airports_nearest  \\\n",
       "0      False          25.0      NaN  Санкт-Петербург           18863.0   \n",
       "1      False          11.0      2.0   посёлок Шушары           12817.0   \n",
       "2      False           8.3      0.0  Санкт-Петербург           21741.0   \n",
       "\n",
       "   cityCenters_nearest  parks_around3000  parks_nearest  ponds_around3000  \\\n",
       "0              16028.0               1.0          482.0               2.0   \n",
       "1              18603.0               0.0            NaN               0.0   \n",
       "2              13933.0               1.0           90.0               2.0   \n",
       "\n",
       "   ponds_nearest  days_exposition  \n",
       "0          755.0              NaN  \n",
       "1            NaN             81.0  \n",
       "2          574.0            558.0  "
      ]
     },
     "execution_count": 5,
     "metadata": {},
     "output_type": "execute_result"
    }
   ],
   "source": [
    "#СТАЛО:\n",
    "pd.set_option('display.max_columns', None)\n",
    "data.head(3)"
   ]
  },
  {
   "cell_type": "code",
   "execution_count": 6,
   "id": "574f08ea",
   "metadata": {},
   "outputs": [
    {
     "name": "stdout",
     "output_type": "stream",
     "text": [
      "<class 'pandas.core.frame.DataFrame'>\n",
      "RangeIndex: 23699 entries, 0 to 23698\n",
      "Data columns (total 22 columns):\n",
      " #   Column                Non-Null Count  Dtype  \n",
      "---  ------                --------------  -----  \n",
      " 0   total_images          23699 non-null  int64  \n",
      " 1   last_price            23699 non-null  float64\n",
      " 2   total_area            23699 non-null  float64\n",
      " 3   first_day_exposition  23699 non-null  object \n",
      " 4   rooms                 23699 non-null  int64  \n",
      " 5   ceiling_height        14504 non-null  float64\n",
      " 6   floors_total          23613 non-null  float64\n",
      " 7   living_area           21796 non-null  float64\n",
      " 8   floor                 23699 non-null  int64  \n",
      " 9   is_apartment          2775 non-null   object \n",
      " 10  studio                23699 non-null  bool   \n",
      " 11  open_plan             23699 non-null  bool   \n",
      " 12  kitchen_area          21421 non-null  float64\n",
      " 13  balcony               12180 non-null  float64\n",
      " 14  locality_name         23650 non-null  object \n",
      " 15  airports_nearest      18157 non-null  float64\n",
      " 16  cityCenters_nearest   18180 non-null  float64\n",
      " 17  parks_around3000      18181 non-null  float64\n",
      " 18  parks_nearest         8079 non-null   float64\n",
      " 19  ponds_around3000      18181 non-null  float64\n",
      " 20  ponds_nearest         9110 non-null   float64\n",
      " 21  days_exposition       20518 non-null  float64\n",
      "dtypes: bool(2), float64(14), int64(3), object(3)\n",
      "memory usage: 3.7+ MB\n"
     ]
    }
   ],
   "source": [
    "data.info() #какие типы данных содержатся  в ДФ)\n",
    "#first_day_exposition  в виде строки - запомним!"
   ]
  },
  {
   "cell_type": "markdown",
   "id": "0b3bd8f5",
   "metadata": {},
   "source": [
    "\n",
    " ## Первое впечатление от даных\n",
    "**количество строк**, из информации предоставленной методом .info()  в ДФ - ***23699*** \n",
    "\n",
    "**Видим что в колонки:**\n",
    " -*'total_images',   'last_price',   'total_area',   'first_day_exposition',  'rooms',  'floor',   'studio',   'open_plan'* данные внесены полностью, они соответствую кол-ву строк ДФ. Все остальные колонки  заполнены НЕ полностью. О качестве данных пока неизвестно. Посмотрим название столбцов отдельно и далее. \n",
    "\n",
    "-столбец *'cityCenters_nearest\"* следует переименовать в соответствии с \"Питоновскими правилами\" этот принцип применен и к другим столбцам в ДФ.\n",
    "-*'parks_around3000'* и *'ponds_around3000'*  понятно  только из описания что это означает радиус - 3 км - для читабельности лучше  переименовать\n",
    "-*'ponds_nearest'* -непонятно что подразумевается, переименуем, -'studio' - имеет булев тип, логично переименовать* -'studio'*  по аналогии  *'is_apartment'*\n",
    "\n",
    "Переведем ряд колонок  из фoрмата \"float\" в формате 'int'- это будет и логичнее и нам легче  для дльнейшего исследования\n",
    "-данные в виде строки, надо перевести в булев вид, заполним недостающие в них данные на \"0\" -  рассмотрим подробнее колонки отсутствующие значения в которых можно поменять не медианные,  и те, которые нужно оставить без  изменений,  заменив пропущенные значения на  *0*</span>.\n",
    "-*'total_images',   'last_price',   'total_area',   'first_day_exposition',  'rooms',  'floor',   'studio',   'open_plan'* данные внесены полностью, они соответствую кол-ву строк ДФ. Все остальные колонки  заполнены НЕ полностью. О качестве данных пока неизвестно. Посмотрим название столбцов отдельно и далее. \n",
    "\n",
    "-столбец *'cityCenters_nearest\"* следует переименовать в соответствии с \"Питоновскими правилами\" этот принцип применен и к другим столбцам в ДФ.\n",
    "-*'parks_around3000'* и *'ponds_around3000'*  понятно  только из описания что это означает радиус - 3 км - для читабельности лучше  переименовать\n",
    "-*'ponds_nearest'* -непонятно что подразумевается, переименуем, -'studio' - имеет булев тип, логично переименовать* -'studio'*  по аналогии  *'is_apartment'*\n",
    "\n",
    "Переведем ряд колонок  из фoрмата \"float\" в формате 'int'- это будет и логичнее и нам легче  для дльнейшего исследования\n",
    "-данные в виде строки, надо перевести в булев вид, заполним недостающие в них данные на \"0\" -  рассмотрим подробнее колонки отсутствующие значения в которых можно поменять не медианные,  и те, которые нужно оставить без  изменений,  заменив пропущенные значения на  *0*"
   ]
  },
  {
   "cell_type": "markdown",
   "id": "f5c05511",
   "metadata": {},
   "source": [
    "___"
   ]
  },
  {
   "cell_type": "markdown",
   "id": "3baa1cb9",
   "metadata": {},
   "source": [
    "**Построим гистограммы ко всем столбцам с числовыми значениями для визуальной оценки возможных проблем и нюансов**"
   ]
  },
  {
   "cell_type": "code",
   "execution_count": 7,
   "id": "80c51ac1",
   "metadata": {},
   "outputs": [],
   "source": [
    "# 🏁 БЫЛО: \n",
    "# data.hist(figsize=(15, 15))\n",
    "\n",
    " # Может есть на что обратить внимание"
   ]
  },
  {
   "cell_type": "code",
   "execution_count": 8,
   "id": "b327354f",
   "metadata": {
    "scrolled": true
   },
   "outputs": [
    {
     "data": {
      "image/png": "[encoded data removed]",
      "text/plain": [
       "<Figure size 1080x1080 with 20 Axes>"
      ]
     },
     "metadata": {
      "needs_background": "light"
     },
     "output_type": "display_data"
    }
   ],
   "source": [
    "# СТАЛО:\n",
    "data.hist(figsize=(15, 15));\n",
    "\n"
   ]
  },
  {
   "cell_type": "markdown",
   "id": "0da4ee2f",
   "metadata": {},
   "source": [
    "**Рассмотрим гистограммы столбцов: **\n",
    "\n",
    "-'total_images' - от отсутствия до (приблизительно) 35 фото - отсутствие фотографий снижает эффект привлекательности недвижимости (для отдела маркетинга сделаем пометку, если им тоже пойдет отчет для информации)\n",
    "\n",
    "-'rooms'  - судя по гистограмме диапазон  от 0 комнат - это ошибка? запомним, надо будет рассмотреть подробнее, может быть ошибка при вводе данных\n",
    "\n",
    "-'ceiling_height' - в легенде  датафрейма указано что  расстояние в метрах, здесь видим небольшую часть в районе 25м. - явная ошибка - надо поправить\n",
    "\n",
    "-'living_area' - посмотрим подробнее - начало предложенного диапазона  почти у *0* - есть предположение что данные полностью или по ошибке не внесены, расмотрим подробнее\n",
    "\n",
    "     \n",
    "-kitchen_area - прекрасные оказатели, если правда  -  завидую по-хорошему обладателям! (приглядимся!!)\n",
    "\n",
    "-'balcony' -  количество балконов (в районе 5) - но это может быть и частный дом, а не квартира, вернемся данным  столбца для изучения\n",
    "\n"
   ]
  },
  {
   "cell_type": "code",
   "execution_count": 9,
   "id": "5ea7c729",
   "metadata": {},
   "outputs": [
    {
     "data": {
      "text/plain": [
       "0"
      ]
     },
     "execution_count": 9,
     "metadata": {},
     "output_type": "execute_result"
    }
   ],
   "source": [
    "data.duplicated().sum() #Строк-дубликатов нет"
   ]
  },
  {
   "cell_type": "markdown",
   "id": "6ce4d916",
   "metadata": {},
   "source": [
    "### Мнение после первичного ознакомленя с материалами: \n",
    "\n",
    "Не все колонки полностью заполнены, что отразится на качестве  анализа, обратимся к тем, где записей не хватает до эталонных  23699, а также к столбцам, гистограммы которых нас заинтересовали на предмет подтверждения наличия ошибок. \n",
    "\n",
    "По итогам рассмотрения данных необходимо ряд колонок переименовать, перевести в  верные форматы, как,к примеру, datetime(дата-время), ряд колонок переводим в  целочисленный или булев формат, колонки рассмотреть на предмет аномалий. Потолки  более 5 метров можно увидеть в  довольно монументальных сооружениях, мы же рассматриваем квартиры.\n",
    "\n",
    "Обратимся отдельно далее и к колонкам которые заполнены не полностью, может на какие-то параметры нужно обратить внимание.\n",
    "В целом можно сказать что есть ошибки при заполнении материалов.\n",
    "\n",
    "Качество данных оставляет желать лучшего."
   ]
  },
  {
   "cell_type": "markdown",
   "id": "434e4c95",
   "metadata": {},
   "source": [
    "___"
   ]
  },
  {
   "cell_type": "markdown",
   "id": "abb93044",
   "metadata": {},
   "source": [
    "## Предобработка данных"
   ]
  },
  {
   "cell_type": "markdown",
   "id": "7c5b93bc",
   "metadata": {},
   "source": [
    "### Реализуем обработку  "
   ]
  },
  {
   "cell_type": "code",
   "execution_count": 10,
   "id": "1ac36cdb",
   "metadata": {},
   "outputs": [],
   "source": [
    "data = data.rename(columns={'cityCenters_nearest':'city_Centers_nearest', \\\n",
    "                            'parks_around3000':'parks_around_3km', \\\n",
    "                            'ponds_around3000':'ponds_around_3km',\\\n",
    "                            'ponds_nearest':'ponds_distance',\\\n",
    "                            'studio':'is_studio'})                           #Меняем  наименование столбцов"
   ]
  },
  {
   "cell_type": "code",
   "execution_count": 11,
   "id": "acfacee6",
   "metadata": {},
   "outputs": [
    {
     "data": {
      "text/plain": [
       "Index(['total_images', 'last_price', 'total_area', 'first_day_exposition',\n",
       "       'rooms', 'ceiling_height', 'floors_total', 'living_area', 'floor',\n",
       "       'is_apartment', 'is_studio', 'open_plan', 'kitchen_area', 'balcony',\n",
       "       'locality_name', 'airports_nearest', 'city_Centers_nearest',\n",
       "       'parks_around_3km', 'parks_nearest', 'ponds_around_3km',\n",
       "       'ponds_distance', 'days_exposition'],\n",
       "      dtype='object')"
      ]
     },
     "execution_count": 11,
     "metadata": {},
     "output_type": "execute_result"
    }
   ],
   "source": [
    "data.columns # Самопроверка  что все применилось. Теперь читать удобнне"
   ]
  },
  {
   "cell_type": "code",
   "execution_count": 12,
   "id": "3f0837d4",
   "metadata": {},
   "outputs": [],
   "source": [
    "data['first_day_exposition'] = pd.to_datetime(data['first_day_exposition'],format='%Y-%m-%dT%H:%M:%S') # Переводим строку в тип \n",
    "#datetime для возможного использования в дальнейшем"
   ]
  },
  {
   "cell_type": "code",
   "execution_count": 13,
   "id": "ba60be10",
   "metadata": {},
   "outputs": [
    {
     "data": {
      "text/plain": [
       "total_images                0\n",
       "last_price                  0\n",
       "total_area                  0\n",
       "first_day_exposition        0\n",
       "rooms                       0\n",
       "ceiling_height           9195\n",
       "floors_total               86\n",
       "living_area              1903\n",
       "floor                       0\n",
       "is_apartment            20924\n",
       "is_studio                   0\n",
       "open_plan                   0\n",
       "kitchen_area             2278\n",
       "balcony                 11519\n",
       "locality_name              49\n",
       "airports_nearest         5542\n",
       "city_Centers_nearest     5519\n",
       "parks_around_3km         5518\n",
       "parks_nearest           15620\n",
       "ponds_around_3km         5518\n",
       "ponds_distance          14589\n",
       "days_exposition          3181\n",
       "dtype: int64"
      ]
     },
     "execution_count": 13,
     "metadata": {},
     "output_type": "execute_result"
    }
   ],
   "source": [
    "data.isna().sum() "
   ]
  },
  {
   "cell_type": "markdown",
   "id": "c39af1fa",
   "metadata": {},
   "source": [
    "__Анализ пропусков:__\n",
    "\n",
    "есть столбцы с незаполненными данными в разных соотношениях к общей длине ДФ.\n",
    "\n",
    "-'ceiling_height' - обработать можно, есть определенные нормативы строительства. В пропуски внесем среднее или медиану-далее оценим\n",
    "\n",
    "-'floors_total' - небольшое кол-вопропусков. Поменяем на  \"0\" -  бедум переводить в целочисленный тип данных.\n",
    "\n",
    "-'living_area' - затруднительно. Пропуски оставлю как есть.\n",
    "\n",
    "-\"is_apartment\"  - булев тип данных. Если нет информации, можем предположить c большой вероятностью  что значение - False.Поменяем\n",
    "-\"kitchen_area\" - отсортируем  колонку. Нашли 112 метров кухня- это ошибка при заполнении данных. Проверили(ниже) -  \n",
    "value_counts показал  единственное большое значение, близко даже подобных значений нет. что подтверждает среднее и  медиана. \n",
    "Они находятся в районе 10.6 и 9.1 м. соответственно. Приму решение и поменяю на 11.2.  Также примим во внимание что в строительстве  \n",
    "есть нормативы по площадям.Оставшиеся незаполненные данные (их меньше 10% от всей длины) можно, полагаю, поменять на медиану \n",
    "всех значений.  Медиана и среднее здесь даже с учетом выброса имеют небольшую разницу. \n",
    "-'balcony'- около 50 процентов пропусков (без расчета), поменяем на \"0\"\n",
    "-'locality_name' - пропуски не  стоит менять, индивидуальные показатели. а т.к названий может быть много, присомтримся далее.\n",
    "\"airports_nearest\"         \n",
    "\"city_Centers_nearest\"     \n"
   ]
  },
  {
   "cell_type": "code",
   "execution_count": 14,
   "id": "b97d7e72",
   "metadata": {},
   "outputs": [
    {
     "data": {
      "text/plain": [
       "count    12180.000000\n",
       "mean         1.150082\n",
       "std          1.071300\n",
       "min          0.000000\n",
       "25%          0.000000\n",
       "50%          1.000000\n",
       "75%          2.000000\n",
       "max          5.000000\n",
       "Name: balcony, dtype: float64"
      ]
     },
     "execution_count": 14,
     "metadata": {},
     "output_type": "execute_result"
    }
   ],
   "source": [
    "data['balcony'].describe() #Тип данных - \"float\" - что не соответствует описанию данных как ранее мы видели\n",
    "                           #отмечаем что бОльшая часть  данных не заполнена - 12180 строк, если будем менять данные на медианные, \n",
    "                           #мы будем лгать при выборке(если она понадобится по условию наличия балкона)  "
   ]
  },
  {
   "cell_type": "code",
   "execution_count": 15,
   "id": "f6d15c03",
   "metadata": {},
   "outputs": [
    {
     "data": {
      "text/plain": [
       "11519"
      ]
     },
     "execution_count": 15,
     "metadata": {},
     "output_type": "execute_result"
    }
   ],
   "source": [
    "data['balcony'].isna().sum() #  проверимм есть ли пропуски,незаполненные данные - есть"
   ]
  },
  {
   "cell_type": "code",
   "execution_count": 16,
   "id": "d4a7027b",
   "metadata": {},
   "outputs": [
    {
     "data": {
      "text/plain": [
       "1.0    4195\n",
       "0.0    3758\n",
       "2.0    3659\n",
       "5.0     304\n",
       "4.0     183\n",
       "3.0      81\n",
       "Name: balcony, dtype: int64"
      ]
     },
     "execution_count": 16,
     "metadata": {},
     "output_type": "execute_result"
    }
   ],
   "source": [
    "data['balcony'].value_counts() # Первая попытка применить .astype('int')   и преобразовать столбец к целочисленному \n",
    "                              # значению, оказалась неправильной\n",
    "                              # попробуем через fillna заполнить  значения пропущенных данных NaN на 0 - допускаю логичным считать\n",
    "                              # в данном случае такую возможность "
   ]
  },
  {
   "cell_type": "code",
   "execution_count": 17,
   "id": "f74ca194",
   "metadata": {},
   "outputs": [],
   "source": [
    "data['balcony'] = data['balcony'].fillna('0') #заполняем пропуски на \"0\"\n",
    "data['balcony'] = data['balcony'].astype('int') #переводим в тип \"int\""
   ]
  },
  {
   "cell_type": "code",
   "execution_count": 18,
   "id": "f40aa9b3",
   "metadata": {},
   "outputs": [
    {
     "data": {
      "text/plain": [
       "count    14504.000000\n",
       "mean         2.771499\n",
       "std          1.261056\n",
       "min          1.000000\n",
       "25%          2.520000\n",
       "50%          2.650000\n",
       "75%          2.800000\n",
       "max        100.000000\n",
       "Name: ceiling_height, dtype: float64"
      ]
     },
     "execution_count": 18,
     "metadata": {},
     "output_type": "execute_result"
    }
   ],
   "source": [
    "data.ceiling_height.describe() #Посмотрим что  со столбцом \"ceiling_height\"  и заметим что есть аномально максимальное значение\n",
    "                               #потолков,  0 метров нет, но как видим, заполненs только 14504 строки \n",
    "                               #следующий этап-найти сколько  заполнено данных по отношению к длине ДФ"
   ]
  },
  {
   "cell_type": "code",
   "execution_count": 19,
   "id": "55fb210e",
   "metadata": {},
   "outputs": [
    {
     "data": {
      "text/plain": [
       "array([  2.7 ,    nan,   3.03,   2.5 ,   2.67,   2.56,   3.05,   2.75,\n",
       "         2.6 ,   2.9 ,   2.8 ,   2.55,   3.  ,   2.65,   3.2 ,   2.61,\n",
       "         3.25,   3.45,   2.77,   2.85,   2.64,   2.57,   4.15,   3.5 ,\n",
       "         3.3 ,   2.71,   4.  ,   2.47,   2.73,   2.84,   3.1 ,   2.34,\n",
       "         3.4 ,   3.06,   2.72,   2.54,   2.51,   2.78,   2.76,  25.  ,\n",
       "         2.58,   3.7 ,   2.52,   5.2 ,   2.87,   2.66,   2.59,   2.  ,\n",
       "         2.45,   3.6 ,   2.92,   3.11,   3.13,   3.8 ,   3.15,   3.55,\n",
       "         3.16,   3.62,   3.12,   2.53,   2.74,   2.96,   2.46,   5.3 ,\n",
       "         5.  ,   2.79,   2.95,   4.06,   2.94,   3.82,   3.54,   3.53,\n",
       "         2.83,   4.7 ,   2.4 ,   3.38,   3.01,   5.6 ,   3.65,   3.9 ,\n",
       "         3.18,   3.35,   2.3 ,   3.57,   2.48,   2.62,   2.82,   3.98,\n",
       "         2.63,   3.83,   3.52,   3.95,   3.75,   2.88,   3.67,   3.87,\n",
       "         3.66,   3.85,   3.86,   4.19,   3.24,   4.8 ,   4.5 ,   4.2 ,\n",
       "         3.36,  32.  ,   3.08,   3.68,   3.07,   3.37,   3.09,   8.  ,\n",
       "         3.26,   3.34,   2.81,   3.44,   2.97,   3.14,   4.37,   2.68,\n",
       "         3.22,   3.27,  27.  ,   4.1 ,   2.93,   3.46,  24.  ,   3.47,\n",
       "         3.33,   3.63,   3.32,  26.  ,   1.2 ,   8.3 ,   2.98,   2.86,\n",
       "         3.17,   4.4 ,   3.28,   3.04,   4.45,   5.5 ,   3.84,   3.23,\n",
       "         3.02,   3.21,   3.43,   3.78,   4.3 ,   3.39,   2.69,   3.31,\n",
       "         4.65,   3.56,   2.2 ,   3.51,   3.93,   3.42,   2.99,   3.49,\n",
       "        14.  ,   4.14,   2.91,   3.88,   1.75,   4.25,   3.29,  20.  ,\n",
       "         2.25,   3.76,   3.69,   6.  ,  22.6 ,   2.89,   3.58,   5.8 ,\n",
       "        27.5 ,   2.49,   4.9 ,   3.48,  10.3 ,   1.  , 100.  ,   3.59])"
      ]
     },
     "execution_count": 19,
     "metadata": {},
     "output_type": "execute_result"
    }
   ],
   "source": [
    "data.ceiling_height.unique() # Составим список неправдоподобных размеров для потолков  для Жилой недвижимости:\n"
   ]
  },
  {
   "cell_type": "code",
   "execution_count": 20,
   "id": "b9e227f5",
   "metadata": {},
   "outputs": [
    {
     "data": {
      "text/plain": [
       "0.6120089455251276"
      ]
     },
     "execution_count": 20,
     "metadata": {},
     "output_type": "execute_result"
    }
   ],
   "source": [
    "data['ceiling_height'].count()/len(data) #Имеем ли мы право заполнять недостающие значения? \n",
    "                                         #Заполнено только 61% от данных по столбцу, для дальнейших сравнений возможно данные \n",
    "                                         #понадобятся для выборки. Можем взять Медианное  типовое значение.  Сейчас  \n",
    "                                         #К тому же в строительстве есть стандарты высоты потолков и размеров помещений.\n",
    "                                         #Предположим что это новое строительство и квартиры в современном многоэтажном доме \n",
    "                                         #выставлены на продажу.\n",
    "                                         #а по описанию медиана и среднее значнеие очень близко"
   ]
  },
  {
   "cell_type": "code",
   "execution_count": 21,
   "id": "ec813345",
   "metadata": {},
   "outputs": [],
   "source": [
    "#убираем  аномалию, а т.к. решено что и отсутствующие значения, меняем на медиану отсуттствующие данные\n",
    "#пыталась сделать с функцией но не получилось т.к. float не итерабелен- подумаю на досуге, и также с пом. логической\n",
    "#индексации,поэтому вручную меняю\n",
    "list = [25, 27, 27.5, 32, 22.6, 26, 24, 100, 25, 20, 1.2, 14, 10.3, 8.3, 8]            \n",
    "    \n",
    "data['ceiling_height'] = data['ceiling_height'].replace(100, data['ceiling_height'].median()) \n",
    "data['ceiling_height'] = data['ceiling_height'].replace(25, 2.5) \n",
    "data['ceiling_height'] = data['ceiling_height'].replace(27, 2.7) \n",
    "data['ceiling_height'] = data['ceiling_height'].replace(27.5, 2.75) \n",
    "data['ceiling_height'] = data['ceiling_height'].replace(32, 3.2) \n",
    "data['ceiling_height'] = data['ceiling_height'].replace(26, 2.6) \n",
    "data['ceiling_height'] = data['ceiling_height'].replace(24, 2.4) \n",
    "data['ceiling_height'] = data['ceiling_height'].replace(25, 2.5)\n",
    "data['ceiling_height'] = data['ceiling_height'].replace(20, data['ceiling_height'].median()) \n",
    "data['ceiling_height'] = data['ceiling_height'].replace(22.6, data['ceiling_height'].median()) \n",
    "data['ceiling_height'] = data['ceiling_height'].replace(1, data['ceiling_height'].median()) \n",
    "data['ceiling_height'] = data['ceiling_height'].replace(1.2, data['ceiling_height'].median()) \n",
    "data['ceiling_height'] = data['ceiling_height'].replace(14, data['ceiling_height'].median()) \n",
    "data['ceiling_height'] = data['ceiling_height'].replace(10.3, data['ceiling_height'].median()) \n",
    "data['ceiling_height'] = data['ceiling_height'].replace(8.3, data['ceiling_height'].median()) \n",
    "data['ceiling_height'] = data['ceiling_height'].replace(8, data['ceiling_height'].median()) \n",
    "data['ceiling_height'] = data['ceiling_height'].fillna(data['ceiling_height'].median()) "
   ]
  },
  {
   "cell_type": "code",
   "execution_count": 22,
   "id": "e3a4e9f6",
   "metadata": {},
   "outputs": [],
   "source": [
    "#data['ceiling_height'].unique()      # проверка что  выбросов  нет\n",
    "#data['ceiling_height'].sort_values() # но они свернуты для  удобства чтения-иначе будет \"длинная простыня\"\n",
    "#data.value_counts('ceiling_height')  "
   ]
  },
  {
   "cell_type": "code",
   "execution_count": 23,
   "id": "d26911fa",
   "metadata": {},
   "outputs": [],
   "source": [
    "data['is_apartment'] = data['is_apartment'].astype('bool') #переводим  данные в Bool вид и заполняем пропуски True|False\n",
    "data['is_apartment'] = data['is_apartment'].fillna('False')"
   ]
  },
  {
   "cell_type": "code",
   "execution_count": 24,
   "id": "56723b4e",
   "metadata": {},
   "outputs": [],
   "source": [
    "# 🏁 БЫЛО:\n",
    "\n",
    "# data['floors_total'] = data['floors_total'].fillna('0').astype('int')         #переводим колонки в целочисленный вид, \n",
    "# data['parks_around_3km'] = data['parks_around_3km'].fillna('0').astype('int') # заполняем пропуски'0' значениями. \n",
    "# data['ponds_around_3km'] = data['ponds_around_3km'].fillna('0').astype('int') # медианы и  средние здесь исказят информацию\n",
    "# data['parks_nearest'] = data['parks_nearest'].fillna('0').astype('int') \n",
    "# data['ponds_distance'] = data['ponds_distance'].fillna('0').astype('int') \n",
    "# data['days_exposition'] = data['days_exposition'].fillna('0').astype('int') \n",
    "# data['city_Centers_nearest'] = data['city_Centers_nearest'].fillna('0').astype('int') "
   ]
  },
  {
   "cell_type": "code",
   "execution_count": 25,
   "id": "f39994c3",
   "metadata": {},
   "outputs": [],
   "source": [
    "#СТАЛО*2*:\n",
    "data['floors_total'] = data['floors_total'].fillna('0').astype('int')         #переводим колонки в  типы int  and float \n",
    "data['parks_around_3km'] = data['parks_around_3km'].astype('float') \n",
    "data['ponds_around_3km'] = data['ponds_around_3km'].astype('float') \n",
    "data['parks_nearest'] = data['parks_nearest'].astype('float') \n",
    "data['ponds_distance'] = data['ponds_distance'].astype('float') \n",
    "data['city_Centers_nearest'] = np.floor(pd.to_numeric(data['city_Centers_nearest'], errors='coerce')).astype('Int64')\n",
    "data['last_price'] = data['last_price'].astype('int')"
   ]
  },
  {
   "cell_type": "code",
   "execution_count": 26,
   "id": "4bae3874",
   "metadata": {},
   "outputs": [],
   "source": [
    "data = data.dropna(subset=['locality_name']) # по условиям задания надо удалить редкие значения. \n",
    "                                            #т.к. всего 49 пропусков, можно это сделать без существенного ущерба"
   ]
  },
  {
   "cell_type": "markdown",
   "id": "f6ecbe87",
   "metadata": {},
   "source": [
    "___"
   ]
  },
  {
   "cell_type": "markdown",
   "id": "87669cdd",
   "metadata": {},
   "source": [
    "### **Выводы по  результатам предобработки:**\n",
    "\n",
    "В основном видим неверный тип  представления в данных.\n",
    "При заполнении информацией нужно  делать  указания какими данными какую колонку заполнять чтобы не было путаницы 0\\False\\NaN\n",
    "Не принимать данные заполненные не полностью, с помощью ПО можно автоматически делать проверку - информация для маркетологов и  администраторов-программистов.\n"
   ]
  },
  {
   "cell_type": "code",
   "execution_count": 28,
   "id": "bbe5d888",
   "metadata": {},
   "outputs": [
    {
     "data": {
      "text/plain": [
       "8793         12190\n",
       "17456       430000\n",
       "14911       430000\n",
       "16274       440000\n",
       "17676       450000\n",
       "           ...    \n",
       "15651    300000000\n",
       "1436     330000000\n",
       "14706    401300000\n",
       "19540    420000000\n",
       "12971    763000000\n",
       "Name: last_price, Length: 23650, dtype: int64"
      ]
     },
     "execution_count": 28,
     "metadata": {},
     "output_type": "execute_result"
    }
   ],
   "source": [
    "# ОК! Квартиру по сверхнизкой  цене в Питере убираем) Значение мы не восстановим  ни по средней ни помедианной стоимости.\n",
    "# удаление одной сроки  проблем  не составит.  Без этого удаления я бы в конце  указала что кто-то невнимательный.\n",
    "data['last_price'].sort_values() "
   ]
  },
  {
   "cell_type": "code",
   "execution_count": 29,
   "id": "bd85244a",
   "metadata": {},
   "outputs": [],
   "source": [
    "data = data.query('last_price != 12190.0') \n"
   ]
  },
  {
   "cell_type": "code",
   "execution_count": 30,
   "id": "95212777",
   "metadata": {},
   "outputs": [
    {
     "data": {
      "text/plain": [
       "count        23649.0\n",
       "mean       6541403.0\n",
       "std       10896547.0\n",
       "min         430000.0\n",
       "25%        3400000.0\n",
       "50%        4650000.0\n",
       "75%        6799000.0\n",
       "max      763000000.0\n",
       "Name: last_price, dtype: float64"
      ]
     },
     "execution_count": 30,
     "metadata": {},
     "output_type": "execute_result"
    }
   ],
   "source": [
    " # Самая минимальная цена - 430 тыс.\n",
    "data['last_price'].describe().round() "
   ]
  },
  {
   "cell_type": "code",
   "execution_count": 31,
   "id": "e0223468",
   "metadata": {},
   "outputs": [
    {
     "data": {
      "text/html": [
       "<div>\n",
       "<style scoped>\n",
       "    .dataframe tbody tr th:only-of-type {\n",
       "        vertical-align: middle;\n",
       "    }\n",
       "\n",
       "    .dataframe tbody tr th {\n",
       "        vertical-align: top;\n",
       "    }\n",
       "\n",
       "    .dataframe thead th {\n",
       "        text-align: right;\n",
       "    }\n",
       "</style>\n",
       "<table border=\"1\" class=\"dataframe\">\n",
       "  <thead>\n",
       "    <tr style=\"text-align: right;\">\n",
       "      <th></th>\n",
       "      <th>total_images</th>\n",
       "      <th>last_price</th>\n",
       "      <th>total_area</th>\n",
       "      <th>first_day_exposition</th>\n",
       "      <th>rooms</th>\n",
       "      <th>ceiling_height</th>\n",
       "      <th>floors_total</th>\n",
       "      <th>living_area</th>\n",
       "      <th>floor</th>\n",
       "      <th>is_apartment</th>\n",
       "      <th>is_studio</th>\n",
       "      <th>open_plan</th>\n",
       "      <th>kitchen_area</th>\n",
       "      <th>balcony</th>\n",
       "      <th>locality_name</th>\n",
       "      <th>airports_nearest</th>\n",
       "      <th>city_Centers_nearest</th>\n",
       "      <th>parks_around_3km</th>\n",
       "      <th>parks_nearest</th>\n",
       "      <th>ponds_around_3km</th>\n",
       "      <th>ponds_distance</th>\n",
       "      <th>days_exposition</th>\n",
       "    </tr>\n",
       "  </thead>\n",
       "  <tbody>\n",
       "    <tr>\n",
       "      <th>164</th>\n",
       "      <td>6</td>\n",
       "      <td>800000</td>\n",
       "      <td>40.3</td>\n",
       "      <td>2018-06-25</td>\n",
       "      <td>2</td>\n",
       "      <td>2.65</td>\n",
       "      <td>3</td>\n",
       "      <td>NaN</td>\n",
       "      <td>1</td>\n",
       "      <td>True</td>\n",
       "      <td>False</td>\n",
       "      <td>False</td>\n",
       "      <td>NaN</td>\n",
       "      <td>2</td>\n",
       "      <td>поселок городского типа Ефимовский</td>\n",
       "      <td>NaN</td>\n",
       "      <td>&lt;NA&gt;</td>\n",
       "      <td>NaN</td>\n",
       "      <td>NaN</td>\n",
       "      <td>NaN</td>\n",
       "      <td>NaN</td>\n",
       "      <td>81.0</td>\n",
       "    </tr>\n",
       "    <tr>\n",
       "      <th>247</th>\n",
       "      <td>7</td>\n",
       "      <td>650000</td>\n",
       "      <td>31.0</td>\n",
       "      <td>2017-01-20</td>\n",
       "      <td>1</td>\n",
       "      <td>2.65</td>\n",
       "      <td>3</td>\n",
       "      <td>NaN</td>\n",
       "      <td>1</td>\n",
       "      <td>True</td>\n",
       "      <td>False</td>\n",
       "      <td>False</td>\n",
       "      <td>NaN</td>\n",
       "      <td>0</td>\n",
       "      <td>Сланцы</td>\n",
       "      <td>NaN</td>\n",
       "      <td>&lt;NA&gt;</td>\n",
       "      <td>NaN</td>\n",
       "      <td>NaN</td>\n",
       "      <td>NaN</td>\n",
       "      <td>NaN</td>\n",
       "      <td>378.0</td>\n",
       "    </tr>\n",
       "    <tr>\n",
       "      <th>259</th>\n",
       "      <td>6</td>\n",
       "      <td>900000</td>\n",
       "      <td>30.0</td>\n",
       "      <td>2017-11-21</td>\n",
       "      <td>1</td>\n",
       "      <td>2.50</td>\n",
       "      <td>5</td>\n",
       "      <td>15.0</td>\n",
       "      <td>4</td>\n",
       "      <td>True</td>\n",
       "      <td>False</td>\n",
       "      <td>False</td>\n",
       "      <td>5.0</td>\n",
       "      <td>1</td>\n",
       "      <td>Ивангород</td>\n",
       "      <td>NaN</td>\n",
       "      <td>&lt;NA&gt;</td>\n",
       "      <td>NaN</td>\n",
       "      <td>NaN</td>\n",
       "      <td>NaN</td>\n",
       "      <td>NaN</td>\n",
       "      <td>NaN</td>\n",
       "    </tr>\n",
       "    <tr>\n",
       "      <th>268</th>\n",
       "      <td>7</td>\n",
       "      <td>650000</td>\n",
       "      <td>46.0</td>\n",
       "      <td>2018-03-15</td>\n",
       "      <td>2</td>\n",
       "      <td>2.50</td>\n",
       "      <td>5</td>\n",
       "      <td>30.0</td>\n",
       "      <td>5</td>\n",
       "      <td>True</td>\n",
       "      <td>False</td>\n",
       "      <td>False</td>\n",
       "      <td>7.0</td>\n",
       "      <td>0</td>\n",
       "      <td>Сланцы</td>\n",
       "      <td>NaN</td>\n",
       "      <td>&lt;NA&gt;</td>\n",
       "      <td>NaN</td>\n",
       "      <td>NaN</td>\n",
       "      <td>NaN</td>\n",
       "      <td>NaN</td>\n",
       "      <td>75.0</td>\n",
       "    </tr>\n",
       "    <tr>\n",
       "      <th>293</th>\n",
       "      <td>2</td>\n",
       "      <td>900000</td>\n",
       "      <td>42.8</td>\n",
       "      <td>2017-06-14</td>\n",
       "      <td>2</td>\n",
       "      <td>2.65</td>\n",
       "      <td>5</td>\n",
       "      <td>32.0</td>\n",
       "      <td>5</td>\n",
       "      <td>True</td>\n",
       "      <td>False</td>\n",
       "      <td>False</td>\n",
       "      <td>5.0</td>\n",
       "      <td>0</td>\n",
       "      <td>Сясьстрой</td>\n",
       "      <td>NaN</td>\n",
       "      <td>&lt;NA&gt;</td>\n",
       "      <td>NaN</td>\n",
       "      <td>NaN</td>\n",
       "      <td>NaN</td>\n",
       "      <td>NaN</td>\n",
       "      <td>247.0</td>\n",
       "    </tr>\n",
       "    <tr>\n",
       "      <th>...</th>\n",
       "      <td>...</td>\n",
       "      <td>...</td>\n",
       "      <td>...</td>\n",
       "      <td>...</td>\n",
       "      <td>...</td>\n",
       "      <td>...</td>\n",
       "      <td>...</td>\n",
       "      <td>...</td>\n",
       "      <td>...</td>\n",
       "      <td>...</td>\n",
       "      <td>...</td>\n",
       "      <td>...</td>\n",
       "      <td>...</td>\n",
       "      <td>...</td>\n",
       "      <td>...</td>\n",
       "      <td>...</td>\n",
       "      <td>...</td>\n",
       "      <td>...</td>\n",
       "      <td>...</td>\n",
       "      <td>...</td>\n",
       "      <td>...</td>\n",
       "      <td>...</td>\n",
       "    </tr>\n",
       "    <tr>\n",
       "      <th>23067</th>\n",
       "      <td>8</td>\n",
       "      <td>600000</td>\n",
       "      <td>31.8</td>\n",
       "      <td>2019-04-24</td>\n",
       "      <td>1</td>\n",
       "      <td>2.65</td>\n",
       "      <td>2</td>\n",
       "      <td>20.0</td>\n",
       "      <td>1</td>\n",
       "      <td>True</td>\n",
       "      <td>False</td>\n",
       "      <td>False</td>\n",
       "      <td>7.0</td>\n",
       "      <td>0</td>\n",
       "      <td>деревня Коркино</td>\n",
       "      <td>NaN</td>\n",
       "      <td>&lt;NA&gt;</td>\n",
       "      <td>NaN</td>\n",
       "      <td>NaN</td>\n",
       "      <td>NaN</td>\n",
       "      <td>NaN</td>\n",
       "      <td>NaN</td>\n",
       "    </tr>\n",
       "    <tr>\n",
       "      <th>23153</th>\n",
       "      <td>9</td>\n",
       "      <td>650000</td>\n",
       "      <td>41.0</td>\n",
       "      <td>2017-10-13</td>\n",
       "      <td>2</td>\n",
       "      <td>2.65</td>\n",
       "      <td>3</td>\n",
       "      <td>28.0</td>\n",
       "      <td>1</td>\n",
       "      <td>True</td>\n",
       "      <td>False</td>\n",
       "      <td>False</td>\n",
       "      <td>6.0</td>\n",
       "      <td>0</td>\n",
       "      <td>Бокситогорск</td>\n",
       "      <td>NaN</td>\n",
       "      <td>&lt;NA&gt;</td>\n",
       "      <td>NaN</td>\n",
       "      <td>NaN</td>\n",
       "      <td>NaN</td>\n",
       "      <td>NaN</td>\n",
       "      <td>14.0</td>\n",
       "    </tr>\n",
       "    <tr>\n",
       "      <th>23354</th>\n",
       "      <td>18</td>\n",
       "      <td>900000</td>\n",
       "      <td>42.6</td>\n",
       "      <td>2018-02-26</td>\n",
       "      <td>2</td>\n",
       "      <td>2.65</td>\n",
       "      <td>2</td>\n",
       "      <td>28.0</td>\n",
       "      <td>1</td>\n",
       "      <td>True</td>\n",
       "      <td>False</td>\n",
       "      <td>False</td>\n",
       "      <td>9.0</td>\n",
       "      <td>0</td>\n",
       "      <td>деревня Тихковицы</td>\n",
       "      <td>NaN</td>\n",
       "      <td>&lt;NA&gt;</td>\n",
       "      <td>NaN</td>\n",
       "      <td>NaN</td>\n",
       "      <td>NaN</td>\n",
       "      <td>NaN</td>\n",
       "      <td>219.0</td>\n",
       "    </tr>\n",
       "    <tr>\n",
       "      <th>23484</th>\n",
       "      <td>11</td>\n",
       "      <td>470000</td>\n",
       "      <td>44.5</td>\n",
       "      <td>2018-07-02</td>\n",
       "      <td>2</td>\n",
       "      <td>2.65</td>\n",
       "      <td>2</td>\n",
       "      <td>28.0</td>\n",
       "      <td>2</td>\n",
       "      <td>True</td>\n",
       "      <td>False</td>\n",
       "      <td>False</td>\n",
       "      <td>7.5</td>\n",
       "      <td>0</td>\n",
       "      <td>Сланцы</td>\n",
       "      <td>NaN</td>\n",
       "      <td>&lt;NA&gt;</td>\n",
       "      <td>NaN</td>\n",
       "      <td>NaN</td>\n",
       "      <td>NaN</td>\n",
       "      <td>NaN</td>\n",
       "      <td>298.0</td>\n",
       "    </tr>\n",
       "    <tr>\n",
       "      <th>23643</th>\n",
       "      <td>1</td>\n",
       "      <td>660000</td>\n",
       "      <td>45.0</td>\n",
       "      <td>2019-02-19</td>\n",
       "      <td>2</td>\n",
       "      <td>2.65</td>\n",
       "      <td>5</td>\n",
       "      <td>31.0</td>\n",
       "      <td>4</td>\n",
       "      <td>False</td>\n",
       "      <td>False</td>\n",
       "      <td>False</td>\n",
       "      <td>6.0</td>\n",
       "      <td>1</td>\n",
       "      <td>Сланцы</td>\n",
       "      <td>NaN</td>\n",
       "      <td>&lt;NA&gt;</td>\n",
       "      <td>NaN</td>\n",
       "      <td>NaN</td>\n",
       "      <td>NaN</td>\n",
       "      <td>NaN</td>\n",
       "      <td>NaN</td>\n",
       "    </tr>\n",
       "  </tbody>\n",
       "</table>\n",
       "<p>224 rows × 22 columns</p>\n",
       "</div>"
      ],
      "text/plain": [
       "       total_images  last_price  total_area first_day_exposition  rooms  \\\n",
       "164               6      800000        40.3           2018-06-25      2   \n",
       "247               7      650000        31.0           2017-01-20      1   \n",
       "259               6      900000        30.0           2017-11-21      1   \n",
       "268               7      650000        46.0           2018-03-15      2   \n",
       "293               2      900000        42.8           2017-06-14      2   \n",
       "...             ...         ...         ...                  ...    ...   \n",
       "23067             8      600000        31.8           2019-04-24      1   \n",
       "23153             9      650000        41.0           2017-10-13      2   \n",
       "23354            18      900000        42.6           2018-02-26      2   \n",
       "23484            11      470000        44.5           2018-07-02      2   \n",
       "23643             1      660000        45.0           2019-02-19      2   \n",
       "\n",
       "       ceiling_height  floors_total  living_area  floor  is_apartment  \\\n",
       "164              2.65             3          NaN      1          True   \n",
       "247              2.65             3          NaN      1          True   \n",
       "259              2.50             5         15.0      4          True   \n",
       "268              2.50             5         30.0      5          True   \n",
       "293              2.65             5         32.0      5          True   \n",
       "...               ...           ...          ...    ...           ...   \n",
       "23067            2.65             2         20.0      1          True   \n",
       "23153            2.65             3         28.0      1          True   \n",
       "23354            2.65             2         28.0      1          True   \n",
       "23484            2.65             2         28.0      2          True   \n",
       "23643            2.65             5         31.0      4         False   \n",
       "\n",
       "       is_studio  open_plan  kitchen_area  balcony  \\\n",
       "164        False      False           NaN        2   \n",
       "247        False      False           NaN        0   \n",
       "259        False      False           5.0        1   \n",
       "268        False      False           7.0        0   \n",
       "293        False      False           5.0        0   \n",
       "...          ...        ...           ...      ...   \n",
       "23067      False      False           7.0        0   \n",
       "23153      False      False           6.0        0   \n",
       "23354      False      False           9.0        0   \n",
       "23484      False      False           7.5        0   \n",
       "23643      False      False           6.0        1   \n",
       "\n",
       "                            locality_name  airports_nearest  \\\n",
       "164    поселок городского типа Ефимовский               NaN   \n",
       "247                                Сланцы               NaN   \n",
       "259                             Ивангород               NaN   \n",
       "268                                Сланцы               NaN   \n",
       "293                             Сясьстрой               NaN   \n",
       "...                                   ...               ...   \n",
       "23067                     деревня Коркино               NaN   \n",
       "23153                        Бокситогорск               NaN   \n",
       "23354                   деревня Тихковицы               NaN   \n",
       "23484                              Сланцы               NaN   \n",
       "23643                              Сланцы               NaN   \n",
       "\n",
       "       city_Centers_nearest  parks_around_3km  parks_nearest  \\\n",
       "164                    <NA>               NaN            NaN   \n",
       "247                    <NA>               NaN            NaN   \n",
       "259                    <NA>               NaN            NaN   \n",
       "268                    <NA>               NaN            NaN   \n",
       "293                    <NA>               NaN            NaN   \n",
       "...                     ...               ...            ...   \n",
       "23067                  <NA>               NaN            NaN   \n",
       "23153                  <NA>               NaN            NaN   \n",
       "23354                  <NA>               NaN            NaN   \n",
       "23484                  <NA>               NaN            NaN   \n",
       "23643                  <NA>               NaN            NaN   \n",
       "\n",
       "       ponds_around_3km  ponds_distance  days_exposition  \n",
       "164                 NaN             NaN             81.0  \n",
       "247                 NaN             NaN            378.0  \n",
       "259                 NaN             NaN              NaN  \n",
       "268                 NaN             NaN             75.0  \n",
       "293                 NaN             NaN            247.0  \n",
       "...                 ...             ...              ...  \n",
       "23067               NaN             NaN              NaN  \n",
       "23153               NaN             NaN             14.0  \n",
       "23354               NaN             NaN            219.0  \n",
       "23484               NaN             NaN            298.0  \n",
       "23643               NaN             NaN              NaN  \n",
       "\n",
       "[224 rows x 22 columns]"
      ]
     },
     "execution_count": 31,
     "metadata": {},
     "output_type": "execute_result"
    }
   ],
   "source": [
    "a = data[data['last_price'] <1000000]\n",
    "a # метод describe указал минимум цены-430 тыс. я сделала быборку  до 1 млн. Все данные - поселки и небольшие размеры в основном\n",
    "\n",
    "\n",
    "# извините за \"Простыню\""
   ]
  },
  {
   "cell_type": "markdown",
   "id": "b1273c57",
   "metadata": {},
   "source": [
    "[Сланцы, недвижимость](https://spb.cian.ru/sale/flat/276830512/) ООчень  далеко и от центра и от аэропорта да и судя по  антуражу... не Версальский дворец\n",
    "\n",
    "П.с. - между прочим Циан - в 1 строке поиска Яндекса, а  Яндекс Недвижимость - следующая"
   ]
  },
  {
   "cell_type": "code",
   "execution_count": 32,
   "id": "ec114db7",
   "metadata": {},
   "outputs": [
    {
     "data": {
      "text/html": [
       "<div>\n",
       "<style scoped>\n",
       "    .dataframe tbody tr th:only-of-type {\n",
       "        vertical-align: middle;\n",
       "    }\n",
       "\n",
       "    .dataframe tbody tr th {\n",
       "        vertical-align: top;\n",
       "    }\n",
       "\n",
       "    .dataframe thead th {\n",
       "        text-align: right;\n",
       "    }\n",
       "</style>\n",
       "<table border=\"1\" class=\"dataframe\">\n",
       "  <thead>\n",
       "    <tr style=\"text-align: right;\">\n",
       "      <th></th>\n",
       "      <th>total_images</th>\n",
       "      <th>last_price</th>\n",
       "      <th>total_area</th>\n",
       "      <th>first_day_exposition</th>\n",
       "      <th>rooms</th>\n",
       "      <th>ceiling_height</th>\n",
       "      <th>floors_total</th>\n",
       "      <th>living_area</th>\n",
       "      <th>floor</th>\n",
       "      <th>is_apartment</th>\n",
       "      <th>is_studio</th>\n",
       "      <th>open_plan</th>\n",
       "      <th>kitchen_area</th>\n",
       "      <th>balcony</th>\n",
       "      <th>locality_name</th>\n",
       "      <th>airports_nearest</th>\n",
       "      <th>city_Centers_nearest</th>\n",
       "      <th>parks_around_3km</th>\n",
       "      <th>parks_nearest</th>\n",
       "      <th>ponds_around_3km</th>\n",
       "      <th>ponds_distance</th>\n",
       "      <th>days_exposition</th>\n",
       "    </tr>\n",
       "  </thead>\n",
       "  <tbody>\n",
       "    <tr>\n",
       "      <th>247</th>\n",
       "      <td>7</td>\n",
       "      <td>650000</td>\n",
       "      <td>31.0</td>\n",
       "      <td>2017-01-20</td>\n",
       "      <td>1</td>\n",
       "      <td>2.65</td>\n",
       "      <td>3</td>\n",
       "      <td>NaN</td>\n",
       "      <td>1</td>\n",
       "      <td>True</td>\n",
       "      <td>False</td>\n",
       "      <td>False</td>\n",
       "      <td>NaN</td>\n",
       "      <td>0</td>\n",
       "      <td>Сланцы</td>\n",
       "      <td>NaN</td>\n",
       "      <td>&lt;NA&gt;</td>\n",
       "      <td>NaN</td>\n",
       "      <td>NaN</td>\n",
       "      <td>NaN</td>\n",
       "      <td>NaN</td>\n",
       "      <td>378.0</td>\n",
       "    </tr>\n",
       "    <tr>\n",
       "      <th>382</th>\n",
       "      <td>5</td>\n",
       "      <td>900000</td>\n",
       "      <td>37.0</td>\n",
       "      <td>2018-02-01</td>\n",
       "      <td>1</td>\n",
       "      <td>2.65</td>\n",
       "      <td>5</td>\n",
       "      <td>NaN</td>\n",
       "      <td>4</td>\n",
       "      <td>True</td>\n",
       "      <td>False</td>\n",
       "      <td>False</td>\n",
       "      <td>NaN</td>\n",
       "      <td>0</td>\n",
       "      <td>Сланцы</td>\n",
       "      <td>NaN</td>\n",
       "      <td>&lt;NA&gt;</td>\n",
       "      <td>NaN</td>\n",
       "      <td>NaN</td>\n",
       "      <td>NaN</td>\n",
       "      <td>NaN</td>\n",
       "      <td>38.0</td>\n",
       "    </tr>\n",
       "    <tr>\n",
       "      <th>1358</th>\n",
       "      <td>10</td>\n",
       "      <td>550000</td>\n",
       "      <td>27.6</td>\n",
       "      <td>2019-03-06</td>\n",
       "      <td>1</td>\n",
       "      <td>2.50</td>\n",
       "      <td>5</td>\n",
       "      <td>17.0</td>\n",
       "      <td>2</td>\n",
       "      <td>True</td>\n",
       "      <td>False</td>\n",
       "      <td>False</td>\n",
       "      <td>6.0</td>\n",
       "      <td>0</td>\n",
       "      <td>Сланцы</td>\n",
       "      <td>NaN</td>\n",
       "      <td>&lt;NA&gt;</td>\n",
       "      <td>NaN</td>\n",
       "      <td>NaN</td>\n",
       "      <td>NaN</td>\n",
       "      <td>NaN</td>\n",
       "      <td>22.0</td>\n",
       "    </tr>\n",
       "    <tr>\n",
       "      <th>1861</th>\n",
       "      <td>6</td>\n",
       "      <td>600000</td>\n",
       "      <td>30.0</td>\n",
       "      <td>2017-12-19</td>\n",
       "      <td>1</td>\n",
       "      <td>2.65</td>\n",
       "      <td>3</td>\n",
       "      <td>17.0</td>\n",
       "      <td>3</td>\n",
       "      <td>True</td>\n",
       "      <td>False</td>\n",
       "      <td>False</td>\n",
       "      <td>6.0</td>\n",
       "      <td>0</td>\n",
       "      <td>Сланцы</td>\n",
       "      <td>NaN</td>\n",
       "      <td>&lt;NA&gt;</td>\n",
       "      <td>NaN</td>\n",
       "      <td>NaN</td>\n",
       "      <td>NaN</td>\n",
       "      <td>NaN</td>\n",
       "      <td>114.0</td>\n",
       "    </tr>\n",
       "    <tr>\n",
       "      <th>2209</th>\n",
       "      <td>12</td>\n",
       "      <td>770000</td>\n",
       "      <td>33.0</td>\n",
       "      <td>2016-06-29</td>\n",
       "      <td>1</td>\n",
       "      <td>2.50</td>\n",
       "      <td>5</td>\n",
       "      <td>17.0</td>\n",
       "      <td>5</td>\n",
       "      <td>False</td>\n",
       "      <td>False</td>\n",
       "      <td>False</td>\n",
       "      <td>6.5</td>\n",
       "      <td>1</td>\n",
       "      <td>Сланцы</td>\n",
       "      <td>NaN</td>\n",
       "      <td>&lt;NA&gt;</td>\n",
       "      <td>NaN</td>\n",
       "      <td>NaN</td>\n",
       "      <td>NaN</td>\n",
       "      <td>NaN</td>\n",
       "      <td>45.0</td>\n",
       "    </tr>\n",
       "    <tr>\n",
       "      <th>5052</th>\n",
       "      <td>12</td>\n",
       "      <td>650000</td>\n",
       "      <td>31.0</td>\n",
       "      <td>2018-08-29</td>\n",
       "      <td>1</td>\n",
       "      <td>2.60</td>\n",
       "      <td>5</td>\n",
       "      <td>16.0</td>\n",
       "      <td>2</td>\n",
       "      <td>True</td>\n",
       "      <td>False</td>\n",
       "      <td>False</td>\n",
       "      <td>6.0</td>\n",
       "      <td>0</td>\n",
       "      <td>Сланцы</td>\n",
       "      <td>NaN</td>\n",
       "      <td>&lt;NA&gt;</td>\n",
       "      <td>NaN</td>\n",
       "      <td>NaN</td>\n",
       "      <td>NaN</td>\n",
       "      <td>NaN</td>\n",
       "      <td>196.0</td>\n",
       "    </tr>\n",
       "    <tr>\n",
       "      <th>5871</th>\n",
       "      <td>11</td>\n",
       "      <td>750000</td>\n",
       "      <td>36.3</td>\n",
       "      <td>2018-10-23</td>\n",
       "      <td>1</td>\n",
       "      <td>2.50</td>\n",
       "      <td>5</td>\n",
       "      <td>18.5</td>\n",
       "      <td>1</td>\n",
       "      <td>True</td>\n",
       "      <td>False</td>\n",
       "      <td>False</td>\n",
       "      <td>8.5</td>\n",
       "      <td>0</td>\n",
       "      <td>Сланцы</td>\n",
       "      <td>NaN</td>\n",
       "      <td>&lt;NA&gt;</td>\n",
       "      <td>NaN</td>\n",
       "      <td>NaN</td>\n",
       "      <td>NaN</td>\n",
       "      <td>NaN</td>\n",
       "      <td>58.0</td>\n",
       "    </tr>\n",
       "    <tr>\n",
       "      <th>6851</th>\n",
       "      <td>4</td>\n",
       "      <td>700000</td>\n",
       "      <td>33.0</td>\n",
       "      <td>2018-09-11</td>\n",
       "      <td>1</td>\n",
       "      <td>2.50</td>\n",
       "      <td>5</td>\n",
       "      <td>17.0</td>\n",
       "      <td>3</td>\n",
       "      <td>True</td>\n",
       "      <td>False</td>\n",
       "      <td>False</td>\n",
       "      <td>7.0</td>\n",
       "      <td>0</td>\n",
       "      <td>Сланцы</td>\n",
       "      <td>NaN</td>\n",
       "      <td>&lt;NA&gt;</td>\n",
       "      <td>NaN</td>\n",
       "      <td>NaN</td>\n",
       "      <td>NaN</td>\n",
       "      <td>NaN</td>\n",
       "      <td>155.0</td>\n",
       "    </tr>\n",
       "    <tr>\n",
       "      <th>7560</th>\n",
       "      <td>16</td>\n",
       "      <td>970000</td>\n",
       "      <td>41.0</td>\n",
       "      <td>2019-03-15</td>\n",
       "      <td>1</td>\n",
       "      <td>2.50</td>\n",
       "      <td>5</td>\n",
       "      <td>NaN</td>\n",
       "      <td>3</td>\n",
       "      <td>True</td>\n",
       "      <td>False</td>\n",
       "      <td>False</td>\n",
       "      <td>NaN</td>\n",
       "      <td>0</td>\n",
       "      <td>Сланцы</td>\n",
       "      <td>NaN</td>\n",
       "      <td>&lt;NA&gt;</td>\n",
       "      <td>NaN</td>\n",
       "      <td>NaN</td>\n",
       "      <td>NaN</td>\n",
       "      <td>NaN</td>\n",
       "      <td>NaN</td>\n",
       "    </tr>\n",
       "    <tr>\n",
       "      <th>9888</th>\n",
       "      <td>19</td>\n",
       "      <td>900000</td>\n",
       "      <td>41.0</td>\n",
       "      <td>2018-11-10</td>\n",
       "      <td>1</td>\n",
       "      <td>2.65</td>\n",
       "      <td>5</td>\n",
       "      <td>16.0</td>\n",
       "      <td>2</td>\n",
       "      <td>True</td>\n",
       "      <td>False</td>\n",
       "      <td>False</td>\n",
       "      <td>NaN</td>\n",
       "      <td>0</td>\n",
       "      <td>Сланцы</td>\n",
       "      <td>NaN</td>\n",
       "      <td>&lt;NA&gt;</td>\n",
       "      <td>NaN</td>\n",
       "      <td>NaN</td>\n",
       "      <td>NaN</td>\n",
       "      <td>NaN</td>\n",
       "      <td>45.0</td>\n",
       "    </tr>\n",
       "    <tr>\n",
       "      <th>10219</th>\n",
       "      <td>0</td>\n",
       "      <td>900000</td>\n",
       "      <td>40.0</td>\n",
       "      <td>2016-03-02</td>\n",
       "      <td>1</td>\n",
       "      <td>2.65</td>\n",
       "      <td>9</td>\n",
       "      <td>17.0</td>\n",
       "      <td>7</td>\n",
       "      <td>True</td>\n",
       "      <td>False</td>\n",
       "      <td>False</td>\n",
       "      <td>8.0</td>\n",
       "      <td>0</td>\n",
       "      <td>Сланцы</td>\n",
       "      <td>NaN</td>\n",
       "      <td>&lt;NA&gt;</td>\n",
       "      <td>NaN</td>\n",
       "      <td>NaN</td>\n",
       "      <td>NaN</td>\n",
       "      <td>NaN</td>\n",
       "      <td>244.0</td>\n",
       "    </tr>\n",
       "    <tr>\n",
       "      <th>10612</th>\n",
       "      <td>8</td>\n",
       "      <td>580000</td>\n",
       "      <td>31.0</td>\n",
       "      <td>2016-11-16</td>\n",
       "      <td>1</td>\n",
       "      <td>2.65</td>\n",
       "      <td>4</td>\n",
       "      <td>19.0</td>\n",
       "      <td>4</td>\n",
       "      <td>True</td>\n",
       "      <td>False</td>\n",
       "      <td>False</td>\n",
       "      <td>6.0</td>\n",
       "      <td>0</td>\n",
       "      <td>Сланцы</td>\n",
       "      <td>NaN</td>\n",
       "      <td>&lt;NA&gt;</td>\n",
       "      <td>NaN</td>\n",
       "      <td>NaN</td>\n",
       "      <td>NaN</td>\n",
       "      <td>NaN</td>\n",
       "      <td>387.0</td>\n",
       "    </tr>\n",
       "    <tr>\n",
       "      <th>10782</th>\n",
       "      <td>3</td>\n",
       "      <td>490000</td>\n",
       "      <td>29.1</td>\n",
       "      <td>2016-05-05</td>\n",
       "      <td>1</td>\n",
       "      <td>2.50</td>\n",
       "      <td>5</td>\n",
       "      <td>17.0</td>\n",
       "      <td>5</td>\n",
       "      <td>True</td>\n",
       "      <td>False</td>\n",
       "      <td>False</td>\n",
       "      <td>5.5</td>\n",
       "      <td>0</td>\n",
       "      <td>Сланцы</td>\n",
       "      <td>NaN</td>\n",
       "      <td>&lt;NA&gt;</td>\n",
       "      <td>NaN</td>\n",
       "      <td>NaN</td>\n",
       "      <td>NaN</td>\n",
       "      <td>NaN</td>\n",
       "      <td>719.0</td>\n",
       "    </tr>\n",
       "    <tr>\n",
       "      <th>10945</th>\n",
       "      <td>16</td>\n",
       "      <td>600000</td>\n",
       "      <td>31.0</td>\n",
       "      <td>2018-02-25</td>\n",
       "      <td>1</td>\n",
       "      <td>2.65</td>\n",
       "      <td>5</td>\n",
       "      <td>NaN</td>\n",
       "      <td>4</td>\n",
       "      <td>True</td>\n",
       "      <td>False</td>\n",
       "      <td>False</td>\n",
       "      <td>NaN</td>\n",
       "      <td>0</td>\n",
       "      <td>Сланцы</td>\n",
       "      <td>NaN</td>\n",
       "      <td>&lt;NA&gt;</td>\n",
       "      <td>NaN</td>\n",
       "      <td>NaN</td>\n",
       "      <td>NaN</td>\n",
       "      <td>NaN</td>\n",
       "      <td>45.0</td>\n",
       "    </tr>\n",
       "    <tr>\n",
       "      <th>11108</th>\n",
       "      <td>16</td>\n",
       "      <td>630000</td>\n",
       "      <td>30.0</td>\n",
       "      <td>2019-01-02</td>\n",
       "      <td>1</td>\n",
       "      <td>2.50</td>\n",
       "      <td>5</td>\n",
       "      <td>17.0</td>\n",
       "      <td>5</td>\n",
       "      <td>False</td>\n",
       "      <td>False</td>\n",
       "      <td>False</td>\n",
       "      <td>6.0</td>\n",
       "      <td>1</td>\n",
       "      <td>Сланцы</td>\n",
       "      <td>NaN</td>\n",
       "      <td>&lt;NA&gt;</td>\n",
       "      <td>NaN</td>\n",
       "      <td>NaN</td>\n",
       "      <td>NaN</td>\n",
       "      <td>NaN</td>\n",
       "      <td>98.0</td>\n",
       "    </tr>\n",
       "    <tr>\n",
       "      <th>11584</th>\n",
       "      <td>18</td>\n",
       "      <td>800000</td>\n",
       "      <td>41.0</td>\n",
       "      <td>2019-02-28</td>\n",
       "      <td>1</td>\n",
       "      <td>2.50</td>\n",
       "      <td>5</td>\n",
       "      <td>17.0</td>\n",
       "      <td>3</td>\n",
       "      <td>True</td>\n",
       "      <td>False</td>\n",
       "      <td>False</td>\n",
       "      <td>8.0</td>\n",
       "      <td>0</td>\n",
       "      <td>Сланцы</td>\n",
       "      <td>NaN</td>\n",
       "      <td>&lt;NA&gt;</td>\n",
       "      <td>NaN</td>\n",
       "      <td>NaN</td>\n",
       "      <td>NaN</td>\n",
       "      <td>NaN</td>\n",
       "      <td>NaN</td>\n",
       "    </tr>\n",
       "    <tr>\n",
       "      <th>12607</th>\n",
       "      <td>11</td>\n",
       "      <td>530000</td>\n",
       "      <td>29.6</td>\n",
       "      <td>2019-02-20</td>\n",
       "      <td>1</td>\n",
       "      <td>2.65</td>\n",
       "      <td>5</td>\n",
       "      <td>16.0</td>\n",
       "      <td>3</td>\n",
       "      <td>True</td>\n",
       "      <td>False</td>\n",
       "      <td>False</td>\n",
       "      <td>5.8</td>\n",
       "      <td>0</td>\n",
       "      <td>Сланцы</td>\n",
       "      <td>NaN</td>\n",
       "      <td>&lt;NA&gt;</td>\n",
       "      <td>NaN</td>\n",
       "      <td>NaN</td>\n",
       "      <td>NaN</td>\n",
       "      <td>NaN</td>\n",
       "      <td>27.0</td>\n",
       "    </tr>\n",
       "    <tr>\n",
       "      <th>13768</th>\n",
       "      <td>10</td>\n",
       "      <td>550000</td>\n",
       "      <td>36.0</td>\n",
       "      <td>2017-08-22</td>\n",
       "      <td>1</td>\n",
       "      <td>2.65</td>\n",
       "      <td>2</td>\n",
       "      <td>20.0</td>\n",
       "      <td>1</td>\n",
       "      <td>True</td>\n",
       "      <td>False</td>\n",
       "      <td>False</td>\n",
       "      <td>8.0</td>\n",
       "      <td>0</td>\n",
       "      <td>Сланцы</td>\n",
       "      <td>NaN</td>\n",
       "      <td>&lt;NA&gt;</td>\n",
       "      <td>NaN</td>\n",
       "      <td>NaN</td>\n",
       "      <td>NaN</td>\n",
       "      <td>NaN</td>\n",
       "      <td>92.0</td>\n",
       "    </tr>\n",
       "    <tr>\n",
       "      <th>15548</th>\n",
       "      <td>20</td>\n",
       "      <td>630000</td>\n",
       "      <td>30.0</td>\n",
       "      <td>2016-04-02</td>\n",
       "      <td>1</td>\n",
       "      <td>2.55</td>\n",
       "      <td>5</td>\n",
       "      <td>16.0</td>\n",
       "      <td>3</td>\n",
       "      <td>False</td>\n",
       "      <td>False</td>\n",
       "      <td>False</td>\n",
       "      <td>5.5</td>\n",
       "      <td>0</td>\n",
       "      <td>Сланцы</td>\n",
       "      <td>NaN</td>\n",
       "      <td>&lt;NA&gt;</td>\n",
       "      <td>NaN</td>\n",
       "      <td>NaN</td>\n",
       "      <td>NaN</td>\n",
       "      <td>NaN</td>\n",
       "      <td>924.0</td>\n",
       "    </tr>\n",
       "    <tr>\n",
       "      <th>15760</th>\n",
       "      <td>7</td>\n",
       "      <td>780000</td>\n",
       "      <td>42.1</td>\n",
       "      <td>2016-05-13</td>\n",
       "      <td>1</td>\n",
       "      <td>2.50</td>\n",
       "      <td>5</td>\n",
       "      <td>17.1</td>\n",
       "      <td>5</td>\n",
       "      <td>True</td>\n",
       "      <td>False</td>\n",
       "      <td>False</td>\n",
       "      <td>9.0</td>\n",
       "      <td>1</td>\n",
       "      <td>Сланцы</td>\n",
       "      <td>NaN</td>\n",
       "      <td>&lt;NA&gt;</td>\n",
       "      <td>NaN</td>\n",
       "      <td>NaN</td>\n",
       "      <td>NaN</td>\n",
       "      <td>NaN</td>\n",
       "      <td>750.0</td>\n",
       "    </tr>\n",
       "    <tr>\n",
       "      <th>16032</th>\n",
       "      <td>8</td>\n",
       "      <td>480000</td>\n",
       "      <td>32.0</td>\n",
       "      <td>2019-01-06</td>\n",
       "      <td>1</td>\n",
       "      <td>2.65</td>\n",
       "      <td>2</td>\n",
       "      <td>16.0</td>\n",
       "      <td>1</td>\n",
       "      <td>True</td>\n",
       "      <td>False</td>\n",
       "      <td>False</td>\n",
       "      <td>NaN</td>\n",
       "      <td>0</td>\n",
       "      <td>Сланцы</td>\n",
       "      <td>NaN</td>\n",
       "      <td>&lt;NA&gt;</td>\n",
       "      <td>NaN</td>\n",
       "      <td>NaN</td>\n",
       "      <td>NaN</td>\n",
       "      <td>NaN</td>\n",
       "      <td>83.0</td>\n",
       "    </tr>\n",
       "    <tr>\n",
       "      <th>17126</th>\n",
       "      <td>15</td>\n",
       "      <td>680000</td>\n",
       "      <td>31.0</td>\n",
       "      <td>2018-10-26</td>\n",
       "      <td>1</td>\n",
       "      <td>2.65</td>\n",
       "      <td>5</td>\n",
       "      <td>16.0</td>\n",
       "      <td>4</td>\n",
       "      <td>True</td>\n",
       "      <td>False</td>\n",
       "      <td>False</td>\n",
       "      <td>6.0</td>\n",
       "      <td>0</td>\n",
       "      <td>Сланцы</td>\n",
       "      <td>NaN</td>\n",
       "      <td>&lt;NA&gt;</td>\n",
       "      <td>NaN</td>\n",
       "      <td>NaN</td>\n",
       "      <td>NaN</td>\n",
       "      <td>NaN</td>\n",
       "      <td>NaN</td>\n",
       "    </tr>\n",
       "    <tr>\n",
       "      <th>17129</th>\n",
       "      <td>17</td>\n",
       "      <td>860000</td>\n",
       "      <td>41.0</td>\n",
       "      <td>2018-02-11</td>\n",
       "      <td>1</td>\n",
       "      <td>2.65</td>\n",
       "      <td>9</td>\n",
       "      <td>32.0</td>\n",
       "      <td>1</td>\n",
       "      <td>True</td>\n",
       "      <td>False</td>\n",
       "      <td>False</td>\n",
       "      <td>9.0</td>\n",
       "      <td>0</td>\n",
       "      <td>Сланцы</td>\n",
       "      <td>NaN</td>\n",
       "      <td>&lt;NA&gt;</td>\n",
       "      <td>NaN</td>\n",
       "      <td>NaN</td>\n",
       "      <td>NaN</td>\n",
       "      <td>NaN</td>\n",
       "      <td>45.0</td>\n",
       "    </tr>\n",
       "    <tr>\n",
       "      <th>17456</th>\n",
       "      <td>7</td>\n",
       "      <td>430000</td>\n",
       "      <td>30.4</td>\n",
       "      <td>2019-04-22</td>\n",
       "      <td>1</td>\n",
       "      <td>2.65</td>\n",
       "      <td>2</td>\n",
       "      <td>16.0</td>\n",
       "      <td>1</td>\n",
       "      <td>True</td>\n",
       "      <td>False</td>\n",
       "      <td>False</td>\n",
       "      <td>6.0</td>\n",
       "      <td>0</td>\n",
       "      <td>Сланцы</td>\n",
       "      <td>NaN</td>\n",
       "      <td>&lt;NA&gt;</td>\n",
       "      <td>NaN</td>\n",
       "      <td>NaN</td>\n",
       "      <td>NaN</td>\n",
       "      <td>NaN</td>\n",
       "      <td>NaN</td>\n",
       "    </tr>\n",
       "    <tr>\n",
       "      <th>18711</th>\n",
       "      <td>7</td>\n",
       "      <td>730000</td>\n",
       "      <td>36.0</td>\n",
       "      <td>2019-03-21</td>\n",
       "      <td>1</td>\n",
       "      <td>2.70</td>\n",
       "      <td>5</td>\n",
       "      <td>17.5</td>\n",
       "      <td>1</td>\n",
       "      <td>True</td>\n",
       "      <td>False</td>\n",
       "      <td>False</td>\n",
       "      <td>9.0</td>\n",
       "      <td>0</td>\n",
       "      <td>Сланцы</td>\n",
       "      <td>NaN</td>\n",
       "      <td>&lt;NA&gt;</td>\n",
       "      <td>NaN</td>\n",
       "      <td>NaN</td>\n",
       "      <td>NaN</td>\n",
       "      <td>NaN</td>\n",
       "      <td>NaN</td>\n",
       "    </tr>\n",
       "    <tr>\n",
       "      <th>18985</th>\n",
       "      <td>20</td>\n",
       "      <td>770000</td>\n",
       "      <td>32.0</td>\n",
       "      <td>2018-07-05</td>\n",
       "      <td>1</td>\n",
       "      <td>2.65</td>\n",
       "      <td>2</td>\n",
       "      <td>18.0</td>\n",
       "      <td>2</td>\n",
       "      <td>True</td>\n",
       "      <td>False</td>\n",
       "      <td>False</td>\n",
       "      <td>8.0</td>\n",
       "      <td>0</td>\n",
       "      <td>Сланцы</td>\n",
       "      <td>NaN</td>\n",
       "      <td>&lt;NA&gt;</td>\n",
       "      <td>NaN</td>\n",
       "      <td>NaN</td>\n",
       "      <td>NaN</td>\n",
       "      <td>NaN</td>\n",
       "      <td>54.0</td>\n",
       "    </tr>\n",
       "    <tr>\n",
       "      <th>19395</th>\n",
       "      <td>20</td>\n",
       "      <td>700000</td>\n",
       "      <td>41.0</td>\n",
       "      <td>2018-10-26</td>\n",
       "      <td>1</td>\n",
       "      <td>2.65</td>\n",
       "      <td>5</td>\n",
       "      <td>16.0</td>\n",
       "      <td>5</td>\n",
       "      <td>True</td>\n",
       "      <td>False</td>\n",
       "      <td>False</td>\n",
       "      <td>9.0</td>\n",
       "      <td>0</td>\n",
       "      <td>Сланцы</td>\n",
       "      <td>NaN</td>\n",
       "      <td>&lt;NA&gt;</td>\n",
       "      <td>NaN</td>\n",
       "      <td>NaN</td>\n",
       "      <td>NaN</td>\n",
       "      <td>NaN</td>\n",
       "      <td>26.0</td>\n",
       "    </tr>\n",
       "    <tr>\n",
       "      <th>19676</th>\n",
       "      <td>20</td>\n",
       "      <td>850000</td>\n",
       "      <td>36.5</td>\n",
       "      <td>2018-02-07</td>\n",
       "      <td>1</td>\n",
       "      <td>2.50</td>\n",
       "      <td>5</td>\n",
       "      <td>NaN</td>\n",
       "      <td>2</td>\n",
       "      <td>True</td>\n",
       "      <td>False</td>\n",
       "      <td>False</td>\n",
       "      <td>NaN</td>\n",
       "      <td>0</td>\n",
       "      <td>Сланцы</td>\n",
       "      <td>NaN</td>\n",
       "      <td>&lt;NA&gt;</td>\n",
       "      <td>NaN</td>\n",
       "      <td>NaN</td>\n",
       "      <td>NaN</td>\n",
       "      <td>NaN</td>\n",
       "      <td>45.0</td>\n",
       "    </tr>\n",
       "    <tr>\n",
       "      <th>20392</th>\n",
       "      <td>2</td>\n",
       "      <td>660000</td>\n",
       "      <td>32.0</td>\n",
       "      <td>2019-01-06</td>\n",
       "      <td>1</td>\n",
       "      <td>2.60</td>\n",
       "      <td>5</td>\n",
       "      <td>18.0</td>\n",
       "      <td>2</td>\n",
       "      <td>True</td>\n",
       "      <td>False</td>\n",
       "      <td>False</td>\n",
       "      <td>NaN</td>\n",
       "      <td>0</td>\n",
       "      <td>Сланцы</td>\n",
       "      <td>NaN</td>\n",
       "      <td>&lt;NA&gt;</td>\n",
       "      <td>NaN</td>\n",
       "      <td>NaN</td>\n",
       "      <td>NaN</td>\n",
       "      <td>NaN</td>\n",
       "      <td>67.0</td>\n",
       "    </tr>\n",
       "    <tr>\n",
       "      <th>21060</th>\n",
       "      <td>0</td>\n",
       "      <td>650000</td>\n",
       "      <td>32.0</td>\n",
       "      <td>2016-06-12</td>\n",
       "      <td>1</td>\n",
       "      <td>2.65</td>\n",
       "      <td>5</td>\n",
       "      <td>18.0</td>\n",
       "      <td>5</td>\n",
       "      <td>True</td>\n",
       "      <td>False</td>\n",
       "      <td>False</td>\n",
       "      <td>6.5</td>\n",
       "      <td>0</td>\n",
       "      <td>Сланцы</td>\n",
       "      <td>NaN</td>\n",
       "      <td>&lt;NA&gt;</td>\n",
       "      <td>NaN</td>\n",
       "      <td>NaN</td>\n",
       "      <td>NaN</td>\n",
       "      <td>NaN</td>\n",
       "      <td>39.0</td>\n",
       "    </tr>\n",
       "    <tr>\n",
       "      <th>21637</th>\n",
       "      <td>15</td>\n",
       "      <td>630000</td>\n",
       "      <td>37.0</td>\n",
       "      <td>2018-08-08</td>\n",
       "      <td>1</td>\n",
       "      <td>2.50</td>\n",
       "      <td>5</td>\n",
       "      <td>18.0</td>\n",
       "      <td>1</td>\n",
       "      <td>True</td>\n",
       "      <td>False</td>\n",
       "      <td>False</td>\n",
       "      <td>9.0</td>\n",
       "      <td>2</td>\n",
       "      <td>Сланцы</td>\n",
       "      <td>NaN</td>\n",
       "      <td>&lt;NA&gt;</td>\n",
       "      <td>NaN</td>\n",
       "      <td>NaN</td>\n",
       "      <td>NaN</td>\n",
       "      <td>NaN</td>\n",
       "      <td>45.0</td>\n",
       "    </tr>\n",
       "    <tr>\n",
       "      <th>22430</th>\n",
       "      <td>6</td>\n",
       "      <td>520000</td>\n",
       "      <td>30.0</td>\n",
       "      <td>2017-09-15</td>\n",
       "      <td>1</td>\n",
       "      <td>2.65</td>\n",
       "      <td>2</td>\n",
       "      <td>18.0</td>\n",
       "      <td>1</td>\n",
       "      <td>True</td>\n",
       "      <td>False</td>\n",
       "      <td>False</td>\n",
       "      <td>5.5</td>\n",
       "      <td>0</td>\n",
       "      <td>Сланцы</td>\n",
       "      <td>NaN</td>\n",
       "      <td>&lt;NA&gt;</td>\n",
       "      <td>NaN</td>\n",
       "      <td>NaN</td>\n",
       "      <td>NaN</td>\n",
       "      <td>NaN</td>\n",
       "      <td>163.0</td>\n",
       "    </tr>\n",
       "    <tr>\n",
       "      <th>22977</th>\n",
       "      <td>7</td>\n",
       "      <td>1300000</td>\n",
       "      <td>30.0</td>\n",
       "      <td>2018-01-11</td>\n",
       "      <td>1</td>\n",
       "      <td>2.65</td>\n",
       "      <td>5</td>\n",
       "      <td>NaN</td>\n",
       "      <td>3</td>\n",
       "      <td>True</td>\n",
       "      <td>False</td>\n",
       "      <td>False</td>\n",
       "      <td>NaN</td>\n",
       "      <td>0</td>\n",
       "      <td>Сланцы</td>\n",
       "      <td>NaN</td>\n",
       "      <td>&lt;NA&gt;</td>\n",
       "      <td>NaN</td>\n",
       "      <td>NaN</td>\n",
       "      <td>NaN</td>\n",
       "      <td>NaN</td>\n",
       "      <td>45.0</td>\n",
       "    </tr>\n",
       "  </tbody>\n",
       "</table>\n",
       "</div>"
      ],
      "text/plain": [
       "       total_images  last_price  total_area first_day_exposition  rooms  \\\n",
       "247               7      650000        31.0           2017-01-20      1   \n",
       "382               5      900000        37.0           2018-02-01      1   \n",
       "1358             10      550000        27.6           2019-03-06      1   \n",
       "1861              6      600000        30.0           2017-12-19      1   \n",
       "2209             12      770000        33.0           2016-06-29      1   \n",
       "5052             12      650000        31.0           2018-08-29      1   \n",
       "5871             11      750000        36.3           2018-10-23      1   \n",
       "6851              4      700000        33.0           2018-09-11      1   \n",
       "7560             16      970000        41.0           2019-03-15      1   \n",
       "9888             19      900000        41.0           2018-11-10      1   \n",
       "10219             0      900000        40.0           2016-03-02      1   \n",
       "10612             8      580000        31.0           2016-11-16      1   \n",
       "10782             3      490000        29.1           2016-05-05      1   \n",
       "10945            16      600000        31.0           2018-02-25      1   \n",
       "11108            16      630000        30.0           2019-01-02      1   \n",
       "11584            18      800000        41.0           2019-02-28      1   \n",
       "12607            11      530000        29.6           2019-02-20      1   \n",
       "13768            10      550000        36.0           2017-08-22      1   \n",
       "15548            20      630000        30.0           2016-04-02      1   \n",
       "15760             7      780000        42.1           2016-05-13      1   \n",
       "16032             8      480000        32.0           2019-01-06      1   \n",
       "17126            15      680000        31.0           2018-10-26      1   \n",
       "17129            17      860000        41.0           2018-02-11      1   \n",
       "17456             7      430000        30.4           2019-04-22      1   \n",
       "18711             7      730000        36.0           2019-03-21      1   \n",
       "18985            20      770000        32.0           2018-07-05      1   \n",
       "19395            20      700000        41.0           2018-10-26      1   \n",
       "19676            20      850000        36.5           2018-02-07      1   \n",
       "20392             2      660000        32.0           2019-01-06      1   \n",
       "21060             0      650000        32.0           2016-06-12      1   \n",
       "21637            15      630000        37.0           2018-08-08      1   \n",
       "22430             6      520000        30.0           2017-09-15      1   \n",
       "22977             7     1300000        30.0           2018-01-11      1   \n",
       "\n",
       "       ceiling_height  floors_total  living_area  floor  is_apartment  \\\n",
       "247              2.65             3          NaN      1          True   \n",
       "382              2.65             5          NaN      4          True   \n",
       "1358             2.50             5         17.0      2          True   \n",
       "1861             2.65             3         17.0      3          True   \n",
       "2209             2.50             5         17.0      5         False   \n",
       "5052             2.60             5         16.0      2          True   \n",
       "5871             2.50             5         18.5      1          True   \n",
       "6851             2.50             5         17.0      3          True   \n",
       "7560             2.50             5          NaN      3          True   \n",
       "9888             2.65             5         16.0      2          True   \n",
       "10219            2.65             9         17.0      7          True   \n",
       "10612            2.65             4         19.0      4          True   \n",
       "10782            2.50             5         17.0      5          True   \n",
       "10945            2.65             5          NaN      4          True   \n",
       "11108            2.50             5         17.0      5         False   \n",
       "11584            2.50             5         17.0      3          True   \n",
       "12607            2.65             5         16.0      3          True   \n",
       "13768            2.65             2         20.0      1          True   \n",
       "15548            2.55             5         16.0      3         False   \n",
       "15760            2.50             5         17.1      5          True   \n",
       "16032            2.65             2         16.0      1          True   \n",
       "17126            2.65             5         16.0      4          True   \n",
       "17129            2.65             9         32.0      1          True   \n",
       "17456            2.65             2         16.0      1          True   \n",
       "18711            2.70             5         17.5      1          True   \n",
       "18985            2.65             2         18.0      2          True   \n",
       "19395            2.65             5         16.0      5          True   \n",
       "19676            2.50             5          NaN      2          True   \n",
       "20392            2.60             5         18.0      2          True   \n",
       "21060            2.65             5         18.0      5          True   \n",
       "21637            2.50             5         18.0      1          True   \n",
       "22430            2.65             2         18.0      1          True   \n",
       "22977            2.65             5          NaN      3          True   \n",
       "\n",
       "       is_studio  open_plan  kitchen_area  balcony locality_name  \\\n",
       "247        False      False           NaN        0        Сланцы   \n",
       "382        False      False           NaN        0        Сланцы   \n",
       "1358       False      False           6.0        0        Сланцы   \n",
       "1861       False      False           6.0        0        Сланцы   \n",
       "2209       False      False           6.5        1        Сланцы   \n",
       "5052       False      False           6.0        0        Сланцы   \n",
       "5871       False      False           8.5        0        Сланцы   \n",
       "6851       False      False           7.0        0        Сланцы   \n",
       "7560       False      False           NaN        0        Сланцы   \n",
       "9888       False      False           NaN        0        Сланцы   \n",
       "10219      False      False           8.0        0        Сланцы   \n",
       "10612      False      False           6.0        0        Сланцы   \n",
       "10782      False      False           5.5        0        Сланцы   \n",
       "10945      False      False           NaN        0        Сланцы   \n",
       "11108      False      False           6.0        1        Сланцы   \n",
       "11584      False      False           8.0        0        Сланцы   \n",
       "12607      False      False           5.8        0        Сланцы   \n",
       "13768      False      False           8.0        0        Сланцы   \n",
       "15548      False      False           5.5        0        Сланцы   \n",
       "15760      False      False           9.0        1        Сланцы   \n",
       "16032      False      False           NaN        0        Сланцы   \n",
       "17126      False      False           6.0        0        Сланцы   \n",
       "17129      False      False           9.0        0        Сланцы   \n",
       "17456      False      False           6.0        0        Сланцы   \n",
       "18711      False      False           9.0        0        Сланцы   \n",
       "18985      False      False           8.0        0        Сланцы   \n",
       "19395      False      False           9.0        0        Сланцы   \n",
       "19676      False      False           NaN        0        Сланцы   \n",
       "20392      False      False           NaN        0        Сланцы   \n",
       "21060      False      False           6.5        0        Сланцы   \n",
       "21637      False      False           9.0        2        Сланцы   \n",
       "22430      False      False           5.5        0        Сланцы   \n",
       "22977      False      False           NaN        0        Сланцы   \n",
       "\n",
       "       airports_nearest  city_Centers_nearest  parks_around_3km  \\\n",
       "247                 NaN                  <NA>               NaN   \n",
       "382                 NaN                  <NA>               NaN   \n",
       "1358                NaN                  <NA>               NaN   \n",
       "1861                NaN                  <NA>               NaN   \n",
       "2209                NaN                  <NA>               NaN   \n",
       "5052                NaN                  <NA>               NaN   \n",
       "5871                NaN                  <NA>               NaN   \n",
       "6851                NaN                  <NA>               NaN   \n",
       "7560                NaN                  <NA>               NaN   \n",
       "9888                NaN                  <NA>               NaN   \n",
       "10219               NaN                  <NA>               NaN   \n",
       "10612               NaN                  <NA>               NaN   \n",
       "10782               NaN                  <NA>               NaN   \n",
       "10945               NaN                  <NA>               NaN   \n",
       "11108               NaN                  <NA>               NaN   \n",
       "11584               NaN                  <NA>               NaN   \n",
       "12607               NaN                  <NA>               NaN   \n",
       "13768               NaN                  <NA>               NaN   \n",
       "15548               NaN                  <NA>               NaN   \n",
       "15760               NaN                  <NA>               NaN   \n",
       "16032               NaN                  <NA>               NaN   \n",
       "17126               NaN                  <NA>               NaN   \n",
       "17129               NaN                  <NA>               NaN   \n",
       "17456               NaN                  <NA>               NaN   \n",
       "18711               NaN                  <NA>               NaN   \n",
       "18985               NaN                  <NA>               NaN   \n",
       "19395               NaN                  <NA>               NaN   \n",
       "19676               NaN                  <NA>               NaN   \n",
       "20392               NaN                  <NA>               NaN   \n",
       "21060               NaN                  <NA>               NaN   \n",
       "21637               NaN                  <NA>               NaN   \n",
       "22430               NaN                  <NA>               NaN   \n",
       "22977               NaN                  <NA>               NaN   \n",
       "\n",
       "       parks_nearest  ponds_around_3km  ponds_distance  days_exposition  \n",
       "247              NaN               NaN             NaN            378.0  \n",
       "382              NaN               NaN             NaN             38.0  \n",
       "1358             NaN               NaN             NaN             22.0  \n",
       "1861             NaN               NaN             NaN            114.0  \n",
       "2209             NaN               NaN             NaN             45.0  \n",
       "5052             NaN               NaN             NaN            196.0  \n",
       "5871             NaN               NaN             NaN             58.0  \n",
       "6851             NaN               NaN             NaN            155.0  \n",
       "7560             NaN               NaN             NaN              NaN  \n",
       "9888             NaN               NaN             NaN             45.0  \n",
       "10219            NaN               NaN             NaN            244.0  \n",
       "10612            NaN               NaN             NaN            387.0  \n",
       "10782            NaN               NaN             NaN            719.0  \n",
       "10945            NaN               NaN             NaN             45.0  \n",
       "11108            NaN               NaN             NaN             98.0  \n",
       "11584            NaN               NaN             NaN              NaN  \n",
       "12607            NaN               NaN             NaN             27.0  \n",
       "13768            NaN               NaN             NaN             92.0  \n",
       "15548            NaN               NaN             NaN            924.0  \n",
       "15760            NaN               NaN             NaN            750.0  \n",
       "16032            NaN               NaN             NaN             83.0  \n",
       "17126            NaN               NaN             NaN              NaN  \n",
       "17129            NaN               NaN             NaN             45.0  \n",
       "17456            NaN               NaN             NaN              NaN  \n",
       "18711            NaN               NaN             NaN              NaN  \n",
       "18985            NaN               NaN             NaN             54.0  \n",
       "19395            NaN               NaN             NaN             26.0  \n",
       "19676            NaN               NaN             NaN             45.0  \n",
       "20392            NaN               NaN             NaN             67.0  \n",
       "21060            NaN               NaN             NaN             39.0  \n",
       "21637            NaN               NaN             NaN             45.0  \n",
       "22430            NaN               NaN             NaN            163.0  \n",
       "22977            NaN               NaN             NaN             45.0  "
      ]
     },
     "execution_count": 32,
     "metadata": {},
     "output_type": "execute_result"
    }
   ],
   "source": [
    "# у нас цены по 2019 год влкючительно, \n",
    "# сделала выборку по усовию проживания и количества комнат. Цены разные.\n",
    "\n",
    "\n",
    "# в Сланцах  совсем не  дорогая недвижимость  как и в другом населенном пункте Бокситогорск - удаленность +условия..\n",
    "\n",
    "# поэтому принимаю  волевое  решение и осталяю стоимости на прежних занчениях (хоть сейчас и выглядят удивительными (ДУМАЛА!!))\n",
    "\n",
    "e = data[(data['locality_name'] == 'Сланцы')&(data['rooms']==1)]\n",
    "e\n",
    "#t = data[(data['locality_name'] == 'Бокситогорск')]\n",
    "#t\n",
    "#  Sorry again"
   ]
  },
  {
   "cell_type": "code",
   "execution_count": 33,
   "id": "89bc93fd",
   "metadata": {},
   "outputs": [
    {
     "data": {
      "text/plain": [
       "0"
      ]
     },
     "execution_count": 33,
     "metadata": {},
     "output_type": "execute_result"
    }
   ],
   "source": [
    "# Пропущенных данных нет\n",
    "data['last_price'].isnull().sum()"
   ]
  },
  {
   "cell_type": "code",
   "execution_count": 34,
   "id": "593b4259",
   "metadata": {},
   "outputs": [
    {
     "data": {
      "text/plain": [
       "1     8036\n",
       "2     7923\n",
       "3     5797\n",
       "4     1175\n",
       "5      326\n",
       "0      197\n",
       "6      105\n",
       "7       59\n",
       "8       12\n",
       "9        8\n",
       "10       3\n",
       "11       2\n",
       "14       2\n",
       "19       1\n",
       "16       1\n",
       "12       1\n",
       "15       1\n",
       "Name: rooms, dtype: int64"
      ]
     },
     "execution_count": 34,
     "metadata": {},
     "output_type": "execute_result"
    }
   ],
   "source": [
    "data['rooms'].value_counts() #у кого-то много комнат\n"
   ]
  },
  {
   "cell_type": "code",
   "execution_count": 35,
   "id": "478141ea",
   "metadata": {},
   "outputs": [
    {
     "data": {
      "text/plain": [
       "count    23649.000000\n",
       "mean         2.070109\n",
       "std          1.078643\n",
       "min          0.000000\n",
       "25%          1.000000\n",
       "50%          2.000000\n",
       "75%          3.000000\n",
       "max         19.000000\n",
       "Name: rooms, dtype: float64"
      ]
     },
     "execution_count": 35,
     "metadata": {},
     "output_type": "execute_result"
    }
   ],
   "source": [
    "data['rooms'].describe() # средние и медианные показа - 2, станд. отклонение - 1 к."
   ]
  },
  {
   "cell_type": "code",
   "execution_count": 36,
   "id": "bf9aaf43",
   "metadata": {},
   "outputs": [
    {
     "data": {
      "text/plain": [
       "<AxesSubplot:>"
      ]
     },
     "execution_count": 36,
     "metadata": {},
     "output_type": "execute_result"
    },
    {
     "data": {
      "image/png": "[encoded data removed]",
      "text/plain": [
       "<Figure size 432x288 with 1 Axes>"
      ]
     },
     "metadata": {
      "needs_background": "light"
     },
     "output_type": "display_data"
    }
   ],
   "source": [
    "data.boxplot('rooms') #ящик с усами говорит что после 6 -это выброс, 1.5 межквартильного расстояния,но есть \n",
    "                    #и экстремальный выброс - 3 межквартильных размаха. т.е.  показатель будет 9 комнат\n",
    "                    #25%          1.000000\n",
    "                    #50%          2.000000\n",
    "                    #75%          3.000000\n",
    "                    # ((3-1)*3)+3 = 9"
   ]
  },
  {
   "cell_type": "markdown",
   "id": "0554ab8f",
   "metadata": {},
   "source": [
    "[Студопедия](https://studopedia.ru/6_116420_sposobi-obnaruzheniya-i-isklyucheniya-vibrosov.html)"
   ]
  },
  {
   "cell_type": "code",
   "execution_count": 37,
   "id": "075b37bf",
   "metadata": {
    "scrolled": true
   },
   "outputs": [
    {
     "data": {
      "text/html": [
       "<div>\n",
       "<style scoped>\n",
       "    .dataframe tbody tr th:only-of-type {\n",
       "        vertical-align: middle;\n",
       "    }\n",
       "\n",
       "    .dataframe tbody tr th {\n",
       "        vertical-align: top;\n",
       "    }\n",
       "\n",
       "    .dataframe thead th {\n",
       "        text-align: right;\n",
       "    }\n",
       "</style>\n",
       "<table border=\"1\" class=\"dataframe\">\n",
       "  <thead>\n",
       "    <tr style=\"text-align: right;\">\n",
       "      <th></th>\n",
       "      <th>total_images</th>\n",
       "      <th>last_price</th>\n",
       "      <th>total_area</th>\n",
       "      <th>first_day_exposition</th>\n",
       "      <th>rooms</th>\n",
       "      <th>ceiling_height</th>\n",
       "      <th>floors_total</th>\n",
       "      <th>living_area</th>\n",
       "      <th>floor</th>\n",
       "      <th>is_apartment</th>\n",
       "      <th>is_studio</th>\n",
       "      <th>open_plan</th>\n",
       "      <th>kitchen_area</th>\n",
       "      <th>balcony</th>\n",
       "      <th>locality_name</th>\n",
       "      <th>airports_nearest</th>\n",
       "      <th>city_Centers_nearest</th>\n",
       "      <th>parks_around_3km</th>\n",
       "      <th>parks_nearest</th>\n",
       "      <th>ponds_around_3km</th>\n",
       "      <th>ponds_distance</th>\n",
       "      <th>days_exposition</th>\n",
       "    </tr>\n",
       "  </thead>\n",
       "  <tbody>\n",
       "    <tr>\n",
       "      <th>648</th>\n",
       "      <td>3</td>\n",
       "      <td>17500000</td>\n",
       "      <td>183.7</td>\n",
       "      <td>2018-07-01</td>\n",
       "      <td>11</td>\n",
       "      <td>3.40</td>\n",
       "      <td>7</td>\n",
       "      <td>138.8</td>\n",
       "      <td>7</td>\n",
       "      <td>True</td>\n",
       "      <td>False</td>\n",
       "      <td>False</td>\n",
       "      <td>13.3</td>\n",
       "      <td>0</td>\n",
       "      <td>Санкт-Петербург</td>\n",
       "      <td>23606.0</td>\n",
       "      <td>3148</td>\n",
       "      <td>0.0</td>\n",
       "      <td>NaN</td>\n",
       "      <td>0.0</td>\n",
       "      <td>NaN</td>\n",
       "      <td>NaN</td>\n",
       "    </tr>\n",
       "    <tr>\n",
       "      <th>866</th>\n",
       "      <td>5</td>\n",
       "      <td>25000000</td>\n",
       "      <td>363.0</td>\n",
       "      <td>2017-12-23</td>\n",
       "      <td>14</td>\n",
       "      <td>3.16</td>\n",
       "      <td>5</td>\n",
       "      <td>222.0</td>\n",
       "      <td>4</td>\n",
       "      <td>True</td>\n",
       "      <td>False</td>\n",
       "      <td>False</td>\n",
       "      <td>16.6</td>\n",
       "      <td>0</td>\n",
       "      <td>Санкт-Петербург</td>\n",
       "      <td>38076.0</td>\n",
       "      <td>7950</td>\n",
       "      <td>0.0</td>\n",
       "      <td>NaN</td>\n",
       "      <td>2.0</td>\n",
       "      <td>435.0</td>\n",
       "      <td>418.0</td>\n",
       "    </tr>\n",
       "    <tr>\n",
       "      <th>4149</th>\n",
       "      <td>6</td>\n",
       "      <td>23000000</td>\n",
       "      <td>272.6</td>\n",
       "      <td>2018-01-11</td>\n",
       "      <td>10</td>\n",
       "      <td>3.14</td>\n",
       "      <td>7</td>\n",
       "      <td>145.9</td>\n",
       "      <td>7</td>\n",
       "      <td>True</td>\n",
       "      <td>False</td>\n",
       "      <td>False</td>\n",
       "      <td>18.8</td>\n",
       "      <td>1</td>\n",
       "      <td>Санкт-Петербург</td>\n",
       "      <td>10726.0</td>\n",
       "      <td>12169</td>\n",
       "      <td>1.0</td>\n",
       "      <td>191.0</td>\n",
       "      <td>1.0</td>\n",
       "      <td>531.0</td>\n",
       "      <td>NaN</td>\n",
       "    </tr>\n",
       "    <tr>\n",
       "      <th>5358</th>\n",
       "      <td>20</td>\n",
       "      <td>65000000</td>\n",
       "      <td>590.0</td>\n",
       "      <td>2019-02-14</td>\n",
       "      <td>15</td>\n",
       "      <td>3.50</td>\n",
       "      <td>6</td>\n",
       "      <td>409.0</td>\n",
       "      <td>3</td>\n",
       "      <td>True</td>\n",
       "      <td>False</td>\n",
       "      <td>False</td>\n",
       "      <td>100.0</td>\n",
       "      <td>0</td>\n",
       "      <td>Санкт-Петербург</td>\n",
       "      <td>24447.0</td>\n",
       "      <td>4666</td>\n",
       "      <td>1.0</td>\n",
       "      <td>767.0</td>\n",
       "      <td>0.0</td>\n",
       "      <td>NaN</td>\n",
       "      <td>14.0</td>\n",
       "    </tr>\n",
       "    <tr>\n",
       "      <th>9688</th>\n",
       "      <td>8</td>\n",
       "      <td>33000000</td>\n",
       "      <td>194.1</td>\n",
       "      <td>2017-02-07</td>\n",
       "      <td>11</td>\n",
       "      <td>3.43</td>\n",
       "      <td>5</td>\n",
       "      <td>129.0</td>\n",
       "      <td>2</td>\n",
       "      <td>True</td>\n",
       "      <td>False</td>\n",
       "      <td>False</td>\n",
       "      <td>11.9</td>\n",
       "      <td>0</td>\n",
       "      <td>Санкт-Петербург</td>\n",
       "      <td>21469.0</td>\n",
       "      <td>1015</td>\n",
       "      <td>1.0</td>\n",
       "      <td>686.0</td>\n",
       "      <td>2.0</td>\n",
       "      <td>66.0</td>\n",
       "      <td>813.0</td>\n",
       "    </tr>\n",
       "    <tr>\n",
       "      <th>14498</th>\n",
       "      <td>6</td>\n",
       "      <td>32250000</td>\n",
       "      <td>374.6</td>\n",
       "      <td>2018-06-09</td>\n",
       "      <td>19</td>\n",
       "      <td>2.65</td>\n",
       "      <td>5</td>\n",
       "      <td>264.5</td>\n",
       "      <td>2</td>\n",
       "      <td>True</td>\n",
       "      <td>False</td>\n",
       "      <td>False</td>\n",
       "      <td>27.6</td>\n",
       "      <td>0</td>\n",
       "      <td>Санкт-Петербург</td>\n",
       "      <td>19497.0</td>\n",
       "      <td>3574</td>\n",
       "      <td>0.0</td>\n",
       "      <td>NaN</td>\n",
       "      <td>2.0</td>\n",
       "      <td>548.0</td>\n",
       "      <td>114.0</td>\n",
       "    </tr>\n",
       "    <tr>\n",
       "      <th>18119</th>\n",
       "      <td>4</td>\n",
       "      <td>15500000</td>\n",
       "      <td>216.1</td>\n",
       "      <td>2016-07-04</td>\n",
       "      <td>10</td>\n",
       "      <td>3.15</td>\n",
       "      <td>5</td>\n",
       "      <td>161.4</td>\n",
       "      <td>2</td>\n",
       "      <td>True</td>\n",
       "      <td>False</td>\n",
       "      <td>False</td>\n",
       "      <td>19.8</td>\n",
       "      <td>0</td>\n",
       "      <td>Санкт-Петербург</td>\n",
       "      <td>24353.0</td>\n",
       "      <td>4921</td>\n",
       "      <td>1.0</td>\n",
       "      <td>368.0</td>\n",
       "      <td>0.0</td>\n",
       "      <td>NaN</td>\n",
       "      <td>11.0</td>\n",
       "    </tr>\n",
       "    <tr>\n",
       "      <th>18848</th>\n",
       "      <td>6</td>\n",
       "      <td>28500000</td>\n",
       "      <td>270.0</td>\n",
       "      <td>2015-03-02</td>\n",
       "      <td>16</td>\n",
       "      <td>3.00</td>\n",
       "      <td>4</td>\n",
       "      <td>180.0</td>\n",
       "      <td>4</td>\n",
       "      <td>True</td>\n",
       "      <td>False</td>\n",
       "      <td>False</td>\n",
       "      <td>13.0</td>\n",
       "      <td>1</td>\n",
       "      <td>Санкт-Петербург</td>\n",
       "      <td>23575.0</td>\n",
       "      <td>4142</td>\n",
       "      <td>1.0</td>\n",
       "      <td>516.0</td>\n",
       "      <td>0.0</td>\n",
       "      <td>NaN</td>\n",
       "      <td>1365.0</td>\n",
       "    </tr>\n",
       "    <tr>\n",
       "      <th>18891</th>\n",
       "      <td>11</td>\n",
       "      <td>40000000</td>\n",
       "      <td>290.0</td>\n",
       "      <td>2016-06-21</td>\n",
       "      <td>10</td>\n",
       "      <td>3.50</td>\n",
       "      <td>6</td>\n",
       "      <td>189.4</td>\n",
       "      <td>6</td>\n",
       "      <td>True</td>\n",
       "      <td>False</td>\n",
       "      <td>False</td>\n",
       "      <td>30.0</td>\n",
       "      <td>1</td>\n",
       "      <td>Санкт-Петербург</td>\n",
       "      <td>26229.0</td>\n",
       "      <td>4932</td>\n",
       "      <td>3.0</td>\n",
       "      <td>316.0</td>\n",
       "      <td>1.0</td>\n",
       "      <td>227.0</td>\n",
       "      <td>77.0</td>\n",
       "    </tr>\n",
       "    <tr>\n",
       "      <th>19540</th>\n",
       "      <td>8</td>\n",
       "      <td>420000000</td>\n",
       "      <td>900.0</td>\n",
       "      <td>2017-12-06</td>\n",
       "      <td>12</td>\n",
       "      <td>2.80</td>\n",
       "      <td>25</td>\n",
       "      <td>409.7</td>\n",
       "      <td>25</td>\n",
       "      <td>True</td>\n",
       "      <td>False</td>\n",
       "      <td>False</td>\n",
       "      <td>112.0</td>\n",
       "      <td>0</td>\n",
       "      <td>Санкт-Петербург</td>\n",
       "      <td>30706.0</td>\n",
       "      <td>7877</td>\n",
       "      <td>0.0</td>\n",
       "      <td>NaN</td>\n",
       "      <td>2.0</td>\n",
       "      <td>318.0</td>\n",
       "      <td>106.0</td>\n",
       "    </tr>\n",
       "    <tr>\n",
       "      <th>20829</th>\n",
       "      <td>6</td>\n",
       "      <td>28659000</td>\n",
       "      <td>245.4</td>\n",
       "      <td>2016-03-31</td>\n",
       "      <td>14</td>\n",
       "      <td>2.65</td>\n",
       "      <td>4</td>\n",
       "      <td>168.3</td>\n",
       "      <td>2</td>\n",
       "      <td>True</td>\n",
       "      <td>False</td>\n",
       "      <td>False</td>\n",
       "      <td>25.9</td>\n",
       "      <td>0</td>\n",
       "      <td>Санкт-Петербург</td>\n",
       "      <td>21104.0</td>\n",
       "      <td>2054</td>\n",
       "      <td>3.0</td>\n",
       "      <td>541.0</td>\n",
       "      <td>2.0</td>\n",
       "      <td>118.0</td>\n",
       "      <td>95.0</td>\n",
       "    </tr>\n",
       "  </tbody>\n",
       "</table>\n",
       "</div>"
      ],
      "text/plain": [
       "       total_images  last_price  total_area first_day_exposition  rooms  \\\n",
       "648               3    17500000       183.7           2018-07-01     11   \n",
       "866               5    25000000       363.0           2017-12-23     14   \n",
       "4149              6    23000000       272.6           2018-01-11     10   \n",
       "5358             20    65000000       590.0           2019-02-14     15   \n",
       "9688              8    33000000       194.1           2017-02-07     11   \n",
       "14498             6    32250000       374.6           2018-06-09     19   \n",
       "18119             4    15500000       216.1           2016-07-04     10   \n",
       "18848             6    28500000       270.0           2015-03-02     16   \n",
       "18891            11    40000000       290.0           2016-06-21     10   \n",
       "19540             8   420000000       900.0           2017-12-06     12   \n",
       "20829             6    28659000       245.4           2016-03-31     14   \n",
       "\n",
       "       ceiling_height  floors_total  living_area  floor  is_apartment  \\\n",
       "648              3.40             7        138.8      7          True   \n",
       "866              3.16             5        222.0      4          True   \n",
       "4149             3.14             7        145.9      7          True   \n",
       "5358             3.50             6        409.0      3          True   \n",
       "9688             3.43             5        129.0      2          True   \n",
       "14498            2.65             5        264.5      2          True   \n",
       "18119            3.15             5        161.4      2          True   \n",
       "18848            3.00             4        180.0      4          True   \n",
       "18891            3.50             6        189.4      6          True   \n",
       "19540            2.80            25        409.7     25          True   \n",
       "20829            2.65             4        168.3      2          True   \n",
       "\n",
       "       is_studio  open_plan  kitchen_area  balcony    locality_name  \\\n",
       "648        False      False          13.3        0  Санкт-Петербург   \n",
       "866        False      False          16.6        0  Санкт-Петербург   \n",
       "4149       False      False          18.8        1  Санкт-Петербург   \n",
       "5358       False      False         100.0        0  Санкт-Петербург   \n",
       "9688       False      False          11.9        0  Санкт-Петербург   \n",
       "14498      False      False          27.6        0  Санкт-Петербург   \n",
       "18119      False      False          19.8        0  Санкт-Петербург   \n",
       "18848      False      False          13.0        1  Санкт-Петербург   \n",
       "18891      False      False          30.0        1  Санкт-Петербург   \n",
       "19540      False      False         112.0        0  Санкт-Петербург   \n",
       "20829      False      False          25.9        0  Санкт-Петербург   \n",
       "\n",
       "       airports_nearest  city_Centers_nearest  parks_around_3km  \\\n",
       "648             23606.0                  3148               0.0   \n",
       "866             38076.0                  7950               0.0   \n",
       "4149            10726.0                 12169               1.0   \n",
       "5358            24447.0                  4666               1.0   \n",
       "9688            21469.0                  1015               1.0   \n",
       "14498           19497.0                  3574               0.0   \n",
       "18119           24353.0                  4921               1.0   \n",
       "18848           23575.0                  4142               1.0   \n",
       "18891           26229.0                  4932               3.0   \n",
       "19540           30706.0                  7877               0.0   \n",
       "20829           21104.0                  2054               3.0   \n",
       "\n",
       "       parks_nearest  ponds_around_3km  ponds_distance  days_exposition  \n",
       "648              NaN               0.0             NaN              NaN  \n",
       "866              NaN               2.0           435.0            418.0  \n",
       "4149           191.0               1.0           531.0              NaN  \n",
       "5358           767.0               0.0             NaN             14.0  \n",
       "9688           686.0               2.0            66.0            813.0  \n",
       "14498            NaN               2.0           548.0            114.0  \n",
       "18119          368.0               0.0             NaN             11.0  \n",
       "18848          516.0               0.0             NaN           1365.0  \n",
       "18891          316.0               1.0           227.0             77.0  \n",
       "19540            NaN               2.0           318.0            106.0  \n",
       "20829          541.0               2.0           118.0             95.0  "
      ]
     },
     "execution_count": 37,
     "metadata": {},
     "output_type": "execute_result"
    }
   ],
   "source": [
    "#Создадим  отдельнй  ДФ по выборке   квартир с большим показателями \n",
    "v = data.query('rooms > 9').copy()\n",
    "v #Создадим  отдельнй  ДФ по выборке   квартир с большим показательями комнат  и уберем  из них те,к кому применим экстремальный\n",
    "# межквартильный выброс"
   ]
  },
  {
   "cell_type": "code",
   "execution_count": 38,
   "id": "7a694fe2",
   "metadata": {},
   "outputs": [
    {
     "data": {
      "text/plain": [
       "11"
      ]
     },
     "execution_count": 38,
     "metadata": {},
     "output_type": "execute_result"
    }
   ],
   "source": [
    "len(v) # количество строк  после быворки по условию. Применила Коэффициент 3 т.к. в выборке экстремальных значений  по квартирам\n",
    "# сам Петербург, квартиры с большой площадью. Про стоимость просто помолчу- это яркие представители,хотя и не характерные\n",
    "# в целом по городу"
   ]
  },
  {
   "cell_type": "markdown",
   "id": "8901c4a8",
   "metadata": {},
   "source": [
    "ДОПОЛНЕНИЕ: Минимальная норма учетной пригодной для проживания для отдельны квартир составляет от 10 кв.м. на 1 человека;\n",
    "\n",
    "Источник: Жилые Комплексы - Новостройки России[Нормы жилплощади в Москве и Санкт-Петербурге](https://zhiliekompleksi.ru/norma-zhiloj-ploshhadi-na-odnogo-cheloveka/)\n",
    "создам колонку с расчетом  жилой площади  / квартиры по аномальным комнатам - по нормативам жилой площади подходит"
   ]
  },
  {
   "cell_type": "code",
   "execution_count": 39,
   "id": "0a29eb81",
   "metadata": {
    "scrolled": true
   },
   "outputs": [
    {
     "data": {
      "text/html": [
       "<div>\n",
       "<style scoped>\n",
       "    .dataframe tbody tr th:only-of-type {\n",
       "        vertical-align: middle;\n",
       "    }\n",
       "\n",
       "    .dataframe tbody tr th {\n",
       "        vertical-align: top;\n",
       "    }\n",
       "\n",
       "    .dataframe thead th {\n",
       "        text-align: right;\n",
       "    }\n",
       "</style>\n",
       "<table border=\"1\" class=\"dataframe\">\n",
       "  <thead>\n",
       "    <tr style=\"text-align: right;\">\n",
       "      <th></th>\n",
       "      <th>total_images</th>\n",
       "      <th>last_price</th>\n",
       "      <th>total_area</th>\n",
       "      <th>first_day_exposition</th>\n",
       "      <th>rooms</th>\n",
       "      <th>ceiling_height</th>\n",
       "      <th>floors_total</th>\n",
       "      <th>living_area</th>\n",
       "      <th>floor</th>\n",
       "      <th>is_apartment</th>\n",
       "      <th>is_studio</th>\n",
       "      <th>open_plan</th>\n",
       "      <th>kitchen_area</th>\n",
       "      <th>balcony</th>\n",
       "      <th>locality_name</th>\n",
       "      <th>airports_nearest</th>\n",
       "      <th>city_Centers_nearest</th>\n",
       "      <th>parks_around_3km</th>\n",
       "      <th>parks_nearest</th>\n",
       "      <th>ponds_around_3km</th>\n",
       "      <th>ponds_distance</th>\n",
       "      <th>days_exposition</th>\n",
       "      <th>jil_to_rooms</th>\n",
       "    </tr>\n",
       "  </thead>\n",
       "  <tbody>\n",
       "    <tr>\n",
       "      <th>648</th>\n",
       "      <td>3</td>\n",
       "      <td>17500000</td>\n",
       "      <td>183.7</td>\n",
       "      <td>2018-07-01</td>\n",
       "      <td>11</td>\n",
       "      <td>3.40</td>\n",
       "      <td>7</td>\n",
       "      <td>138.8</td>\n",
       "      <td>7</td>\n",
       "      <td>True</td>\n",
       "      <td>False</td>\n",
       "      <td>False</td>\n",
       "      <td>13.3</td>\n",
       "      <td>0</td>\n",
       "      <td>Санкт-Петербург</td>\n",
       "      <td>23606.0</td>\n",
       "      <td>3148</td>\n",
       "      <td>0.0</td>\n",
       "      <td>NaN</td>\n",
       "      <td>0.0</td>\n",
       "      <td>NaN</td>\n",
       "      <td>NaN</td>\n",
       "      <td>12.618182</td>\n",
       "    </tr>\n",
       "    <tr>\n",
       "      <th>866</th>\n",
       "      <td>5</td>\n",
       "      <td>25000000</td>\n",
       "      <td>363.0</td>\n",
       "      <td>2017-12-23</td>\n",
       "      <td>14</td>\n",
       "      <td>3.16</td>\n",
       "      <td>5</td>\n",
       "      <td>222.0</td>\n",
       "      <td>4</td>\n",
       "      <td>True</td>\n",
       "      <td>False</td>\n",
       "      <td>False</td>\n",
       "      <td>16.6</td>\n",
       "      <td>0</td>\n",
       "      <td>Санкт-Петербург</td>\n",
       "      <td>38076.0</td>\n",
       "      <td>7950</td>\n",
       "      <td>0.0</td>\n",
       "      <td>NaN</td>\n",
       "      <td>2.0</td>\n",
       "      <td>435.0</td>\n",
       "      <td>418.0</td>\n",
       "      <td>15.857143</td>\n",
       "    </tr>\n",
       "    <tr>\n",
       "      <th>4149</th>\n",
       "      <td>6</td>\n",
       "      <td>23000000</td>\n",
       "      <td>272.6</td>\n",
       "      <td>2018-01-11</td>\n",
       "      <td>10</td>\n",
       "      <td>3.14</td>\n",
       "      <td>7</td>\n",
       "      <td>145.9</td>\n",
       "      <td>7</td>\n",
       "      <td>True</td>\n",
       "      <td>False</td>\n",
       "      <td>False</td>\n",
       "      <td>18.8</td>\n",
       "      <td>1</td>\n",
       "      <td>Санкт-Петербург</td>\n",
       "      <td>10726.0</td>\n",
       "      <td>12169</td>\n",
       "      <td>1.0</td>\n",
       "      <td>191.0</td>\n",
       "      <td>1.0</td>\n",
       "      <td>531.0</td>\n",
       "      <td>NaN</td>\n",
       "      <td>14.590000</td>\n",
       "    </tr>\n",
       "    <tr>\n",
       "      <th>5358</th>\n",
       "      <td>20</td>\n",
       "      <td>65000000</td>\n",
       "      <td>590.0</td>\n",
       "      <td>2019-02-14</td>\n",
       "      <td>15</td>\n",
       "      <td>3.50</td>\n",
       "      <td>6</td>\n",
       "      <td>409.0</td>\n",
       "      <td>3</td>\n",
       "      <td>True</td>\n",
       "      <td>False</td>\n",
       "      <td>False</td>\n",
       "      <td>100.0</td>\n",
       "      <td>0</td>\n",
       "      <td>Санкт-Петербург</td>\n",
       "      <td>24447.0</td>\n",
       "      <td>4666</td>\n",
       "      <td>1.0</td>\n",
       "      <td>767.0</td>\n",
       "      <td>0.0</td>\n",
       "      <td>NaN</td>\n",
       "      <td>14.0</td>\n",
       "      <td>27.266667</td>\n",
       "    </tr>\n",
       "    <tr>\n",
       "      <th>9688</th>\n",
       "      <td>8</td>\n",
       "      <td>33000000</td>\n",
       "      <td>194.1</td>\n",
       "      <td>2017-02-07</td>\n",
       "      <td>11</td>\n",
       "      <td>3.43</td>\n",
       "      <td>5</td>\n",
       "      <td>129.0</td>\n",
       "      <td>2</td>\n",
       "      <td>True</td>\n",
       "      <td>False</td>\n",
       "      <td>False</td>\n",
       "      <td>11.9</td>\n",
       "      <td>0</td>\n",
       "      <td>Санкт-Петербург</td>\n",
       "      <td>21469.0</td>\n",
       "      <td>1015</td>\n",
       "      <td>1.0</td>\n",
       "      <td>686.0</td>\n",
       "      <td>2.0</td>\n",
       "      <td>66.0</td>\n",
       "      <td>813.0</td>\n",
       "      <td>11.727273</td>\n",
       "    </tr>\n",
       "    <tr>\n",
       "      <th>14498</th>\n",
       "      <td>6</td>\n",
       "      <td>32250000</td>\n",
       "      <td>374.6</td>\n",
       "      <td>2018-06-09</td>\n",
       "      <td>19</td>\n",
       "      <td>2.65</td>\n",
       "      <td>5</td>\n",
       "      <td>264.5</td>\n",
       "      <td>2</td>\n",
       "      <td>True</td>\n",
       "      <td>False</td>\n",
       "      <td>False</td>\n",
       "      <td>27.6</td>\n",
       "      <td>0</td>\n",
       "      <td>Санкт-Петербург</td>\n",
       "      <td>19497.0</td>\n",
       "      <td>3574</td>\n",
       "      <td>0.0</td>\n",
       "      <td>NaN</td>\n",
       "      <td>2.0</td>\n",
       "      <td>548.0</td>\n",
       "      <td>114.0</td>\n",
       "      <td>13.921053</td>\n",
       "    </tr>\n",
       "    <tr>\n",
       "      <th>18119</th>\n",
       "      <td>4</td>\n",
       "      <td>15500000</td>\n",
       "      <td>216.1</td>\n",
       "      <td>2016-07-04</td>\n",
       "      <td>10</td>\n",
       "      <td>3.15</td>\n",
       "      <td>5</td>\n",
       "      <td>161.4</td>\n",
       "      <td>2</td>\n",
       "      <td>True</td>\n",
       "      <td>False</td>\n",
       "      <td>False</td>\n",
       "      <td>19.8</td>\n",
       "      <td>0</td>\n",
       "      <td>Санкт-Петербург</td>\n",
       "      <td>24353.0</td>\n",
       "      <td>4921</td>\n",
       "      <td>1.0</td>\n",
       "      <td>368.0</td>\n",
       "      <td>0.0</td>\n",
       "      <td>NaN</td>\n",
       "      <td>11.0</td>\n",
       "      <td>16.140000</td>\n",
       "    </tr>\n",
       "    <tr>\n",
       "      <th>18848</th>\n",
       "      <td>6</td>\n",
       "      <td>28500000</td>\n",
       "      <td>270.0</td>\n",
       "      <td>2015-03-02</td>\n",
       "      <td>16</td>\n",
       "      <td>3.00</td>\n",
       "      <td>4</td>\n",
       "      <td>180.0</td>\n",
       "      <td>4</td>\n",
       "      <td>True</td>\n",
       "      <td>False</td>\n",
       "      <td>False</td>\n",
       "      <td>13.0</td>\n",
       "      <td>1</td>\n",
       "      <td>Санкт-Петербург</td>\n",
       "      <td>23575.0</td>\n",
       "      <td>4142</td>\n",
       "      <td>1.0</td>\n",
       "      <td>516.0</td>\n",
       "      <td>0.0</td>\n",
       "      <td>NaN</td>\n",
       "      <td>1365.0</td>\n",
       "      <td>11.250000</td>\n",
       "    </tr>\n",
       "    <tr>\n",
       "      <th>18891</th>\n",
       "      <td>11</td>\n",
       "      <td>40000000</td>\n",
       "      <td>290.0</td>\n",
       "      <td>2016-06-21</td>\n",
       "      <td>10</td>\n",
       "      <td>3.50</td>\n",
       "      <td>6</td>\n",
       "      <td>189.4</td>\n",
       "      <td>6</td>\n",
       "      <td>True</td>\n",
       "      <td>False</td>\n",
       "      <td>False</td>\n",
       "      <td>30.0</td>\n",
       "      <td>1</td>\n",
       "      <td>Санкт-Петербург</td>\n",
       "      <td>26229.0</td>\n",
       "      <td>4932</td>\n",
       "      <td>3.0</td>\n",
       "      <td>316.0</td>\n",
       "      <td>1.0</td>\n",
       "      <td>227.0</td>\n",
       "      <td>77.0</td>\n",
       "      <td>18.940000</td>\n",
       "    </tr>\n",
       "    <tr>\n",
       "      <th>19540</th>\n",
       "      <td>8</td>\n",
       "      <td>420000000</td>\n",
       "      <td>900.0</td>\n",
       "      <td>2017-12-06</td>\n",
       "      <td>12</td>\n",
       "      <td>2.80</td>\n",
       "      <td>25</td>\n",
       "      <td>409.7</td>\n",
       "      <td>25</td>\n",
       "      <td>True</td>\n",
       "      <td>False</td>\n",
       "      <td>False</td>\n",
       "      <td>112.0</td>\n",
       "      <td>0</td>\n",
       "      <td>Санкт-Петербург</td>\n",
       "      <td>30706.0</td>\n",
       "      <td>7877</td>\n",
       "      <td>0.0</td>\n",
       "      <td>NaN</td>\n",
       "      <td>2.0</td>\n",
       "      <td>318.0</td>\n",
       "      <td>106.0</td>\n",
       "      <td>34.141667</td>\n",
       "    </tr>\n",
       "    <tr>\n",
       "      <th>20829</th>\n",
       "      <td>6</td>\n",
       "      <td>28659000</td>\n",
       "      <td>245.4</td>\n",
       "      <td>2016-03-31</td>\n",
       "      <td>14</td>\n",
       "      <td>2.65</td>\n",
       "      <td>4</td>\n",
       "      <td>168.3</td>\n",
       "      <td>2</td>\n",
       "      <td>True</td>\n",
       "      <td>False</td>\n",
       "      <td>False</td>\n",
       "      <td>25.9</td>\n",
       "      <td>0</td>\n",
       "      <td>Санкт-Петербург</td>\n",
       "      <td>21104.0</td>\n",
       "      <td>2054</td>\n",
       "      <td>3.0</td>\n",
       "      <td>541.0</td>\n",
       "      <td>2.0</td>\n",
       "      <td>118.0</td>\n",
       "      <td>95.0</td>\n",
       "      <td>12.021429</td>\n",
       "    </tr>\n",
       "  </tbody>\n",
       "</table>\n",
       "</div>"
      ],
      "text/plain": [
       "       total_images  last_price  total_area first_day_exposition  rooms  \\\n",
       "648               3    17500000       183.7           2018-07-01     11   \n",
       "866               5    25000000       363.0           2017-12-23     14   \n",
       "4149              6    23000000       272.6           2018-01-11     10   \n",
       "5358             20    65000000       590.0           2019-02-14     15   \n",
       "9688              8    33000000       194.1           2017-02-07     11   \n",
       "14498             6    32250000       374.6           2018-06-09     19   \n",
       "18119             4    15500000       216.1           2016-07-04     10   \n",
       "18848             6    28500000       270.0           2015-03-02     16   \n",
       "18891            11    40000000       290.0           2016-06-21     10   \n",
       "19540             8   420000000       900.0           2017-12-06     12   \n",
       "20829             6    28659000       245.4           2016-03-31     14   \n",
       "\n",
       "       ceiling_height  floors_total  living_area  floor  is_apartment  \\\n",
       "648              3.40             7        138.8      7          True   \n",
       "866              3.16             5        222.0      4          True   \n",
       "4149             3.14             7        145.9      7          True   \n",
       "5358             3.50             6        409.0      3          True   \n",
       "9688             3.43             5        129.0      2          True   \n",
       "14498            2.65             5        264.5      2          True   \n",
       "18119            3.15             5        161.4      2          True   \n",
       "18848            3.00             4        180.0      4          True   \n",
       "18891            3.50             6        189.4      6          True   \n",
       "19540            2.80            25        409.7     25          True   \n",
       "20829            2.65             4        168.3      2          True   \n",
       "\n",
       "       is_studio  open_plan  kitchen_area  balcony    locality_name  \\\n",
       "648        False      False          13.3        0  Санкт-Петербург   \n",
       "866        False      False          16.6        0  Санкт-Петербург   \n",
       "4149       False      False          18.8        1  Санкт-Петербург   \n",
       "5358       False      False         100.0        0  Санкт-Петербург   \n",
       "9688       False      False          11.9        0  Санкт-Петербург   \n",
       "14498      False      False          27.6        0  Санкт-Петербург   \n",
       "18119      False      False          19.8        0  Санкт-Петербург   \n",
       "18848      False      False          13.0        1  Санкт-Петербург   \n",
       "18891      False      False          30.0        1  Санкт-Петербург   \n",
       "19540      False      False         112.0        0  Санкт-Петербург   \n",
       "20829      False      False          25.9        0  Санкт-Петербург   \n",
       "\n",
       "       airports_nearest  city_Centers_nearest  parks_around_3km  \\\n",
       "648             23606.0                  3148               0.0   \n",
       "866             38076.0                  7950               0.0   \n",
       "4149            10726.0                 12169               1.0   \n",
       "5358            24447.0                  4666               1.0   \n",
       "9688            21469.0                  1015               1.0   \n",
       "14498           19497.0                  3574               0.0   \n",
       "18119           24353.0                  4921               1.0   \n",
       "18848           23575.0                  4142               1.0   \n",
       "18891           26229.0                  4932               3.0   \n",
       "19540           30706.0                  7877               0.0   \n",
       "20829           21104.0                  2054               3.0   \n",
       "\n",
       "       parks_nearest  ponds_around_3km  ponds_distance  days_exposition  \\\n",
       "648              NaN               0.0             NaN              NaN   \n",
       "866              NaN               2.0           435.0            418.0   \n",
       "4149           191.0               1.0           531.0              NaN   \n",
       "5358           767.0               0.0             NaN             14.0   \n",
       "9688           686.0               2.0            66.0            813.0   \n",
       "14498            NaN               2.0           548.0            114.0   \n",
       "18119          368.0               0.0             NaN             11.0   \n",
       "18848          516.0               0.0             NaN           1365.0   \n",
       "18891          316.0               1.0           227.0             77.0   \n",
       "19540            NaN               2.0           318.0            106.0   \n",
       "20829          541.0               2.0           118.0             95.0   \n",
       "\n",
       "       jil_to_rooms  \n",
       "648       12.618182  \n",
       "866       15.857143  \n",
       "4149      14.590000  \n",
       "5358      27.266667  \n",
       "9688      11.727273  \n",
       "14498     13.921053  \n",
       "18119     16.140000  \n",
       "18848     11.250000  \n",
       "18891     18.940000  \n",
       "19540     34.141667  \n",
       "20829     12.021429  "
      ]
     },
     "execution_count": 39,
     "metadata": {},
     "output_type": "execute_result"
    }
   ],
   "source": [
    "\n",
    "v['jil_to_rooms'] = v['living_area'] / v['rooms']\n",
    "v  # ДАнные  от 11 кв. м и... \"Чтобы Вы так жили\""
   ]
  },
  {
   "cell_type": "markdown",
   "id": "e6e42272",
   "metadata": {},
   "source": [
    "**Будем избавляться от Экстермально больших комнат по предложению как ни  жалко. Это 11 объявлений.  По отношению к длине всего  ДФ - позволительно  len(v)**"
   ]
  },
  {
   "cell_type": "code",
   "execution_count": 40,
   "id": "b8a14c48",
   "metadata": {},
   "outputs": [],
   "source": [
    "data = data.query('rooms not in @v.rooms')\n"
   ]
  },
  {
   "cell_type": "code",
   "execution_count": 41,
   "id": "19b025a5",
   "metadata": {},
   "outputs": [
    {
     "data": {
      "text/plain": [
       "count    23638.000000\n",
       "mean         2.065065\n",
       "std          1.051493\n",
       "min          0.000000\n",
       "25%          1.000000\n",
       "50%          2.000000\n",
       "75%          3.000000\n",
       "max          9.000000\n",
       "Name: rooms, dtype: float64"
      ]
     },
     "execution_count": 41,
     "metadata": {},
     "output_type": "execute_result"
    }
   ],
   "source": [
    "data['rooms'].describe()"
   ]
  },
  {
   "cell_type": "code",
   "execution_count": 42,
   "id": "37a46133",
   "metadata": {},
   "outputs": [
    {
     "data": {
      "text/plain": [
       "count    23638.000000\n",
       "mean        60.190117\n",
       "std         34.823338\n",
       "min         12.000000\n",
       "25%         40.000000\n",
       "50%         52.000000\n",
       "75%         69.700000\n",
       "max        631.200000\n",
       "Name: total_area, dtype: float64"
      ]
     },
     "execution_count": 42,
     "metadata": {},
     "output_type": "execute_result"
    }
   ],
   "source": [
    "data['total_area'].describe() #очень большой показатель"
   ]
  },
  {
   "cell_type": "code",
   "execution_count": 43,
   "id": "5a8fb522",
   "metadata": {},
   "outputs": [
    {
     "data": {
      "text/plain": [
       "22494    491.0\n",
       "9826     494.1\n",
       "12401    495.0\n",
       "15016    500.0\n",
       "5893     500.0\n",
       "8018     507.0\n",
       "4237     517.0\n",
       "15651    618.0\n",
       "3117     631.0\n",
       "12859    631.2\n",
       "Name: total_area, dtype: float64"
      ]
     },
     "execution_count": 43,
     "metadata": {},
     "output_type": "execute_result"
    }
   ],
   "source": [
    "temp = data.total_area.sort_values().tail(10).copy()  #очень большой показатель, но и близко к нему есть подобные\n",
    "temp                                                  #сохраним данные в переменной чтобы посмотреть детально по всему ДФ данные"
   ]
  },
  {
   "cell_type": "code",
   "execution_count": 44,
   "id": "9da9e23d",
   "metadata": {
    "scrolled": true
   },
   "outputs": [
    {
     "data": {
      "text/html": [
       "<div>\n",
       "<style scoped>\n",
       "    .dataframe tbody tr th:only-of-type {\n",
       "        vertical-align: middle;\n",
       "    }\n",
       "\n",
       "    .dataframe tbody tr th {\n",
       "        vertical-align: top;\n",
       "    }\n",
       "\n",
       "    .dataframe thead th {\n",
       "        text-align: right;\n",
       "    }\n",
       "</style>\n",
       "<table border=\"1\" class=\"dataframe\">\n",
       "  <thead>\n",
       "    <tr style=\"text-align: right;\">\n",
       "      <th></th>\n",
       "      <th>total_images</th>\n",
       "      <th>last_price</th>\n",
       "      <th>total_area</th>\n",
       "      <th>first_day_exposition</th>\n",
       "      <th>rooms</th>\n",
       "      <th>ceiling_height</th>\n",
       "      <th>floors_total</th>\n",
       "      <th>living_area</th>\n",
       "      <th>floor</th>\n",
       "      <th>is_apartment</th>\n",
       "      <th>is_studio</th>\n",
       "      <th>open_plan</th>\n",
       "      <th>kitchen_area</th>\n",
       "      <th>balcony</th>\n",
       "      <th>locality_name</th>\n",
       "      <th>airports_nearest</th>\n",
       "      <th>city_Centers_nearest</th>\n",
       "      <th>parks_around_3km</th>\n",
       "      <th>parks_nearest</th>\n",
       "      <th>ponds_around_3km</th>\n",
       "      <th>ponds_distance</th>\n",
       "      <th>days_exposition</th>\n",
       "    </tr>\n",
       "  </thead>\n",
       "  <tbody>\n",
       "    <tr>\n",
       "      <th>3117</th>\n",
       "      <td>19</td>\n",
       "      <td>140000000</td>\n",
       "      <td>631.0</td>\n",
       "      <td>2019-03-30</td>\n",
       "      <td>7</td>\n",
       "      <td>2.65</td>\n",
       "      <td>5</td>\n",
       "      <td>NaN</td>\n",
       "      <td>5</td>\n",
       "      <td>True</td>\n",
       "      <td>False</td>\n",
       "      <td>False</td>\n",
       "      <td>60.0</td>\n",
       "      <td>0</td>\n",
       "      <td>Санкт-Петербург</td>\n",
       "      <td>25707.0</td>\n",
       "      <td>4972</td>\n",
       "      <td>0.0</td>\n",
       "      <td>NaN</td>\n",
       "      <td>2.0</td>\n",
       "      <td>210.0</td>\n",
       "      <td>NaN</td>\n",
       "    </tr>\n",
       "    <tr>\n",
       "      <th>4237</th>\n",
       "      <td>1</td>\n",
       "      <td>50000000</td>\n",
       "      <td>517.0</td>\n",
       "      <td>2017-10-14</td>\n",
       "      <td>7</td>\n",
       "      <td>2.65</td>\n",
       "      <td>4</td>\n",
       "      <td>332.0</td>\n",
       "      <td>3</td>\n",
       "      <td>True</td>\n",
       "      <td>False</td>\n",
       "      <td>False</td>\n",
       "      <td>22.0</td>\n",
       "      <td>0</td>\n",
       "      <td>Санкт-Петербург</td>\n",
       "      <td>22835.0</td>\n",
       "      <td>1847</td>\n",
       "      <td>2.0</td>\n",
       "      <td>477.0</td>\n",
       "      <td>2.0</td>\n",
       "      <td>540.0</td>\n",
       "      <td>NaN</td>\n",
       "    </tr>\n",
       "    <tr>\n",
       "      <th>5893</th>\n",
       "      <td>3</td>\n",
       "      <td>230000000</td>\n",
       "      <td>500.0</td>\n",
       "      <td>2017-05-31</td>\n",
       "      <td>6</td>\n",
       "      <td>2.65</td>\n",
       "      <td>7</td>\n",
       "      <td>NaN</td>\n",
       "      <td>7</td>\n",
       "      <td>True</td>\n",
       "      <td>False</td>\n",
       "      <td>False</td>\n",
       "      <td>40.0</td>\n",
       "      <td>0</td>\n",
       "      <td>Санкт-Петербург</td>\n",
       "      <td>32440.0</td>\n",
       "      <td>5297</td>\n",
       "      <td>0.0</td>\n",
       "      <td>NaN</td>\n",
       "      <td>2.0</td>\n",
       "      <td>198.0</td>\n",
       "      <td>50.0</td>\n",
       "    </tr>\n",
       "    <tr>\n",
       "      <th>8018</th>\n",
       "      <td>20</td>\n",
       "      <td>84000000</td>\n",
       "      <td>507.0</td>\n",
       "      <td>2015-12-17</td>\n",
       "      <td>5</td>\n",
       "      <td>4.45</td>\n",
       "      <td>7</td>\n",
       "      <td>301.5</td>\n",
       "      <td>7</td>\n",
       "      <td>True</td>\n",
       "      <td>False</td>\n",
       "      <td>False</td>\n",
       "      <td>45.5</td>\n",
       "      <td>1</td>\n",
       "      <td>Санкт-Петербург</td>\n",
       "      <td>NaN</td>\n",
       "      <td>5735</td>\n",
       "      <td>2.0</td>\n",
       "      <td>110.0</td>\n",
       "      <td>0.0</td>\n",
       "      <td>NaN</td>\n",
       "      <td>1078.0</td>\n",
       "    </tr>\n",
       "    <tr>\n",
       "      <th>9826</th>\n",
       "      <td>1</td>\n",
       "      <td>43185328</td>\n",
       "      <td>494.1</td>\n",
       "      <td>2017-05-12</td>\n",
       "      <td>1</td>\n",
       "      <td>2.85</td>\n",
       "      <td>12</td>\n",
       "      <td>NaN</td>\n",
       "      <td>3</td>\n",
       "      <td>True</td>\n",
       "      <td>False</td>\n",
       "      <td>False</td>\n",
       "      <td>NaN</td>\n",
       "      <td>0</td>\n",
       "      <td>Санкт-Петербург</td>\n",
       "      <td>28529.0</td>\n",
       "      <td>6832</td>\n",
       "      <td>1.0</td>\n",
       "      <td>592.0</td>\n",
       "      <td>0.0</td>\n",
       "      <td>NaN</td>\n",
       "      <td>5.0</td>\n",
       "    </tr>\n",
       "    <tr>\n",
       "      <th>12401</th>\n",
       "      <td>20</td>\n",
       "      <td>91500000</td>\n",
       "      <td>495.0</td>\n",
       "      <td>2017-06-19</td>\n",
       "      <td>7</td>\n",
       "      <td>4.65</td>\n",
       "      <td>7</td>\n",
       "      <td>347.5</td>\n",
       "      <td>7</td>\n",
       "      <td>True</td>\n",
       "      <td>False</td>\n",
       "      <td>False</td>\n",
       "      <td>25.0</td>\n",
       "      <td>0</td>\n",
       "      <td>Санкт-Петербург</td>\n",
       "      <td>NaN</td>\n",
       "      <td>5735</td>\n",
       "      <td>2.0</td>\n",
       "      <td>110.0</td>\n",
       "      <td>0.0</td>\n",
       "      <td>NaN</td>\n",
       "      <td>14.0</td>\n",
       "    </tr>\n",
       "    <tr>\n",
       "      <th>12859</th>\n",
       "      <td>20</td>\n",
       "      <td>140000000</td>\n",
       "      <td>631.2</td>\n",
       "      <td>2019-04-09</td>\n",
       "      <td>7</td>\n",
       "      <td>3.90</td>\n",
       "      <td>4</td>\n",
       "      <td>322.3</td>\n",
       "      <td>4</td>\n",
       "      <td>True</td>\n",
       "      <td>False</td>\n",
       "      <td>False</td>\n",
       "      <td>19.5</td>\n",
       "      <td>1</td>\n",
       "      <td>Санкт-Петербург</td>\n",
       "      <td>25707.0</td>\n",
       "      <td>4972</td>\n",
       "      <td>0.0</td>\n",
       "      <td>NaN</td>\n",
       "      <td>2.0</td>\n",
       "      <td>210.0</td>\n",
       "      <td>NaN</td>\n",
       "    </tr>\n",
       "    <tr>\n",
       "      <th>15016</th>\n",
       "      <td>8</td>\n",
       "      <td>150000000</td>\n",
       "      <td>500.0</td>\n",
       "      <td>2016-01-13</td>\n",
       "      <td>4</td>\n",
       "      <td>3.20</td>\n",
       "      <td>7</td>\n",
       "      <td>NaN</td>\n",
       "      <td>7</td>\n",
       "      <td>True</td>\n",
       "      <td>False</td>\n",
       "      <td>False</td>\n",
       "      <td>NaN</td>\n",
       "      <td>0</td>\n",
       "      <td>Санкт-Петербург</td>\n",
       "      <td>33058.0</td>\n",
       "      <td>6150</td>\n",
       "      <td>3.0</td>\n",
       "      <td>209.0</td>\n",
       "      <td>3.0</td>\n",
       "      <td>531.0</td>\n",
       "      <td>303.0</td>\n",
       "    </tr>\n",
       "    <tr>\n",
       "      <th>15651</th>\n",
       "      <td>20</td>\n",
       "      <td>300000000</td>\n",
       "      <td>618.0</td>\n",
       "      <td>2017-12-18</td>\n",
       "      <td>7</td>\n",
       "      <td>3.40</td>\n",
       "      <td>7</td>\n",
       "      <td>258.0</td>\n",
       "      <td>5</td>\n",
       "      <td>True</td>\n",
       "      <td>False</td>\n",
       "      <td>False</td>\n",
       "      <td>70.0</td>\n",
       "      <td>0</td>\n",
       "      <td>Санкт-Петербург</td>\n",
       "      <td>32440.0</td>\n",
       "      <td>5297</td>\n",
       "      <td>0.0</td>\n",
       "      <td>NaN</td>\n",
       "      <td>2.0</td>\n",
       "      <td>198.0</td>\n",
       "      <td>111.0</td>\n",
       "    </tr>\n",
       "    <tr>\n",
       "      <th>22494</th>\n",
       "      <td>7</td>\n",
       "      <td>91075000</td>\n",
       "      <td>491.0</td>\n",
       "      <td>2017-05-27</td>\n",
       "      <td>5</td>\n",
       "      <td>4.20</td>\n",
       "      <td>9</td>\n",
       "      <td>274.0</td>\n",
       "      <td>9</td>\n",
       "      <td>True</td>\n",
       "      <td>False</td>\n",
       "      <td>False</td>\n",
       "      <td>45.0</td>\n",
       "      <td>0</td>\n",
       "      <td>Санкт-Петербург</td>\n",
       "      <td>25525.0</td>\n",
       "      <td>5845</td>\n",
       "      <td>2.0</td>\n",
       "      <td>116.0</td>\n",
       "      <td>0.0</td>\n",
       "      <td>NaN</td>\n",
       "      <td>115.0</td>\n",
       "    </tr>\n",
       "  </tbody>\n",
       "</table>\n",
       "</div>"
      ],
      "text/plain": [
       "       total_images  last_price  total_area first_day_exposition  rooms  \\\n",
       "3117             19   140000000       631.0           2019-03-30      7   \n",
       "4237              1    50000000       517.0           2017-10-14      7   \n",
       "5893              3   230000000       500.0           2017-05-31      6   \n",
       "8018             20    84000000       507.0           2015-12-17      5   \n",
       "9826              1    43185328       494.1           2017-05-12      1   \n",
       "12401            20    91500000       495.0           2017-06-19      7   \n",
       "12859            20   140000000       631.2           2019-04-09      7   \n",
       "15016             8   150000000       500.0           2016-01-13      4   \n",
       "15651            20   300000000       618.0           2017-12-18      7   \n",
       "22494             7    91075000       491.0           2017-05-27      5   \n",
       "\n",
       "       ceiling_height  floors_total  living_area  floor  is_apartment  \\\n",
       "3117             2.65             5          NaN      5          True   \n",
       "4237             2.65             4        332.0      3          True   \n",
       "5893             2.65             7          NaN      7          True   \n",
       "8018             4.45             7        301.5      7          True   \n",
       "9826             2.85            12          NaN      3          True   \n",
       "12401            4.65             7        347.5      7          True   \n",
       "12859            3.90             4        322.3      4          True   \n",
       "15016            3.20             7          NaN      7          True   \n",
       "15651            3.40             7        258.0      5          True   \n",
       "22494            4.20             9        274.0      9          True   \n",
       "\n",
       "       is_studio  open_plan  kitchen_area  balcony    locality_name  \\\n",
       "3117       False      False          60.0        0  Санкт-Петербург   \n",
       "4237       False      False          22.0        0  Санкт-Петербург   \n",
       "5893       False      False          40.0        0  Санкт-Петербург   \n",
       "8018       False      False          45.5        1  Санкт-Петербург   \n",
       "9826       False      False           NaN        0  Санкт-Петербург   \n",
       "12401      False      False          25.0        0  Санкт-Петербург   \n",
       "12859      False      False          19.5        1  Санкт-Петербург   \n",
       "15016      False      False           NaN        0  Санкт-Петербург   \n",
       "15651      False      False          70.0        0  Санкт-Петербург   \n",
       "22494      False      False          45.0        0  Санкт-Петербург   \n",
       "\n",
       "       airports_nearest  city_Centers_nearest  parks_around_3km  \\\n",
       "3117            25707.0                  4972               0.0   \n",
       "4237            22835.0                  1847               2.0   \n",
       "5893            32440.0                  5297               0.0   \n",
       "8018                NaN                  5735               2.0   \n",
       "9826            28529.0                  6832               1.0   \n",
       "12401               NaN                  5735               2.0   \n",
       "12859           25707.0                  4972               0.0   \n",
       "15016           33058.0                  6150               3.0   \n",
       "15651           32440.0                  5297               0.0   \n",
       "22494           25525.0                  5845               2.0   \n",
       "\n",
       "       parks_nearest  ponds_around_3km  ponds_distance  days_exposition  \n",
       "3117             NaN               2.0           210.0              NaN  \n",
       "4237           477.0               2.0           540.0              NaN  \n",
       "5893             NaN               2.0           198.0             50.0  \n",
       "8018           110.0               0.0             NaN           1078.0  \n",
       "9826           592.0               0.0             NaN              5.0  \n",
       "12401          110.0               0.0             NaN             14.0  \n",
       "12859            NaN               2.0           210.0              NaN  \n",
       "15016          209.0               3.0           531.0            303.0  \n",
       "15651            NaN               2.0           198.0            111.0  \n",
       "22494          116.0               0.0             NaN            115.0  "
      ]
     },
     "execution_count": 44,
     "metadata": {},
     "output_type": "execute_result"
    }
   ],
   "source": [
    "data.query('total_area in @temp') "
   ]
  },
  {
   "cell_type": "markdown",
   "id": "eb6b00d8",
   "metadata": {},
   "source": [
    "Это Санкт-Петербург и более того - как далее  по анализу который последует, видно из  близости к центру, что это острова  которые активно застраиваются малой этажности  элитным домами. Если приглядеться, то видим  что на последних этажах представлена эта супер недвижимость. \n",
    "Ситуация как и  с кол-ом комнат повторяется. Не хочу резать по 1,5 межквартильному размаху, возьмем экстермальный коэффициент 3.\n",
    "\n",
    "25%         40.000000\n",
    "\n",
    "50%         52.000000\n",
    "\n",
    "75%         69.600000\n",
    "\n",
    "((69.6-40)*3)+69.6 = 158,4 кв.м.\n"
   ]
  },
  {
   "cell_type": "code",
   "execution_count": 45,
   "id": "e43e2442",
   "metadata": {},
   "outputs": [
    {
     "data": {
      "text/plain": [
       "466"
      ]
     },
     "execution_count": 45,
     "metadata": {},
     "output_type": "execute_result"
    }
   ],
   "source": [
    "temp2 = data[data['total_area']>158.5]\n",
    "len(temp2) #Посмотрим сколько объвлений у нас представленны по таким условиям - 477\n",
    "#477/23631 = "
   ]
  },
  {
   "cell_type": "code",
   "execution_count": 46,
   "id": "971142bd",
   "metadata": {},
   "outputs": [
    {
     "data": {
      "text/plain": [
       "0.019714019798629325"
      ]
     },
     "execution_count": 46,
     "metadata": {},
     "output_type": "execute_result"
    }
   ],
   "source": [
    "len(temp2)/len(data) #мы ранее избавились от ряда строк, ДФ совсем немного немного уменьшился, \n",
    "                     #в теории можно образать, ведь сейчас всего 2% от общего дФ      ( П.с. но как же не хочетсяяяя!!!)"
   ]
  },
  {
   "cell_type": "code",
   "execution_count": 47,
   "id": "95e8a888",
   "metadata": {},
   "outputs": [
    {
     "data": {
      "text/plain": [
       "count    23172.000000\n",
       "mean        56.889486\n",
       "std         23.655743\n",
       "min         12.000000\n",
       "25%         40.000000\n",
       "50%         51.100000\n",
       "75%         68.000000\n",
       "max        158.500000\n",
       "Name: total_area, dtype: float64"
      ]
     },
     "execution_count": 47,
     "metadata": {},
     "output_type": "execute_result"
    }
   ],
   "source": [
    "data = data.query('total_area not in @temp2.total_area')\n",
    "data['total_area'].describe()"
   ]
  },
  {
   "cell_type": "code",
   "execution_count": 48,
   "id": "bf53351b",
   "metadata": {},
   "outputs": [
    {
     "name": "stdout",
     "output_type": "stream",
     "text": [
      "<class 'pandas.core.frame.DataFrame'>\n",
      "Int64Index: 23172 entries, 0 to 23698\n",
      "Data columns (total 22 columns):\n",
      " #   Column                Non-Null Count  Dtype         \n",
      "---  ------                --------------  -----         \n",
      " 0   total_images          23172 non-null  int64         \n",
      " 1   last_price            23172 non-null  int64         \n",
      " 2   total_area            23172 non-null  float64       \n",
      " 3   first_day_exposition  23172 non-null  datetime64[ns]\n",
      " 4   rooms                 23172 non-null  int64         \n",
      " 5   ceiling_height        23172 non-null  float64       \n",
      " 6   floors_total          23172 non-null  int64         \n",
      " 7   living_area           21324 non-null  float64       \n",
      " 8   floor                 23172 non-null  int64         \n",
      " 9   is_apartment          23172 non-null  bool          \n",
      " 10  is_studio             23172 non-null  bool          \n",
      " 11  open_plan             23172 non-null  bool          \n",
      " 12  kitchen_area          20956 non-null  float64       \n",
      " 13  balcony               23172 non-null  int64         \n",
      " 14  locality_name         23172 non-null  object        \n",
      " 15  airports_nearest      17655 non-null  float64       \n",
      " 16  city_Centers_nearest  17675 non-null  Int64         \n",
      " 17  parks_around_3km      17676 non-null  float64       \n",
      " 18  parks_nearest         7751 non-null   float64       \n",
      " 19  ponds_around_3km      17676 non-null  float64       \n",
      " 20  ponds_distance        8757 non-null   float64       \n",
      " 21  days_exposition       20117 non-null  float64       \n",
      "dtypes: Int64(1), bool(3), datetime64[ns](1), float64(10), int64(6), object(1)\n",
      "memory usage: 3.6+ MB\n"
     ]
    }
   ],
   "source": [
    "data.info()"
   ]
  },
  {
   "cell_type": "markdown",
   "id": "72ff508f",
   "metadata": {},
   "source": [
    "До обработки  ДФ был 23699  - записей, после обработки - 23173.  Пыталась по максимуму сохранить данные.  Удалились  порядка 500 записей. Для дальнейшего целостного анализа почищенный ДФ подходит."
   ]
  },
  {
   "cell_type": "markdown",
   "id": "356b36aa",
   "metadata": {},
   "source": [
    "###  Добавим в таблицу новые колонки со следующими параметрами:"
   ]
  },
  {
   "cell_type": "markdown",
   "id": "391761d5",
   "metadata": {},
   "source": [
    "цена одного квадратного метра;\n",
    "\n",
    "день недели публикации объявления (0 — понедельник, 1 — вторник и так далее);\n",
    "\n",
    "месяц публикации объявления;\n",
    "\n",
    "год публикации объявления;\n",
    "\n",
    "тип этажа квартиры (значения — «первый», «последний», «другой»);\n",
    "\n",
    "расстояние до центра города в километрах (переведите из м в км и округлите до целых значений)\n"
   ]
  },
  {
   "cell_type": "code",
   "execution_count": 49,
   "id": "25769a46",
   "metadata": {},
   "outputs": [],
   "source": [
    "data['price_per_m2'] = (data['last_price'] / data['total_area']).round() # добавляем колонки определенным условиям задачи\n",
    "data['day_posting'] = data['first_day_exposition'].dt.day_of_week    \n",
    "data['month_posting'] = pd.DatetimeIndex(data['first_day_exposition']).month  \n",
    "data['year_posting'] = pd.DatetimeIndex(data['first_day_exposition']).year   "
   ]
  },
  {
   "cell_type": "code",
   "execution_count": 50,
   "id": "69269685",
   "metadata": {},
   "outputs": [],
   "source": [
    "def find_floor(row):               # Определяем Категории квартир п. 3.5\n",
    "    item = row['floor']\n",
    "    total = row['floors_total']\n",
    "    if item == 1:\n",
    "        return 'Первый'\n",
    "    elif item == total:\n",
    "        return 'Последний'\n",
    "    else:\n",
    "        return 'Другой'\n",
    "    \n",
    "    \n",
    "data['floor_flat'] = data.apply(find_floor,axis = 1)"
   ]
  },
  {
   "cell_type": "code",
   "execution_count": 51,
   "id": "6c07c0d5",
   "metadata": {},
   "outputs": [],
   "source": [
    "data['dist_to_ccity_round'] = (data['city_Centers_nearest']/1000)\n",
    "data['dist_to_ccity_round']  = np.floor(pd.to_numeric(data['dist_to_ccity_round'] , errors='coerce')).astype('Int64')"
   ]
  },
  {
   "cell_type": "code",
   "execution_count": 52,
   "id": "647cc9f9",
   "metadata": {},
   "outputs": [
    {
     "data": {
      "text/html": [
       "<div>\n",
       "<style scoped>\n",
       "    .dataframe tbody tr th:only-of-type {\n",
       "        vertical-align: middle;\n",
       "    }\n",
       "\n",
       "    .dataframe tbody tr th {\n",
       "        vertical-align: top;\n",
       "    }\n",
       "\n",
       "    .dataframe thead th {\n",
       "        text-align: right;\n",
       "    }\n",
       "</style>\n",
       "<table border=\"1\" class=\"dataframe\">\n",
       "  <thead>\n",
       "    <tr style=\"text-align: right;\">\n",
       "      <th></th>\n",
       "      <th>total_images</th>\n",
       "      <th>last_price</th>\n",
       "      <th>total_area</th>\n",
       "      <th>first_day_exposition</th>\n",
       "      <th>rooms</th>\n",
       "      <th>ceiling_height</th>\n",
       "      <th>floors_total</th>\n",
       "      <th>living_area</th>\n",
       "      <th>floor</th>\n",
       "      <th>is_apartment</th>\n",
       "      <th>is_studio</th>\n",
       "      <th>open_plan</th>\n",
       "      <th>kitchen_area</th>\n",
       "      <th>balcony</th>\n",
       "      <th>locality_name</th>\n",
       "      <th>airports_nearest</th>\n",
       "      <th>city_Centers_nearest</th>\n",
       "      <th>parks_around_3km</th>\n",
       "      <th>parks_nearest</th>\n",
       "      <th>ponds_around_3km</th>\n",
       "      <th>ponds_distance</th>\n",
       "      <th>days_exposition</th>\n",
       "      <th>price_per_m2</th>\n",
       "      <th>day_posting</th>\n",
       "      <th>month_posting</th>\n",
       "      <th>year_posting</th>\n",
       "      <th>floor_flat</th>\n",
       "      <th>dist_to_ccity_round</th>\n",
       "    </tr>\n",
       "  </thead>\n",
       "  <tbody>\n",
       "    <tr>\n",
       "      <th>0</th>\n",
       "      <td>20</td>\n",
       "      <td>13000000</td>\n",
       "      <td>108.00</td>\n",
       "      <td>2019-03-07</td>\n",
       "      <td>3</td>\n",
       "      <td>2.70</td>\n",
       "      <td>16</td>\n",
       "      <td>51.0</td>\n",
       "      <td>8</td>\n",
       "      <td>True</td>\n",
       "      <td>False</td>\n",
       "      <td>False</td>\n",
       "      <td>25.00</td>\n",
       "      <td>0</td>\n",
       "      <td>Санкт-Петербург</td>\n",
       "      <td>18863.0</td>\n",
       "      <td>16028</td>\n",
       "      <td>1.0</td>\n",
       "      <td>482.0</td>\n",
       "      <td>2.0</td>\n",
       "      <td>755.0</td>\n",
       "      <td>NaN</td>\n",
       "      <td>120370.0</td>\n",
       "      <td>3</td>\n",
       "      <td>3</td>\n",
       "      <td>2019</td>\n",
       "      <td>Другой</td>\n",
       "      <td>16</td>\n",
       "    </tr>\n",
       "    <tr>\n",
       "      <th>1</th>\n",
       "      <td>7</td>\n",
       "      <td>3350000</td>\n",
       "      <td>40.40</td>\n",
       "      <td>2018-12-04</td>\n",
       "      <td>1</td>\n",
       "      <td>2.65</td>\n",
       "      <td>11</td>\n",
       "      <td>18.6</td>\n",
       "      <td>1</td>\n",
       "      <td>True</td>\n",
       "      <td>False</td>\n",
       "      <td>False</td>\n",
       "      <td>11.00</td>\n",
       "      <td>2</td>\n",
       "      <td>посёлок Шушары</td>\n",
       "      <td>12817.0</td>\n",
       "      <td>18603</td>\n",
       "      <td>0.0</td>\n",
       "      <td>NaN</td>\n",
       "      <td>0.0</td>\n",
       "      <td>NaN</td>\n",
       "      <td>81.0</td>\n",
       "      <td>82921.0</td>\n",
       "      <td>1</td>\n",
       "      <td>12</td>\n",
       "      <td>2018</td>\n",
       "      <td>Первый</td>\n",
       "      <td>18</td>\n",
       "    </tr>\n",
       "    <tr>\n",
       "      <th>2</th>\n",
       "      <td>10</td>\n",
       "      <td>5196000</td>\n",
       "      <td>56.00</td>\n",
       "      <td>2015-08-20</td>\n",
       "      <td>2</td>\n",
       "      <td>2.65</td>\n",
       "      <td>5</td>\n",
       "      <td>34.3</td>\n",
       "      <td>4</td>\n",
       "      <td>True</td>\n",
       "      <td>False</td>\n",
       "      <td>False</td>\n",
       "      <td>8.30</td>\n",
       "      <td>0</td>\n",
       "      <td>Санкт-Петербург</td>\n",
       "      <td>21741.0</td>\n",
       "      <td>13933</td>\n",
       "      <td>1.0</td>\n",
       "      <td>90.0</td>\n",
       "      <td>2.0</td>\n",
       "      <td>574.0</td>\n",
       "      <td>558.0</td>\n",
       "      <td>92786.0</td>\n",
       "      <td>3</td>\n",
       "      <td>8</td>\n",
       "      <td>2015</td>\n",
       "      <td>Другой</td>\n",
       "      <td>13</td>\n",
       "    </tr>\n",
       "    <tr>\n",
       "      <th>4</th>\n",
       "      <td>2</td>\n",
       "      <td>10000000</td>\n",
       "      <td>100.00</td>\n",
       "      <td>2018-06-19</td>\n",
       "      <td>2</td>\n",
       "      <td>3.03</td>\n",
       "      <td>14</td>\n",
       "      <td>32.0</td>\n",
       "      <td>13</td>\n",
       "      <td>True</td>\n",
       "      <td>False</td>\n",
       "      <td>False</td>\n",
       "      <td>41.00</td>\n",
       "      <td>0</td>\n",
       "      <td>Санкт-Петербург</td>\n",
       "      <td>31856.0</td>\n",
       "      <td>8098</td>\n",
       "      <td>2.0</td>\n",
       "      <td>112.0</td>\n",
       "      <td>1.0</td>\n",
       "      <td>48.0</td>\n",
       "      <td>121.0</td>\n",
       "      <td>100000.0</td>\n",
       "      <td>1</td>\n",
       "      <td>6</td>\n",
       "      <td>2018</td>\n",
       "      <td>Другой</td>\n",
       "      <td>8</td>\n",
       "    </tr>\n",
       "    <tr>\n",
       "      <th>5</th>\n",
       "      <td>10</td>\n",
       "      <td>2890000</td>\n",
       "      <td>30.40</td>\n",
       "      <td>2018-09-10</td>\n",
       "      <td>1</td>\n",
       "      <td>2.65</td>\n",
       "      <td>12</td>\n",
       "      <td>14.4</td>\n",
       "      <td>5</td>\n",
       "      <td>True</td>\n",
       "      <td>False</td>\n",
       "      <td>False</td>\n",
       "      <td>9.10</td>\n",
       "      <td>0</td>\n",
       "      <td>городской посёлок Янино-1</td>\n",
       "      <td>NaN</td>\n",
       "      <td>&lt;NA&gt;</td>\n",
       "      <td>NaN</td>\n",
       "      <td>NaN</td>\n",
       "      <td>NaN</td>\n",
       "      <td>NaN</td>\n",
       "      <td>55.0</td>\n",
       "      <td>95066.0</td>\n",
       "      <td>0</td>\n",
       "      <td>9</td>\n",
       "      <td>2018</td>\n",
       "      <td>Другой</td>\n",
       "      <td>&lt;NA&gt;</td>\n",
       "    </tr>\n",
       "    <tr>\n",
       "      <th>...</th>\n",
       "      <td>...</td>\n",
       "      <td>...</td>\n",
       "      <td>...</td>\n",
       "      <td>...</td>\n",
       "      <td>...</td>\n",
       "      <td>...</td>\n",
       "      <td>...</td>\n",
       "      <td>...</td>\n",
       "      <td>...</td>\n",
       "      <td>...</td>\n",
       "      <td>...</td>\n",
       "      <td>...</td>\n",
       "      <td>...</td>\n",
       "      <td>...</td>\n",
       "      <td>...</td>\n",
       "      <td>...</td>\n",
       "      <td>...</td>\n",
       "      <td>...</td>\n",
       "      <td>...</td>\n",
       "      <td>...</td>\n",
       "      <td>...</td>\n",
       "      <td>...</td>\n",
       "      <td>...</td>\n",
       "      <td>...</td>\n",
       "      <td>...</td>\n",
       "      <td>...</td>\n",
       "      <td>...</td>\n",
       "      <td>...</td>\n",
       "    </tr>\n",
       "    <tr>\n",
       "      <th>23694</th>\n",
       "      <td>9</td>\n",
       "      <td>9700000</td>\n",
       "      <td>133.81</td>\n",
       "      <td>2017-03-21</td>\n",
       "      <td>3</td>\n",
       "      <td>3.70</td>\n",
       "      <td>5</td>\n",
       "      <td>73.3</td>\n",
       "      <td>3</td>\n",
       "      <td>True</td>\n",
       "      <td>False</td>\n",
       "      <td>False</td>\n",
       "      <td>13.83</td>\n",
       "      <td>0</td>\n",
       "      <td>Санкт-Петербург</td>\n",
       "      <td>24665.0</td>\n",
       "      <td>4232</td>\n",
       "      <td>1.0</td>\n",
       "      <td>796.0</td>\n",
       "      <td>3.0</td>\n",
       "      <td>381.0</td>\n",
       "      <td>NaN</td>\n",
       "      <td>72491.0</td>\n",
       "      <td>1</td>\n",
       "      <td>3</td>\n",
       "      <td>2017</td>\n",
       "      <td>Другой</td>\n",
       "      <td>4</td>\n",
       "    </tr>\n",
       "    <tr>\n",
       "      <th>23695</th>\n",
       "      <td>14</td>\n",
       "      <td>3100000</td>\n",
       "      <td>59.00</td>\n",
       "      <td>2018-01-15</td>\n",
       "      <td>3</td>\n",
       "      <td>2.65</td>\n",
       "      <td>5</td>\n",
       "      <td>38.0</td>\n",
       "      <td>4</td>\n",
       "      <td>True</td>\n",
       "      <td>False</td>\n",
       "      <td>False</td>\n",
       "      <td>8.50</td>\n",
       "      <td>0</td>\n",
       "      <td>Тосно</td>\n",
       "      <td>NaN</td>\n",
       "      <td>&lt;NA&gt;</td>\n",
       "      <td>NaN</td>\n",
       "      <td>NaN</td>\n",
       "      <td>NaN</td>\n",
       "      <td>NaN</td>\n",
       "      <td>45.0</td>\n",
       "      <td>52542.0</td>\n",
       "      <td>0</td>\n",
       "      <td>1</td>\n",
       "      <td>2018</td>\n",
       "      <td>Другой</td>\n",
       "      <td>&lt;NA&gt;</td>\n",
       "    </tr>\n",
       "    <tr>\n",
       "      <th>23696</th>\n",
       "      <td>18</td>\n",
       "      <td>2500000</td>\n",
       "      <td>56.70</td>\n",
       "      <td>2018-02-11</td>\n",
       "      <td>2</td>\n",
       "      <td>2.65</td>\n",
       "      <td>3</td>\n",
       "      <td>29.7</td>\n",
       "      <td>1</td>\n",
       "      <td>True</td>\n",
       "      <td>False</td>\n",
       "      <td>False</td>\n",
       "      <td>NaN</td>\n",
       "      <td>0</td>\n",
       "      <td>село Рождествено</td>\n",
       "      <td>NaN</td>\n",
       "      <td>&lt;NA&gt;</td>\n",
       "      <td>NaN</td>\n",
       "      <td>NaN</td>\n",
       "      <td>NaN</td>\n",
       "      <td>NaN</td>\n",
       "      <td>NaN</td>\n",
       "      <td>44092.0</td>\n",
       "      <td>6</td>\n",
       "      <td>2</td>\n",
       "      <td>2018</td>\n",
       "      <td>Первый</td>\n",
       "      <td>&lt;NA&gt;</td>\n",
       "    </tr>\n",
       "    <tr>\n",
       "      <th>23697</th>\n",
       "      <td>13</td>\n",
       "      <td>11475000</td>\n",
       "      <td>76.75</td>\n",
       "      <td>2017-03-28</td>\n",
       "      <td>2</td>\n",
       "      <td>3.00</td>\n",
       "      <td>17</td>\n",
       "      <td>NaN</td>\n",
       "      <td>12</td>\n",
       "      <td>True</td>\n",
       "      <td>False</td>\n",
       "      <td>False</td>\n",
       "      <td>23.30</td>\n",
       "      <td>2</td>\n",
       "      <td>Санкт-Петербург</td>\n",
       "      <td>39140.0</td>\n",
       "      <td>10364</td>\n",
       "      <td>2.0</td>\n",
       "      <td>173.0</td>\n",
       "      <td>3.0</td>\n",
       "      <td>196.0</td>\n",
       "      <td>602.0</td>\n",
       "      <td>149511.0</td>\n",
       "      <td>1</td>\n",
       "      <td>3</td>\n",
       "      <td>2017</td>\n",
       "      <td>Другой</td>\n",
       "      <td>10</td>\n",
       "    </tr>\n",
       "    <tr>\n",
       "      <th>23698</th>\n",
       "      <td>4</td>\n",
       "      <td>1350000</td>\n",
       "      <td>32.30</td>\n",
       "      <td>2017-07-21</td>\n",
       "      <td>1</td>\n",
       "      <td>2.50</td>\n",
       "      <td>5</td>\n",
       "      <td>12.3</td>\n",
       "      <td>1</td>\n",
       "      <td>True</td>\n",
       "      <td>False</td>\n",
       "      <td>False</td>\n",
       "      <td>9.00</td>\n",
       "      <td>0</td>\n",
       "      <td>поселок Новый Учхоз</td>\n",
       "      <td>NaN</td>\n",
       "      <td>&lt;NA&gt;</td>\n",
       "      <td>NaN</td>\n",
       "      <td>NaN</td>\n",
       "      <td>NaN</td>\n",
       "      <td>NaN</td>\n",
       "      <td>NaN</td>\n",
       "      <td>41796.0</td>\n",
       "      <td>4</td>\n",
       "      <td>7</td>\n",
       "      <td>2017</td>\n",
       "      <td>Первый</td>\n",
       "      <td>&lt;NA&gt;</td>\n",
       "    </tr>\n",
       "  </tbody>\n",
       "</table>\n",
       "<p>23172 rows × 28 columns</p>\n",
       "</div>"
      ],
      "text/plain": [
       "       total_images  last_price  total_area first_day_exposition  rooms  \\\n",
       "0                20    13000000      108.00           2019-03-07      3   \n",
       "1                 7     3350000       40.40           2018-12-04      1   \n",
       "2                10     5196000       56.00           2015-08-20      2   \n",
       "4                 2    10000000      100.00           2018-06-19      2   \n",
       "5                10     2890000       30.40           2018-09-10      1   \n",
       "...             ...         ...         ...                  ...    ...   \n",
       "23694             9     9700000      133.81           2017-03-21      3   \n",
       "23695            14     3100000       59.00           2018-01-15      3   \n",
       "23696            18     2500000       56.70           2018-02-11      2   \n",
       "23697            13    11475000       76.75           2017-03-28      2   \n",
       "23698             4     1350000       32.30           2017-07-21      1   \n",
       "\n",
       "       ceiling_height  floors_total  living_area  floor  is_apartment  \\\n",
       "0                2.70            16         51.0      8          True   \n",
       "1                2.65            11         18.6      1          True   \n",
       "2                2.65             5         34.3      4          True   \n",
       "4                3.03            14         32.0     13          True   \n",
       "5                2.65            12         14.4      5          True   \n",
       "...               ...           ...          ...    ...           ...   \n",
       "23694            3.70             5         73.3      3          True   \n",
       "23695            2.65             5         38.0      4          True   \n",
       "23696            2.65             3         29.7      1          True   \n",
       "23697            3.00            17          NaN     12          True   \n",
       "23698            2.50             5         12.3      1          True   \n",
       "\n",
       "       is_studio  open_plan  kitchen_area  balcony              locality_name  \\\n",
       "0          False      False         25.00        0            Санкт-Петербург   \n",
       "1          False      False         11.00        2             посёлок Шушары   \n",
       "2          False      False          8.30        0            Санкт-Петербург   \n",
       "4          False      False         41.00        0            Санкт-Петербург   \n",
       "5          False      False          9.10        0  городской посёлок Янино-1   \n",
       "...          ...        ...           ...      ...                        ...   \n",
       "23694      False      False         13.83        0            Санкт-Петербург   \n",
       "23695      False      False          8.50        0                      Тосно   \n",
       "23696      False      False           NaN        0           село Рождествено   \n",
       "23697      False      False         23.30        2            Санкт-Петербург   \n",
       "23698      False      False          9.00        0        поселок Новый Учхоз   \n",
       "\n",
       "       airports_nearest  city_Centers_nearest  parks_around_3km  \\\n",
       "0               18863.0                 16028               1.0   \n",
       "1               12817.0                 18603               0.0   \n",
       "2               21741.0                 13933               1.0   \n",
       "4               31856.0                  8098               2.0   \n",
       "5                   NaN                  <NA>               NaN   \n",
       "...                 ...                   ...               ...   \n",
       "23694           24665.0                  4232               1.0   \n",
       "23695               NaN                  <NA>               NaN   \n",
       "23696               NaN                  <NA>               NaN   \n",
       "23697           39140.0                 10364               2.0   \n",
       "23698               NaN                  <NA>               NaN   \n",
       "\n",
       "       parks_nearest  ponds_around_3km  ponds_distance  days_exposition  \\\n",
       "0              482.0               2.0           755.0              NaN   \n",
       "1                NaN               0.0             NaN             81.0   \n",
       "2               90.0               2.0           574.0            558.0   \n",
       "4              112.0               1.0            48.0            121.0   \n",
       "5                NaN               NaN             NaN             55.0   \n",
       "...              ...               ...             ...              ...   \n",
       "23694          796.0               3.0           381.0              NaN   \n",
       "23695            NaN               NaN             NaN             45.0   \n",
       "23696            NaN               NaN             NaN              NaN   \n",
       "23697          173.0               3.0           196.0            602.0   \n",
       "23698            NaN               NaN             NaN              NaN   \n",
       "\n",
       "       price_per_m2  day_posting  month_posting  year_posting floor_flat  \\\n",
       "0          120370.0            3              3          2019     Другой   \n",
       "1           82921.0            1             12          2018     Первый   \n",
       "2           92786.0            3              8          2015     Другой   \n",
       "4          100000.0            1              6          2018     Другой   \n",
       "5           95066.0            0              9          2018     Другой   \n",
       "...             ...          ...            ...           ...        ...   \n",
       "23694       72491.0            1              3          2017     Другой   \n",
       "23695       52542.0            0              1          2018     Другой   \n",
       "23696       44092.0            6              2          2018     Первый   \n",
       "23697      149511.0            1              3          2017     Другой   \n",
       "23698       41796.0            4              7          2017     Первый   \n",
       "\n",
       "       dist_to_ccity_round  \n",
       "0                       16  \n",
       "1                       18  \n",
       "2                       13  \n",
       "4                        8  \n",
       "5                     <NA>  \n",
       "...                    ...  \n",
       "23694                    4  \n",
       "23695                 <NA>  \n",
       "23696                 <NA>  \n",
       "23697                   10  \n",
       "23698                 <NA>  \n",
       "\n",
       "[23172 rows x 28 columns]"
      ]
     },
     "execution_count": 52,
     "metadata": {},
     "output_type": "execute_result"
    }
   ],
   "source": [
    "data"
   ]
  },
  {
   "cell_type": "markdown",
   "id": "4b40f5f9",
   "metadata": {},
   "source": [
    "___"
   ]
  },
  {
   "cell_type": "markdown",
   "id": "4ea9ba4c",
   "metadata": {},
   "source": [
    "**Данные были успешно подготовлены для дальнейшего анализа и последующим  выводам**"
   ]
  },
  {
   "cell_type": "markdown",
   "id": "e8e57584",
   "metadata": {},
   "source": [
    "___"
   ]
  },
  {
   "cell_type": "markdown",
   "id": "3e625758",
   "metadata": {},
   "source": [
    "### Проведем исследовательский анализ данных:"
   ]
  },
  {
   "cell_type": "markdown",
   "id": "d6e9992c",
   "metadata": {},
   "source": []
  },
  {
   "cell_type": "code",
   "execution_count": 54,
   "id": "798625a8",
   "metadata": {},
   "outputs": [
    {
     "data": {
      "text/plain": [
       "count    23172.000000\n",
       "mean        56.889486\n",
       "std         23.655743\n",
       "min         12.000000\n",
       "25%         40.000000\n",
       "50%         51.100000\n",
       "75%         68.000000\n",
       "max        158.500000\n",
       "Name: total_area, dtype: float64"
      ]
     },
     "execution_count": 54,
     "metadata": {},
     "output_type": "execute_result"
    }
   ],
   "source": [
    "data['total_area'].describe() # снова посмотрим какой дипазон площадей представлен на рынке после  выборки\n"
   ]
  },
  {
   "cell_type": "code",
   "execution_count": 56,
   "id": "09d6a352",
   "metadata": {},
   "outputs": [
    {
     "data": {
      "image/png": "[encoded data removed]",
      "text/plain": [
       "<Figure size 216x216 with 1 Axes>"
      ]
     },
     "metadata": {
      "needs_background": "light"
     },
     "output_type": "display_data"
    }
   ],
   "source": [
    "# не достигает до 10 % всех объявлений предожения  о продаже квартир  до 31 кв.м., в целом гистограмма  прекрасно отражает\n",
    "#распределение Пуассона при начальных небольших данных - гистограмма смещена влево.\n",
    "a = data['total_area'].hist(range=(0,160), figsize=(3,3)) \n",
    "a.set_title('Общая площадь - total_area')\n",
    "a.set_xlabel('м2')\n",
    "plt.show()"
   ]
  },
  {
   "cell_type": "markdown",
   "id": "623ecb74",
   "metadata": {},
   "source": [
    "Общая площадь: больше на рынке предложений от 31 - 60 кв.м.  довольно логично, т.к.  не  многие могут себе позволить  дорогостоящее жилье."
   ]
  },
  {
   "cell_type": "code",
   "execution_count": 58,
   "id": "f11d69bd",
   "metadata": {
    "scrolled": true
   },
   "outputs": [
    {
     "data": {
      "image/png": "[encoded data removed]",
      "text/plain": [
       "<Figure size 360x216 with 1 Axes>"
      ]
     },
     "metadata": {
      "needs_background": "light"
     },
     "output_type": "display_data"
    }
   ],
   "source": [
    "b = data['living_area'].hist(range=(0,200), bins = 30, figsize=(5,3)) \n",
    "b.set_title('Жилая площадь')\n",
    "b.set_xlabel('м2')\n",
    "plt.show()\n",
    "#построена гистограмма специально после демонстрации подсчета уникальных значений."
   ]
  },
  {
   "cell_type": "markdown",
   "id": "281bd0dd",
   "metadata": {},
   "source": [
    "Жилая площадь: По диаграмме видно что у квартир  от 16-18 и  после 25-40 кв. метров жилой площади  на рынке  превалируют в предложениях продаж.Пик продаж 16-18 метров существенно отличается. Логично, т.к. это небольшие квартиры по более доступным ценам. Но 2 пика немного настораживают. Может массовое строительство типовыми квартирами одного застройщика? Распределение  не является нормальным."
   ]
  },
  {
   "cell_type": "code",
   "execution_count": 59,
   "id": "9fc345d1",
   "metadata": {},
   "outputs": [
    {
     "data": {
      "text/plain": [
       "count    20956.000000\n",
       "mean        10.248045\n",
       "std          5.076948\n",
       "min          1.300000\n",
       "25%          7.000000\n",
       "50%          9.000000\n",
       "75%         11.700000\n",
       "max         93.000000\n",
       "Name: kitchen_area, dtype: float64"
      ]
     },
     "execution_count": 59,
     "metadata": {},
     "output_type": "execute_result"
    }
   ],
   "source": [
    "data['kitchen_area'].describe()\n",
    "#data['kitchen_area'].max() # Перепроверила. Удивительные данные, надо найти такое!"
   ]
  },
  {
   "cell_type": "code",
   "execution_count": 60,
   "id": "7626da72",
   "metadata": {},
   "outputs": [],
   "source": [
    "#data[data['kitchen_area'] ==93] #Это аппартаменты  146 кв.м и скорее всего данные по кухне - это совмещение \n",
    "# самой кухни, столовой и... не знаю еще чего"
   ]
  },
  {
   "cell_type": "code",
   "execution_count": 61,
   "id": "7307f1b5",
   "metadata": {},
   "outputs": [
    {
     "data": {
      "image/png": "[encoded data removed]",
      "text/plain": [
       "<Figure size 360x216 with 1 Axes>"
      ]
     },
     "metadata": {
      "needs_background": "light"
     },
     "output_type": "display_data"
    }
   ],
   "source": [
    "c = data['kitchen_area'].hist(range=(0,20), bins = 10, figsize=(5,3)) \n",
    "c.set_title('Площадь кухни')\n",
    "c = c.set_xlabel('м2')\n",
    "plt.show()"
   ]
  },
  {
   "cell_type": "markdown",
   "id": "d06e4fdb",
   "metadata": {},
   "source": [
    "Средние показания кухни 9 квадратных метров-что соответсвует пику на гистограмме.  Также график смещен влево."
   ]
  },
  {
   "cell_type": "code",
   "execution_count": 62,
   "id": "91785280",
   "metadata": {},
   "outputs": [
    {
     "data": {
      "text/plain": [
       "count        23172.0\n",
       "mean       5764525.0\n",
       "std        4768357.0\n",
       "min         430000.0\n",
       "25%        3400000.0\n",
       "50%        4600000.0\n",
       "75%        6576250.0\n",
       "max      124000000.0\n",
       "Name: last_price, dtype: float64"
      ]
     },
     "execution_count": 62,
     "metadata": {},
     "output_type": "execute_result"
    }
   ],
   "source": [
    "data['last_price'].describe().round() #посмотрим  на  данные по ценам. Нулей очень много!\n",
    "\n",
    "#data['last_price'].value_counts()   "
   ]
  },
  {
   "cell_type": "code",
   "execution_count": 63,
   "id": "51a33325",
   "metadata": {},
   "outputs": [
    {
     "data": {
      "image/png": "[encoded data removed]",
      "text/plain": [
       "<Figure size 360x216 with 1 Axes>"
      ]
     },
     "metadata": {
      "needs_background": "light"
     },
     "output_type": "display_data"
    }
   ],
   "source": [
    "#🏁\n",
    "d = data['last_price'].hist(range=(0,7630000), bins = 10, figsize=(5,3)) \n",
    "d.set_title('Цена продажи')\n",
    "d.set_xlabel('в рублях')\n",
    "plt.show()\n",
    "# Почти нормальное распределение прдложений. \n",
    "# Пики  на 25 % кв. и 50 %  кв.  - более дорогие квартиры по предложению ожидаемо - реже  встречаются."
   ]
  },
  {
   "cell_type": "markdown",
   "id": "187f4cc7",
   "metadata": {},
   "source": [
    "Цены на квартиры: Диапазон на любой вкус и кошелек. Что можно отметить - края неравномерны. При чем  2 интересных пика 25 и 50 квартиль. Интересно что правая сторона  с более дорогими квартирами резче  выделяются и не так сглажены  чем  цены предлагаемых дешевых вариантов. Но если есть предложение, то и спрос в наличии."
   ]
  },
  {
   "cell_type": "code",
   "execution_count": 64,
   "id": "28aa8399",
   "metadata": {},
   "outputs": [
    {
     "data": {
      "image/png": "[encoded data removed]",
      "text/plain": [
       "<Figure size 360x216 with 1 Axes>"
      ]
     },
     "metadata": {
      "needs_background": "light"
     },
     "output_type": "display_data"
    }
   ],
   "source": [
    "e = data['rooms'].hist(bins = 20, figsize=(5,3))\n",
    "e.set_title('Количество комнат')\n",
    "plt.show()"
   ]
  },
  {
   "cell_type": "markdown",
   "id": "ac1ec32e",
   "metadata": {},
   "source": [
    "Количество комнат: Среднее как и ожидалось - 1-2 комнаты  превалируют в предложениях, но и 3 комнатных предолжений  около 25% от общего. "
   ]
  },
  {
   "cell_type": "code",
   "execution_count": 65,
   "id": "776e9196",
   "metadata": {},
   "outputs": [
    {
     "data": {
      "text/plain": [
       "count    23172.000000\n",
       "mean         2.689126\n",
       "std          0.204966\n",
       "min          1.750000\n",
       "25%          2.600000\n",
       "50%          2.650000\n",
       "75%          2.700000\n",
       "max          5.800000\n",
       "Name: ceiling_height, dtype: float64"
      ]
     },
     "execution_count": 65,
     "metadata": {},
     "output_type": "execute_result"
    }
   ],
   "source": [
    "data['ceiling_height'].describe() #Мы корректировали высоту потолков, были несуразные размеры."
   ]
  },
  {
   "cell_type": "code",
   "execution_count": 66,
   "id": "d6bf8035",
   "metadata": {},
   "outputs": [
    {
     "data": {
      "image/png": "[encoded data removed]",
      "text/plain": [
       "<Figure size 360x216 with 1 Axes>"
      ]
     },
     "metadata": {
      "needs_background": "light"
     },
     "output_type": "display_data"
    }
   ],
   "source": [
    "f = data['ceiling_height'].hist(figsize=(5,3))\n",
    "f.set_title('Высота потолков')\n",
    "f.set_xlabel('м')\n",
    "plt.show()"
   ]
  },
  {
   "cell_type": "markdown",
   "id": "7183db3d",
   "metadata": {},
   "source": [
    "Потолки,высота: Мы  корректировали данные  в связи с предположением о неправильном вводе данных. Также видим наиболее частое предложение около 2,6-2,7 метров. Потолки выше 3 метров - уже реже встречаются. Аномалий нет."
   ]
  },
  {
   "cell_type": "code",
   "execution_count": 67,
   "id": "f38a9c6f",
   "metadata": {},
   "outputs": [
    {
     "data": {
      "text/plain": [
       "count    23172.000000\n",
       "mean         5.902468\n",
       "std          4.894589\n",
       "min          1.000000\n",
       "25%          2.000000\n",
       "50%          4.000000\n",
       "75%          8.000000\n",
       "max         33.000000\n",
       "Name: floor, dtype: float64"
      ]
     },
     "execution_count": 67,
     "metadata": {},
     "output_type": "execute_result"
    }
   ],
   "source": [
    "data['floor'].describe()\n",
    "#data.floor.value_counts()"
   ]
  },
  {
   "cell_type": "code",
   "execution_count": 68,
   "id": "6ba99125",
   "metadata": {
    "scrolled": true
   },
   "outputs": [
    {
     "data": {
      "image/png": "[encoded data removed]",
      "text/plain": [
       "<Figure size 360x216 with 1 Axes>"
      ]
     },
     "metadata": {
      "needs_background": "light"
     },
     "output_type": "display_data"
    }
   ],
   "source": [
    "e = data['floor'].hist(bins = 20, figsize=(5,3))\n",
    "e.set_title('Этаж квартиры')\n",
    "plt.show()"
   ]
  },
  {
   "cell_type": "markdown",
   "id": "a5ea1ac5",
   "metadata": {},
   "source": [
    "\n",
    "Этаж  квартиры: Этажность квартир интересна - оказывает влияние на выбор покупателя большое предложение о покупке из пригорода? Обычно там малоэтажные строительства. Суммарно они превалируют  даже над средним показателем в 5 этажей. Высокоэтажные здания  представлены  10 этажами, 15 и даже есть  высотки   от 28 до 33 этажей представлены в единичных экземплярах. Видимо пригород очень активно строится. Гистограмма почти идеально отражает распределение Пуассона, что логично  _ у нас нет предложений по \"цоколю\".\n"
   ]
  },
  {
   "cell_type": "code",
   "execution_count": 69,
   "id": "edddfd20",
   "metadata": {},
   "outputs": [
    {
     "data": {
      "text/plain": [
       "count      23172\n",
       "unique         3\n",
       "top       Другой\n",
       "freq       17090\n",
       "Name: floor_flat, dtype: object"
      ]
     },
     "execution_count": 69,
     "metadata": {},
     "output_type": "execute_result"
    }
   ],
   "source": [
    "data['floor_flat'].describe()\n"
   ]
  },
  {
   "cell_type": "code",
   "execution_count": 70,
   "id": "c1146bda",
   "metadata": {},
   "outputs": [
    {
     "data": {
      "image/png": "[encoded data removed]",
      "text/plain": [
       "<Figure size 360x216 with 1 Axes>"
      ]
     },
     "metadata": {
      "needs_background": "light"
     },
     "output_type": "display_data"
    }
   ],
   "source": [
    "f = data['floor_flat'].hist(bins = 4, figsize=(5,3))\n",
    "f.set_title('Критерий этажа')\n",
    "plt.show()"
   ]
  },
  {
   "cell_type": "markdown",
   "id": "590957ed",
   "metadata": {},
   "source": [
    " \"Капитан очевидность\" - конечно будут в большинстве предложения квартир между первым и последними этажами."
   ]
  },
  {
   "cell_type": "code",
   "execution_count": 71,
   "id": "9426e95b",
   "metadata": {},
   "outputs": [
    {
     "data": {
      "image/png": "[encoded data removed]",
      "text/plain": [
       "<Figure size 360x216 with 1 Axes>"
      ]
     },
     "metadata": {
      "needs_background": "light"
     },
     "output_type": "display_data"
    }
   ],
   "source": [
    "g = data['floors_total'].hist(bins = 40, figsize=(5,3))\n",
    "g.set_title('Всего этажей')\n",
    "plt.show()"
   ]
  },
  {
   "cell_type": "markdown",
   "id": "0659f1f9",
   "metadata": {},
   "source": [
    "Всего этажей: Подтверждение мысли об активном стрительстве пригорода, но и новое строительство  многоэтажных квартир в 4-5 и  9 -10 имеет большую тенденцию. Аномалия новая выявлена. Обнаружен ряд высокоэтажных  жилых домов  от  15 этажей и выше."
   ]
  },
  {
   "cell_type": "code",
   "execution_count": 72,
   "id": "03c42295",
   "metadata": {},
   "outputs": [
    {
     "data": {
      "text/plain": [
       "count    17675.000000\n",
       "mean     14373.578388\n",
       "std       8565.897529\n",
       "min        208.000000\n",
       "25%       9621.500000\n",
       "50%      13222.000000\n",
       "75%      16384.000000\n",
       "max      65968.000000\n",
       "Name: city_Centers_nearest, dtype: float64"
      ]
     },
     "execution_count": 72,
     "metadata": {},
     "output_type": "execute_result"
    }
   ],
   "source": [
    "data['city_Centers_nearest'].describe() # в начальном ДФ  не все данные были заполнены.  Напомню что пришлось заполнить \n",
    "                                        #недостающие данные *0*\n",
    "#data['city_Centers_nearest'].value_counts() # посмотрим описание"
   ]
  },
  {
   "cell_type": "code",
   "execution_count": 73,
   "id": "0b3f4970",
   "metadata": {},
   "outputs": [
    {
     "data": {
      "text/plain": [
       "count    17675.000000\n",
       "mean     14373.578388\n",
       "std       8565.897529\n",
       "min        208.000000\n",
       "25%       9621.500000\n",
       "50%      13222.000000\n",
       "75%      16384.000000\n",
       "max      65968.000000\n",
       "Name: city_Centers_nearest, dtype: float64"
      ]
     },
     "execution_count": 73,
     "metadata": {},
     "output_type": "execute_result"
    }
   ],
   "source": [
    "temp3 = data[data['city_Centers_nearest'] > 0] # Создадим  временный ДФ  с выборкой  >0,  по нему проведем анализ  \n",
    "                                               # и отрисовку гистогарммы\n",
    "temp3['city_Centers_nearest'].describe()"
   ]
  },
  {
   "cell_type": "code",
   "execution_count": 74,
   "id": "a73d52e3",
   "metadata": {},
   "outputs": [
    {
     "data": {
      "image/png": "[encoded data removed]",
      "text/plain": [
       "<Figure size 360x216 with 1 Axes>"
      ]
     },
     "metadata": {
      "needs_background": "light"
     },
     "output_type": "display_data"
    }
   ],
   "source": [
    "k = temp3['city_Centers_nearest'].hist( figsize=(5,3))\n",
    "k.set_title('Расстояние до центра (м.)')\n",
    "plt.show()"
   ]
  },
  {
   "cell_type": "markdown",
   "id": "1af31a14",
   "metadata": {},
   "source": [
    "Менее  3 тыс предложений  в радиусе 5 тыс. м.  от центра, это меньше  25 % квартиля имеющихся данных, Всплеск в районе  6 тыс. предложений по удаленности от центра от 5-20 тыс. метров от центра. Город активно на периферии  отстраивается."
   ]
  },
  {
   "cell_type": "code",
   "execution_count": 75,
   "id": "68b9f635",
   "metadata": {},
   "outputs": [
    {
     "data": {
      "text/plain": [
       "count    17655.000000\n",
       "mean     28846.499972\n",
       "std      12722.001994\n",
       "min          0.000000\n",
       "25%      18459.000000\n",
       "50%      26890.000000\n",
       "75%      37407.000000\n",
       "max      84869.000000\n",
       "Name: airports_nearest, dtype: float64"
      ]
     },
     "execution_count": 75,
     "metadata": {},
     "output_type": "execute_result"
    }
   ],
   "source": [
    "data['airports_nearest'].describe() "
   ]
  },
  {
   "cell_type": "code",
   "execution_count": 76,
   "id": "29dada94",
   "metadata": {},
   "outputs": [
    {
     "data": {
      "image/png": "[encoded data removed]",
      "text/plain": [
       "<Figure size 360x216 with 1 Axes>"
      ]
     },
     "metadata": {
      "needs_background": "light"
     },
     "output_type": "display_data"
    }
   ],
   "source": [
    "l = data['airports_nearest'].hist(bins = 20, figsize=(5,3))\n",
    "l.set_title('Расстояние до аэропорта (м.)')\n",
    "plt.show()"
   ]
  },
  {
   "cell_type": "markdown",
   "id": "83f8c771",
   "metadata": {},
   "source": [
    "Ближайший аэропорт, расстояние: Пулково от центра С.Петербурга находится  в районе 15 км  южнее. Мы видим пик  с  данными по квартилям.Если рассматривать именно город, а не предложения южнее аэропорта, то  большое предложение покупателей ожидает именно севернее центра Петербурга. "
   ]
  },
  {
   "cell_type": "code",
   "execution_count": 77,
   "id": "9228a95a",
   "metadata": {},
   "outputs": [
    {
     "data": {
      "text/plain": [
       "count    7751.000000\n",
       "mean      493.447813\n",
       "std       342.939423\n",
       "min         1.000000\n",
       "25%       289.000000\n",
       "50%       456.000000\n",
       "75%       614.000000\n",
       "max      3190.000000\n",
       "Name: parks_nearest, dtype: float64"
      ]
     },
     "execution_count": 77,
     "metadata": {},
     "output_type": "execute_result"
    }
   ],
   "source": [
    "data['parks_nearest'].describe() #много данных  по*0*"
   ]
  },
  {
   "cell_type": "code",
   "execution_count": 78,
   "id": "b8eed4c1",
   "metadata": {},
   "outputs": [
    {
     "data": {
      "text/plain": [
       "count    7751.000000\n",
       "mean      493.447813\n",
       "std       342.939423\n",
       "min         1.000000\n",
       "25%       289.000000\n",
       "50%       456.000000\n",
       "75%       614.000000\n",
       "max      3190.000000\n",
       "Name: parks_nearest, dtype: float64"
      ]
     },
     "execution_count": 78,
     "metadata": {},
     "output_type": "execute_result"
    }
   ],
   "source": [
    "temp4 = data[data['parks_nearest'] > 0] #избавляемя от  *0*\n",
    "temp4['parks_nearest'].describe()\n"
   ]
  },
  {
   "cell_type": "code",
   "execution_count": 79,
   "id": "00209ca3",
   "metadata": {
    "scrolled": true
   },
   "outputs": [
    {
     "data": {
      "image/png": "[encoded data removed]",
      "text/plain": [
       "<Figure size 360x216 with 1 Axes>"
      ]
     },
     "metadata": {
      "needs_background": "light"
     },
     "output_type": "display_data"
    }
   ],
   "source": [
    "m = temp4['parks_nearest'].hist( figsize=(5,3))\n",
    "m.set_title('Расстояние до ближайшего парка (м.)')\n",
    "plt.show()"
   ]
  },
  {
   "cell_type": "markdown",
   "id": "d830e1c6",
   "metadata": {},
   "source": [
    "Ближайшие парки: подавляющая часть  находится в районе 600 метров, у большинства или нет данных где находятся квартиры или  местонахождение   в пригороде, где, возмжно, парков нет, много лесов вокруг?"
   ]
  },
  {
   "cell_type": "code",
   "execution_count": 80,
   "id": "78a3a631",
   "metadata": {},
   "outputs": [
    {
     "data": {
      "image/png": "[encoded data removed]",
      "text/plain": [
       "<Figure size 360x216 with 1 Axes>"
      ]
     },
     "metadata": {
      "needs_background": "light"
     },
     "output_type": "display_data"
    }
   ],
   "source": [
    "n = data['day_posting'].hist(bins = 20, figsize=(5,3))\n",
    "n.set_title('День недели публикации объявления')\n",
    "n.set_xlabel('0 - понедельник, 6-воскресенье')\n",
    "plt.show()"
   ]
  },
  {
   "cell_type": "markdown",
   "id": "6a794d14",
   "metadata": {},
   "source": [
    "День публикации  о квартирах выходят в основном в середине РАБОЧЕЙ недели. Предпологаю что это делают сотрудники компаний/отделов недвижимости в рабочее время."
   ]
  },
  {
   "cell_type": "code",
   "execution_count": 81,
   "id": "8fc68d11",
   "metadata": {},
   "outputs": [
    {
     "data": {
      "image/png": "[encoded data removed]",
      "text/plain": [
       "<Figure size 360x216 with 1 Axes>"
      ]
     },
     "metadata": {
      "needs_background": "light"
     },
     "output_type": "display_data"
    }
   ],
   "source": [
    "o = data['month_posting'].hist(bins = 12, figsize=(5,3))\n",
    "o.set_title('Месяц публикации объявления')\n",
    "plt.show()"
   ]
  },
  {
   "cell_type": "markdown",
   "id": "c93f3931",
   "metadata": {},
   "source": [
    "Месяц публикаций объявлений: Активнее  представлены публикации в зимний и осенний период. Декабрь и январь - предпраздничные и послепраздничные месяца,  лето - неактивный сезон. "
   ]
  },
  {
   "cell_type": "markdown",
   "id": "69dd6ce9",
   "metadata": {},
   "source": [
    "___"
   ]
  },
  {
   "cell_type": "markdown",
   "id": "ee7f84f7",
   "metadata": {},
   "source": [
    "###  Аккуратно делаем выводы:  \n",
    "**Санкт-Петербург активно застраивается как в центре так и  на окраинах.  Типичные предложения:  1-2, реже 3 комнатные квартиры, 17, 25-40 кв. метров,  с просторной кухней, потолки 2,6-2,7 м., этажность превалирует  от невысоких 4 -5  до 9-16+ этажей, 30-этажных мало, но присутствуют  в единичных экз. Предложения есть  как в центре так и в пригороде С.- Петербурга, активно застаривается северная часть.** "
   ]
  },
  {
   "cell_type": "markdown",
   "id": "b24c569f",
   "metadata": {},
   "source": [
    "___"
   ]
  },
  {
   "cell_type": "markdown",
   "id": "ef88f675",
   "metadata": {},
   "source": [
    "**Изучим, как быстро продавались квартиры**"
   ]
  },
  {
   "cell_type": "code",
   "execution_count": 82,
   "id": "ce31f1e3",
   "metadata": {},
   "outputs": [
    {
     "data": {
      "text/plain": [
       "<AxesSubplot:>"
      ]
     },
     "execution_count": 82,
     "metadata": {},
     "output_type": "execute_result"
    },
    {
     "data": {
      "image/png": "[encoded data removed]",
      "text/plain": [
       "<Figure size 288x144 with 1 Axes>"
      ]
     },
     "metadata": {
      "needs_background": "light"
     },
     "output_type": "display_data"
    }
   ],
   "source": [
    "data['days_exposition'].hist(bins = 20, figsize=(4,2))"
   ]
  },
  {
   "cell_type": "code",
   "execution_count": 83,
   "id": "fef7962f",
   "metadata": {},
   "outputs": [
    {
     "data": {
      "text/plain": [
       "179.0"
      ]
     },
     "execution_count": 83,
     "metadata": {},
     "output_type": "execute_result"
    }
   ],
   "source": [
    "data['days_exposition'].mean().round() # Средние показатели   экспозиции публикаций объявлний"
   ]
  },
  {
   "cell_type": "code",
   "execution_count": 84,
   "id": "5667b1f2",
   "metadata": {},
   "outputs": [
    {
     "data": {
      "text/plain": [
       "94.0"
      ]
     },
     "execution_count": 84,
     "metadata": {},
     "output_type": "execute_result"
    }
   ],
   "source": [
    "data['days_exposition'].median().round() # Часто встречаемые,медианные показатели продаж"
   ]
  },
  {
   "cell_type": "code",
   "execution_count": 85,
   "id": "4b8db26c",
   "metadata": {},
   "outputs": [
    {
     "data": {
      "text/plain": [
       "45.0      878\n",
       "60.0      538\n",
       "7.0       233\n",
       "30.0      205\n",
       "90.0      186\n",
       "         ... \n",
       "1148.0      1\n",
       "1345.0      1\n",
       "994.0       1\n",
       "744.0       1\n",
       "1174.0      1\n",
       "Name: days_exposition, Length: 1128, dtype: int64"
      ]
     },
     "execution_count": 85,
     "metadata": {},
     "output_type": "execute_result"
    }
   ],
   "source": [
    "data['days_exposition'].value_counts() #данные неполные\n",
    "                                       #Посмею убрать все  *0* и снова увидеть медиану среднюю и график (ниже)"
   ]
  },
  {
   "cell_type": "code",
   "execution_count": 86,
   "id": "7f05704a",
   "metadata": {},
   "outputs": [
    {
     "data": {
      "text/plain": [
       "<AxesSubplot:>"
      ]
     },
     "execution_count": 86,
     "metadata": {},
     "output_type": "execute_result"
    },
    {
     "data": {
      "image/png": "[encoded data removed]",
      "text/plain": [
       "<Figure size 288x144 with 1 Axes>"
      ]
     },
     "metadata": {
      "needs_background": "light"
     },
     "output_type": "display_data"
    }
   ],
   "source": [
    "days_expos_nn=data[data['days_exposition'] != 0]\n",
    "days_expos_nn\n",
    "days_expos_nn['days_exposition'].hist(bins = 200, figsize=(4,2)) # Почему такой всплеск?"
   ]
  },
  {
   "cell_type": "code",
   "execution_count": 87,
   "id": "56e31ae5",
   "metadata": {},
   "outputs": [
    {
     "data": {
      "text/plain": [
       "45.0      878\n",
       "60.0      538\n",
       "7.0       233\n",
       "30.0      205\n",
       "90.0      186\n",
       "         ... \n",
       "1148.0      1\n",
       "1345.0      1\n",
       "994.0       1\n",
       "744.0       1\n",
       "1174.0      1\n",
       "Name: days_exposition, Length: 1128, dtype: int64"
      ]
     },
     "execution_count": 87,
     "metadata": {},
     "output_type": "execute_result"
    }
   ],
   "source": [
    "days_expos_nn['days_exposition'].value_counts() #отсортируем и подсчитаем уникальняе  сроки\n",
    "                                                #30, 45, 60, 90 дней - очень круглые и правильные даты, может, с чем связано? \n",
    "                                                #мы же смотрим дни публикаций на коммерческом сервере данных недвижимости..."
   ]
  },
  {
   "cell_type": "markdown",
   "id": "1e3bb769",
   "metadata": {},
   "source": [
    "**После временной корректировки раздела сроков публикаций по условию больше __*0*__ замечена активность на  КРУГЛЫХ ДАТАХ**  \n",
    "\n",
    "Учтем что  нашем распоряжении данные сервиса Яндекс Недвижимость, рассматриваемые периоды (2016-2019 г.), можно посмотреть условия размещения  объявлений в архивах (если есть они).\n",
    "\n",
    "На  данный момент в Москве и С-Петербурге условия публикаций *Бесплатных объявлении* иные,  обратим внимание на  регионы:\n",
    "бесплатные публикации в регионах  по разным критериям: Квартира до 4,5 млн — 45 дней от 4,5 до 10 млн — 60 дней  от 10 млн — 90 дней, Дом и участок 90 дней вот они, круглые цифры.\n",
    "[ЯндексСправка] (https://yandex.ru/support/realty/paid.html)\n",
    "\n",
    "цитата: \"Чтобы создать новые бесплатные объявления через полгода (точнее — 182 дня), сначала нужно будет снять с публикации старые\" -здесь не круглая цифра, но связь с 180 сутками четко прослеживается.\n",
    "\n",
    "Итог- скорее всего условия  публикации *бесплатных объявлений* менялись  по годам от представленных данных в нашем ДФ и более ранними периодами.\n"
   ]
  },
  {
   "cell_type": "markdown",
   "id": "8426f9d5",
   "metadata": {},
   "source": [
    "**Какие факторы больше всего влияют на общую (полную) стоимость объекта?**"
   ]
  },
  {
   "cell_type": "markdown",
   "id": "189cf871",
   "metadata": {},
   "source": [
    "Изучите, зависит ли цена от:\n",
    "o\tобщей площади;\n",
    "o\tжилой площади;\n",
    "o\tплощади кухни;\n",
    "o\tколичества комнат;\n",
    "o\tэтажа, на котором расположена квартира (первый, последний, другой);\n",
    "o\tдаты размещения (день недели, месяц, год).\n"
   ]
  },
  {
   "cell_type": "code",
   "execution_count": 88,
   "id": "7b20c4e1",
   "metadata": {},
   "outputs": [
    {
     "data": {
      "image/png": "[encoded data removed]",
      "text/plain": [
       "<Figure size 288x144 with 1 Axes>"
      ]
     },
     "metadata": {
      "needs_background": "light"
     },
     "output_type": "display_data"
    }
   ],
   "source": [
    "p1 = data.pivot_table(index = 'total_area', values = 'last_price', ).reset_index(). \\\n",
    "                      plot(kind='scatter', y = 'last_price', x = 'total_area', figsize=(4,2))\n",
    "p1.set_title('Зависимость  цены   от общей  площади')\n",
    "\n",
    "plt.show() #влияние  общей площади очевидно"
   ]
  },
  {
   "cell_type": "code",
   "execution_count": 89,
   "id": "90d6a852",
   "metadata": {},
   "outputs": [
    {
     "data": {
      "image/png": "[encoded data removed]",
      "text/plain": [
       "<Figure size 288x144 with 1 Axes>"
      ]
     },
     "metadata": {
      "needs_background": "light"
     },
     "output_type": "display_data"
    }
   ],
   "source": [
    "p2 =data.pivot_table(index = 'living_area', values = 'last_price', ).reset_index(). \\\n",
    "                      plot(kind='scatter', y = 'last_price', x = 'living_area', figsize=(4,2))\n",
    "\n",
    "p2.set_title('Зависимость  цены   от жилой  площади')\n",
    "\n",
    "plt.show() #влияние  жилой площади также очевидно"
   ]
  },
  {
   "cell_type": "code",
   "execution_count": 90,
   "id": "4f354159",
   "metadata": {},
   "outputs": [
    {
     "data": {
      "image/png": "[encoded data removed]",
      "text/plain": [
       "<Figure size 288x144 with 1 Axes>"
      ]
     },
     "metadata": {
      "needs_background": "light"
     },
     "output_type": "display_data"
    }
   ],
   "source": [
    "p3 =data.pivot_table(index = 'kitchen_area', values = 'last_price', ).reset_index(). \\\n",
    "                      plot(kind='scatter', y = 'last_price', x = 'kitchen_area', figsize=(4,2))\n",
    "p3.set_title('Зависимость  цены   от  размера кухни')\n",
    "\n",
    "plt.show() #влияние площади кухни на стоимость имеет влияние"
   ]
  },
  {
   "cell_type": "code",
   "execution_count": 91,
   "id": "9633c972",
   "metadata": {},
   "outputs": [
    {
     "data": {
      "image/png": "[encoded data removed]",
      "text/plain": [
       "<Figure size 288x144 with 1 Axes>"
      ]
     },
     "metadata": {
      "needs_background": "light"
     },
     "output_type": "display_data"
    }
   ],
   "source": [
    "p4 =data.pivot_table(index = 'rooms', values = 'last_price', ).reset_index(). \\\n",
    "                      plot(kind='scatter', y = 'last_price', x = 'rooms', figsize=(4,2))\n",
    "p4.set_title('Зависимость  цены   от  количества комнат')\n",
    "\n",
    "plt.show() # на цену  влияет  кол-во комнат"
   ]
  },
  {
   "cell_type": "code",
   "execution_count": 92,
   "id": "b29199ab",
   "metadata": {},
   "outputs": [
    {
     "data": {
      "image/png": "[encoded data removed]",
      "text/plain": [
       "<Figure size 288x144 with 1 Axes>"
      ]
     },
     "metadata": {
      "needs_background": "light"
     },
     "output_type": "display_data"
    }
   ],
   "source": [
    "p5 = data.pivot_table(index = 'floor', values = 'last_price', ).reset_index(). \\\n",
    "                      plot(kind='scatter', y = 'last_price', x = 'floor', figsize=(4,2))\n",
    "p5.set_title('Зависимость  цены от этажа, категор.')\n",
    "\n",
    "plt.show() # На перых этажах не хотят жить (логика понятна) и, соответственно цена  ниже, а  вот по  отношению\n",
    "# к самым последним этажам стоимость выше"
   ]
  },
  {
   "cell_type": "code",
   "execution_count": 93,
   "id": "8ff421a8",
   "metadata": {},
   "outputs": [
    {
     "data": {
      "image/png": "[encoded data removed]",
      "text/plain": [
       "<Figure size 288x144 with 1 Axes>"
      ]
     },
     "metadata": {
      "needs_background": "light"
     },
     "output_type": "display_data"
    }
   ],
   "source": [
    "p6 = data.pivot_table(index = 'day_posting', values = 'last_price', ).reset_index(). \\\n",
    "                      plot(kind='scatter', y = 'last_price', x = 'day_posting', figsize=(4,2))\n",
    "p6.set_title('Зависимость  цены   от дня публикации объявления')\n",
    "\n",
    "plt.show() # влияния на цену нет, все хотично"
   ]
  },
  {
   "cell_type": "code",
   "execution_count": 94,
   "id": "0b8a41da",
   "metadata": {},
   "outputs": [
    {
     "data": {
      "image/png": "[encoded data removed]",
      "text/plain": [
       "<Figure size 288x144 with 1 Axes>"
      ]
     },
     "metadata": {
      "needs_background": "light"
     },
     "output_type": "display_data"
    }
   ],
   "source": [
    "p7 = data.pivot_table(index = 'month_posting', values = 'last_price', ).reset_index(). \\\n",
    "                      plot(kind='scatter', y = 'last_price', x = 'month_posting', figsize=(4,2))\n",
    "p7.set_title('Зависимость  цены   от месяца публикации объявления')\n",
    "\n",
    "plt.show()  # влияния на цену нет, все  еще более хотично"
   ]
  },
  {
   "cell_type": "code",
   "execution_count": 95,
   "id": "b11623cb",
   "metadata": {},
   "outputs": [
    {
     "data": {
      "image/png": "[encoded data removed]",
      "text/plain": [
       "<Figure size 288x144 with 1 Axes>"
      ]
     },
     "metadata": {
      "needs_background": "light"
     },
     "output_type": "display_data"
    }
   ],
   "source": [
    "p8 = data.pivot_table(index = 'year_posting', values = 'last_price', ).reset_index(). \\\n",
    "                      plot(kind='scatter', y = 'last_price', x = 'year_posting', figsize=(4,2))\n",
    "p8.set_title('Зависимость  цены   от года публикации')\n",
    "\n",
    "plt.show()   # год влияет на цену, она падала до 2018 года    "
   ]
  },
  {
   "cell_type": "code",
   "execution_count": 96,
   "id": "e7a74f0f",
   "metadata": {},
   "outputs": [],
   "source": [
    "# БЫЛО: 🏁\n",
    "#Выведем матрицу корреляции\n",
    "\n",
    "#c_data=data[['year_posting','month_posting','day_posting','floor_flat','kitchen_area','living_area','total_area','last_price']]\n",
    "#c_data.corr()"
   ]
  },
  {
   "cell_type": "code",
   "execution_count": 97,
   "id": "bd761a08",
   "metadata": {},
   "outputs": [
    {
     "data": {
      "text/html": [
       "<div>\n",
       "<style scoped>\n",
       "    .dataframe tbody tr th:only-of-type {\n",
       "        vertical-align: middle;\n",
       "    }\n",
       "\n",
       "    .dataframe tbody tr th {\n",
       "        vertical-align: top;\n",
       "    }\n",
       "\n",
       "    .dataframe thead th {\n",
       "        text-align: right;\n",
       "    }\n",
       "</style>\n",
       "<table border=\"1\" class=\"dataframe\">\n",
       "  <thead>\n",
       "    <tr style=\"text-align: right;\">\n",
       "      <th></th>\n",
       "      <th>kitchen_area</th>\n",
       "      <th>living_area</th>\n",
       "      <th>total_area</th>\n",
       "      <th>last_price</th>\n",
       "    </tr>\n",
       "  </thead>\n",
       "  <tbody>\n",
       "    <tr>\n",
       "      <th>kitchen_area</th>\n",
       "      <td>1.000000</td>\n",
       "      <td>0.274753</td>\n",
       "      <td>0.543208</td>\n",
       "      <td>0.556108</td>\n",
       "    </tr>\n",
       "    <tr>\n",
       "      <th>living_area</th>\n",
       "      <td>0.274753</td>\n",
       "      <td>1.000000</td>\n",
       "      <td>0.918160</td>\n",
       "      <td>0.575568</td>\n",
       "    </tr>\n",
       "    <tr>\n",
       "      <th>total_area</th>\n",
       "      <td>0.543208</td>\n",
       "      <td>0.918160</td>\n",
       "      <td>1.000000</td>\n",
       "      <td>0.700520</td>\n",
       "    </tr>\n",
       "    <tr>\n",
       "      <th>last_price</th>\n",
       "      <td>0.556108</td>\n",
       "      <td>0.575568</td>\n",
       "      <td>0.700520</td>\n",
       "      <td>1.000000</td>\n",
       "    </tr>\n",
       "  </tbody>\n",
       "</table>\n",
       "</div>"
      ],
      "text/plain": [
       "              kitchen_area  living_area  total_area  last_price\n",
       "kitchen_area      1.000000     0.274753    0.543208    0.556108\n",
       "living_area       0.274753     1.000000    0.918160    0.575568\n",
       "total_area        0.543208     0.918160    1.000000    0.700520\n",
       "last_price        0.556108     0.575568    0.700520    1.000000"
      ]
     },
     "execution_count": 97,
     "metadata": {},
     "output_type": "execute_result"
    }
   ],
   "source": [
    "#СТАЛО:\n",
    "c_data=data[['floor_flat','kitchen_area','living_area','total_area','last_price']]\n",
    "c_data.corr()\n"
   ]
  },
  {
   "cell_type": "markdown",
   "id": "acae5b5d",
   "metadata": {},
   "source": [
    "___"
   ]
  },
  {
   "cell_type": "markdown",
   "id": "cca9205c",
   "metadata": {},
   "source": [
    "### ВЫВОДЫ: \n",
    "**На цену  продаж влияют:  Общая площадь, жилая, кухня  в составе общей площади, год  размещения: - с 14 до 18 был спад по стоимости. Есть обоснованное предположение что  идет массовая застройка небольших  домов 9-12 этажей, коттеджами 4-5 эт,   таунхаузами (6-8 комнат) или апартаментами на последних этажах  элитной застройки.**\n",
    "\n",
    "**Что можно предположить - с 2019  имеется тенденция к  подъему цены (если это не был  аномальный всплеск) - если предположение верно, то при росте цены по параболе,  до 22-23 года возможен пик, далее спад, очень похоже гистограмму распределения но в перевернутом виде.**"
   ]
  },
  {
   "cell_type": "markdown",
   "id": "d6049c2c",
   "metadata": {},
   "source": [
    "___"
   ]
  },
  {
   "cell_type": "markdown",
   "id": "ed2b2467",
   "metadata": {},
   "source": [
    "**Посчитайте среднюю цену одного квадратного метра в 10 населённых пунктах с наибольшим числом объявлений. Выделите населённые пункты с самой высокой и низкой стоимостью квадратного метра. Эти данные можно найти по имени в столбце 5.**\t\n",
    "\n"
   ]
  },
  {
   "cell_type": "code",
   "execution_count": 98,
   "id": "60a18139",
   "metadata": {},
   "outputs": [
    {
     "data": {
      "text/html": [
       "<div>\n",
       "<style scoped>\n",
       "    .dataframe tbody tr th:only-of-type {\n",
       "        vertical-align: middle;\n",
       "    }\n",
       "\n",
       "    .dataframe tbody tr th {\n",
       "        vertical-align: top;\n",
       "    }\n",
       "\n",
       "    .dataframe thead th {\n",
       "        text-align: right;\n",
       "    }\n",
       "</style>\n",
       "<table border=\"1\" class=\"dataframe\">\n",
       "  <thead>\n",
       "    <tr style=\"text-align: right;\">\n",
       "      <th></th>\n",
       "      <th>price_per_m2</th>\n",
       "    </tr>\n",
       "    <tr>\n",
       "      <th>locality_name</th>\n",
       "      <th></th>\n",
       "    </tr>\n",
       "  </thead>\n",
       "  <tbody>\n",
       "    <tr>\n",
       "      <th>Санкт-Петербург</th>\n",
       "      <td>112592.0</td>\n",
       "    </tr>\n",
       "    <tr>\n",
       "      <th>Пушкин</th>\n",
       "      <td>103066.0</td>\n",
       "    </tr>\n",
       "    <tr>\n",
       "      <th>деревня Кудрово</th>\n",
       "      <td>92474.0</td>\n",
       "    </tr>\n",
       "    <tr>\n",
       "      <th>посёлок Парголово</th>\n",
       "      <td>90332.0</td>\n",
       "    </tr>\n",
       "    <tr>\n",
       "      <th>посёлок Мурино</th>\n",
       "      <td>85752.0</td>\n",
       "    </tr>\n",
       "    <tr>\n",
       "      <th>посёлок Шушары</th>\n",
       "      <td>78677.0</td>\n",
       "    </tr>\n",
       "    <tr>\n",
       "      <th>Колпино</th>\n",
       "      <td>75333.0</td>\n",
       "    </tr>\n",
       "    <tr>\n",
       "      <th>Гатчина</th>\n",
       "      <td>68746.0</td>\n",
       "    </tr>\n",
       "    <tr>\n",
       "      <th>Всеволожск</th>\n",
       "      <td>68654.0</td>\n",
       "    </tr>\n",
       "    <tr>\n",
       "      <th>Выборг</th>\n",
       "      <td>58076.0</td>\n",
       "    </tr>\n",
       "  </tbody>\n",
       "</table>\n",
       "</div>"
      ],
      "text/plain": [
       "                   price_per_m2\n",
       "locality_name                  \n",
       "Санкт-Петербург        112592.0\n",
       "Пушкин                 103066.0\n",
       "деревня Кудрово         92474.0\n",
       "посёлок Парголово       90332.0\n",
       "посёлок Мурино          85752.0\n",
       "посёлок Шушары          78677.0\n",
       "Колпино                 75333.0\n",
       "Гатчина                 68746.0\n",
       "Всеволожск              68654.0\n",
       "Выборг                  58076.0"
      ]
     },
     "execution_count": 98,
     "metadata": {},
     "output_type": "execute_result"
    }
   ],
   "source": [
    "#средняя цена квадратного метра в  10 населённых пунктах с наибольшим числом объявлений\n",
    "ten_local = data.value_counts('locality_name').head(10) \n",
    "\n",
    "ten_localbest_price_mean = data.query('locality_name in @ten_local.index').pivot_table(index = \\\n",
    "                                      'locality_name', values = 'price_per_m2')\n",
    "ten_localbest_price_mean.round().sort_values(by = 'price_per_m2', ascending=False)"
   ]
  },
  {
   "cell_type": "markdown",
   "id": "3b97624e",
   "metadata": {},
   "source": [
    "#### В Санкт Петербурге   самая высокая средняя цена 1 кв.м., самая низкая цена  1 кв.м. из топ-10  \"Наибольшего числа объявлений\" - Выборг."
   ]
  },
  {
   "cell_type": "markdown",
   "id": "cd0a8cae",
   "metadata": {},
   "source": [
    "___"
   ]
  },
  {
   "cell_type": "markdown",
   "id": "00173a88",
   "metadata": {},
   "source": [
    "#### Ранее вы посчитали расстояние до центра в километрах. Теперь выделите квартиры в Санкт-Петербурге с помощью столбца locality_name и вычислите среднюю цену каждого километра. Опишите, как стоимость объектов зависит от расстояния до центра города. ####"
   ]
  },
  {
   "cell_type": "code",
   "execution_count": 101,
   "id": "1034b9f9",
   "metadata": {
    "scrolled": true
   },
   "outputs": [
    {
     "data": {
      "text/html": [
       "<div>\n",
       "<style scoped>\n",
       "    .dataframe tbody tr th:only-of-type {\n",
       "        vertical-align: middle;\n",
       "    }\n",
       "\n",
       "    .dataframe tbody tr th {\n",
       "        vertical-align: top;\n",
       "    }\n",
       "\n",
       "    .dataframe thead th {\n",
       "        text-align: right;\n",
       "    }\n",
       "</style>\n",
       "<table border=\"1\" class=\"dataframe\">\n",
       "  <thead>\n",
       "    <tr style=\"text-align: right;\">\n",
       "      <th></th>\n",
       "      <th>price_per_m2</th>\n",
       "    </tr>\n",
       "    <tr>\n",
       "      <th>dist_to_ccity_round</th>\n",
       "      <th></th>\n",
       "    </tr>\n",
       "  </thead>\n",
       "  <tbody>\n",
       "    <tr>\n",
       "      <th>0</th>\n",
       "      <td>170340.0</td>\n",
       "    </tr>\n",
       "    <tr>\n",
       "      <th>1</th>\n",
       "      <td>147031.0</td>\n",
       "    </tr>\n",
       "    <tr>\n",
       "      <th>2</th>\n",
       "      <td>137511.0</td>\n",
       "    </tr>\n",
       "    <tr>\n",
       "      <th>3</th>\n",
       "      <td>121822.0</td>\n",
       "    </tr>\n",
       "    <tr>\n",
       "      <th>4</th>\n",
       "      <td>135045.0</td>\n",
       "    </tr>\n",
       "    <tr>\n",
       "      <th>5</th>\n",
       "      <td>140566.0</td>\n",
       "    </tr>\n",
       "    <tr>\n",
       "      <th>6</th>\n",
       "      <td>145374.0</td>\n",
       "    </tr>\n",
       "    <tr>\n",
       "      <th>7</th>\n",
       "      <td>136389.0</td>\n",
       "    </tr>\n",
       "    <tr>\n",
       "      <th>8</th>\n",
       "      <td>119894.0</td>\n",
       "    </tr>\n",
       "    <tr>\n",
       "      <th>9</th>\n",
       "      <td>110050.0</td>\n",
       "    </tr>\n",
       "    <tr>\n",
       "      <th>10</th>\n",
       "      <td>111248.0</td>\n",
       "    </tr>\n",
       "    <tr>\n",
       "      <th>11</th>\n",
       "      <td>106732.0</td>\n",
       "    </tr>\n",
       "    <tr>\n",
       "      <th>12</th>\n",
       "      <td>108407.0</td>\n",
       "    </tr>\n",
       "    <tr>\n",
       "      <th>13</th>\n",
       "      <td>107175.0</td>\n",
       "    </tr>\n",
       "    <tr>\n",
       "      <th>14</th>\n",
       "      <td>104985.0</td>\n",
       "    </tr>\n",
       "    <tr>\n",
       "      <th>15</th>\n",
       "      <td>101846.0</td>\n",
       "    </tr>\n",
       "    <tr>\n",
       "      <th>16</th>\n",
       "      <td>100023.0</td>\n",
       "    </tr>\n",
       "    <tr>\n",
       "      <th>17</th>\n",
       "      <td>94108.0</td>\n",
       "    </tr>\n",
       "    <tr>\n",
       "      <th>18</th>\n",
       "      <td>94876.0</td>\n",
       "    </tr>\n",
       "    <tr>\n",
       "      <th>19</th>\n",
       "      <td>95434.0</td>\n",
       "    </tr>\n",
       "    <tr>\n",
       "      <th>20</th>\n",
       "      <td>107046.0</td>\n",
       "    </tr>\n",
       "    <tr>\n",
       "      <th>21</th>\n",
       "      <td>91572.0</td>\n",
       "    </tr>\n",
       "    <tr>\n",
       "      <th>22</th>\n",
       "      <td>88812.0</td>\n",
       "    </tr>\n",
       "    <tr>\n",
       "      <th>23</th>\n",
       "      <td>92721.0</td>\n",
       "    </tr>\n",
       "    <tr>\n",
       "      <th>24</th>\n",
       "      <td>82440.0</td>\n",
       "    </tr>\n",
       "    <tr>\n",
       "      <th>25</th>\n",
       "      <td>91136.0</td>\n",
       "    </tr>\n",
       "    <tr>\n",
       "      <th>26</th>\n",
       "      <td>75172.0</td>\n",
       "    </tr>\n",
       "    <tr>\n",
       "      <th>27</th>\n",
       "      <td>132116.0</td>\n",
       "    </tr>\n",
       "    <tr>\n",
       "      <th>28</th>\n",
       "      <td>81841.0</td>\n",
       "    </tr>\n",
       "    <tr>\n",
       "      <th>29</th>\n",
       "      <td>62483.0</td>\n",
       "    </tr>\n",
       "  </tbody>\n",
       "</table>\n",
       "</div>"
      ],
      "text/plain": [
       "                     price_per_m2\n",
       "dist_to_ccity_round              \n",
       "0                        170340.0\n",
       "1                        147031.0\n",
       "2                        137511.0\n",
       "3                        121822.0\n",
       "4                        135045.0\n",
       "5                        140566.0\n",
       "6                        145374.0\n",
       "7                        136389.0\n",
       "8                        119894.0\n",
       "9                        110050.0\n",
       "10                       111248.0\n",
       "11                       106732.0\n",
       "12                       108407.0\n",
       "13                       107175.0\n",
       "14                       104985.0\n",
       "15                       101846.0\n",
       "16                       100023.0\n",
       "17                        94108.0\n",
       "18                        94876.0\n",
       "19                        95434.0\n",
       "20                       107046.0\n",
       "21                        91572.0\n",
       "22                        88812.0\n",
       "23                        92721.0\n",
       "24                        82440.0\n",
       "25                        91136.0\n",
       "26                        75172.0\n",
       "27                       132116.0\n",
       "28                        81841.0\n",
       "29                        62483.0"
      ]
     },
     "execution_count": 101,
     "metadata": {},
     "output_type": "execute_result"
    }
   ],
   "source": [
    "city_flat = data[data['locality_name']=='Санкт-Петербург']\n",
    "city_center = city_flat.pivot_table(index = 'dist_to_ccity_round',values = 'price_per_m2')\n",
    "city_center.round()"
   ]
  },
  {
   "cell_type": "markdown",
   "id": "f96518c7",
   "metadata": {},
   "source": [
    "**Стоимость квадратного метра  в центре и на 10 километре оnличаются и существенно. На 27 км существенные  показатели , соизмеримые с 5 км. от центра- этот район и какие поселки располагаются отдельно можно изучить** \n",
    "\n",
    "**Конечно же, ближе к центру  квадратный метр будет стоить дороже. **"
   ]
  },
  {
   "cell_type": "markdown",
   "id": "70d7b06b",
   "metadata": {},
   "source": [
    "___"
   ]
  },
  {
   "cell_type": "markdown",
   "id": "320c14d2",
   "metadata": {},
   "source": [
    "### Общие выводы ###"
   ]
  },
  {
   "cell_type": "markdown",
   "id": "68f1b6bd",
   "metadata": {},
   "source": [
    " <br />**Получив   данные, мы  перевели колонки в более читабельный вид, переведены в соответствующие им типы данные, заполнили, где были очевидные (на примере высоты потолков) и аномальные пропуски на медианные.** \n",
    "\n",
    "**Не все  колонки имели данные, там где пропуски были более 10%  мы не осуществляли вляиние,т.к. в них имелись индивидуальные, только присущие им показатели, изменив их мы могли бы нарушить общую картину. В процессе анализ выяснилось что на  ПОЛНУЮ стоимость  квартир оказывают  влияние: общая -самый высокий коэффициент влияния  (Пирсон) и жилая площадь недвижимости, размер кухни, а также расположение квартир относительно центра города.  Также на стоимость влияла этажность  здания, особенно 30-этажные небоскребы,- на последние этажи  более стоимостные предложения, на  нижние - стоимость ниже.**\n",
    "\n",
    "**Наиболее дорогая недвижимость из 10-ки  часто публикуемых объявлений - С.Петербург (по цене расчета за кв. м.), В Выборге  по этим критериям-самая низкая цена.**\n",
    "\n",
    "**С 2019 года начинается рост  стоимости, в то время как до 2018 года был хорошо виден  ее спад.  Превалирует над предложениями  4, 9-10 этажные  многоквартирные дома. Стоимость  на 5-7 километре  от центра  выходит из тенденции  к снижению, видимо  активная застройка. Судя по  карте города это Крестовский и Петровский острова,  +  современная зона \"Арена\", +  ближайшая загородная недвижимость (коттеджи и поселки Таунхаус).**<br />"
   ]
  },
  {
   "cell_type": "markdown",
   "id": "f4fbce5d",
   "metadata": {},
   "source": [
    "**Сервис \"Яндекс Недвижимость\" развивается и дополняется, маркетологи  не оставляют без внимания площадку. Варьируются условия, мягко, не катастрофично для пользователей. Особое внимание  нужно обратить  разработчикам формы заполнения  данными сервиса \"Яндекс Недвижимость\" - рекомендации - установка  авто- проверки на  обязательное заполнение всех параметров данными.** \n",
    "\n",
    "**Например,  этажность   известна всем, а расстояние до центра города или аэропорта можно посмотреть  на Яндекс картах - вкладку для удобства тоже можно повесить с градацией по зонам расположений поселков или районов. Также предложила бы  условие - ОБЯЗАТЕЛЬНУЮ  публикацию фото.**"
   ]
  }
 ],
 "metadata": {
  "ExecuteTimeLog": [
   {
    "duration": 4,
    "start_time": "2022-10-25T05:52:06.727Z"
   },
   {
    "duration": 649,
    "start_time": "2022-10-25T05:52:06.733Z"
   },
   {
    "duration": 3,
    "start_time": "2022-10-25T05:52:07.384Z"
   },
   {
    "duration": 32,
    "start_time": "2022-10-25T05:52:07.388Z"
   },
   {
    "duration": 15,
    "start_time": "2022-10-25T05:52:07.422Z"
   },
   {
    "duration": 2305,
    "start_time": "2022-10-25T05:52:07.439Z"
   },
   {
    "duration": 26,
    "start_time": "2022-10-25T05:52:09.746Z"
   },
   {
    "duration": 5,
    "start_time": "2022-10-25T05:52:09.774Z"
   },
   {
    "duration": 4,
    "start_time": "2022-10-25T05:52:09.782Z"
   },
   {
    "duration": 9,
    "start_time": "2022-10-25T05:52:09.789Z"
   },
   {
    "duration": 28,
    "start_time": "2022-10-25T05:52:09.800Z"
   },
   {
    "duration": 11,
    "start_time": "2022-10-25T05:52:09.830Z"
   },
   {
    "duration": 5,
    "start_time": "2022-10-25T05:52:09.843Z"
   },
   {
    "duration": 7,
    "start_time": "2022-10-25T05:52:09.850Z"
   },
   {
    "duration": 11,
    "start_time": "2022-10-25T05:52:09.859Z"
   },
   {
    "duration": 11,
    "start_time": "2022-10-25T05:52:09.871Z"
   },
   {
    "duration": 6,
    "start_time": "2022-10-25T05:52:09.924Z"
   },
   {
    "duration": 8,
    "start_time": "2022-10-25T05:52:09.932Z"
   },
   {
    "duration": 19,
    "start_time": "2022-10-25T05:52:09.942Z"
   },
   {
    "duration": 3,
    "start_time": "2022-10-25T05:52:09.963Z"
   },
   {
    "duration": 6,
    "start_time": "2022-10-25T05:52:09.968Z"
   },
   {
    "duration": 69,
    "start_time": "2022-10-25T05:52:09.976Z"
   },
   {
    "duration": 10,
    "start_time": "2022-10-25T05:52:10.047Z"
   },
   {
    "duration": 2,
    "start_time": "2022-10-25T05:52:10.061Z"
   },
   {
    "duration": 18,
    "start_time": "2022-10-25T05:52:10.064Z"
   },
   {
    "duration": 330,
    "start_time": "2022-10-25T05:52:10.083Z"
   },
   {
    "duration": 5,
    "start_time": "2022-10-25T05:52:10.415Z"
   },
   {
    "duration": 11,
    "start_time": "2022-10-25T05:52:10.421Z"
   },
   {
    "duration": 17,
    "start_time": "2022-10-25T05:52:10.433Z"
   },
   {
    "duration": 8,
    "start_time": "2022-10-25T05:52:10.452Z"
   },
   {
    "duration": 137,
    "start_time": "2022-10-25T05:52:10.462Z"
   },
   {
    "duration": 155,
    "start_time": "2022-10-25T05:52:10.601Z"
   },
   {
    "duration": 10,
    "start_time": "2022-10-25T05:52:10.758Z"
   },
   {
    "duration": 182,
    "start_time": "2022-10-25T05:52:10.770Z"
   },
   {
    "duration": 9,
    "start_time": "2022-10-25T05:52:10.954Z"
   },
   {
    "duration": 89,
    "start_time": "2022-10-25T05:52:10.965Z"
   },
   {
    "duration": 0,
    "start_time": "2022-10-25T05:52:11.056Z"
   },
   {
    "duration": 0,
    "start_time": "2022-10-25T05:52:11.057Z"
   },
   {
    "duration": 0,
    "start_time": "2022-10-25T05:52:11.058Z"
   },
   {
    "duration": 0,
    "start_time": "2022-10-25T05:52:11.059Z"
   },
   {
    "duration": 0,
    "start_time": "2022-10-25T05:52:11.060Z"
   },
   {
    "duration": 0,
    "start_time": "2022-10-25T05:52:11.061Z"
   },
   {
    "duration": 0,
    "start_time": "2022-10-25T05:52:11.063Z"
   },
   {
    "duration": 0,
    "start_time": "2022-10-25T05:52:11.064Z"
   },
   {
    "duration": 0,
    "start_time": "2022-10-25T05:52:11.065Z"
   },
   {
    "duration": 0,
    "start_time": "2022-10-25T05:52:11.066Z"
   },
   {
    "duration": 0,
    "start_time": "2022-10-25T05:52:11.164Z"
   },
   {
    "duration": 0,
    "start_time": "2022-10-25T05:52:11.166Z"
   },
   {
    "duration": 0,
    "start_time": "2022-10-25T05:52:11.167Z"
   },
   {
    "duration": 0,
    "start_time": "2022-10-25T05:52:11.169Z"
   },
   {
    "duration": 0,
    "start_time": "2022-10-25T05:52:11.170Z"
   },
   {
    "duration": 0,
    "start_time": "2022-10-25T05:52:11.171Z"
   },
   {
    "duration": 0,
    "start_time": "2022-10-25T05:52:11.173Z"
   },
   {
    "duration": 0,
    "start_time": "2022-10-25T05:52:11.174Z"
   },
   {
    "duration": 0,
    "start_time": "2022-10-25T05:52:11.175Z"
   },
   {
    "duration": 0,
    "start_time": "2022-10-25T05:52:11.176Z"
   },
   {
    "duration": 0,
    "start_time": "2022-10-25T05:52:11.177Z"
   },
   {
    "duration": 0,
    "start_time": "2022-10-25T05:52:11.178Z"
   },
   {
    "duration": 0,
    "start_time": "2022-10-25T05:52:11.179Z"
   },
   {
    "duration": 0,
    "start_time": "2022-10-25T05:52:11.180Z"
   },
   {
    "duration": 0,
    "start_time": "2022-10-25T05:52:11.182Z"
   },
   {
    "duration": 0,
    "start_time": "2022-10-25T05:52:11.183Z"
   },
   {
    "duration": 0,
    "start_time": "2022-10-25T05:52:11.184Z"
   },
   {
    "duration": 0,
    "start_time": "2022-10-25T05:52:11.185Z"
   },
   {
    "duration": 0,
    "start_time": "2022-10-25T05:52:11.187Z"
   },
   {
    "duration": 0,
    "start_time": "2022-10-25T05:52:11.225Z"
   },
   {
    "duration": 0,
    "start_time": "2022-10-25T05:52:11.227Z"
   },
   {
    "duration": 0,
    "start_time": "2022-10-25T05:52:11.228Z"
   },
   {
    "duration": 0,
    "start_time": "2022-10-25T05:52:11.230Z"
   },
   {
    "duration": 0,
    "start_time": "2022-10-25T05:52:11.231Z"
   },
   {
    "duration": 0,
    "start_time": "2022-10-25T05:52:11.232Z"
   },
   {
    "duration": 0,
    "start_time": "2022-10-25T05:52:11.233Z"
   },
   {
    "duration": 0,
    "start_time": "2022-10-25T05:52:11.235Z"
   },
   {
    "duration": 0,
    "start_time": "2022-10-25T05:52:11.236Z"
   },
   {
    "duration": 0,
    "start_time": "2022-10-25T05:52:11.237Z"
   },
   {
    "duration": 0,
    "start_time": "2022-10-25T05:52:11.238Z"
   },
   {
    "duration": 0,
    "start_time": "2022-10-25T05:52:11.239Z"
   },
   {
    "duration": 0,
    "start_time": "2022-10-25T05:52:11.241Z"
   },
   {
    "duration": 0,
    "start_time": "2022-10-25T05:52:11.243Z"
   },
   {
    "duration": 0,
    "start_time": "2022-10-25T05:52:11.244Z"
   },
   {
    "duration": 0,
    "start_time": "2022-10-25T05:52:11.246Z"
   },
   {
    "duration": 0,
    "start_time": "2022-10-25T05:52:11.247Z"
   },
   {
    "duration": 0,
    "start_time": "2022-10-25T05:52:11.249Z"
   },
   {
    "duration": 0,
    "start_time": "2022-10-25T05:52:11.250Z"
   },
   {
    "duration": 17,
    "start_time": "2022-10-25T05:59:22.852Z"
   },
   {
    "duration": 18,
    "start_time": "2022-10-25T06:02:37.021Z"
   },
   {
    "duration": 90,
    "start_time": "2022-10-25T06:02:41.375Z"
   },
   {
    "duration": 6,
    "start_time": "2022-10-25T06:03:25.995Z"
   },
   {
    "duration": 13,
    "start_time": "2022-10-25T06:03:31.943Z"
   },
   {
    "duration": 7,
    "start_time": "2022-10-25T06:03:33.978Z"
   },
   {
    "duration": 5,
    "start_time": "2022-10-25T06:03:39.336Z"
   },
   {
    "duration": 675,
    "start_time": "2022-10-26T18:02:13.307Z"
   },
   {
    "duration": 118,
    "start_time": "2022-10-26T18:02:13.984Z"
   },
   {
    "duration": 3,
    "start_time": "2022-10-26T18:02:14.103Z"
   },
   {
    "duration": 5,
    "start_time": "2022-10-26T18:02:14.108Z"
   },
   {
    "duration": 31,
    "start_time": "2022-10-26T18:02:14.114Z"
   },
   {
    "duration": 15,
    "start_time": "2022-10-26T18:02:14.146Z"
   },
   {
    "duration": 2,
    "start_time": "2022-10-26T18:02:14.163Z"
   },
   {
    "duration": 1782,
    "start_time": "2022-10-26T18:02:14.167Z"
   },
   {
    "duration": 24,
    "start_time": "2022-10-26T18:02:15.951Z"
   },
   {
    "duration": 4,
    "start_time": "2022-10-26T18:02:15.978Z"
   },
   {
    "duration": 8,
    "start_time": "2022-10-26T18:02:15.983Z"
   },
   {
    "duration": 12,
    "start_time": "2022-10-26T18:02:15.992Z"
   },
   {
    "duration": 33,
    "start_time": "2022-10-26T18:02:16.005Z"
   },
   {
    "duration": 9,
    "start_time": "2022-10-26T18:02:16.040Z"
   },
   {
    "duration": 4,
    "start_time": "2022-10-26T18:02:16.050Z"
   },
   {
    "duration": 9,
    "start_time": "2022-10-26T18:02:16.055Z"
   },
   {
    "duration": 11,
    "start_time": "2022-10-26T18:02:16.066Z"
   },
   {
    "duration": 9,
    "start_time": "2022-10-26T18:02:16.079Z"
   },
   {
    "duration": 46,
    "start_time": "2022-10-26T18:02:16.089Z"
   },
   {
    "duration": 15,
    "start_time": "2022-10-26T18:02:16.137Z"
   },
   {
    "duration": 33,
    "start_time": "2022-10-26T18:02:16.153Z"
   },
   {
    "duration": 5,
    "start_time": "2022-10-26T18:02:16.190Z"
   },
   {
    "duration": 22,
    "start_time": "2022-10-26T18:02:16.198Z"
   },
   {
    "duration": 12,
    "start_time": "2022-10-26T18:02:16.222Z"
   },
   {
    "duration": 30,
    "start_time": "2022-10-26T18:02:16.237Z"
   },
   {
    "duration": 13,
    "start_time": "2022-10-26T18:02:16.269Z"
   },
   {
    "duration": 7,
    "start_time": "2022-10-26T18:02:16.284Z"
   },
   {
    "duration": 15,
    "start_time": "2022-10-26T18:02:16.296Z"
   },
   {
    "duration": 21,
    "start_time": "2022-10-26T18:02:16.313Z"
   },
   {
    "duration": 11,
    "start_time": "2022-10-26T18:02:16.336Z"
   },
   {
    "duration": 47,
    "start_time": "2022-10-26T18:02:16.349Z"
   },
   {
    "duration": 66,
    "start_time": "2022-10-26T18:02:16.398Z"
   },
   {
    "duration": 6,
    "start_time": "2022-10-26T18:02:16.466Z"
   },
   {
    "duration": 12,
    "start_time": "2022-10-26T18:02:16.475Z"
   },
   {
    "duration": 15,
    "start_time": "2022-10-26T18:02:16.489Z"
   },
   {
    "duration": 145,
    "start_time": "2022-10-26T18:02:16.506Z"
   },
   {
    "duration": 29,
    "start_time": "2022-10-26T18:02:16.652Z"
   },
   {
    "duration": 5,
    "start_time": "2022-10-26T18:02:16.682Z"
   },
   {
    "duration": 54,
    "start_time": "2022-10-26T18:02:16.688Z"
   },
   {
    "duration": 11,
    "start_time": "2022-10-26T18:02:16.744Z"
   },
   {
    "duration": 9,
    "start_time": "2022-10-26T18:02:16.757Z"
   },
   {
    "duration": 8,
    "start_time": "2022-10-26T18:02:16.768Z"
   },
   {
    "duration": 7,
    "start_time": "2022-10-26T18:02:16.778Z"
   },
   {
    "duration": 55,
    "start_time": "2022-10-26T18:02:16.787Z"
   },
   {
    "duration": 5,
    "start_time": "2022-10-26T18:02:16.843Z"
   },
   {
    "duration": 8,
    "start_time": "2022-10-26T18:02:16.850Z"
   },
   {
    "duration": 22,
    "start_time": "2022-10-26T18:02:16.859Z"
   },
   {
    "duration": 20,
    "start_time": "2022-10-26T18:02:16.882Z"
   },
   {
    "duration": 31,
    "start_time": "2022-10-26T18:02:16.904Z"
   },
   {
    "duration": 276,
    "start_time": "2022-10-26T18:02:16.937Z"
   },
   {
    "duration": 5,
    "start_time": "2022-10-26T18:02:17.215Z"
   },
   {
    "duration": 24,
    "start_time": "2022-10-26T18:02:17.222Z"
   },
   {
    "duration": 3,
    "start_time": "2022-10-26T18:02:17.247Z"
   },
   {
    "duration": 15,
    "start_time": "2022-10-26T18:02:17.252Z"
   },
   {
    "duration": 9,
    "start_time": "2022-10-26T18:02:17.268Z"
   },
   {
    "duration": 115,
    "start_time": "2022-10-26T18:02:17.279Z"
   },
   {
    "duration": 7,
    "start_time": "2022-10-26T18:02:17.396Z"
   },
   {
    "duration": 244,
    "start_time": "2022-10-26T18:02:17.405Z"
   },
   {
    "duration": 9,
    "start_time": "2022-10-26T18:02:17.650Z"
   },
   {
    "duration": 20,
    "start_time": "2022-10-26T18:02:17.661Z"
   },
   {
    "duration": 152,
    "start_time": "2022-10-26T18:02:17.683Z"
   },
   {
    "duration": 9,
    "start_time": "2022-10-26T18:02:17.837Z"
   },
   {
    "duration": 278,
    "start_time": "2022-10-26T18:02:17.848Z"
   },
   {
    "duration": 172,
    "start_time": "2022-10-26T18:02:18.128Z"
   },
   {
    "duration": 8,
    "start_time": "2022-10-26T18:02:18.301Z"
   },
   {
    "duration": 152,
    "start_time": "2022-10-26T18:02:18.311Z"
   },
   {
    "duration": 9,
    "start_time": "2022-10-26T18:02:18.464Z"
   },
   {
    "duration": 148,
    "start_time": "2022-10-26T18:02:18.474Z"
   },
   {
    "duration": 16,
    "start_time": "2022-10-26T18:02:18.624Z"
   },
   {
    "duration": 128,
    "start_time": "2022-10-26T18:02:18.642Z"
   },
   {
    "duration": 187,
    "start_time": "2022-10-26T18:02:18.773Z"
   },
   {
    "duration": 9,
    "start_time": "2022-10-26T18:02:18.962Z"
   },
   {
    "duration": 19,
    "start_time": "2022-10-26T18:02:18.973Z"
   },
   {
    "duration": 141,
    "start_time": "2022-10-26T18:02:18.994Z"
   },
   {
    "duration": 15,
    "start_time": "2022-10-26T18:02:19.136Z"
   },
   {
    "duration": 9,
    "start_time": "2022-10-26T18:02:19.153Z"
   },
   {
    "duration": 145,
    "start_time": "2022-10-26T18:02:19.164Z"
   },
   {
    "duration": 9,
    "start_time": "2022-10-26T18:02:19.311Z"
   },
   {
    "duration": 20,
    "start_time": "2022-10-26T18:02:19.321Z"
   },
   {
    "duration": 179,
    "start_time": "2022-10-26T18:02:19.343Z"
   },
   {
    "duration": 140,
    "start_time": "2022-10-26T18:02:19.523Z"
   },
   {
    "duration": 144,
    "start_time": "2022-10-26T18:02:19.669Z"
   },
   {
    "duration": 138,
    "start_time": "2022-10-26T18:02:19.815Z"
   },
   {
    "duration": 5,
    "start_time": "2022-10-26T18:02:19.954Z"
   },
   {
    "duration": 7,
    "start_time": "2022-10-26T18:02:19.960Z"
   },
   {
    "duration": 8,
    "start_time": "2022-10-26T18:02:19.968Z"
   },
   {
    "duration": 356,
    "start_time": "2022-10-26T18:02:19.977Z"
   },
   {
    "duration": 6,
    "start_time": "2022-10-26T18:02:20.335Z"
   },
   {
    "duration": 132,
    "start_time": "2022-10-26T18:02:20.343Z"
   },
   {
    "duration": 132,
    "start_time": "2022-10-26T18:02:20.477Z"
   },
   {
    "duration": 124,
    "start_time": "2022-10-26T18:02:20.611Z"
   },
   {
    "duration": 104,
    "start_time": "2022-10-26T18:02:20.737Z"
   },
   {
    "duration": 193,
    "start_time": "2022-10-26T18:02:20.842Z"
   },
   {
    "duration": 135,
    "start_time": "2022-10-26T18:02:21.036Z"
   },
   {
    "duration": 136,
    "start_time": "2022-10-26T18:02:21.173Z"
   },
   {
    "duration": 145,
    "start_time": "2022-10-26T18:02:21.311Z"
   },
   {
    "duration": 20,
    "start_time": "2022-10-26T18:02:21.458Z"
   },
   {
    "duration": 41,
    "start_time": "2022-10-26T18:02:21.480Z"
   },
   {
    "duration": 10,
    "start_time": "2022-10-26T18:02:21.523Z"
   },
   {
    "duration": 6,
    "start_time": "2022-10-26T18:02:21.535Z"
   },
   {
    "duration": 21,
    "start_time": "2022-10-26T18:02:21.542Z"
   },
   {
    "duration": 14,
    "start_time": "2022-10-26T18:05:28.003Z"
   },
   {
    "duration": 88,
    "start_time": "2022-10-26T18:05:32.296Z"
   },
   {
    "duration": 7,
    "start_time": "2022-10-26T18:10:58.134Z"
   },
   {
    "duration": 8,
    "start_time": "2022-10-26T18:14:43.917Z"
   },
   {
    "duration": 9,
    "start_time": "2022-10-26T18:14:58.722Z"
   }
  ],
  "kernelspec": {
   "display_name": "Python 3 (ipykernel)",
   "language": "python",
   "name": "python3"
  },
  "language_info": {
   "codemirror_mode": {
    "name": "ipython",
    "version": 3
   },
   "file_extension": ".py",
   "mimetype": "text/x-python",
   "name": "python",
   "nbconvert_exporter": "python",
   "pygments_lexer": "ipython3",
   "version": "3.9.7"
  },
  "toc": {
   "base_numbering": 1,
   "nav_menu": {},
   "number_sections": true,
   "sideBar": true,
   "skip_h1_title": true,
   "title_cell": "Table of Contents",
   "title_sidebar": "Contents",
   "toc_cell": true,
   "toc_position": {},
   "toc_section_display": true,
   "toc_window_display": false
  }
 },
 "nbformat": 4,
 "nbformat_minor": 5
}
