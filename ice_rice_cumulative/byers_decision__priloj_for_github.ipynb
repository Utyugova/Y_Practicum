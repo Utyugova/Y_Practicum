{
 "cells": [
  {
   "cell_type": "markdown",
   "id": "1405ceba",
   "metadata": {
    "toc": true
   },
   "source": [
    "<h1>Table of Contents<span class=\"tocSkip\"></span></h1>\n",
    "<div class=\"toc\"><ul class=\"toc-item\"></ul></div>"
   ]
  },
  {
   "cell_type": "markdown",
   "id": "88610028",
   "metadata": {},
   "source": [
    "# Описание проекта\n",
    "\n",
    "__Контекст__\n",
    "\n",
    "Мы являемся аналитиками крупного интернет-магазина. Вместе с отделом маркетинга подготовили список гипотез для увеличения выручки.\n",
    "Приоритизируем гипотезы, запустим A/B-тест и проанализируем результаты. "
   ]
  },
  {
   "cell_type": "markdown",
   "id": "eb41f6e2",
   "metadata": {},
   "source": [
    "___"
   ]
  },
  {
   "cell_type": "markdown",
   "id": "6606ba6e",
   "metadata": {},
   "source": [
    "# __Часть 1. Приоритизация гипотез.__\n",
    "В файле hypothesis.csv \n",
    "указаны 9 гипотез по увеличению выручки интернет-магазина с указанными параметрами: Reach, Impact, Confidence, Effort.\n",
    "\n",
    "\n",
    "_Задача_\n",
    "\n",
    "\n",
    "- Применить фреймворк ICE для приоритизации гипотез. Отсортиртировать их по убыванию приоритета.\n",
    "- Применить фреймворк RICE для приоритизации гипотез. Отсортировать их по убыванию приоритета.\n",
    "- Указать, как изменилась приоритизация гипотез при применении RICE вместо ICE. \n",
    "- Объяснить, почему так произошло."
   ]
  },
  {
   "cell_type": "code",
   "execution_count": 1,
   "id": "b5c2c1fd",
   "metadata": {},
   "outputs": [],
   "source": [
    "#Импортируем необходимые библиотеки\n",
    "\n",
    "import pandas as pd\n",
    "import numpy as np\n",
    "import datetime as dt\n",
    "import matplotlib.pyplot as plt\n",
    "import scipy.stats as stats\n"
   ]
  },
  {
   "cell_type": "code",
   "execution_count": 2,
   "id": "2c0c110d",
   "metadata": {},
   "outputs": [],
   "source": [
    "#Пропишем путь до данных для пользователя и для ревьюера\n",
    "try:\n",
    "    data = pd.read_csv(r'C:\\Users\\hypothesis.csv ',sep = ',')\n",
    "    \n",
    "except:\n",
    "    data = pd.read_csv('/datasets/hypothesis.csv',sep = ',')"
   ]
  },
  {
   "cell_type": "code",
   "execution_count": 3,
   "id": "0bf4682a",
   "metadata": {},
   "outputs": [
    {
     "data": {
      "text/html": [
       "<div>\n",
       "<style scoped>\n",
       "    .dataframe tbody tr th:only-of-type {\n",
       "        vertical-align: middle;\n",
       "    }\n",
       "\n",
       "    .dataframe tbody tr th {\n",
       "        vertical-align: top;\n",
       "    }\n",
       "\n",
       "    .dataframe thead th {\n",
       "        text-align: right;\n",
       "    }\n",
       "</style>\n",
       "<table border=\"1\" class=\"dataframe\">\n",
       "  <thead>\n",
       "    <tr style=\"text-align: right;\">\n",
       "      <th></th>\n",
       "      <th>Hypothesis</th>\n",
       "      <th>Reach</th>\n",
       "      <th>Impact</th>\n",
       "      <th>Confidence</th>\n",
       "      <th>Efforts</th>\n",
       "    </tr>\n",
       "  </thead>\n",
       "  <tbody>\n",
       "    <tr>\n",
       "      <th>0</th>\n",
       "      <td>Добавить два новых канала привлечения трафика,...</td>\n",
       "      <td>3</td>\n",
       "      <td>10</td>\n",
       "      <td>8</td>\n",
       "      <td>6</td>\n",
       "    </tr>\n",
       "    <tr>\n",
       "      <th>1</th>\n",
       "      <td>Запустить собственную службу доставки, что сок...</td>\n",
       "      <td>2</td>\n",
       "      <td>5</td>\n",
       "      <td>4</td>\n",
       "      <td>10</td>\n",
       "    </tr>\n",
       "    <tr>\n",
       "      <th>2</th>\n",
       "      <td>Добавить блоки рекомендаций товаров на сайт ин...</td>\n",
       "      <td>8</td>\n",
       "      <td>3</td>\n",
       "      <td>7</td>\n",
       "      <td>3</td>\n",
       "    </tr>\n",
       "    <tr>\n",
       "      <th>3</th>\n",
       "      <td>Изменить структура категорий, что увеличит кон...</td>\n",
       "      <td>8</td>\n",
       "      <td>3</td>\n",
       "      <td>3</td>\n",
       "      <td>8</td>\n",
       "    </tr>\n",
       "    <tr>\n",
       "      <th>4</th>\n",
       "      <td>Изменить цвет фона главной страницы, чтобы уве...</td>\n",
       "      <td>3</td>\n",
       "      <td>1</td>\n",
       "      <td>1</td>\n",
       "      <td>1</td>\n",
       "    </tr>\n",
       "    <tr>\n",
       "      <th>5</th>\n",
       "      <td>Добавить страницу отзывов клиентов о магазине,...</td>\n",
       "      <td>3</td>\n",
       "      <td>2</td>\n",
       "      <td>2</td>\n",
       "      <td>3</td>\n",
       "    </tr>\n",
       "    <tr>\n",
       "      <th>6</th>\n",
       "      <td>Показать на главной странице баннеры с актуаль...</td>\n",
       "      <td>5</td>\n",
       "      <td>3</td>\n",
       "      <td>8</td>\n",
       "      <td>3</td>\n",
       "    </tr>\n",
       "    <tr>\n",
       "      <th>7</th>\n",
       "      <td>Добавить форму подписки на все основные страни...</td>\n",
       "      <td>10</td>\n",
       "      <td>7</td>\n",
       "      <td>8</td>\n",
       "      <td>5</td>\n",
       "    </tr>\n",
       "    <tr>\n",
       "      <th>8</th>\n",
       "      <td>Запустить акцию, дающую скидку на товар в день...</td>\n",
       "      <td>1</td>\n",
       "      <td>9</td>\n",
       "      <td>9</td>\n",
       "      <td>5</td>\n",
       "    </tr>\n",
       "  </tbody>\n",
       "</table>\n",
       "</div>"
      ],
      "text/plain": [
       "                                          Hypothesis  Reach  Impact  \\\n",
       "0  Добавить два новых канала привлечения трафика,...      3      10   \n",
       "1  Запустить собственную службу доставки, что сок...      2       5   \n",
       "2  Добавить блоки рекомендаций товаров на сайт ин...      8       3   \n",
       "3  Изменить структура категорий, что увеличит кон...      8       3   \n",
       "4  Изменить цвет фона главной страницы, чтобы уве...      3       1   \n",
       "5  Добавить страницу отзывов клиентов о магазине,...      3       2   \n",
       "6  Показать на главной странице баннеры с актуаль...      5       3   \n",
       "7  Добавить форму подписки на все основные страни...     10       7   \n",
       "8  Запустить акцию, дающую скидку на товар в день...      1       9   \n",
       "\n",
       "   Confidence  Efforts  \n",
       "0           8        6  \n",
       "1           4       10  \n",
       "2           7        3  \n",
       "3           3        8  \n",
       "4           1        1  \n",
       "5           2        3  \n",
       "6           8        3  \n",
       "7           8        5  \n",
       "8           9        5  "
      ]
     },
     "execution_count": 3,
     "metadata": {},
     "output_type": "execute_result"
    }
   ],
   "source": [
    "#т.к.всего 9 гипотез и файл небольшой (мы знаем из Легенды), можем позволить без нагрузки на  ПО выгрузить все данные\n",
    "\n",
    "data"
   ]
  },
  {
   "cell_type": "markdown",
   "id": "f4dc4032",
   "metadata": {},
   "source": [
    "__Какие данные мы получили в файле?__\n",
    "\n",
    "•\tHypothesis — краткое описание гипотезы;\n",
    "\n",
    "•\tReach — охват пользователей по 10-балльной шкале;\n",
    "\n",
    "•\tImpact — влияние на пользователей по 10-балльной шкале;\n",
    "\n",
    "•\tConfidence — уверенность в гипотезе по 10-балльной шкале;\n",
    "\n",
    "•\tEfforts — затраты ресурсов на проверку гипотезы по 10-балльной шкале. Чем больше значение Efforts, тем дороже проверка гипотезы.\n"
   ]
  },
  {
   "cell_type": "markdown",
   "id": "57485557",
   "metadata": {},
   "source": [
    "Каждому из параметров  гипотез ставят оценку. Шкалу можно выбрать самостоятельно, в нашем случае  от 1 до 10.\n",
    "Также  применяют  баллы от 0 до 10 или ряд Фибоначчи (1, 1, 2, 3, 5, 8, 13, 21, 34, 55, 89, 144). \n",
    "Данные должны  быть  в целочисленном виде."
   ]
  },
  {
   "cell_type": "code",
   "execution_count": 4,
   "id": "27b5d3bf",
   "metadata": {},
   "outputs": [
    {
     "data": {
      "text/plain": [
       "'Выведем информацию по  имеющимся в файле Данным'"
      ]
     },
     "metadata": {},
     "output_type": "display_data"
    },
    {
     "name": "stdout",
     "output_type": "stream",
     "text": [
      "<class 'pandas.core.frame.DataFrame'>\n",
      "RangeIndex: 9 entries, 0 to 8\n",
      "Data columns (total 5 columns):\n",
      " #   Column      Non-Null Count  Dtype \n",
      "---  ------      --------------  ----- \n",
      " 0   Hypothesis  9 non-null      object\n",
      " 1   Reach       9 non-null      int64 \n",
      " 2   Impact      9 non-null      int64 \n",
      " 3   Confidence  9 non-null      int64 \n",
      " 4   Efforts     9 non-null      int64 \n",
      "dtypes: int64(4), object(1)\n",
      "memory usage: 488.0+ bytes\n"
     ]
    },
    {
     "data": {
      "text/plain": [
       "None"
      ]
     },
     "metadata": {},
     "output_type": "display_data"
    },
    {
     "data": {
      "text/plain": [
       "'----------'"
      ]
     },
     "metadata": {},
     "output_type": "display_data"
    },
    {
     "data": {
      "text/plain": [
       "'Есть ли пропуски в  Данных и их количество'"
      ]
     },
     "metadata": {},
     "output_type": "display_data"
    },
    {
     "data": {
      "text/plain": [
       "Hypothesis    0\n",
       "Reach         0\n",
       "Impact        0\n",
       "Confidence    0\n",
       "Efforts       0\n",
       "dtype: int64"
      ]
     },
     "metadata": {},
     "output_type": "display_data"
    },
    {
     "data": {
      "text/plain": [
       "'----------'"
      ]
     },
     "metadata": {},
     "output_type": "display_data"
    },
    {
     "data": {
      "text/plain": [
       "'Какое количество дубликатов в  Данных'"
      ]
     },
     "metadata": {},
     "output_type": "display_data"
    },
    {
     "data": {
      "text/plain": [
       "'----------'"
      ]
     },
     "metadata": {},
     "output_type": "display_data"
    }
   ],
   "source": [
    "#Cразу вывести  информацию о ДФ\n",
    "def showtime(df):\n",
    "    display(\"Выведем информацию по  имеющимся в файле Данным\")\n",
    "    display(df.info())\n",
    "    display('-'*10)\n",
    "    display(\"Есть ли пропуски в  Данных и их количество\")\n",
    "    display(df.isna().sum())\n",
    "    display('-'*10)\n",
    "    display(\"Какое количество дубликатов в  Данных\")\n",
    "    df.duplicated().sum()\n",
    "    display('-'*10)\n",
    "    \n",
    "showtime(data) "
   ]
  },
  {
   "cell_type": "markdown",
   "id": "57637071",
   "metadata": {},
   "source": [
    "Всего 9 строк, дубликатов нет, пропуски  в данных отсутствуют. Сами гипотезы представлены в строковом виде, числа в целочисленном виде. Менять здесь ничего не надо. Замечу только что названия колонок нужно привести к нижнему регистру."
   ]
  },
  {
   "cell_type": "code",
   "execution_count": 5,
   "id": "5c86d9ba",
   "metadata": {},
   "outputs": [],
   "source": [
    "\n",
    "data = data.rename(columns = {'Hypothesis':'hypothesis', 'Reach':'reach', 'Impact' :'impact', \\\n",
    "                              'Confidence' : 'confidence', 'Efforts' : 'efforts'})"
   ]
  },
  {
   "cell_type": "code",
   "execution_count": 6,
   "id": "b55ea347",
   "metadata": {},
   "outputs": [
    {
     "name": "stdout",
     "output_type": "stream",
     "text": [
      "<class 'pandas.core.frame.DataFrame'>\n",
      "RangeIndex: 9 entries, 0 to 8\n",
      "Data columns (total 5 columns):\n",
      " #   Column      Non-Null Count  Dtype \n",
      "---  ------      --------------  ----- \n",
      " 0   hypothesis  9 non-null      object\n",
      " 1   reach       9 non-null      int64 \n",
      " 2   impact      9 non-null      int64 \n",
      " 3   confidence  9 non-null      int64 \n",
      " 4   efforts     9 non-null      int64 \n",
      "dtypes: int64(4), object(1)\n",
      "memory usage: 488.0+ bytes\n"
     ]
    }
   ],
   "source": [
    "data.info() #проверим что изменения применились"
   ]
  },
  {
   "cell_type": "markdown",
   "id": "e85addfb",
   "metadata": {},
   "source": [
    "Интересно посмотреть как  распределены баллы по колонкам. Какая градация баллов."
   ]
  },
  {
   "cell_type": "code",
   "execution_count": 7,
   "id": "e7a5b0ba",
   "metadata": {},
   "outputs": [
    {
     "data": {
      "text/plain": [
       "array([ 3,  2,  8,  5, 10,  1], dtype=int64)"
      ]
     },
     "execution_count": 7,
     "metadata": {},
     "output_type": "execute_result"
    }
   ],
   "source": [
    "# reach — скольких пользователей затронет изменение, которое вы хотите внести\n",
    "data.reach.unique()"
   ]
  },
  {
   "cell_type": "code",
   "execution_count": 8,
   "id": "4f7bde67",
   "metadata": {},
   "outputs": [
    {
     "data": {
      "text/plain": [
       "array([10,  5,  3,  1,  2,  7,  9], dtype=int64)"
      ]
     },
     "execution_count": 8,
     "metadata": {},
     "output_type": "execute_result"
    }
   ],
   "source": [
    "# impact — насколько сильно изменение повлияет на пользователей, их опыт и удовлетворение от продукта\n",
    "data.impact.unique()"
   ]
  },
  {
   "cell_type": "code",
   "execution_count": 9,
   "id": "f2a6e65c",
   "metadata": {},
   "outputs": [
    {
     "data": {
      "text/plain": [
       "array([8, 4, 7, 3, 1, 2, 9], dtype=int64)"
      ]
     },
     "execution_count": 9,
     "metadata": {},
     "output_type": "execute_result"
    }
   ],
   "source": [
    "# confidence — насколько вы уверены, что это изменение повлияет на пользователей именно так\n",
    "data.confidence.unique()"
   ]
  },
  {
   "cell_type": "code",
   "execution_count": 10,
   "id": "507d77aa",
   "metadata": {},
   "outputs": [
    {
     "data": {
      "text/plain": [
       "array([ 6, 10,  3,  8,  1,  5], dtype=int64)"
      ]
     },
     "execution_count": 10,
     "metadata": {},
     "output_type": "execute_result"
    }
   ],
   "source": [
    "# efforts — сколько стоит протестировать эту гипотезу\n",
    "data.efforts.unique()"
   ]
  },
  {
   "cell_type": "markdown",
   "id": "8bfecef1",
   "metadata": {},
   "source": [
    "___"
   ]
  },
  {
   "cell_type": "markdown",
   "id": "cd6982b6",
   "metadata": {},
   "source": [
    "\n",
    "# __Расчитаем ICE, RICE  по данным из ДФ.__\n",
    "\n",
    "Создадим  новые колонки  сразу в нижнем регистре.\n",
    "Отсортируем по убыванию.\n"
   ]
  },
  {
   "cell_type": "markdown",
   "id": "457d8027",
   "metadata": {},
   "source": [
    "__ICE и RICE__ - что это такое? — одни из самых популярных способов приоритизации задач:\n",
    "\n",
    "Проверка гипотез чаще всего стоит дорого, а ресурсов не хватает. Придётся выбрать, что будем тестировать, а чему скажем «нет». Чтобы максимизировать ожидаемое улучшение ключевых метрик бизнеса, сформулированные гипотезы приоритизируют. \n",
    "\n",
    "\n",
    "__Фреймворк _ICE_ (от англ. impact, confidence, effort / ease «влияние, уверенность, усилия / простота») __\n",
    "\n",
    "ФОРМУЛА РАСЧЕТА:\n",
    "ICE score = (impact * confidence)/efforts\n",
    "\n",
    "\n",
    "__Фреймворк _RICE_ состоит из четырёх компонент:__\n",
    "\n",
    "- Reach — скольких пользователей затронет изменение, которое вы хотите внести; \n",
    "- Impact — насколько сильно изменение повлияет на пользователей, их опыт и удовлетворение от продукта; - Confidence — насколько вы уверены, что это изменение повлияет на пользователей именно так; \n",
    "- Efforts — сколько стоит протестировать эту гипотезу. \n",
    "\n",
    "ФОРМУЛА РАСЧЕТА:\n",
    "RICE score = (reach * impact * confidence)/efforts\n"
   ]
  },
  {
   "cell_type": "markdown",
   "id": "d46982c6",
   "metadata": {},
   "source": [
    "__Reach__  отвечает за ЧИСЛЕННЫЙ охват пользователей на практике померить чаще всего несложно. \n",
    "\n",
    "Делают это на основе уже имеющихся данных, оценки конкурентов или оценки объёмов рынка.   Если принята шкала линейной оценки гипотезы от 0 до 10, где 0 — «охват гипотезы ни на кого не повлияет», а 10 — «гипотеза охватит хотя бы половину пользователей». Допустим, что доля выручки приблизительно соответствует охвату пользователей. Тогда, если 10 ба ллов — это 50% пользователей, то 10% пользователей — это 2 балла.\n",
    "\n",
    "__Impact__ отвечает силу влияния изменения метрики на этих пользователей и измеряют по-разному :\n",
    "\n",
    "- По доле от общей площади экрана, которую составят меняющиеся элементы, в %;\n",
    "- По степени изменения пользовательского опыта;\n",
    "- По предварительной оценке важности для пользователей;\n",
    "- По количеству новых пользователей, которых изменение поможет привлечь.\n",
    "\n",
    "__Confidence__ показывает, насколько вы уверены в оценках других параметров. \n",
    "\n",
    "Уверенность, например, будет высокой, если:\n",
    "- вы можете точно посчитать, сколько пользователей подвержено изменению;\n",
    "- у вас есть доказательства, что данное изменение повлияет с тем impact, который вы оценили (например, за счёт предыдущего опыта или кейсов конкурентов);\n",
    "- у вас есть точная оценка трудозатрат, и рисков их увеличения нет, либо они низкие.\n",
    "\n",
    "__Efforts__ показывает, насколько сложно проверить гипотезу.\n",
    "\n",
    "В большинстве компаний на рынке разработка очень дорогая и выступает основным ресурсом. Если проверка гипотезы не требует разработки, её Efforts значительно снижается."
   ]
  },
  {
   "cell_type": "code",
   "execution_count": 12,
   "id": "8d67a329",
   "metadata": {},
   "outputs": [
    {
     "data": {
      "text/html": [
       "<div>\n",
       "<style scoped>\n",
       "    .dataframe tbody tr th:only-of-type {\n",
       "        vertical-align: middle;\n",
       "    }\n",
       "\n",
       "    .dataframe tbody tr th {\n",
       "        vertical-align: top;\n",
       "    }\n",
       "\n",
       "    .dataframe thead th {\n",
       "        text-align: right;\n",
       "    }\n",
       "</style>\n",
       "<table border=\"1\" class=\"dataframe\">\n",
       "  <thead>\n",
       "    <tr style=\"text-align: right;\">\n",
       "      <th></th>\n",
       "      <th>hypothesis</th>\n",
       "      <th>ice</th>\n",
       "    </tr>\n",
       "  </thead>\n",
       "  <tbody>\n",
       "    <tr>\n",
       "      <th>8</th>\n",
       "      <td>Запустить акцию, дающую скидку на товар в день рождения</td>\n",
       "      <td>16.20</td>\n",
       "    </tr>\n",
       "    <tr>\n",
       "      <th>0</th>\n",
       "      <td>Добавить два новых канала привлечения трафика, что позволит привлекать на 30% больше пользователей</td>\n",
       "      <td>13.33</td>\n",
       "    </tr>\n",
       "    <tr>\n",
       "      <th>7</th>\n",
       "      <td>Добавить форму подписки на все основные страницы, чтобы собрать базу клиентов для email-рассылок</td>\n",
       "      <td>11.20</td>\n",
       "    </tr>\n",
       "    <tr>\n",
       "      <th>6</th>\n",
       "      <td>Показать на главной странице баннеры с актуальными акциями и распродажами, чтобы увеличить конверсию</td>\n",
       "      <td>8.00</td>\n",
       "    </tr>\n",
       "    <tr>\n",
       "      <th>2</th>\n",
       "      <td>Добавить блоки рекомендаций товаров на сайт интернет магазина, чтобы повысить конверсию и средний чек заказа</td>\n",
       "      <td>7.00</td>\n",
       "    </tr>\n",
       "    <tr>\n",
       "      <th>1</th>\n",
       "      <td>Запустить собственную службу доставки, что сократит срок доставки заказов</td>\n",
       "      <td>2.00</td>\n",
       "    </tr>\n",
       "    <tr>\n",
       "      <th>5</th>\n",
       "      <td>Добавить страницу отзывов клиентов о магазине, что позволит увеличить количество заказов</td>\n",
       "      <td>1.33</td>\n",
       "    </tr>\n",
       "    <tr>\n",
       "      <th>3</th>\n",
       "      <td>Изменить структура категорий, что увеличит конверсию, т.к. пользователи быстрее найдут нужный товар</td>\n",
       "      <td>1.12</td>\n",
       "    </tr>\n",
       "    <tr>\n",
       "      <th>4</th>\n",
       "      <td>Изменить цвет фона главной страницы, чтобы увеличить вовлеченность пользователей</td>\n",
       "      <td>1.00</td>\n",
       "    </tr>\n",
       "  </tbody>\n",
       "</table>\n",
       "</div>"
      ],
      "text/plain": [
       "                                                                                                     hypothesis  \\\n",
       "8                                                       Запустить акцию, дающую скидку на товар в день рождения   \n",
       "0            Добавить два новых канала привлечения трафика, что позволит привлекать на 30% больше пользователей   \n",
       "7              Добавить форму подписки на все основные страницы, чтобы собрать базу клиентов для email-рассылок   \n",
       "6          Показать на главной странице баннеры с актуальными акциями и распродажами, чтобы увеличить конверсию   \n",
       "2  Добавить блоки рекомендаций товаров на сайт интернет магазина, чтобы повысить конверсию и средний чек заказа   \n",
       "1                                     Запустить собственную службу доставки, что сократит срок доставки заказов   \n",
       "5                      Добавить страницу отзывов клиентов о магазине, что позволит увеличить количество заказов   \n",
       "3           Изменить структура категорий, что увеличит конверсию, т.к. пользователи быстрее найдут нужный товар   \n",
       "4                              Изменить цвет фона главной страницы, чтобы увеличить вовлеченность пользователей   \n",
       "\n",
       "     ice  \n",
       "8  16.20  \n",
       "0  13.33  \n",
       "7  11.20  \n",
       "6   8.00  \n",
       "2   7.00  \n",
       "1   2.00  \n",
       "5   1.33  \n",
       "3   1.12  \n",
       "4   1.00  "
      ]
     },
     "execution_count": 12,
     "metadata": {},
     "output_type": "execute_result"
    }
   ],
   "source": [
    "data['ice']=(data['impact']*data['confidence'])/data['efforts']\n",
    "data['ice'] = data['ice'].round(2)\n",
    "pd.options.display.max_colwidth = 210\n",
    "data[['hypothesis','ice']].sort_values(by = 'ice', ascending = False)\n",
    "\n"
   ]
  },
  {
   "cell_type": "markdown",
   "id": "03c170a1",
   "metadata": {},
   "source": [
    "<div class=\"alert alert-info\">\n",
    "<b>Михаил, спасибо, красиво получается и очень наглядно.</b>\n",
    "<br>\n",
    "</div>"
   ]
  },
  {
   "cell_type": "markdown",
   "id": "adb0fce4",
   "metadata": {},
   "source": [
    "_Что дает расчет и сортировка?_\n",
    "\n",
    "__При расчете  ICE  гипотезы  по убыванию: 8,0,7  заняли  тройку лидеров.__\n",
    "\n",
    "НО!! Важен не только  ранг который заняла гипотеза, но и количество баллов  при расчете по формулам.\n",
    "почему  произошло так?\n",
    "\n",
    "В гипотезе № 8  маркетологи и аналитики  сильно уверены в силе влияния на пользователей а также на собственную уверенность в анализе данных, затраты на  продвижение гипотезы-средние.\n",
    "Гипотеза № 0 похожа на ситуацию с гип-ой 8, но затраты на балл выше чем  у лидера поэтому она на 2 месте рейтинга.\n",
    "Гипотеза № 7  затраты на продвижение  как у гип-зы 8, но вот с уверенностью в оценке анализа данных, а также силы влияния  не такие высокие.\n",
    "\n",
    "__Аутсайдеры  рейтинга - гипотезы  5,3,4 в порядке убывания.__\n",
    "Почему с ними так обстоит дело?\n",
    "\n",
    "Гипотеза 5 - усилия по  затратам  на проверку гипотезы превосходят и уверенность и  силы влияния каждую на 1 балл. Слишком много усилий по отношению к impact & efforts.\n",
    "Гипотеза 3 - очень много усилий (затратно)  изменения, в то время как сила влияния и уверенности  низко (по 3 балла каждый показатель.\n",
    "Гипотеза 4 - все расчетные колл-ва баллов по 1  - самые низкие из всех баллов."
   ]
  },
  {
   "cell_type": "code",
   "execution_count": 13,
   "id": "3a142f2d",
   "metadata": {},
   "outputs": [
    {
     "name": "stdout",
     "output_type": "stream",
     "text": [
      "                                                                                                     hypothesis  \\\n",
      "7              Добавить форму подписки на все основные страницы, чтобы собрать базу клиентов для email-рассылок   \n",
      "2  Добавить блоки рекомендаций товаров на сайт интернет магазина, чтобы повысить конверсию и средний чек заказа   \n",
      "0            Добавить два новых канала привлечения трафика, что позволит привлекать на 30% больше пользователей   \n",
      "6          Показать на главной странице баннеры с актуальными акциями и распродажами, чтобы увеличить конверсию   \n",
      "8                                                       Запустить акцию, дающую скидку на товар в день рождения   \n",
      "3           Изменить структура категорий, что увеличит конверсию, т.к. пользователи быстрее найдут нужный товар   \n",
      "1                                     Запустить собственную службу доставки, что сократит срок доставки заказов   \n",
      "5                      Добавить страницу отзывов клиентов о магазине, что позволит увеличить количество заказов   \n",
      "4                              Изменить цвет фона главной страницы, чтобы увеличить вовлеченность пользователей   \n",
      "\n",
      "    rice  \n",
      "7  112.0  \n",
      "2   56.0  \n",
      "0   40.0  \n",
      "6   40.0  \n",
      "8   16.2  \n",
      "3    9.0  \n",
      "1    4.0  \n",
      "5    4.0  \n",
      "4    3.0  \n"
     ]
    }
   ],
   "source": [
    "# расчитаем  по формуле  RICE:\n",
    "\n",
    "data['rice']=(data['reach']*data['impact']*data['confidence'])/data['efforts']\n",
    "print(data[['hypothesis','rice']].sort_values(by = 'rice', ascending = False))"
   ]
  },
  {
   "cell_type": "markdown",
   "id": "223ec4b3",
   "metadata": {},
   "source": [
    "_При расчете RICE отметим что  формула иная и, соответственно, рейтинг  меняется._\n",
    "\n",
    "__Тройка лидеров по убыванию: гипотезы 7,2,0__\n",
    "\n",
    "Сильно влияют наивысшие баллы показателей которые присвоили аналитики и маркетологи (10).В то же время произведение react, impact,confidence по отношению к затратам имеют существенный вес. также заметим что баллы за усилия довольно  высоки, как, например 5  баллов   у гипотезы  № 7 и 6 баллов у гипотезы № 0).\n",
    "    \n",
    "__Тройка аутсайдеров по убыванию: 1,5,4__\n",
    "\n",
    "Характерно что затраты на проверку гипотезы, доп. разработки высоки(10 баллов в гипотезе №1 ) или не сильно  отличаются от других показателей по баллам по соотношению из произведений (гип-зы  5,4).\n"
   ]
  },
  {
   "cell_type": "markdown",
   "id": "0c5a6ed8",
   "metadata": {},
   "source": [
    "___"
   ]
  },
  {
   "cell_type": "markdown",
   "id": "c7ebe930",
   "metadata": {},
   "source": [
    "\n",
    "Видим что  среди тройки лидеров и в расчете  ICE  и в   RICE присутствуют гипотезы  № 7 и 0.\n",
    "\n",
    "Так же  как  среди тройки аутсайдеров и в расчете  ICE  и в RICE   присутствуют гипотезы № 5,4\n",
    "\n"
   ]
  },
  {
   "cell_type": "markdown",
   "id": "b4c33932",
   "metadata": {},
   "source": [
    "# __Предварительные  выводы:__\n",
    "\n",
    "__Необходимо точно оценивать каждый из параметров/показателей. Кроме силы гипотезы нужно учитывать как много пользователей затронет эта гипотеза.__"
   ]
  },
  {
   "cell_type": "markdown",
   "id": "f86df67e",
   "metadata": {},
   "source": [
    "___"
   ]
  },
  {
   "cell_type": "markdown",
   "id": "5c93e480",
   "metadata": {},
   "source": [
    "# __Часть 2. Анализ A/B-теста__\n",
    "\n",
    "Проведены A/B-тест и получили результаты, которые описаны в файлах: \n",
    "    \n",
    "- orders.csv и \n",
    "- visitors.csv\n",
    "\n"
   ]
  },
  {
   "cell_type": "markdown",
   "id": "36cd72ff",
   "metadata": {},
   "source": [
    "___"
   ]
  },
  {
   "cell_type": "code",
   "execution_count": 14,
   "id": "8360d4de",
   "metadata": {},
   "outputs": [],
   "source": [
    "# пропишем пути для загрузки данных\n",
    "try:\n",
    "     orders, visitors  = (\n",
    "         pd.read_csv(r'C:\\Users\\orders.csv',sep = ','),\n",
    "         pd.read_csv(r'C:\\Users\\visitors.csv',sep = ','))\n",
    "except:\n",
    "     orders, visitors  = (\n",
    "         pd.read_csv('/datasets/orders.csv',sep = ','),\n",
    "         pd.read_csv('/datasets/visitors.csv',sep = ','))\n"
   ]
  },
  {
   "cell_type": "code",
   "execution_count": 15,
   "id": "979de0ae",
   "metadata": {},
   "outputs": [
    {
     "data": {
      "text/html": [
       "<div>\n",
       "<style scoped>\n",
       "    .dataframe tbody tr th:only-of-type {\n",
       "        vertical-align: middle;\n",
       "    }\n",
       "\n",
       "    .dataframe tbody tr th {\n",
       "        vertical-align: top;\n",
       "    }\n",
       "\n",
       "    .dataframe thead th {\n",
       "        text-align: right;\n",
       "    }\n",
       "</style>\n",
       "<table border=\"1\" class=\"dataframe\">\n",
       "  <thead>\n",
       "    <tr style=\"text-align: right;\">\n",
       "      <th></th>\n",
       "      <th>transactionId</th>\n",
       "      <th>visitorId</th>\n",
       "      <th>date</th>\n",
       "      <th>revenue</th>\n",
       "      <th>group</th>\n",
       "    </tr>\n",
       "  </thead>\n",
       "  <tbody>\n",
       "    <tr>\n",
       "      <th>0</th>\n",
       "      <td>3667963787</td>\n",
       "      <td>3312258926</td>\n",
       "      <td>2019-08-15</td>\n",
       "      <td>1650</td>\n",
       "      <td>B</td>\n",
       "    </tr>\n",
       "    <tr>\n",
       "      <th>1</th>\n",
       "      <td>2804400009</td>\n",
       "      <td>3642806036</td>\n",
       "      <td>2019-08-15</td>\n",
       "      <td>730</td>\n",
       "      <td>B</td>\n",
       "    </tr>\n",
       "    <tr>\n",
       "      <th>2</th>\n",
       "      <td>2961555356</td>\n",
       "      <td>4069496402</td>\n",
       "      <td>2019-08-15</td>\n",
       "      <td>400</td>\n",
       "      <td>A</td>\n",
       "    </tr>\n",
       "    <tr>\n",
       "      <th>3</th>\n",
       "      <td>3797467345</td>\n",
       "      <td>1196621759</td>\n",
       "      <td>2019-08-15</td>\n",
       "      <td>9759</td>\n",
       "      <td>B</td>\n",
       "    </tr>\n",
       "    <tr>\n",
       "      <th>4</th>\n",
       "      <td>2282983706</td>\n",
       "      <td>2322279887</td>\n",
       "      <td>2019-08-15</td>\n",
       "      <td>2308</td>\n",
       "      <td>B</td>\n",
       "    </tr>\n",
       "  </tbody>\n",
       "</table>\n",
       "</div>"
      ],
      "text/plain": [
       "   transactionId   visitorId        date  revenue group\n",
       "0     3667963787  3312258926  2019-08-15     1650     B\n",
       "1     2804400009  3642806036  2019-08-15      730     B\n",
       "2     2961555356  4069496402  2019-08-15      400     A\n",
       "3     3797467345  1196621759  2019-08-15     9759     B\n",
       "4     2282983706  2322279887  2019-08-15     2308     B"
      ]
     },
     "execution_count": 15,
     "metadata": {},
     "output_type": "execute_result"
    }
   ],
   "source": [
    "#не знаем сколько данных, записей, поэтому  из каждого ДФ  выведем по 5 первых строк\n",
    "\n",
    "orders.head(5)"
   ]
  },
  {
   "cell_type": "code",
   "execution_count": 16,
   "id": "61e5f5f5",
   "metadata": {},
   "outputs": [
    {
     "data": {
      "text/html": [
       "<div>\n",
       "<style scoped>\n",
       "    .dataframe tbody tr th:only-of-type {\n",
       "        vertical-align: middle;\n",
       "    }\n",
       "\n",
       "    .dataframe tbody tr th {\n",
       "        vertical-align: top;\n",
       "    }\n",
       "\n",
       "    .dataframe thead th {\n",
       "        text-align: right;\n",
       "    }\n",
       "</style>\n",
       "<table border=\"1\" class=\"dataframe\">\n",
       "  <thead>\n",
       "    <tr style=\"text-align: right;\">\n",
       "      <th></th>\n",
       "      <th>date</th>\n",
       "      <th>group</th>\n",
       "      <th>visitors</th>\n",
       "    </tr>\n",
       "  </thead>\n",
       "  <tbody>\n",
       "    <tr>\n",
       "      <th>0</th>\n",
       "      <td>2019-08-01</td>\n",
       "      <td>A</td>\n",
       "      <td>719</td>\n",
       "    </tr>\n",
       "    <tr>\n",
       "      <th>1</th>\n",
       "      <td>2019-08-02</td>\n",
       "      <td>A</td>\n",
       "      <td>619</td>\n",
       "    </tr>\n",
       "    <tr>\n",
       "      <th>2</th>\n",
       "      <td>2019-08-03</td>\n",
       "      <td>A</td>\n",
       "      <td>507</td>\n",
       "    </tr>\n",
       "    <tr>\n",
       "      <th>3</th>\n",
       "      <td>2019-08-04</td>\n",
       "      <td>A</td>\n",
       "      <td>717</td>\n",
       "    </tr>\n",
       "    <tr>\n",
       "      <th>4</th>\n",
       "      <td>2019-08-05</td>\n",
       "      <td>A</td>\n",
       "      <td>756</td>\n",
       "    </tr>\n",
       "  </tbody>\n",
       "</table>\n",
       "</div>"
      ],
      "text/plain": [
       "         date group  visitors\n",
       "0  2019-08-01     A       719\n",
       "1  2019-08-02     A       619\n",
       "2  2019-08-03     A       507\n",
       "3  2019-08-04     A       717\n",
       "4  2019-08-05     A       756"
      ]
     },
     "execution_count": 16,
     "metadata": {},
     "output_type": "execute_result"
    }
   ],
   "source": [
    "# выведем 5 первых строк\n",
    "visitors.head(5)"
   ]
  },
  {
   "cell_type": "markdown",
   "id": "366fed59",
   "metadata": {},
   "source": [
    "Какие данные содержат  колонки?\n",
    "\n",
    "_Файл orders.csv_\n",
    "\n",
    "- transactionId — идентификатор заказа;\n",
    "- visitorId — идентификатор пользователя, совершившего заказ;\n",
    "- date — дата, когда был совершён заказ;\n",
    "- revenue — выручка заказа;\n",
    "- group — группа A/B-теста, в которую попал заказ.\n",
    "\n",
    "_Файл visitors.csv_\n",
    "\n",
    "- date — дата;\n",
    "- group — группа A/B-теста;\n",
    "- visitors — количество пользователей в указанную дату в указанной группе A/B-теста\n"
   ]
  },
  {
   "cell_type": "code",
   "execution_count": 17,
   "id": "e531425d",
   "metadata": {
    "scrolled": true
   },
   "outputs": [
    {
     "data": {
      "text/plain": [
       "'Выведем информацию по  имеющимся в файле Данным'"
      ]
     },
     "metadata": {},
     "output_type": "display_data"
    },
    {
     "name": "stdout",
     "output_type": "stream",
     "text": [
      "<class 'pandas.core.frame.DataFrame'>\n",
      "RangeIndex: 1197 entries, 0 to 1196\n",
      "Data columns (total 5 columns):\n",
      " #   Column         Non-Null Count  Dtype \n",
      "---  ------         --------------  ----- \n",
      " 0   transactionId  1197 non-null   int64 \n",
      " 1   visitorId      1197 non-null   int64 \n",
      " 2   date           1197 non-null   object\n",
      " 3   revenue        1197 non-null   int64 \n",
      " 4   group          1197 non-null   object\n",
      "dtypes: int64(3), object(2)\n",
      "memory usage: 46.9+ KB\n"
     ]
    },
    {
     "data": {
      "text/plain": [
       "None"
      ]
     },
     "metadata": {},
     "output_type": "display_data"
    },
    {
     "data": {
      "text/plain": [
       "'----------'"
      ]
     },
     "metadata": {},
     "output_type": "display_data"
    },
    {
     "data": {
      "text/plain": [
       "'Есть ли пропуски в  Данных и их количество'"
      ]
     },
     "metadata": {},
     "output_type": "display_data"
    },
    {
     "data": {
      "text/plain": [
       "transactionId    0\n",
       "visitorId        0\n",
       "date             0\n",
       "revenue          0\n",
       "group            0\n",
       "dtype: int64"
      ]
     },
     "metadata": {},
     "output_type": "display_data"
    },
    {
     "data": {
      "text/plain": [
       "'----------'"
      ]
     },
     "metadata": {},
     "output_type": "display_data"
    },
    {
     "data": {
      "text/plain": [
       "'Какое количество дубликатов в  Данных'"
      ]
     },
     "metadata": {},
     "output_type": "display_data"
    },
    {
     "data": {
      "text/plain": [
       "'----------'"
      ]
     },
     "metadata": {},
     "output_type": "display_data"
    }
   ],
   "source": [
    "# выведем данные ДФ\n",
    "showtime(orders) "
   ]
  },
  {
   "cell_type": "code",
   "execution_count": 18,
   "id": "febd402d",
   "metadata": {},
   "outputs": [
    {
     "data": {
      "text/plain": [
       "1197"
      ]
     },
     "execution_count": 18,
     "metadata": {},
     "output_type": "execute_result"
    }
   ],
   "source": [
    "# количество строк (длина) ДФ  orders\n",
    "len(orders)"
   ]
  },
  {
   "cell_type": "code",
   "execution_count": 19,
   "id": "ef66972f",
   "metadata": {},
   "outputs": [
    {
     "data": {
      "text/plain": [
       "Index(['transactionId', 'visitorId', 'date', 'revenue', 'group'], dtype='object')"
      ]
     },
     "execution_count": 19,
     "metadata": {},
     "output_type": "execute_result"
    }
   ],
   "source": [
    "# узнаем точно как называются колонки в ДФ\n",
    "orders.columns"
   ]
  },
  {
   "cell_type": "code",
   "execution_count": 20,
   "id": "2e54d681",
   "metadata": {},
   "outputs": [
    {
     "data": {
      "text/plain": [
       "'Выведем информацию по  имеющимся в файле Данным'"
      ]
     },
     "metadata": {},
     "output_type": "display_data"
    },
    {
     "name": "stdout",
     "output_type": "stream",
     "text": [
      "<class 'pandas.core.frame.DataFrame'>\n",
      "RangeIndex: 62 entries, 0 to 61\n",
      "Data columns (total 3 columns):\n",
      " #   Column    Non-Null Count  Dtype \n",
      "---  ------    --------------  ----- \n",
      " 0   date      62 non-null     object\n",
      " 1   group     62 non-null     object\n",
      " 2   visitors  62 non-null     int64 \n",
      "dtypes: int64(1), object(2)\n",
      "memory usage: 1.6+ KB\n"
     ]
    },
    {
     "data": {
      "text/plain": [
       "None"
      ]
     },
     "metadata": {},
     "output_type": "display_data"
    },
    {
     "data": {
      "text/plain": [
       "'----------'"
      ]
     },
     "metadata": {},
     "output_type": "display_data"
    },
    {
     "data": {
      "text/plain": [
       "'Есть ли пропуски в  Данных и их количество'"
      ]
     },
     "metadata": {},
     "output_type": "display_data"
    },
    {
     "data": {
      "text/plain": [
       "date        0\n",
       "group       0\n",
       "visitors    0\n",
       "dtype: int64"
      ]
     },
     "metadata": {},
     "output_type": "display_data"
    },
    {
     "data": {
      "text/plain": [
       "'----------'"
      ]
     },
     "metadata": {},
     "output_type": "display_data"
    },
    {
     "data": {
      "text/plain": [
       "'Какое количество дубликатов в  Данных'"
      ]
     },
     "metadata": {},
     "output_type": "display_data"
    },
    {
     "data": {
      "text/plain": [
       "'----------'"
      ]
     },
     "metadata": {},
     "output_type": "display_data"
    }
   ],
   "source": [
    "# выведем данные ДФ\n",
    "showtime(visitors) "
   ]
  },
  {
   "cell_type": "code",
   "execution_count": 21,
   "id": "ad753f19",
   "metadata": {},
   "outputs": [
    {
     "data": {
      "text/plain": [
       "62"
      ]
     },
     "execution_count": 21,
     "metadata": {},
     "output_type": "execute_result"
    }
   ],
   "source": [
    "# количество строк (длина) ДФ  orders\n",
    "len(visitors)"
   ]
  },
  {
   "cell_type": "code",
   "execution_count": 22,
   "id": "a33a0a7b",
   "metadata": {},
   "outputs": [
    {
     "data": {
      "text/plain": [
       "Index(['date', 'group', 'visitors'], dtype='object')"
      ]
     },
     "execution_count": 22,
     "metadata": {},
     "output_type": "execute_result"
    }
   ],
   "source": [
    "# узнаем точно как называются колонки в ДФ\n",
    "visitors.columns"
   ]
  },
  {
   "cell_type": "markdown",
   "id": "c90f0023",
   "metadata": {},
   "source": [
    "\n",
    "Колонки transactionId  & visitorId  в ДФ orders переведем  в Питоньий стиль и переименуем на transaction_id  & visitor_id\n",
    "\n",
    "Поменяем  вид данных  date  из строкового в  datetime\n"
   ]
  },
  {
   "cell_type": "code",
   "execution_count": 23,
   "id": "a5d31d49",
   "metadata": {},
   "outputs": [],
   "source": [
    "orders = orders.rename(columns = {'transactionId':'transaction_id', 'visitorId':'visitor_id'})\n",
    "\n",
    "###########\n",
    "\n",
    "orders['date'] = orders['date'].map(lambda x: dt.datetime.strptime(x, '%Y-%m-%d'))\n",
    "visitors['date'] = visitors['date'].map(lambda x: dt.datetime.strptime(x, '%Y-%m-%d'))"
   ]
  },
  {
   "cell_type": "code",
   "execution_count": 24,
   "id": "06d61f91",
   "metadata": {},
   "outputs": [
    {
     "name": "stdout",
     "output_type": "stream",
     "text": [
      "<class 'pandas.core.frame.DataFrame'>\n",
      "RangeIndex: 1197 entries, 0 to 1196\n",
      "Data columns (total 5 columns):\n",
      " #   Column          Non-Null Count  Dtype         \n",
      "---  ------          --------------  -----         \n",
      " 0   transaction_id  1197 non-null   int64         \n",
      " 1   visitor_id      1197 non-null   int64         \n",
      " 2   date            1197 non-null   datetime64[ns]\n",
      " 3   revenue         1197 non-null   int64         \n",
      " 4   group           1197 non-null   object        \n",
      "dtypes: datetime64[ns](1), int64(3), object(1)\n",
      "memory usage: 46.9+ KB\n"
     ]
    }
   ],
   "source": [
    "# проверим что  изменения в колонках \"принялись\"\n",
    "orders.info()"
   ]
  },
  {
   "cell_type": "code",
   "execution_count": 25,
   "id": "a860b803",
   "metadata": {},
   "outputs": [
    {
     "name": "stdout",
     "output_type": "stream",
     "text": [
      "<class 'pandas.core.frame.DataFrame'>\n",
      "RangeIndex: 62 entries, 0 to 61\n",
      "Data columns (total 3 columns):\n",
      " #   Column    Non-Null Count  Dtype         \n",
      "---  ------    --------------  -----         \n",
      " 0   date      62 non-null     datetime64[ns]\n",
      " 1   group     62 non-null     object        \n",
      " 2   visitors  62 non-null     int64         \n",
      "dtypes: datetime64[ns](1), int64(1), object(1)\n",
      "memory usage: 1.6+ KB\n"
     ]
    }
   ],
   "source": [
    "visitors.info()"
   ]
  },
  {
   "cell_type": "markdown",
   "id": "bb44fabe",
   "metadata": {},
   "source": [
    "# __Задача__\n",
    "\n",
    "_Проанализировать A/B-тест:_"
   ]
  },
  {
   "cell_type": "code",
   "execution_count": 26,
   "id": "3322b6e7",
   "metadata": {},
   "outputs": [
    {
     "name": "stdout",
     "output_type": "stream",
     "text": [
      "В данных файла  orders количество групп - 2\n",
      "В данных файла  visitors количество групп - 2\n",
      "В данных файла  orders данные доступны  в период с  - 2019-08-01 00:00:00 по 2019-08-31 00:00:00 \n",
      "В данных файла  visitors данные доступны  в период с  - 2019-08-01 00:00:00 по 2019-08-31 00:00:00\n"
     ]
    }
   ],
   "source": [
    "groups_orders = orders.group.nunique()\n",
    "groups_visitors = visitors.group.nunique()\n",
    "\n",
    "groups_date_min = orders.date.min()\n",
    "groups_date_max = orders.date.max()\n",
    "groups_visitors_min = visitors.date.min()\n",
    "groups_visitors_max = visitors.date.max()\n",
    "\n",
    "print(f'В данных файла  orders количество групп - {groups_orders}')\n",
    "print(f'В данных файла  visitors количество групп - {groups_visitors}')\n",
    "print(f'В данных файла  orders данные доступны  в период с  - {groups_date_min} по {groups_date_max} ')\n",
    "print(f'В данных файла  visitors данные доступны  в период с  - {groups_visitors_min} по {groups_visitors_max}')"
   ]
  },
  {
   "cell_type": "markdown",
   "id": "a76b1f20",
   "metadata": {},
   "source": [
    "Количество групп и  минимальные\\максимальные даты  проведения тестов совпадают."
   ]
  },
  {
   "cell_type": "code",
   "execution_count": 27,
   "id": "f2db1bc8",
   "metadata": {},
   "outputs": [
    {
     "data": {
      "text/html": [
       "<div>\n",
       "<style scoped>\n",
       "    .dataframe tbody tr th:only-of-type {\n",
       "        vertical-align: middle;\n",
       "    }\n",
       "\n",
       "    .dataframe tbody tr th {\n",
       "        vertical-align: top;\n",
       "    }\n",
       "\n",
       "    .dataframe thead th {\n",
       "        text-align: right;\n",
       "    }\n",
       "</style>\n",
       "<table border=\"1\" class=\"dataframe\">\n",
       "  <thead>\n",
       "    <tr style=\"text-align: right;\">\n",
       "      <th></th>\n",
       "      <th>visitor_id</th>\n",
       "    </tr>\n",
       "    <tr>\n",
       "      <th>group</th>\n",
       "      <th></th>\n",
       "    </tr>\n",
       "  </thead>\n",
       "  <tbody>\n",
       "    <tr>\n",
       "      <th>A</th>\n",
       "      <td>503</td>\n",
       "    </tr>\n",
       "    <tr>\n",
       "      <th>B</th>\n",
       "      <td>586</td>\n",
       "    </tr>\n",
       "  </tbody>\n",
       "</table>\n",
       "</div>"
      ],
      "text/plain": [
       "       visitor_id\n",
       "group            \n",
       "A             503\n",
       "B             586"
      ]
     },
     "execution_count": 27,
     "metadata": {},
     "output_type": "execute_result"
    }
   ],
   "source": [
    "uniq_visit_orders = orders.groupby('group').agg({'visitor_id':'nunique'})\n",
    "uniq_visit_orders"
   ]
  },
  {
   "cell_type": "markdown",
   "id": "239a1de4",
   "metadata": {},
   "source": [
    "Количество уникальных участников по группама: а = 503 чел., в = 586 чел."
   ]
  },
  {
   "cell_type": "code",
   "execution_count": 28,
   "id": "e8c01768",
   "metadata": {},
   "outputs": [
    {
     "name": "stdout",
     "output_type": "stream",
     "text": [
      "Количество записей  по группе А - 31\n",
      "Количество записей  по группе B - 31\n"
     ]
    }
   ],
   "source": [
    "a_group_list = len(visitors[visitors['group'] == 'A']) \n",
    "b_group_list = len(visitors[visitors['group'] == 'B']) \n",
    "print(f'Количество записей  по группе А - {a_group_list}')\n",
    "print(f'Количество записей  по группе B - {b_group_list}')"
   ]
  },
  {
   "cell_type": "code",
   "execution_count": 29,
   "id": "3b08b630",
   "metadata": {},
   "outputs": [
    {
     "data": {
      "text/plain": [
       "58"
      ]
     },
     "execution_count": 29,
     "metadata": {},
     "output_type": "execute_result"
    }
   ],
   "source": [
    "z = (np.intersect1d(orders.query('group == \"A\"')['visitor_id'], orders.query(\n",
    "'group == \"B\"')['visitor_id'], assume_unique = False))\n",
    "len(z)"
   ]
  },
  {
   "cell_type": "markdown",
   "id": "bd13db0b",
   "metadata": {},
   "source": [
    "2 вариант проверки(если права) :"
   ]
  },
  {
   "cell_type": "code",
   "execution_count": 69,
   "id": "5e7893cd",
   "metadata": {
    "collapsed": true
   },
   "outputs": [
    {
     "ename": "AttributeError",
     "evalue": "'numpy.ndarray' object has no attribute 'equals'",
     "output_type": "error",
     "traceback": [
      "\u001b[1;31m---------------------------------------------------------------------------\u001b[0m",
      "\u001b[1;31mAttributeError\u001b[0m                            Traceback (most recent call last)",
      "Input \u001b[1;32mIn [69]\u001b[0m, in \u001b[0;36m<cell line: 3>\u001b[1;34m()\u001b[0m\n\u001b[0;32m      1\u001b[0m a \u001b[38;5;241m=\u001b[39m orders[orders[\u001b[38;5;124m'\u001b[39m\u001b[38;5;124mgroup\u001b[39m\u001b[38;5;124m'\u001b[39m]\u001b[38;5;241m==\u001b[39m\u001b[38;5;124m'\u001b[39m\u001b[38;5;124mA\u001b[39m\u001b[38;5;124m'\u001b[39m][\u001b[38;5;124m'\u001b[39m\u001b[38;5;124mvisitor_id\u001b[39m\u001b[38;5;124m'\u001b[39m]\u001b[38;5;241m.\u001b[39munique()\n\u001b[0;32m      2\u001b[0m b \u001b[38;5;241m=\u001b[39m orders[orders[\u001b[38;5;124m'\u001b[39m\u001b[38;5;124mgroup\u001b[39m\u001b[38;5;124m'\u001b[39m]\u001b[38;5;241m==\u001b[39m\u001b[38;5;124m'\u001b[39m\u001b[38;5;124mB\u001b[39m\u001b[38;5;124m'\u001b[39m][\u001b[38;5;124m'\u001b[39m\u001b[38;5;124mvisitor_id\u001b[39m\u001b[38;5;124m'\u001b[39m]\u001b[38;5;241m.\u001b[39munique()\n\u001b[1;32m----> 3\u001b[0m result \u001b[38;5;241m=\u001b[39m \u001b[43ma\u001b[49m\u001b[38;5;241;43m.\u001b[39;49m\u001b[43mequals\u001b[49m(other\u001b[38;5;241m=\u001b[39mb)\n\u001b[0;32m      4\u001b[0m \u001b[38;5;28mprint\u001b[39m(result)\n",
      "\u001b[1;31mAttributeError\u001b[0m: 'numpy.ndarray' object has no attribute 'equals'"
     ]
    }
   ],
   "source": [
    "a = orders[orders['group']=='A']['visitor_id'].unique()\n",
    "b = orders[orders['group']=='B']['visitor_id'].unique()\n",
    "result = a.equals(other=b)\n",
    "print(result)"
   ]
  },
  {
   "cell_type": "code",
   "execution_count": 70,
   "id": "76334447",
   "metadata": {},
   "outputs": [
    {
     "data": {
      "text/plain": [
       "503"
      ]
     },
     "execution_count": 70,
     "metadata": {},
     "output_type": "execute_result"
    }
   ],
   "source": [
    "len(a) # количество уникальных значений группы А\n"
   ]
  },
  {
   "cell_type": "code",
   "execution_count": 71,
   "id": "391bec29",
   "metadata": {},
   "outputs": [
    {
     "data": {
      "text/plain": [
       "586"
      ]
     },
     "execution_count": 71,
     "metadata": {},
     "output_type": "execute_result"
    }
   ],
   "source": [
    "len(b) # количество уникальных значений группы B"
   ]
  },
  {
   "cell_type": "code",
   "execution_count": 33,
   "id": "7772b920",
   "metadata": {},
   "outputs": [
    {
     "name": "stdout",
     "output_type": "stream",
     "text": [
      "503\n",
      "586\n"
     ]
    }
   ],
   "source": [
    "y = orders[orders['group']=='A']['visitor_id'].unique()\n",
    "t = orders[orders['group']=='B']['visitor_id'].unique()\n",
    "\n"
   ]
  },
  {
   "cell_type": "raw",
   "id": "3ca2af9d",
   "metadata": {},
   "source": [
    "for i in a:\n",
    "    for k in b:\n",
    "        if i in b:\n",
    "            print(i)\n",
    "        else:\n",
    "            print('no') # большое окно с выводом получилось\n",
    "            #пришлось закомментировать, иначе окно очень длинное получается"
   ]
  },
  {
   "cell_type": "code",
   "execution_count": 68,
   "id": "e9f356fe",
   "metadata": {},
   "outputs": [
    {
     "data": {
      "text/plain": [
       "58"
      ]
     },
     "execution_count": 68,
     "metadata": {},
     "output_type": "execute_result"
    }
   ],
   "source": [
    "e = []\n",
    "for i in y:\n",
    "    for k in t:\n",
    "        if i == k:\n",
    "           e.append(i)\n",
    "len(e)"
   ]
  },
  {
   "cell_type": "markdown",
   "id": "f85c1a4c",
   "metadata": {},
   "source": [
    "Результат: в группах А и В  разные id посетителей."
   ]
  },
  {
   "cell_type": "markdown",
   "id": "6dee2842",
   "metadata": {},
   "source": [
    "__Построим график кумулятивной выручки по группам. Сделаем выводы и предположения.__"
   ]
  },
  {
   "cell_type": "markdown",
   "id": "f2d7271c",
   "metadata": {},
   "source": [
    "Чтобы построить графики, нужно собрать кумулятивные данные. Объявим датафрейм cumulativeData со столбцами: date — дата; group — группа A/B-теста (A или B); orders — кумулятивное количество заказов на указанную дату в указанной группе; buyers — кумулятивное количество пользователей, совершивших хотя бы один заказ, на указанную дату в указанной группе; revenue — кумулятивная выручка на указанную дату в указанной группе (средний чек); visitors — кумулятивное количество посетителей интернет-магазина на указанную дату в определённой группе.\n",
    "Создадим массив уникальных пар значений дат и групп теста методом drop_duplicates(): "
   ]
  },
  {
   "cell_type": "code",
   "execution_count": 37,
   "id": "6e4821d9",
   "metadata": {},
   "outputs": [
    {
     "data": {
      "text/html": [
       "<div>\n",
       "<style scoped>\n",
       "    .dataframe tbody tr th:only-of-type {\n",
       "        vertical-align: middle;\n",
       "    }\n",
       "\n",
       "    .dataframe tbody tr th {\n",
       "        vertical-align: top;\n",
       "    }\n",
       "\n",
       "    .dataframe thead th {\n",
       "        text-align: right;\n",
       "    }\n",
       "</style>\n",
       "<table border=\"1\" class=\"dataframe\">\n",
       "  <thead>\n",
       "    <tr style=\"text-align: right;\">\n",
       "      <th></th>\n",
       "      <th>date</th>\n",
       "      <th>group</th>\n",
       "    </tr>\n",
       "  </thead>\n",
       "  <tbody>\n",
       "    <tr>\n",
       "      <th>0</th>\n",
       "      <td>2019-08-15</td>\n",
       "      <td>B</td>\n",
       "    </tr>\n",
       "    <tr>\n",
       "      <th>2</th>\n",
       "      <td>2019-08-15</td>\n",
       "      <td>A</td>\n",
       "    </tr>\n",
       "    <tr>\n",
       "      <th>45</th>\n",
       "      <td>2019-08-16</td>\n",
       "      <td>A</td>\n",
       "    </tr>\n",
       "    <tr>\n",
       "      <th>47</th>\n",
       "      <td>2019-08-16</td>\n",
       "      <td>B</td>\n",
       "    </tr>\n",
       "    <tr>\n",
       "      <th>55</th>\n",
       "      <td>2019-08-01</td>\n",
       "      <td>A</td>\n",
       "    </tr>\n",
       "  </tbody>\n",
       "</table>\n",
       "</div>"
      ],
      "text/plain": [
       "         date group\n",
       "0  2019-08-15     B\n",
       "2  2019-08-15     A\n",
       "45 2019-08-16     A\n",
       "47 2019-08-16     B\n",
       "55 2019-08-01     A"
      ]
     },
     "execution_count": 37,
     "metadata": {},
     "output_type": "execute_result"
    }
   ],
   "source": [
    "# создаем массив уникальных пар значений дат и групп теста\n",
    "\n",
    "dates_groups = orders[['date','group']].drop_duplicates()\n",
    "\n",
    "dates_groups.head()"
   ]
  },
  {
   "cell_type": "markdown",
   "id": "197ec684",
   "metadata": {},
   "source": [
    "Отберём агрегированные кумулятивные по дням данные о заказах. Получим строки таблицы orders, дата которых меньше или равна дате элемента из datesGroups, а группа теста равна группе из dates_groups:\n",
    "\n",
    "Агрегируем значения. Вычислим максимальную дату. Для группы тоже рассчитаем максимум, и хотя она будет определённой, сделаем это, чтобы столбец 'group' не пропал из итогового вывода. Найдём число уникальных ID заказов и пользователей. Подсчитаем сумму средних чеков. Применим методы к каждой строке датафрейма: apply(axis=1) и отсортируем результаты по столбцам 'date' и 'group':"
   ]
  },
  {
   "cell_type": "code",
   "execution_count": 38,
   "id": "e3e8d60c",
   "metadata": {},
   "outputs": [
    {
     "data": {
      "text/html": [
       "<div>\n",
       "<style scoped>\n",
       "    .dataframe tbody tr th:only-of-type {\n",
       "        vertical-align: middle;\n",
       "    }\n",
       "\n",
       "    .dataframe tbody tr th {\n",
       "        vertical-align: top;\n",
       "    }\n",
       "\n",
       "    .dataframe thead th {\n",
       "        text-align: right;\n",
       "    }\n",
       "</style>\n",
       "<table border=\"1\" class=\"dataframe\">\n",
       "  <thead>\n",
       "    <tr style=\"text-align: right;\">\n",
       "      <th></th>\n",
       "      <th>date</th>\n",
       "      <th>group</th>\n",
       "      <th>transaction_id</th>\n",
       "      <th>visitor_id</th>\n",
       "      <th>revenue</th>\n",
       "    </tr>\n",
       "  </thead>\n",
       "  <tbody>\n",
       "    <tr>\n",
       "      <th>55</th>\n",
       "      <td>2019-08-01</td>\n",
       "      <td>A</td>\n",
       "      <td>24</td>\n",
       "      <td>20</td>\n",
       "      <td>148579</td>\n",
       "    </tr>\n",
       "    <tr>\n",
       "      <th>66</th>\n",
       "      <td>2019-08-01</td>\n",
       "      <td>B</td>\n",
       "      <td>21</td>\n",
       "      <td>20</td>\n",
       "      <td>101217</td>\n",
       "    </tr>\n",
       "    <tr>\n",
       "      <th>175</th>\n",
       "      <td>2019-08-02</td>\n",
       "      <td>A</td>\n",
       "      <td>44</td>\n",
       "      <td>38</td>\n",
       "      <td>242401</td>\n",
       "    </tr>\n",
       "    <tr>\n",
       "      <th>173</th>\n",
       "      <td>2019-08-02</td>\n",
       "      <td>B</td>\n",
       "      <td>45</td>\n",
       "      <td>43</td>\n",
       "      <td>266748</td>\n",
       "    </tr>\n",
       "    <tr>\n",
       "      <th>291</th>\n",
       "      <td>2019-08-03</td>\n",
       "      <td>A</td>\n",
       "      <td>68</td>\n",
       "      <td>62</td>\n",
       "      <td>354874</td>\n",
       "    </tr>\n",
       "  </tbody>\n",
       "</table>\n",
       "</div>"
      ],
      "text/plain": [
       "          date group  transaction_id  visitor_id  revenue\n",
       "55  2019-08-01     A              24          20   148579\n",
       "66  2019-08-01     B              21          20   101217\n",
       "175 2019-08-02     A              44          38   242401\n",
       "173 2019-08-02     B              45          43   266748\n",
       "291 2019-08-03     A              68          62   354874"
      ]
     },
     "execution_count": 38,
     "metadata": {},
     "output_type": "execute_result"
    }
   ],
   "source": [
    "orders_aggregated = dates_groups.apply(lambda x: orders[np.logical_and(orders['date'] <= \\\n",
    "                  x['date'], orders['group'] == x['group'])].agg({'date' : 'max', 'group' : 'max', \\\n",
    "                  'transaction_id' : 'nunique', 'visitor_id' : 'nunique', 'revenue' : 'sum'}), \\\n",
    "                    axis=1).sort_values(by=['date','group'])\n",
    "\n",
    "orders_aggregated.head()"
   ]
  },
  {
   "cell_type": "markdown",
   "id": "744ac0e0",
   "metadata": {},
   "source": [
    "Код работает так, будто мы ежедневно считали результаты тестирования до выбранного дня включительно и сохраняли их в строках таблицы orders_aggregated.\n",
    "\n",
    "Аналогично получим агрегированные кумулятивные по дням данные о посетителях интернет-магазина:"
   ]
  },
  {
   "cell_type": "code",
   "execution_count": 39,
   "id": "d1234d80",
   "metadata": {},
   "outputs": [
    {
     "data": {
      "text/html": [
       "<div>\n",
       "<style scoped>\n",
       "    .dataframe tbody tr th:only-of-type {\n",
       "        vertical-align: middle;\n",
       "    }\n",
       "\n",
       "    .dataframe tbody tr th {\n",
       "        vertical-align: top;\n",
       "    }\n",
       "\n",
       "    .dataframe thead th {\n",
       "        text-align: right;\n",
       "    }\n",
       "</style>\n",
       "<table border=\"1\" class=\"dataframe\">\n",
       "  <thead>\n",
       "    <tr style=\"text-align: right;\">\n",
       "      <th></th>\n",
       "      <th>date</th>\n",
       "      <th>group</th>\n",
       "      <th>visitors</th>\n",
       "    </tr>\n",
       "  </thead>\n",
       "  <tbody>\n",
       "    <tr>\n",
       "      <th>55</th>\n",
       "      <td>2019-08-01</td>\n",
       "      <td>A</td>\n",
       "      <td>719</td>\n",
       "    </tr>\n",
       "    <tr>\n",
       "      <th>66</th>\n",
       "      <td>2019-08-01</td>\n",
       "      <td>B</td>\n",
       "      <td>713</td>\n",
       "    </tr>\n",
       "    <tr>\n",
       "      <th>175</th>\n",
       "      <td>2019-08-02</td>\n",
       "      <td>A</td>\n",
       "      <td>1338</td>\n",
       "    </tr>\n",
       "    <tr>\n",
       "      <th>173</th>\n",
       "      <td>2019-08-02</td>\n",
       "      <td>B</td>\n",
       "      <td>1294</td>\n",
       "    </tr>\n",
       "    <tr>\n",
       "      <th>291</th>\n",
       "      <td>2019-08-03</td>\n",
       "      <td>A</td>\n",
       "      <td>1845</td>\n",
       "    </tr>\n",
       "  </tbody>\n",
       "</table>\n",
       "</div>"
      ],
      "text/plain": [
       "          date group  visitors\n",
       "55  2019-08-01     A       719\n",
       "66  2019-08-01     B       713\n",
       "175 2019-08-02     A      1338\n",
       "173 2019-08-02     B      1294\n",
       "291 2019-08-03     A      1845"
      ]
     },
     "execution_count": 39,
     "metadata": {},
     "output_type": "execute_result"
    }
   ],
   "source": [
    "visitors_aggregated = dates_groups.apply(lambda x: visitors[np.logical_and(visitors['date']\\\n",
    "        <= x['date'], visitors['group'] == x['group'])].agg({'date' : 'max', 'group' : 'max',\\\n",
    "        'visitors' : 'sum'}), axis=1).sort_values(by=['date','group'])\n",
    "\n",
    "visitors_aggregated.head()"
   ]
  },
  {
   "cell_type": "code",
   "execution_count": 40,
   "id": "942725dc",
   "metadata": {},
   "outputs": [
    {
     "data": {
      "text/html": [
       "<div>\n",
       "<style scoped>\n",
       "    .dataframe tbody tr th:only-of-type {\n",
       "        vertical-align: middle;\n",
       "    }\n",
       "\n",
       "    .dataframe tbody tr th {\n",
       "        vertical-align: top;\n",
       "    }\n",
       "\n",
       "    .dataframe thead th {\n",
       "        text-align: right;\n",
       "    }\n",
       "</style>\n",
       "<table border=\"1\" class=\"dataframe\">\n",
       "  <thead>\n",
       "    <tr style=\"text-align: right;\">\n",
       "      <th></th>\n",
       "      <th>date</th>\n",
       "      <th>group</th>\n",
       "      <th>orders</th>\n",
       "      <th>buyers</th>\n",
       "      <th>revenue</th>\n",
       "      <th>visitors</th>\n",
       "    </tr>\n",
       "  </thead>\n",
       "  <tbody>\n",
       "    <tr>\n",
       "      <th>0</th>\n",
       "      <td>2019-08-01</td>\n",
       "      <td>A</td>\n",
       "      <td>24</td>\n",
       "      <td>20</td>\n",
       "      <td>148579</td>\n",
       "      <td>719</td>\n",
       "    </tr>\n",
       "    <tr>\n",
       "      <th>1</th>\n",
       "      <td>2019-08-01</td>\n",
       "      <td>B</td>\n",
       "      <td>21</td>\n",
       "      <td>20</td>\n",
       "      <td>101217</td>\n",
       "      <td>713</td>\n",
       "    </tr>\n",
       "    <tr>\n",
       "      <th>2</th>\n",
       "      <td>2019-08-02</td>\n",
       "      <td>A</td>\n",
       "      <td>44</td>\n",
       "      <td>38</td>\n",
       "      <td>242401</td>\n",
       "      <td>1338</td>\n",
       "    </tr>\n",
       "    <tr>\n",
       "      <th>3</th>\n",
       "      <td>2019-08-02</td>\n",
       "      <td>B</td>\n",
       "      <td>45</td>\n",
       "      <td>43</td>\n",
       "      <td>266748</td>\n",
       "      <td>1294</td>\n",
       "    </tr>\n",
       "    <tr>\n",
       "      <th>4</th>\n",
       "      <td>2019-08-03</td>\n",
       "      <td>A</td>\n",
       "      <td>68</td>\n",
       "      <td>62</td>\n",
       "      <td>354874</td>\n",
       "      <td>1845</td>\n",
       "    </tr>\n",
       "  </tbody>\n",
       "</table>\n",
       "</div>"
      ],
      "text/plain": [
       "        date group  orders  buyers  revenue  visitors\n",
       "0 2019-08-01     A      24      20   148579       719\n",
       "1 2019-08-01     B      21      20   101217       713\n",
       "2 2019-08-02     A      44      38   242401      1338\n",
       "3 2019-08-02     B      45      43   266748      1294\n",
       "4 2019-08-03     A      68      62   354874      1845"
      ]
     },
     "execution_count": 40,
     "metadata": {},
     "output_type": "execute_result"
    }
   ],
   "source": [
    "# Объединим обе таблицы в одну с понятными названиями столбцов:\n",
    "cumulative_data = orders_aggregated.merge(visitors_aggregated, left_on=['date', 'group'],\\\n",
    "                                        right_on=['date', 'group'])\n",
    "\n",
    "cumulative_data.columns = ['date', 'group', 'orders', 'buyers', 'revenue', 'visitors']\n",
    "\n",
    "cumulative_data.head()"
   ]
  },
  {
   "cell_type": "code",
   "execution_count": 41,
   "id": "65a11774",
   "metadata": {},
   "outputs": [
    {
     "data": {
      "text/plain": [
       "62"
      ]
     },
     "execution_count": 41,
     "metadata": {},
     "output_type": "execute_result"
    }
   ],
   "source": [
    "len(cumulative_data)"
   ]
  },
  {
   "cell_type": "code",
   "execution_count": 42,
   "id": "88e68e97",
   "metadata": {},
   "outputs": [
    {
     "data": {
      "image/png": "[encoded data removed]",
      "text/plain": [
       "<Figure size 576x216 with 1 Axes>"
      ]
     },
     "metadata": {
      "needs_background": "light"
     },
     "output_type": "display_data"
    }
   ],
   "source": [
    "# датафрейм с кумулятивным количеством заказов и кумулятивной выручкой по дням в группе А\n",
    "\n",
    "cumulative_revenue_a = cumulative_data[cumulative_data['group']=='A'][['date','revenue', 'orders']]\n",
    "\n",
    "# датафрейм с кумулятивным количеством заказов и кумулятивной выручкой по дням в группе B\n",
    "\n",
    "cumulative_revenue_b = cumulative_data[cumulative_data['group']=='B'][['date','revenue', 'orders']]\n",
    "\n",
    "\n",
    "#Построим графики кумулятивной выручки по дням и группам A/B-тестирования:\n",
    "plt.figure(figsize=(8, 3))\n",
    "# Строим график выручки группы A\n",
    "plt.plot(cumulative_revenue_a['date'], cumulative_revenue_a['revenue'], label='A')\n",
    "# Строим график выручки группы B\n",
    "plt.plot(cumulative_revenue_b['date'], cumulative_revenue_b['revenue'], label='B')\n",
    "plt.title('График кумулятивной выручки по группам')\n",
    "plt.xticks(rotation=13)\n",
    "plt.xlabel('Даты проведения тестов')\n",
    "plt.ylabel('Кумулятивная выручка')\n",
    "plt.legend()\n",
    "plt.show();"
   ]
  },
  {
   "cell_type": "markdown",
   "id": "8d04d91d",
   "metadata": {},
   "source": [
    "Выручка увеличивается в течение всего теста. \n",
    "Если группа А четко равномерно линейно растет, то группа В имеет рывок в кумулятивной выручке в середине теста с 17 августа.  Это может сигнализировать о всплесках числа заказов, либо о появлении очень дорогих заказов в выборке группы В.\n"
   ]
  },
  {
   "cell_type": "markdown",
   "id": "db6c70b4",
   "metadata": {},
   "source": [
    "__Построим график кумулятивного среднего чека по группам. Сделаем выводы и предположения.__"
   ]
  },
  {
   "cell_type": "code",
   "execution_count": 43,
   "id": "d1e556a7",
   "metadata": {},
   "outputs": [
    {
     "data": {
      "image/png": "[encoded data removed]",
      "text/plain": [
       "<Figure size 576x216 with 1 Axes>"
      ]
     },
     "metadata": {
      "needs_background": "light"
     },
     "output_type": "display_data"
    }
   ],
   "source": [
    "# разделим кумулятивную выручку на кумулятивное число заказов:\n",
    "plt.figure(figsize=(8, 3))\n",
    "plt.plot(cumulative_revenue_a['date'], cumulative_revenue_a['revenue']/cumulative_revenue_a['orders'], \\\n",
    "                                                 label='A')\n",
    "plt.plot(cumulative_revenue_b['date'], cumulative_revenue_b['revenue']/cumulative_revenue_b['orders'], \\\n",
    "                                                 label='B')\n",
    "plt.title('График кумулятивного среднего чека по группам')\n",
    "plt.xticks(rotation=13)\n",
    "plt.xlabel('Даты проведения тестов')\n",
    "plt.ylabel('Средний чек')\n",
    "plt.legend()\n",
    "plt.show()"
   ]
  },
  {
   "cell_type": "markdown",
   "id": "7ce4ed62",
   "metadata": {},
   "source": [
    "Средние чеки по группам с самого начала теста разные. Динамика  по группам в первой трети разнонаправленная. В середине теста  группы встречаются, и, если  группа А  имеет рваную , неустойчивый подъем, который к концу теста  завершаетс на уровне  среднего чека середины чека, то   группа В в середине теста  даже по среднему чеку имеет резкий всплеск, но  все же снижается к концу теста.\n",
    "Показатели у группы В  по среднему чеку гораздо лучше на всем протяжении теста.\n",
    "с Большей долей вероятности подтверждаем мысль что   в группе В в середине теста (с 17.08) были очень  крупные заказы, которые  довели показатели в среднем  чуть выше 10 тыс. в то  же время как группа А имела  гораздо скромные показатели на уровне около 7 тыс.\n",
    "Нужно больше данных, чтобы прийти к реальному среднему чеку.\n"
   ]
  },
  {
   "cell_type": "markdown",
   "id": "7dda3b2a",
   "metadata": {},
   "source": [
    "__Построим график относительного изменения кумулятивного среднего чека группы B к группе A. Сделаем выводы и предположения.__\n"
   ]
  },
  {
   "cell_type": "code",
   "execution_count": 44,
   "id": "fd89f523",
   "metadata": {},
   "outputs": [
    {
     "data": {
      "image/png": "[encoded data removed]",
      "text/plain": [
       "<Figure size 432x216 with 1 Axes>"
      ]
     },
     "metadata": {
      "needs_background": "light"
     },
     "output_type": "display_data"
    }
   ],
   "source": [
    "\n",
    "# собираем данные в одном датафрейме,объединяем по датам\n",
    "merg_cum_revenue = cumulative_revenue_a.merge(cumulative_revenue_b, left_on='date', right_on\\\n",
    "                                 ='date', how='left', suffixes=['_a', '_b'])\n",
    "\n",
    "# cтроим отношение средних чеков\n",
    "plt.figure(figsize=(6, 3))\n",
    "plt.plot(merg_cum_revenue['date'], (merg_cum_revenue['revenue_b']/merg_cum_revenue['orders_b'])/\\\n",
    "                                 (merg_cum_revenue['revenue_a']/merg_cum_revenue['orders_a'])-1)\n",
    "\n",
    "#  добавляем горизонтальную ось X по \"0\"\n",
    "\n",
    "plt.axhline(y=0, color='black', linestyle='--')\n",
    "plt.xticks(rotation=13)\n",
    "plt.xlabel('Даты проведения тестов')\n",
    "plt.ylabel('Относительное изменение')\n",
    "plt.title('График относительного изменения кумулятивного среднего чека группы B к группе A')\n",
    "plt.show();"
   ]
  },
  {
   "cell_type": "markdown",
   "id": "acdbc413",
   "metadata": {},
   "source": [
    "Отмечаем  в период  между 05.08 -06.08 и  приблизительно 15-16.08 резкие пики и  глубокая просадка ниже   \"0\" до отрицательных значений 13 августа. Предположение - из-за выбросов и  крупных заказов."
   ]
  },
  {
   "cell_type": "markdown",
   "id": "c7cf6026",
   "metadata": {},
   "source": [
    "__Построим график кумулятивного среднего количества заказов на посетителя по группам. Сделаем выводы и предположения.__"
   ]
  },
  {
   "cell_type": "code",
   "execution_count": 45,
   "id": "2504b678",
   "metadata": {},
   "outputs": [
    {
     "data": {
      "image/png": "[encoded data removed]",
      "text/plain": [
       "<Figure size 432x216 with 1 Axes>"
      ]
     },
     "metadata": {
      "needs_background": "light"
     },
     "output_type": "display_data"
    }
   ],
   "source": [
    "# считаем кумулятивную конверсию всех заказов к всем  посетителям\n",
    "cumulative_data['conversion'] = cumulative_data['orders']/cumulative_data['visitors']\n",
    "\n",
    "# отделяем данные по группе A & B\n",
    "cumulative_data_a = cumulative_data[cumulative_data['group']=='A']\n",
    "cumulative_data_b = cumulative_data[cumulative_data['group']=='B']\n",
    "\n",
    "# строим графики\n",
    "plt.figure(figsize=(6, 3))\n",
    "plt.xticks(rotation=13)\n",
    "plt.plot(cumulative_data_a['date'], cumulative_data_a['conversion'], label='A') # ось x = даты, ось у - данные расчета конверсии\n",
    "plt.plot(cumulative_data_b['date'], cumulative_data_b['conversion'], label='B')\n",
    "plt.xlabel('Даты проведения тестов')\n",
    "plt.ylabel('Среднее кол-во заказов')\n",
    "plt.title('График кумулятивного среднего количества заказов на посетителя по группам')\n",
    "plt.legend();\n"
   ]
  },
  {
   "cell_type": "markdown",
   "id": "cc089340",
   "metadata": {},
   "source": [
    "В группе А конверсия  закосов к посетителям снижалась почти с момента анализа теста. \n",
    "2 - 3 августа резкй подъем и крутой спуск, где 09-13 августа  конверсиия припала ко  \"дну\", с которого  немного    данные поднялись но  с  маленьким успехом. \n",
    "У группы  В также в  период 01-02.08 был всплеск,  и резкий спуск до, приблизительно  05.08, но в отличает от группы  А группа смогла подняться и показать наилучшие результаты  относительно конкурирующей группы до  09.08. Единственно успех не смог закрепиться и   вплоть до  конца теста   начал снижение.\n",
    "Конверсия только  с первой четверти теста (1 неделя)  симметричная. Складывается впечателние что пользователи не могли определиться  или разобраться с предметом использования.\n",
    "Не имеем данные трафик какого портала мы тестируем + данные только за август. Но складывается впечатление что тестировались 2 варианта захода на платформу к  какому-то специализированному магазину, моя гипотеза - для школьников, т.к. к началу сентября  переход от посетителя к покупателю серьезно упал."
   ]
  },
  {
   "cell_type": "markdown",
   "id": "4dc45031",
   "metadata": {},
   "source": [
    "__Построим график относительного изменения кумулятивного среднего количества заказов на посетителя группы B к группе A. Сделаем выводы и предположения.__"
   ]
  },
  {
   "cell_type": "code",
   "execution_count": 46,
   "id": "e832f246",
   "metadata": {},
   "outputs": [
    {
     "data": {
      "image/png": "[encoded data removed]",
      "text/plain": [
       "<Figure size 432x216 with 1 Axes>"
      ]
     },
     "metadata": {
      "needs_background": "light"
     },
     "output_type": "display_data"
    }
   ],
   "source": [
    "merg_сum_сonvers = cumulative_data_a[['date','conversion']].\\\n",
    "merge(cumulative_data_b[['date','conversion']], left_on='date', right_on='date', how='left', \\\n",
    "      suffixes=['_a', '_b'])\n",
    "\n",
    "plt.figure(figsize=(6, 3))\n",
    "plt.xticks(rotation=13)\n",
    "plt.plot(merg_сum_сonvers['date'], merg_сum_сonvers['conversion_b']/\\\n",
    "         merg_сum_сonvers['conversion_a']-1)\n",
    "\n",
    "plt.title(\"Относительный прирост конверсии группы B относительно группы A\")\n",
    "plt.xlabel('Даты проведения тестов')\n",
    "plt.ylabel('Конверсия')\n",
    "plt.axhline(y=0, color='black', linestyle='--')\n",
    "plt.axhline(y=-0.1, color='grey', linestyle='--')\n",
    "plt.show()"
   ]
  },
  {
   "cell_type": "markdown",
   "id": "ce59d288",
   "metadata": {},
   "source": [
    "с Начало тестирования до 5 августа были проблемы. Далее  уверенный рост и серьезная нонвертация в заказчики в группе B  если снижение группы А смогли вывести в рост. До конца тестирования подъем не  смогли сохранить.\n",
    "\n",
    "Отметим небольшую стаблизацию результатов теста около определенного значения после 21.08."
   ]
  },
  {
   "cell_type": "markdown",
   "id": "a11ffa43",
   "metadata": {},
   "source": [
    "__Построим точечный график количества заказов по пользователям. Сделаем выводы и предположения.__"
   ]
  },
  {
   "cell_type": "code",
   "execution_count": 47,
   "id": "80accb96",
   "metadata": {},
   "outputs": [
    {
     "data": {
      "text/html": [
       "<div>\n",
       "<style scoped>\n",
       "    .dataframe tbody tr th:only-of-type {\n",
       "        vertical-align: middle;\n",
       "    }\n",
       "\n",
       "    .dataframe tbody tr th {\n",
       "        vertical-align: top;\n",
       "    }\n",
       "\n",
       "    .dataframe thead th {\n",
       "        text-align: right;\n",
       "    }\n",
       "</style>\n",
       "<table border=\"1\" class=\"dataframe\">\n",
       "  <thead>\n",
       "    <tr style=\"text-align: right;\">\n",
       "      <th></th>\n",
       "      <th>visitors</th>\n",
       "      <th>orders</th>\n",
       "    </tr>\n",
       "  </thead>\n",
       "  <tbody>\n",
       "    <tr>\n",
       "      <th>1023</th>\n",
       "      <td>4256040402</td>\n",
       "      <td>11</td>\n",
       "    </tr>\n",
       "    <tr>\n",
       "      <th>591</th>\n",
       "      <td>2458001652</td>\n",
       "      <td>11</td>\n",
       "    </tr>\n",
       "    <tr>\n",
       "      <th>569</th>\n",
       "      <td>2378935119</td>\n",
       "      <td>9</td>\n",
       "    </tr>\n",
       "    <tr>\n",
       "      <th>487</th>\n",
       "      <td>2038680547</td>\n",
       "      <td>8</td>\n",
       "    </tr>\n",
       "    <tr>\n",
       "      <th>44</th>\n",
       "      <td>199603092</td>\n",
       "      <td>5</td>\n",
       "    </tr>\n",
       "    <tr>\n",
       "      <th>744</th>\n",
       "      <td>3062433592</td>\n",
       "      <td>5</td>\n",
       "    </tr>\n",
       "    <tr>\n",
       "      <th>55</th>\n",
       "      <td>237748145</td>\n",
       "      <td>5</td>\n",
       "    </tr>\n",
       "  </tbody>\n",
       "</table>\n",
       "</div>"
      ],
      "text/plain": [
       "        visitors  orders\n",
       "1023  4256040402      11\n",
       "591   2458001652      11\n",
       "569   2378935119       9\n",
       "487   2038680547       8\n",
       "44     199603092       5\n",
       "744   3062433592       5\n",
       "55     237748145       5"
      ]
     },
     "execution_count": 47,
     "metadata": {},
     "output_type": "execute_result"
    }
   ],
   "source": [
    "# на основе \"сырых\"  сгруппируем  ДФ orders  по  посетителям  и посчитаем их покупки\n",
    "\n",
    "orders_by_users = (orders.groupby('visitor_id', as_index=False).agg({'transaction_id': 'nunique'}))\n",
    "# переименуем колонки\n",
    "orders_by_users.columns = ['visitors', 'orders']\n",
    "# отсортируем  покупки  по убыванию - узаем как много покупали   посетители\n",
    "orders_by_users.sort_values(by='orders', ascending=False).head(7)"
   ]
  },
  {
   "cell_type": "code",
   "execution_count": 48,
   "id": "514fd4a7",
   "metadata": {},
   "outputs": [
    {
     "data": {
      "image/png": "[encoded data removed]",
      "text/plain": [
       "<Figure size 432x216 with 1 Axes>"
      ]
     },
     "metadata": {
      "needs_background": "light"
     },
     "output_type": "display_data"
    }
   ],
   "source": [
    "#Построим точечную диаграмму числа заказов на одного пользователя:\n",
    "x_values = pd.Series(range(0,len(orders_by_users)))\n",
    "plt.figure(figsize=(6, 3))\n",
    "plt.scatter(x_values, orders_by_users['orders'])\n",
    "plt.xlabel('Пользователи')\n",
    "plt.ylabel('кол-во заказов')\n",
    "plt.title(\"Количества заказов по пользователям\"); "
   ]
  },
  {
   "cell_type": "markdown",
   "id": "b7e78f48",
   "metadata": {},
   "source": [
    " Удобно применять график рассеивания  для поиска аномалий. Ясно видно что бОльшинство  посетителей делали  преимущественно 1-2 покупки, 5- это редко, ну а от 8 и до 11 значений - это уже редкость."
   ]
  },
  {
   "cell_type": "markdown",
   "id": "7b79f902",
   "metadata": {},
   "source": [
    "__Посчитаем 95-й и 99-й перцентили количества заказов на пользователя. Выберим границу для определения аномальных пользователей."
   ]
  },
  {
   "cell_type": "code",
   "execution_count": 49,
   "id": "d08c7e79",
   "metadata": {},
   "outputs": [
    {
     "data": {
      "text/plain": [
       "array([1., 2., 4.])"
      ]
     },
     "execution_count": 49,
     "metadata": {},
     "output_type": "execute_result"
    }
   ],
   "source": [
    "# Использую функцию  percentile\n",
    "np.percentile(orders_by_users['orders'], [90, 95, 99])"
   ]
  },
  {
   "cell_type": "code",
   "execution_count": 50,
   "id": "18e60892",
   "metadata": {},
   "outputs": [
    {
     "data": {
      "text/plain": [
       "1.0"
      ]
     },
     "execution_count": 50,
     "metadata": {},
     "output_type": "execute_result"
    }
   ],
   "source": [
    "# Использую функцию  quantile для проверки данных \n",
    "m_90 = orders_by_users['orders'].quantile(0.9)\n",
    "m_90"
   ]
  },
  {
   "cell_type": "code",
   "execution_count": 51,
   "id": "4a767a8c",
   "metadata": {},
   "outputs": [
    {
     "data": {
      "text/plain": [
       "2.0"
      ]
     },
     "execution_count": 51,
     "metadata": {},
     "output_type": "execute_result"
    }
   ],
   "source": [
    "m_95 = orders_by_users['orders'].quantile(0.95)\n",
    "m_95"
   ]
  },
  {
   "cell_type": "code",
   "execution_count": 52,
   "id": "90ba541a",
   "metadata": {},
   "outputs": [
    {
     "data": {
      "text/plain": [
       "4.0"
      ]
     },
     "execution_count": 52,
     "metadata": {},
     "output_type": "execute_result"
    }
   ],
   "source": [
    "m_99 = orders_by_users['orders'].quantile(0.99)\n",
    "m_99"
   ]
  },
  {
   "cell_type": "markdown",
   "id": "7f1660bc",
   "metadata": {},
   "source": [
    "Видим что  к 90,95 и 99 % количествам заказов соответствуют 1,2 и 4 покупки посетителей соответственно. Не более 5% пользователей оформляли больше чем 2 заказов. Все что выше - от 5 и выше покупок - составляет  только 1 %. \n",
    "\n",
    "Допустимо удалять  не боле 10% от данных если возникают  вопросы по выбросам или были обнаружены дубликаты.\n",
    "\n",
    "Могу предположить что разумно выбрать  больше 2 заказов (95 % персентиль) на одного пользователя за верхнюю границу количества заказов, и отсеивать аномальных пользователей по ней.\n",
    "\n",
    "П.С. - была удивлена таким показателям (массой) поэтому перепроверила  (не поверила своим глазам)."
   ]
  },
  {
   "cell_type": "markdown",
   "id": "d670dfee",
   "metadata": {},
   "source": [
    "__Построим точечный график стоимостей заказов. Сделаем выводы и предположения.__"
   ]
  },
  {
   "cell_type": "code",
   "execution_count": 53,
   "id": "d43e251e",
   "metadata": {},
   "outputs": [
    {
     "name": "stdout",
     "output_type": "stream",
     "text": [
      "      transaction_id  visitor_id       date  revenue group\n",
      "425        590470918  1920142716 2019-08-19  1294500     B\n",
      "1196      3936777065  2108080724 2019-08-15   202740     B\n",
      "858        192721366  1316129916 2019-08-27    93940     A\n",
      "1136       666610489  1307669133 2019-08-13    92550     A\n",
      "744       3668308183   888512513 2019-08-27    86620     B\n",
      "682       1216533772  4266935830 2019-08-29    78990     B\n",
      "662       1811671147  4266935830 2019-08-29    78990     A\n"
     ]
    },
    {
     "data": {
      "image/png": "[encoded data removed]",
      "text/plain": [
       "<Figure size 432x216 with 1 Axes>"
      ]
     },
     "metadata": {
      "needs_background": "light"
     },
     "output_type": "display_data"
    }
   ],
   "source": [
    "# на основе \"сырых\"  сгруппируем  ДФ orders  по  стоимостям  покупок (убыванию)\n",
    "print(orders.sort_values(by='revenue', ascending=False).head(7))\n",
    "plt.figure(figsize=(6, 3))\n",
    "x_values = pd.Series(range(0,len(orders)))\n",
    "plt.scatter(x_values, orders['revenue'])\n",
    "plt.xlabel('id Покупателя')\n",
    "plt.ylabel('стоимость покупки в млн.');\n"
   ]
  },
  {
   "cell_type": "markdown",
   "id": "61b58807",
   "metadata": {},
   "source": [
    "Как видим, один  посетитель за № 425 совешрил  САМОЕ большое приобретение   -  1.294.500  у.е,\n",
    " и  № 1196 приобрел на сумму 202.740 - очень хорошо видно.\n",
    "    Подавляющее большинство  выше 100 тыс.  не делало покупки."
   ]
  },
  {
   "cell_type": "markdown",
   "id": "c5e71636",
   "metadata": {},
   "source": [
    "__Посчитаем 95-й и 99-й перцентили стоимости заказов. Выберим границу для определения аномальных заказов.__"
   ]
  },
  {
   "cell_type": "code",
   "execution_count": 54,
   "id": "917c3b3a",
   "metadata": {},
   "outputs": [
    {
     "data": {
      "text/plain": [
       "array([28000. , 58233.2])"
      ]
     },
     "execution_count": 54,
     "metadata": {},
     "output_type": "execute_result"
    }
   ],
   "source": [
    "np.percentile(orders['revenue'], [95, 99])"
   ]
  },
  {
   "cell_type": "code",
   "execution_count": 55,
   "id": "1dc247e2",
   "metadata": {},
   "outputs": [
    {
     "data": {
      "text/plain": [
       "28000.000000000004"
      ]
     },
     "execution_count": 55,
     "metadata": {},
     "output_type": "execute_result"
    }
   ],
   "source": [
    "orders['revenue'].quantile(0.95) #перепроверка данных"
   ]
  },
  {
   "cell_type": "markdown",
   "id": "245d15d4",
   "metadata": {},
   "source": [
    "Выборка по персентилям показала что 99 % соответствует значению  58232,2 - величина не превышает этот показатель с заданной вероятностью.\n",
    "Выберу границу  так же как и количеством покупок - 95 персентиль (28 тыс)"
   ]
  },
  {
   "cell_type": "markdown",
   "id": "23df6e40",
   "metadata": {},
   "source": [
    "__Посчитайте статистическую значимость различий в среднем количестве заказов на посетителя между группами по «сырым» данным. Сделайте выводы и предположения.__"
   ]
  },
  {
   "cell_type": "code",
   "execution_count": 56,
   "id": "452042d8",
   "metadata": {},
   "outputs": [
    {
     "name": "stdout",
     "output_type": "stream",
     "text": [
      "   transaction_id  visitor_id       date  revenue group\n",
      "0      3667963787  3312258926 2019-08-15     1650     B\n",
      "1      2804400009  3642806036 2019-08-15      730     B\n",
      "__________\n",
      "        date group  visitors\n",
      "0 2019-08-01     A       719\n",
      "1 2019-08-02     A       619\n"
     ]
    }
   ],
   "source": [
    "print(orders.head(2))\n",
    "print('_'*10)\n",
    "print(visitors.head(2))"
   ]
  },
  {
   "cell_type": "code",
   "execution_count": 57,
   "id": "3d019376",
   "metadata": {},
   "outputs": [
    {
     "name": "stdout",
     "output_type": "stream",
     "text": [
      "P-value:0.01679\n",
      "Среднее относительно группы В:  0.138\n"
     ]
    }
   ],
   "source": [
    "visitors_a_daily = visitors[visitors['group'] == 'A'][['date', 'visitors']]\n",
    "visitors_a_daily.columns = ['date', 'visitors_per_date_a']\n",
    "\n",
    "visitors_a_cummulative = visitors_a_daily.apply(\n",
    "    lambda x: visitors_a_daily[visitors_a_daily['date'] <= x['date']].agg(\n",
    "        {'date': 'max', 'visitors_per_date_a': 'sum'}), axis=1,)\n",
    "\n",
    "visitors_a_cummulative.columns = ['date', 'visitors_cummulative_a']\n",
    "\n",
    "visitors_b_daily = visitors[visitors['group'] == 'B'][['date', 'visitors']]\n",
    "visitors_b_daily.columns = ['date', 'visitors_per_date_b']\n",
    "\n",
    "visitors_b_cummulative = visitors_b_daily.apply(\n",
    "    lambda x: visitors_b_daily[visitors_b_daily['date'] <= x['date']].agg(\n",
    "        {'date': 'max', 'visitors_per_date_b': 'sum'}), axis=1,)\n",
    "\n",
    "visitors_b_cummulative.columns = ['date', 'visitors_cummulative_b']\n",
    "\n",
    "\n",
    "orders_a_daily = (orders[orders['group'] == 'A'][['date', 'transaction_id', 'visitor_id', 'revenue']]\n",
    "    .groupby('date', as_index=False)\n",
    "    .agg({'transaction_id': pd.Series.nunique, 'revenue': 'sum'}))\n",
    "\n",
    "orders_a_daily.columns = ['date', 'orders_per_date_a', 'revenue_per_date_a']\n",
    "\n",
    "orders_a_cummulative = orders_a_daily.apply(\n",
    "        lambda x: orders_a_daily[orders_a_daily['date'] <= x['date']].agg(\n",
    "        {'date': 'max', 'orders_per_date_a': 'sum', 'revenue_per_date_a': 'sum'}), axis=1,\n",
    "        ).sort_values(by=['date'])\n",
    "\n",
    "orders_a_cummulative.columns = ['date','orders_cummulative_a', 'revenue_cummulative_a']\n",
    "\n",
    "orders_b_daily = (\n",
    "    orders[orders['group'] == 'B'][['date', 'transaction_id', 'visitor_id', 'revenue']]\n",
    "    .groupby('date', as_index=False)\n",
    "    .agg({'transaction_id': pd.Series.nunique, 'revenue': 'sum'}))\n",
    "\n",
    "orders_b_daily.columns = ['date', 'orders_per_date_b', 'revenue_per_date_b']\n",
    "\n",
    "orders_b_cummulative = orders_b_daily.apply(\n",
    "        lambda x: orders_b_daily[orders_b_daily['date'] <= x['date']].agg(\n",
    "        {'date': 'max', 'orders_per_date_b': 'sum', 'revenue_per_date_b': 'sum'}), axis=1,\n",
    "        ).sort_values(by=['date'])\n",
    " \n",
    "orders_b_cummulative.columns = ['date', 'orders_cummulative_b','revenue_cummulative_b']\n",
    "\n",
    "data_merge = (\n",
    "    orders_b_daily.merge(orders_b_daily, left_on='date', right_on='date', how='left')\n",
    "    .merge(orders_a_cummulative, left_on='date', right_on='date', how='left')\n",
    "    .merge(orders_b_cummulative, left_on='date', right_on='date', how='left')\n",
    "    .merge(visitors_a_daily, left_on='date', right_on='date', how='left')\n",
    "    .merge(visitors_b_daily, left_on='date', right_on='date', how='left')\n",
    "    .merge(visitors_b_cummulative, left_on='date', right_on='date', how='left')\n",
    "    .merge(visitors_b_cummulative, left_on='date', right_on='date', how='left'))\n",
    "\n",
    "#Создадим переменные orders_by_users_a и orders_by_users_b со столбцами ['user_id', 'orders']. В них для пользователей, \n",
    "#которые заказывали хотя бы 1 раз, укажем число совершённых заказов. \n",
    "\n",
    "orders_by_users_a = (orders[orders['group'] == 'A'].groupby('visitor_id', as_index=False)\n",
    "    .agg({'transaction_id': pd.Series.nunique}))\n",
    "orders_by_users_a.columns = ['user_id', 'orders']\n",
    "\n",
    "orders_by_users_b = (orders[orders['group'] == 'B'].groupby('visitor_id', as_index=False)\n",
    "    .agg({'transaction_id': pd.Series.nunique}))\n",
    "orders_by_users_b.columns = ['user_id', 'orders']\n",
    "\n",
    "#Объявим переменные sample_a и sample_b, в которых пользователям из разных групп будет соответствовать количество заказов. \n",
    "#Тем, кто ничего не заказал, будут соответствовать нули\n",
    "\n",
    "sample_a = pd.concat([orders_by_users_a['orders'],pd.Series(0, index=np.arange(data_merge['visitors_per_date_a'].\n",
    "     sum() - len(orders_by_users_a['orders'])), name='orders')],axis=0)\n",
    "\n",
    "sample_b = pd.concat([orders_by_users_b['orders'],pd.Series(0, index=np.arange(data_merge['visitors_per_date_b'].\n",
    "     sum() - len(orders_by_users_b['orders'])), name='orders')],axis=0)\n",
    "\n",
    "print(f'P-value:' \"{0:.5f}\".format(stats.mannwhitneyu(sample_a, sample_b)[1]))\n",
    "\n",
    "print(f'Среднее относительно группы В:  '\"{0:.3f}\".format(sample_b.mean() / sample_a.mean() - 1))"
   ]
  },
  {
   "cell_type": "markdown",
   "id": "860cc6db",
   "metadata": {},
   "source": [
    "Примим за  альфу P-value = 0.05\n",
    "в проведенном Манна-Уитни (mannwhitneyu)  тесте показатель  P-value значительно меньше 0.05. Н 0 (нулевая гипотеза)  предполагалось что количестве заказов на посетителя между группами равна. т.к. P-value в нашем расчете 0,01679, то мы можем ее (гипотезу)  опровергнуть и считать что существует статистически  значимые различия. Среднее количество заказа на человека  между группами различное.\n",
    "\n",
    "Относительный прирост среднего группы В  к конверсии группы А, основываясь на \"сырых\" данных - 13,8%"
   ]
  },
  {
   "cell_type": "markdown",
   "id": "cefdd5a0",
   "metadata": {},
   "source": [
    "__Посчитаем статистическую значимость различий в среднем чеке заказа между группами по «сырым» данным. Сделаем выводы и предположения.__"
   ]
  },
  {
   "cell_type": "code",
   "execution_count": 58,
   "id": "39f3001f",
   "metadata": {},
   "outputs": [
    {
     "name": "stdout",
     "output_type": "stream",
     "text": [
      "P-value : 0.72929\n",
      "Отношение среднего чека группы B/A: 0.259\n"
     ]
    }
   ],
   "source": [
    "\n",
    "print(\"P-value : \"'{0:.5f}'.format(stats.mannwhitneyu(orders[orders['group']=='A']['revenue'], \\\n",
    "                                          orders[orders['group']=='B']['revenue'])[1]))\n",
    "print(\"Отношение среднего чека группы B/A: \"'{0:.3f}'.format(orders[orders['group']=='B']['revenue'].mean()/orders[orders['group']=='A']\\\n",
    "                                         ['revenue'].mean()-1)) \n"
   ]
  },
  {
   "cell_type": "markdown",
   "id": "64955433",
   "metadata": {},
   "source": [
    "P-value значительно выше 0,05. Н 0 (нулевая гипотеза)  предполагала что между группами в среднем чек на посетителя  равен. т.к. P-value в нашем расчете 0.72929, то мы можем подтвердить гипотезу  и считать что  нет  статистически  значимых различий. \n",
    "\n",
    "Хотя относительное различие среднего чека между группами, основываясь на \"сырых\" данных - 25,9%"
   ]
  },
  {
   "cell_type": "markdown",
   "id": "376ad9f1",
   "metadata": {},
   "source": [
    "__Посчитаем статистическую значимость различий в среднем количестве заказов на посетителя между группами по «очищенным» данным. Сделаем выводы и предположения.__"
   ]
  },
  {
   "cell_type": "code",
   "execution_count": 59,
   "id": "ba22a833",
   "metadata": {},
   "outputs": [
    {
     "name": "stdout",
     "output_type": "stream",
     "text": [
      "Количество  пользователей - 60   совершающих дорогие покупки, более 95 персентиля\n",
      "Количество  пользователей - 24 совершающих большое кол-во  покупок\n",
      "Количество  пользователей - 74  после удаления дубликатов\n"
     ]
    }
   ],
   "source": [
    "# создадим  список аномальных пользователей по 2 выявленным признакам\n",
    "# удаляем пользователей с  кол-во заказов больше 2 - 95 персентиль.\n",
    "# создам переменную  где будут только  данные  покупок более 2\n",
    "users_lo_orders = pd.concat([\n",
    "        orders_by_users_a[orders_by_users_a['orders'] > 2]['user_id'],\n",
    "        orders_by_users_b[orders_by_users_b['orders'] > 2]['user_id'],],axis=0,)\n",
    "\n",
    "expensive_users = orders[orders['revenue'] > 28000]['visitor_id']\n",
    "\n",
    "abnormal_users = (pd.concat([users_lo_orders, expensive_users], axis=0).drop_duplicates().sort_values())\n",
    "\n",
    "print(f'Количество  пользователей - {len(expensive_users)}   совершающих дорогие покупки, более 95 персентиля')\n",
    "print(f'Количество  пользователей - {len(users_lo_orders)} совершающих большое кол-во  покупок')\n",
    "print(f'Количество  пользователей - {len(abnormal_users)}  после удаления дубликатов')\n"
   ]
  },
  {
   "cell_type": "code",
   "execution_count": 60,
   "id": "ca0252ed",
   "metadata": {},
   "outputs": [
    {
     "name": "stdout",
     "output_type": "stream",
     "text": [
      "P-value: 0.01304\n",
      "Относительное среднее: 0.173\n"
     ]
    }
   ],
   "source": [
    "# \n",
    "sample_a_filtered = pd.concat([orders_by_users_a[np.logical_not(orders_by_users_a['user_id'].isin(abnormal_users))]\\\n",
    "            ['orders'],pd.Series(0,index=np.arange(data_merge['visitors_per_date_a'].sum() - len(orders_by_users_a['orders'])),\\\n",
    "            name='orders',),], axis=0,)\n",
    "\n",
    "sample_b_filtered = pd.concat([orders_by_users_b[np.logical_not(orders_by_users_b['user_id'].isin(abnormal_users))]\\\n",
    "            ['orders'], pd.Series(0,index=np.arange(data_merge['visitors_per_date_b'].sum() - len(orders_by_users_b['orders'])),\\\n",
    "            name='orders',),],axis=0,)\n",
    "\n",
    "print(\"P-value: \"'{0:.5f}'.format(stats.mannwhitneyu(sample_a_filtered, sample_b_filtered)[1]))\n",
    "# Относительный прирост среднего числа заказов относительно групп\n",
    "print(\"Относительное среднее: \"'{0:.3f}'.format(sample_b_filtered.mean()/sample_a_filtered.mean()-1))\n"
   ]
  },
  {
   "cell_type": "markdown",
   "id": "7e027f4e",
   "metadata": {},
   "source": [
    "Мы удалили  записи аномальных покупателей (в переменной(abnormal_users))и на основе  этих данных по группам  orders_by_users_a и orders_by_users_b сделали выборку по условию  того что данные из аномальных покупателей в переменные orders_by_users_a и orders_by_users_b  не входят.\n",
    "Провели анализ с помощью статистического  теста Манна-Уитни. Значение p-value   меньше  альфы (0.05), следовательно мы  можем отвергнуть  Н 0 гипотезу о равенстве кол-ва заказов в среднем между группами  по  \"очищенным\" данным.\n",
    "Следовательно  принимаем  Н 1 гипотезу : среднее количестве заказов на посетителя между группами по «очищенным» данным НЕ равны.\n",
    "Относительный прирост среднего числа заказов группы B  по отношению к группе А  равен 17%.\n"
   ]
  },
  {
   "cell_type": "markdown",
   "id": "e6bc6c73",
   "metadata": {},
   "source": [
    "__Посчитаем статистическую значимость различий в среднем чеке заказа между группами по «очищенным» данным. Сделаем выводы и предположения.__"
   ]
  },
  {
   "cell_type": "code",
   "execution_count": 61,
   "id": "9a32db48",
   "metadata": {},
   "outputs": [
    {
     "name": "stdout",
     "output_type": "stream",
     "text": [
      "P-value: 0.73848\n",
      "Относительное среднее: -0.020\n"
     ]
    }
   ],
   "source": [
    "\n",
    "print(\"P-value: \"'{0:.5f}'.format(stats.mannwhitneyu(orders[np.logical_and(orders['group'] == 'A',\\\n",
    "            np.logical_not(orders['visitor_id'].isin(abnormal_users)),)]['revenue'],\\\n",
    "            orders[np.logical_and(orders['group'] == 'B',np.logical_not(orders['visitor_id'].isin(abnormal_users)),)\\\n",
    "            ]['revenue'],)[1]))\n",
    "\n",
    "print('Относительное среднее: '\"{0:.3f}\".format(orders[np.logical_and(orders['group'] == 'B', np.logical_not(orders['visitor_id'].isin\\\n",
    "            (abnormal_users)),)]['revenue'].mean()/ orders[np.logical_and(orders['group'] == 'A',\\\n",
    "            np.logical_not(orders['visitor_id'].isin(abnormal_users)),)]['revenue'].mean() - 1 ))\n"
   ]
  },
  {
   "cell_type": "markdown",
   "id": "23c5d6d0",
   "metadata": {},
   "source": [
    "К данным ДФ orders применили статистический тест Манна-Уитни, до того применили логическую последовательность что в orders нет данных abnormal_users.\n",
    "Уровень  p-value вследствие теста показал что Н 0 (средний чек между группами равен) мы не можем отвергнуть в то же время  статистическая значимость между группами - 2%.\n"
   ]
  },
  {
   "cell_type": "markdown",
   "id": "3a0fa561",
   "metadata": {},
   "source": [
    "__Примим решение по результатам теста и объясним его. __\n",
    "\n",
    "Варианты решений: \n",
    "1. Остановить тест, зафиксировать победу одной из групп. \n",
    "2. Остановить тест, зафиксировать отсутствие различий между группами. \n",
    "3. Продолжить тест."
   ]
  },
  {
   "cell_type": "markdown",
   "id": "d12c349f",
   "metadata": {},
   "source": [
    "# Выводы"
   ]
  },
  {
   "cell_type": "markdown",
   "id": "ee7c7b3e",
   "metadata": {},
   "source": [
    "Какие данные мы получили из тестов:\n",
    "\n",
    "B в 'cырых'  и в 'очищенных'  данных  группы А и Б по  среднему КОЛИЧЕСТВУ заказов не одинаковы,\n",
    "и в 'cырых'  и в 'очищенных'  данных  группы А и Б разницы по среднему чеку заказа между группами статистический  тест Манна-Уитни не обнаружил.\n",
    "График Относительного прироста конверсии между группами сообщает, что результаты группы B ЛУЧШЕ группы A: имеют тенденцию к росту. Относительный прирост среднего числа заказов группы B  по отношению к группе А  равен 17%.\n",
    "График различия среднего чека колеблется: он-то и позволил вам найти аномалии, но делать из этого графика определённые выводы нельзя.\n",
    "\n",
    "Настройки группы \"В\" брать за основные и уже  на этом фоне корректировать, дорабатывать и  в дальнейшем  уже по новым идеям группы  С относительно B дополнительно тестировать работу. На Графике кумулятивного среднего количества заказов на посетителя по группам  мы видим плохой старт - для этого нужна отдельная проверка  - т.к.  у группы А показатели в этот период были много лучше.  Относительный прирост конверсии 5 августа  уверенно превалирует над группой А и сохранил тенденцию. Отношение среднего чека группы B/A:25,9% тоже впечатляет, но это  расчет по грязным данным, среднее по чекам  в небольшом минусе по чистым данным.\n",
    "\n",
    "Получается  что в группе В больше возможностей для увеличения  потенциала для привлечения  пользователей и по количеству  покупок  и по  стоимости. Мы выяснили что количество  пользователей по группам не равно, это другой вопрос, но какие условия были по  этой выборке? много вопросов и много доработок. Но нет. Оставляем настройки группы B - как дальнейших тестируемых идеи. Нельзя уверено сказать что  настройки группы идеальны. \n",
    "    \n",
    "\n",
    "Считаю что тест  можно  завершить и  применять настройки группы В как минимальные.\n",
    "\n"
   ]
  },
  {
   "cell_type": "code",
   "execution_count": null,
   "id": "3954ecad",
   "metadata": {},
   "outputs": [],
   "source": []
  }
 ],
 "metadata": {
  "ExecuteTimeLog": [
   {
    "duration": 1087,
    "start_time": "2023-01-21T10:16:37.493Z"
   },
   {
    "duration": 72,
    "start_time": "2023-01-21T10:16:38.582Z"
   },
   {
    "duration": 12,
    "start_time": "2023-01-21T10:16:38.656Z"
   },
   {
    "duration": 22,
    "start_time": "2023-01-21T10:16:38.670Z"
   },
   {
    "duration": 3,
    "start_time": "2023-01-21T10:16:38.694Z"
   },
   {
    "duration": 12,
    "start_time": "2023-01-21T10:16:38.699Z"
   },
   {
    "duration": 8,
    "start_time": "2023-01-21T10:16:38.713Z"
   },
   {
    "duration": 7,
    "start_time": "2023-01-21T10:16:38.723Z"
   },
   {
    "duration": 7,
    "start_time": "2023-01-21T10:16:38.731Z"
   },
   {
    "duration": 6,
    "start_time": "2023-01-21T10:16:38.740Z"
   },
   {
    "duration": 12,
    "start_time": "2023-01-21T10:16:38.748Z"
   },
   {
    "duration": 7,
    "start_time": "2023-01-21T10:16:38.761Z"
   },
   {
    "duration": 131,
    "start_time": "2023-01-21T10:16:38.770Z"
   },
   {
    "duration": 8,
    "start_time": "2023-01-21T10:16:38.903Z"
   },
   {
    "duration": 10,
    "start_time": "2023-01-21T10:16:38.913Z"
   },
   {
    "duration": 24,
    "start_time": "2023-01-21T10:16:38.925Z"
   },
   {
    "duration": 4,
    "start_time": "2023-01-21T10:16:38.951Z"
   },
   {
    "duration": 7,
    "start_time": "2023-01-21T10:16:38.956Z"
   },
   {
    "duration": 58,
    "start_time": "2023-01-21T10:16:38.964Z"
   },
   {
    "duration": 4,
    "start_time": "2023-01-21T10:16:39.024Z"
   },
   {
    "duration": 6,
    "start_time": "2023-01-21T10:16:39.030Z"
   },
   {
    "duration": 16,
    "start_time": "2023-01-21T10:16:39.038Z"
   },
   {
    "duration": 11,
    "start_time": "2023-01-21T10:16:39.055Z"
   },
   {
    "duration": 44,
    "start_time": "2023-01-21T10:16:39.068Z"
   },
   {
    "duration": 12,
    "start_time": "2023-01-21T10:16:39.114Z"
   },
   {
    "duration": 201,
    "start_time": "2023-01-21T10:16:39.128Z"
   },
   {
    "duration": 143,
    "start_time": "2023-01-21T10:16:39.331Z"
   },
   {
    "duration": 26,
    "start_time": "2023-01-21T10:16:39.478Z"
   },
   {
    "duration": 14,
    "start_time": "2023-01-21T10:16:39.506Z"
   },
   {
    "duration": 294,
    "start_time": "2023-01-21T10:16:39.522Z"
   },
   {
    "duration": 180,
    "start_time": "2023-01-21T10:16:39.818Z"
   },
   {
    "duration": 306,
    "start_time": "2023-01-21T10:16:40.003Z"
   },
   {
    "duration": 183,
    "start_time": "2023-01-21T10:16:40.311Z"
   },
   {
    "duration": 298,
    "start_time": "2023-01-21T10:16:40.496Z"
   },
   {
    "duration": 16,
    "start_time": "2023-01-21T10:16:40.795Z"
   },
   {
    "duration": 161,
    "start_time": "2023-01-21T10:16:40.812Z"
   },
   {
    "duration": 5,
    "start_time": "2023-01-21T10:16:40.975Z"
   },
   {
    "duration": 22,
    "start_time": "2023-01-21T10:16:40.982Z"
   },
   {
    "duration": 6,
    "start_time": "2023-01-21T10:16:41.005Z"
   },
   {
    "duration": 7,
    "start_time": "2023-01-21T10:16:41.013Z"
   },
   {
    "duration": 151,
    "start_time": "2023-01-21T10:16:41.022Z"
   },
   {
    "duration": 5,
    "start_time": "2023-01-21T10:16:41.175Z"
   },
   {
    "duration": 22,
    "start_time": "2023-01-21T10:16:41.182Z"
   },
   {
    "duration": 30,
    "start_time": "2023-01-21T10:16:41.206Z"
   },
   {
    "duration": 366,
    "start_time": "2023-01-21T10:16:41.238Z"
   },
   {
    "duration": 11,
    "start_time": "2023-01-21T10:16:41.606Z"
   },
   {
    "duration": 10,
    "start_time": "2023-01-21T10:16:41.618Z"
   },
   {
    "duration": 33,
    "start_time": "2023-01-21T10:16:41.629Z"
   },
   {
    "duration": 43,
    "start_time": "2023-01-21T10:16:41.664Z"
   },
   {
    "duration": 362,
    "start_time": "2023-01-21T10:16:41.709Z"
   },
   {
    "duration": 330,
    "start_time": "2023-01-21T10:16:42.073Z"
   },
   {
    "duration": 1248,
    "start_time": "2023-01-22T12:01:49.349Z"
   },
   {
    "duration": 125,
    "start_time": "2023-01-22T12:01:50.599Z"
   },
   {
    "duration": 11,
    "start_time": "2023-01-22T12:01:50.726Z"
   },
   {
    "duration": 23,
    "start_time": "2023-01-22T12:01:50.738Z"
   },
   {
    "duration": 3,
    "start_time": "2023-01-22T12:01:50.763Z"
   },
   {
    "duration": 12,
    "start_time": "2023-01-22T12:01:50.768Z"
   },
   {
    "duration": 7,
    "start_time": "2023-01-22T12:01:50.782Z"
   },
   {
    "duration": 4,
    "start_time": "2023-01-22T12:01:50.821Z"
   },
   {
    "duration": 9,
    "start_time": "2023-01-22T12:01:50.827Z"
   },
   {
    "duration": 11,
    "start_time": "2023-01-22T12:01:50.838Z"
   },
   {
    "duration": 8,
    "start_time": "2023-01-22T12:01:50.851Z"
   },
   {
    "duration": 17,
    "start_time": "2023-01-22T12:01:50.860Z"
   },
   {
    "duration": 9,
    "start_time": "2023-01-22T12:01:50.878Z"
   },
   {
    "duration": 198,
    "start_time": "2023-01-22T12:01:50.890Z"
   },
   {
    "duration": 8,
    "start_time": "2023-01-22T12:01:51.089Z"
   },
   {
    "duration": 9,
    "start_time": "2023-01-22T12:01:51.099Z"
   },
   {
    "duration": 24,
    "start_time": "2023-01-22T12:01:51.110Z"
   },
   {
    "duration": 3,
    "start_time": "2023-01-22T12:01:51.135Z"
   },
   {
    "duration": 9,
    "start_time": "2023-01-22T12:01:51.140Z"
   },
   {
    "duration": 21,
    "start_time": "2023-01-22T12:01:51.150Z"
   },
   {
    "duration": 3,
    "start_time": "2023-01-22T12:01:51.173Z"
   },
   {
    "duration": 47,
    "start_time": "2023-01-22T12:01:51.178Z"
   },
   {
    "duration": 19,
    "start_time": "2023-01-22T12:01:51.227Z"
   },
   {
    "duration": 24,
    "start_time": "2023-01-22T12:01:51.248Z"
   },
   {
    "duration": 19,
    "start_time": "2023-01-22T12:01:51.274Z"
   },
   {
    "duration": 9,
    "start_time": "2023-01-22T12:01:51.295Z"
   },
   {
    "duration": 16,
    "start_time": "2023-01-22T12:01:51.305Z"
   },
   {
    "duration": 7,
    "start_time": "2023-01-22T12:01:51.323Z"
   },
   {
    "duration": 7,
    "start_time": "2023-01-22T12:01:51.331Z"
   },
   {
    "duration": 5,
    "start_time": "2023-01-22T12:01:51.340Z"
   },
   {
    "duration": 5,
    "start_time": "2023-01-22T12:01:51.347Z"
   },
   {
    "duration": 47719,
    "start_time": "2023-01-22T12:01:51.354Z"
   },
   {
    "duration": 11,
    "start_time": "2023-01-22T12:02:39.078Z"
   },
   {
    "duration": 221,
    "start_time": "2023-01-22T12:02:39.091Z"
   },
   {
    "duration": 140,
    "start_time": "2023-01-22T12:02:39.315Z"
   },
   {
    "duration": 13,
    "start_time": "2023-01-22T12:02:39.456Z"
   },
   {
    "duration": 4,
    "start_time": "2023-01-22T12:02:39.470Z"
   },
   {
    "duration": 324,
    "start_time": "2023-01-22T12:02:39.476Z"
   },
   {
    "duration": 208,
    "start_time": "2023-01-22T12:02:39.802Z"
   },
   {
    "duration": 368,
    "start_time": "2023-01-22T12:02:40.021Z"
   },
   {
    "duration": 194,
    "start_time": "2023-01-22T12:02:40.392Z"
   },
   {
    "duration": 368,
    "start_time": "2023-01-22T12:02:40.588Z"
   },
   {
    "duration": 13,
    "start_time": "2023-01-22T12:02:40.958Z"
   },
   {
    "duration": 220,
    "start_time": "2023-01-22T12:02:40.973Z"
   },
   {
    "duration": 5,
    "start_time": "2023-01-22T12:02:41.195Z"
   },
   {
    "duration": 8,
    "start_time": "2023-01-22T12:02:41.202Z"
   },
   {
    "duration": 7,
    "start_time": "2023-01-22T12:02:41.221Z"
   },
   {
    "duration": 12,
    "start_time": "2023-01-22T12:02:41.231Z"
   },
   {
    "duration": 165,
    "start_time": "2023-01-22T12:02:41.245Z"
   },
   {
    "duration": 12,
    "start_time": "2023-01-22T12:02:41.412Z"
   },
   {
    "duration": 7,
    "start_time": "2023-01-22T12:02:41.426Z"
   },
   {
    "duration": 10,
    "start_time": "2023-01-22T12:02:41.435Z"
   },
   {
    "duration": 416,
    "start_time": "2023-01-22T12:02:41.447Z"
   },
   {
    "duration": 13,
    "start_time": "2023-01-22T12:02:41.865Z"
   },
   {
    "duration": 11,
    "start_time": "2023-01-22T12:02:41.880Z"
   },
   {
    "duration": 56,
    "start_time": "2023-01-22T12:02:41.893Z"
   },
   {
    "duration": 15,
    "start_time": "2023-01-22T12:02:41.951Z"
   },
   {
    "duration": 363,
    "start_time": "2023-01-22T12:02:41.968Z"
   },
   {
    "duration": 300,
    "start_time": "2023-01-22T12:02:42.334Z"
   }
  ],
  "kernelspec": {
   "display_name": "Python 3 (ipykernel)",
   "language": "python",
   "name": "python3"
  },
  "language_info": {
   "codemirror_mode": {
    "name": "ipython",
    "version": 3
   },
   "file_extension": ".py",
   "mimetype": "text/x-python",
   "name": "python",
   "nbconvert_exporter": "python",
   "pygments_lexer": "ipython3",
   "version": "3.9.7"
  },
  "toc": {
   "base_numbering": 1,
   "nav_menu": {},
   "number_sections": true,
   "sideBar": true,
   "skip_h1_title": true,
   "title_cell": "Table of Contents",
   "title_sidebar": "Contents",
   "toc_cell": true,
   "toc_position": {},
   "toc_section_display": true,
   "toc_window_display": false
  }
 },
 "nbformat": 4,
 "nbformat_minor": 5
}
