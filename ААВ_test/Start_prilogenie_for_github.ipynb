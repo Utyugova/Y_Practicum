{
 "cells": [
  {
   "cell_type": "markdown",
   "id": "e2c8a850",
   "metadata": {
    "toc": true
   },
   "source": [
    "<h1>Table of Contents<span class=\"tocSkip\"></span></h1>\n",
    "<div class=\"toc\"><ul class=\"toc-item\"><li><span><a href=\"#Подготовим-данные\" data-toc-modified-id=\"Подготовим-данные-1\">Подготовим данные</a></span></li><li><span><a href=\"#Изучим-и--проверим-данные\" data-toc-modified-id=\"Изучим-и--проверим-данные-2\">Изучим и  проверим данные</a></span></li><li><span><a href=\"#Изучим-воронку-событий\" data-toc-modified-id=\"Изучим-воронку-событий-3\">Изучим воронку событий</a></span></li><li><span><a href=\"#Изучим-результаты-эксперимента\" data-toc-modified-id=\"Изучим-результаты-эксперимента-4\">Изучим результаты эксперимента</a></span></li><li><span><a href=\"#Общие-выводы\" data-toc-modified-id=\"Общие-выводы-5\">Общие выводы</a></span></li></ul></div>"
   ]
  },
  {
   "cell_type": "markdown",
   "id": "7df0f77a",
   "metadata": {},
   "source": [
    "__Описание проекта__\n",
    "\n",
    "Мы работаем в стартапе, который продаёт продукты питания. Нужно разобраться, как ведут себя пользователи вашего мобильного приложения. \n",
    "Изучим воронку продаж. Узнаем, как пользователи доходят до покупки. Сколько пользователей доходит до покупки, а сколько — «застревает» на предыдущих шагах? На каких именно?\n",
    "После этого исследуем результаты A/A/B-эксперимента. Дизайнеры захотели поменять шрифты во всём приложении, а менеджеры испугались, что пользователям будет непривычно. Договорились принять решение по результатам A/A/B-теста. Пользователей разбили на 3 группы: 2 контрольные со старыми шрифтами и одну экспериментальную — с новыми. Выясните, какой шрифт лучше.\n",
    "\n",
    "Создание двух групп A вместо одной имеет определённые преимущества. Если две контрольные группы окажутся равны, мы можете быть уверены в точности проведенного тестирования. Если же между значениями A и A будут существенные различия, это поможет обнаружить факторы, которые привели к искажению результатов. Сравнение контрольных групп также помогает понять, сколько времени и данных потребуется для дальнейших тестов.\n",
    "\n"
   ]
  },
  {
   "cell_type": "code",
   "execution_count": 1,
   "id": "78eee153",
   "metadata": {},
   "outputs": [],
   "source": [
    "import pandas as pd\n",
    "import numpy as np\n",
    "from datetime import datetime\n",
    "import matplotlib.pyplot as plt\n",
    "from scipy import stats as st\n",
    "import math as mth\n",
    "# import seaborn as sns\n"
   ]
  },
  {
   "cell_type": "code",
   "execution_count": 2,
   "id": "5d1d7292",
   "metadata": {},
   "outputs": [],
   "source": [
    "# #пропишем путь к файлу для работы на локальном компьютере и для ревьюера\n",
    "try:\n",
    "    df = pd.read_csv(r'C:\\Users\\logs_exp.csv',sep = '\\t')\n",
    "except:\n",
    "    df = pd.read_csv('/datasets/logs_exp.csv',sep = '\\t')\n",
    "                     \n"
   ]
  },
  {
   "cell_type": "markdown",
   "id": "7ee3b1de",
   "metadata": {},
   "source": [
    "## Подготовим данные"
   ]
  },
  {
   "cell_type": "code",
   "execution_count": 3,
   "id": "1aee24f7",
   "metadata": {},
   "outputs": [
    {
     "data": {
      "text/plain": [
       "'Выведем первые строки  Данных'"
      ]
     },
     "metadata": {},
     "output_type": "display_data"
    },
    {
     "data": {
      "text/html": [
       "<div>\n",
       "<style scoped>\n",
       "    .dataframe tbody tr th:only-of-type {\n",
       "        vertical-align: middle;\n",
       "    }\n",
       "\n",
       "    .dataframe tbody tr th {\n",
       "        vertical-align: top;\n",
       "    }\n",
       "\n",
       "    .dataframe thead th {\n",
       "        text-align: right;\n",
       "    }\n",
       "</style>\n",
       "<table border=\"1\" class=\"dataframe\">\n",
       "  <thead>\n",
       "    <tr style=\"text-align: right;\">\n",
       "      <th></th>\n",
       "      <th>EventName</th>\n",
       "      <th>DeviceIDHash</th>\n",
       "      <th>EventTimestamp</th>\n",
       "      <th>ExpId</th>\n",
       "    </tr>\n",
       "  </thead>\n",
       "  <tbody>\n",
       "    <tr>\n",
       "      <th>0</th>\n",
       "      <td>MainScreenAppear</td>\n",
       "      <td>4575588528974610257</td>\n",
       "      <td>1564029816</td>\n",
       "      <td>246</td>\n",
       "    </tr>\n",
       "    <tr>\n",
       "      <th>1</th>\n",
       "      <td>MainScreenAppear</td>\n",
       "      <td>7416695313311560658</td>\n",
       "      <td>1564053102</td>\n",
       "      <td>246</td>\n",
       "    </tr>\n",
       "    <tr>\n",
       "      <th>2</th>\n",
       "      <td>PaymentScreenSuccessful</td>\n",
       "      <td>3518123091307005509</td>\n",
       "      <td>1564054127</td>\n",
       "      <td>248</td>\n",
       "    </tr>\n",
       "    <tr>\n",
       "      <th>3</th>\n",
       "      <td>CartScreenAppear</td>\n",
       "      <td>3518123091307005509</td>\n",
       "      <td>1564054127</td>\n",
       "      <td>248</td>\n",
       "    </tr>\n",
       "    <tr>\n",
       "      <th>4</th>\n",
       "      <td>PaymentScreenSuccessful</td>\n",
       "      <td>6217807653094995999</td>\n",
       "      <td>1564055322</td>\n",
       "      <td>248</td>\n",
       "    </tr>\n",
       "  </tbody>\n",
       "</table>\n",
       "</div>"
      ],
      "text/plain": [
       "                 EventName         DeviceIDHash  EventTimestamp  ExpId\n",
       "0         MainScreenAppear  4575588528974610257      1564029816    246\n",
       "1         MainScreenAppear  7416695313311560658      1564053102    246\n",
       "2  PaymentScreenSuccessful  3518123091307005509      1564054127    248\n",
       "3         CartScreenAppear  3518123091307005509      1564054127    248\n",
       "4  PaymentScreenSuccessful  6217807653094995999      1564055322    248"
      ]
     },
     "metadata": {},
     "output_type": "display_data"
    },
    {
     "data": {
      "text/plain": [
       "'----------'"
      ]
     },
     "metadata": {},
     "output_type": "display_data"
    },
    {
     "data": {
      "text/plain": [
       "'Выведем информацию по  имеющимся в файле Данным'"
      ]
     },
     "metadata": {},
     "output_type": "display_data"
    },
    {
     "name": "stdout",
     "output_type": "stream",
     "text": [
      "<class 'pandas.core.frame.DataFrame'>\n",
      "RangeIndex: 244126 entries, 0 to 244125\n",
      "Data columns (total 4 columns):\n",
      " #   Column          Non-Null Count   Dtype \n",
      "---  ------          --------------   ----- \n",
      " 0   EventName       244126 non-null  object\n",
      " 1   DeviceIDHash    244126 non-null  int64 \n",
      " 2   EventTimestamp  244126 non-null  int64 \n",
      " 3   ExpId           244126 non-null  int64 \n",
      "dtypes: int64(3), object(1)\n",
      "memory usage: 7.5+ MB\n"
     ]
    },
    {
     "data": {
      "text/plain": [
       "None"
      ]
     },
     "metadata": {},
     "output_type": "display_data"
    },
    {
     "data": {
      "text/plain": [
       "'----------'"
      ]
     },
     "metadata": {},
     "output_type": "display_data"
    },
    {
     "data": {
      "text/plain": [
       "'Есть ли пропуски в  Данных и их количество'"
      ]
     },
     "metadata": {},
     "output_type": "display_data"
    },
    {
     "data": {
      "text/plain": [
       "EventName         0\n",
       "DeviceIDHash      0\n",
       "EventTimestamp    0\n",
       "ExpId             0\n",
       "dtype: int64"
      ]
     },
     "metadata": {},
     "output_type": "display_data"
    },
    {
     "data": {
      "text/plain": [
       "'----------'"
      ]
     },
     "metadata": {},
     "output_type": "display_data"
    },
    {
     "data": {
      "text/plain": [
       "'Количество записей'"
      ]
     },
     "metadata": {},
     "output_type": "display_data"
    },
    {
     "data": {
      "text/plain": [
       "244126"
      ]
     },
     "metadata": {},
     "output_type": "display_data"
    },
    {
     "data": {
      "text/plain": [
       "'----------'"
      ]
     },
     "metadata": {},
     "output_type": "display_data"
    },
    {
     "data": {
      "text/plain": [
       "'Какое количество дубликатов в  Данных'"
      ]
     },
     "metadata": {},
     "output_type": "display_data"
    },
    {
     "data": {
      "text/plain": [
       "413"
      ]
     },
     "metadata": {},
     "output_type": "display_data"
    }
   ],
   "source": [
    "def showtime(df):\n",
    "    display(\"Выведем первые строки  Данных\")\n",
    "    display(df.head())\n",
    "    display('-'*10)\n",
    "    display(\"Выведем информацию по  имеющимся в файле Данным\")\n",
    "    display(df.info())\n",
    "    display('-'*10)\n",
    "    display(\"Есть ли пропуски в  Данных и их количество\")\n",
    "    display(df.isna().sum())\n",
    "    display('-'*10)\n",
    "    display(\"Количество записей\")\n",
    "    display(len(df))\n",
    "    display('-'*10)\n",
    "    display(\"Какое количество дубликатов в  Данных\")\n",
    "    display(df.duplicated().sum())\n",
    "    \n",
    "showtime(df) "
   ]
  },
  {
   "cell_type": "code",
   "execution_count": 4,
   "id": "918d9947",
   "metadata": {},
   "outputs": [
    {
     "data": {
      "text/plain": [
       "413"
      ]
     },
     "execution_count": 4,
     "metadata": {},
     "output_type": "execute_result"
    }
   ],
   "source": [
    "df.duplicated().sum()\n"
   ]
  },
  {
   "cell_type": "markdown",
   "id": "e8c70b84",
   "metadata": {},
   "source": [
    "__Описание данных__\n",
    "\n",
    "Каждая запись в логе — это действие пользователя, или событие. \n",
    "-\tEventName — название события;\n",
    "-\tDeviceIDHash — уникальный идентификатор пользователя;\n",
    "-\tEventTimestamp — время события;\n",
    "-\tExpId — номер эксперимента: 246 и 247 — контрольные группы, а 248 — экспериментальная.\n"
   ]
  },
  {
   "cell_type": "markdown",
   "id": "921f57c1",
   "metadata": {},
   "source": [
    "Вывели часть данных и заметим что название колонок прежде всего нужно привести  к принципу python-style.\n",
    "Колонка EventTimestamp   имеет числовое обозначение. Нужно его привести  к виду date. \n",
    "\n",
    "Всего  244126 записей. Пропусков в данных нет. Выявлено 413  строк-дубликатов, их количество не является  критически важным соотношением  к общему числу записей, от них можно избавиться без  урона к общим данным.\n"
   ]
  },
  {
   "cell_type": "code",
   "execution_count": 5,
   "id": "2f87a7d7",
   "metadata": {},
   "outputs": [],
   "source": [
    "#переименуем колонки\n",
    "df = df.rename(columns = {'EventName':'event_name', 'DeviceIDHash':'device_id_hash', \\\n",
    "                          'EventTimestamp' :'event_timestamp', 'ExpId' : 'exp_id'})"
   ]
  },
  {
   "cell_type": "code",
   "execution_count": 6,
   "id": "474c721a",
   "metadata": {},
   "outputs": [],
   "source": [
    "#удалим дубликаты\n",
    "df = df.drop_duplicates().reset_index(drop=True)"
   ]
  },
  {
   "cell_type": "code",
   "execution_count": 7,
   "id": "a3ee0669",
   "metadata": {},
   "outputs": [],
   "source": [
    "#создадим колонку в виде timestamp\n",
    "df['event_time'] = pd.to_datetime(df['event_timestamp'], unit='s')\n",
    "\n",
    "#создадим колонку в виде  год-месяц-день\n",
    "df['event_dtime'] = df['event_time'].dt.strftime('%Y-%m-%d')\n"
   ]
  },
  {
   "cell_type": "code",
   "execution_count": 8,
   "id": "c1f4bb16",
   "metadata": {},
   "outputs": [
    {
     "data": {
      "text/plain": [
       "array(['MainScreenAppear', 'PaymentScreenSuccessful', 'CartScreenAppear',\n",
       "       'OffersScreenAppear', 'Tutorial'], dtype=object)"
      ]
     },
     "execution_count": 8,
     "metadata": {},
     "output_type": "execute_result"
    }
   ],
   "source": [
    "#Посмотрим  какие данные содержит колонка  'event_name'\n",
    "df.event_name.unique()"
   ]
  },
  {
   "cell_type": "markdown",
   "id": "68e9e3a0",
   "metadata": {},
   "source": [
    "\n",
    "Видим следующие Наименование записей среди событий : MainScreenAppear, OffersScreenAppear, CartScreenAppear, PaymentScreenSuccessful,Tutorial.\n",
    "\n",
    "Далее  буду считать что перевод следующий: Главная страница, Карточки продуктов, Корзина, Подтверждение оплаты, Описание продукта - Туториал (руководство). \n",
    "\n",
    "(ИМХО: брала  варианты перевода страниц  по примеру Озона, ЯП того же... ИМХО)"
   ]
  },
  {
   "cell_type": "code",
   "execution_count": 9,
   "id": "2dc64580",
   "metadata": {},
   "outputs": [
    {
     "data": {
      "text/plain": [
       "array([246, 248, 247])"
      ]
     },
     "execution_count": 9,
     "metadata": {},
     "output_type": "execute_result"
    }
   ],
   "source": [
    "df.exp_id.unique()"
   ]
  },
  {
   "cell_type": "markdown",
   "id": "922d9286",
   "metadata": {},
   "source": [
    "Также  видим уникальные группы  среди которых распределены пользователи- что подтверждается описанием задачи ранее."
   ]
  },
  {
   "cell_type": "code",
   "execution_count": 10,
   "id": "cd36edd7",
   "metadata": {},
   "outputs": [
    {
     "name": "stdout",
     "output_type": "stream",
     "text": [
      "<class 'pandas.core.frame.DataFrame'>\n",
      "RangeIndex: 243713 entries, 0 to 243712\n",
      "Data columns (total 6 columns):\n",
      " #   Column           Non-Null Count   Dtype         \n",
      "---  ------           --------------   -----         \n",
      " 0   event_name       243713 non-null  object        \n",
      " 1   device_id_hash   243713 non-null  int64         \n",
      " 2   event_timestamp  243713 non-null  int64         \n",
      " 3   exp_id           243713 non-null  int64         \n",
      " 4   event_time       243713 non-null  datetime64[ns]\n",
      " 5   event_dtime      243713 non-null  object        \n",
      "dtypes: datetime64[ns](1), int64(3), object(2)\n",
      "memory usage: 11.2+ MB\n"
     ]
    }
   ],
   "source": [
    "# проверим что все применилось, количество строк уменьшилось после удалени дубликатов, \n",
    "# виды  данных в нужном формате, строки  переименованы верно\n",
    "df.info()"
   ]
  },
  {
   "cell_type": "markdown",
   "id": "811fe14b",
   "metadata": {},
   "source": [
    "___"
   ]
  },
  {
   "cell_type": "markdown",
   "id": "7e28d75f",
   "metadata": {},
   "source": [
    "## Изучим и  проверим данные"
   ]
  },
  {
   "cell_type": "markdown",
   "id": "d27705a3",
   "metadata": {},
   "source": [
    "__Проверим что  все   даты правильно сконвертировалось и выведем данные по  временному промежутку  \n",
    "данные которых доступны для нас__"
   ]
  },
  {
   "cell_type": "code",
   "execution_count": 11,
   "id": "e4b6bed0",
   "metadata": {},
   "outputs": [
    {
     "name": "stdout",
     "output_type": "stream",
     "text": [
      "В логе (данных) всего 243713 записей по  всем действиям всех посетителей\n"
     ]
    }
   ],
   "source": [
    "activity = len(df)\n",
    "print(f'В логе (данных) всего {activity } записей по  всем действиям всех посетителей')"
   ]
  },
  {
   "cell_type": "code",
   "execution_count": 12,
   "id": "0ede9e51",
   "metadata": {},
   "outputs": [
    {
     "name": "stdout",
     "output_type": "stream",
     "text": [
      "В логе зафиксировано 7551 уникальных посетителей\n"
     ]
    }
   ],
   "source": [
    "visitors = df.device_id_hash.nunique()\n",
    "print(f'В логе зафиксировано {visitors} уникальных посетителей')"
   ]
  },
  {
   "cell_type": "code",
   "execution_count": 13,
   "id": "c90517d4",
   "metadata": {},
   "outputs": [
    {
     "name": "stdout",
     "output_type": "stream",
     "text": [
      "В  среднем на одного пользователя приходится  32.28 событий\n"
     ]
    }
   ],
   "source": [
    "sobitye = round(activity/visitors,2)\n",
    "print(f'В  среднем на одного пользователя приходится  {sobitye} событий')"
   ]
  },
  {
   "cell_type": "code",
   "execution_count": 14,
   "id": "f4826437",
   "metadata": {},
   "outputs": [
    {
     "data": {
      "text/plain": [
       "'Рассматриваемый период предоставления данных  стартапа  c 2019-07-25 по 2019-08-07 гг.'"
      ]
     },
     "metadata": {},
     "output_type": "display_data"
    }
   ],
   "source": [
    "#проверим по отдельным  сформированным колонкам\n",
    "y_min = df['event_dtime'].min()\n",
    "y_max = df['event_dtime'].max()\n",
    "display(f'Рассматриваемый период предоставления данных  стартапа  c {y_min} по {y_max} гг.')"
   ]
  },
  {
   "cell_type": "code",
   "execution_count": 15,
   "id": "592ccb91",
   "metadata": {},
   "outputs": [
    {
     "data": {
      "text/plain": [
       "'Рассматриваемый период предоставления данных  стартапа с 2019-07-25 04:43:36 по 2019-08-07 21:15:17 гг.'"
      ]
     },
     "metadata": {},
     "output_type": "display_data"
    }
   ],
   "source": [
    "# детализация по времени:\n",
    "y_min = df['event_time'].min()\n",
    "y_max = df['event_time'].max()\n",
    "display(f'Рассматриваемый период предоставления данных  стартапа с {y_min} по {y_max} гг.')"
   ]
  },
  {
   "cell_type": "code",
   "execution_count": 16,
   "id": "608ecd5f",
   "metadata": {},
   "outputs": [
    {
     "data": {
      "image/png": "[encoded data removed]",
      "text/plain": [
       "<Figure size 1080x360 with 1 Axes>"
      ]
     },
     "metadata": {
      "needs_background": "light"
     },
     "output_type": "display_data"
    }
   ],
   "source": [
    "#Построим  гистограмму по дням обнаруженных записей\n",
    "plt.figure(figsize=(15, 5))\n",
    "\n",
    "df['event_dtime'].hist(bins = 11, rwidth = 0.2)\n",
    "plt.title('Гистограмма даты и времени')\n",
    "plt.xlabel('Дата')\n",
    "plt.ylabel('Количество событий');"
   ]
  },
  {
   "cell_type": "code",
   "execution_count": 17,
   "id": "bc04c07e",
   "metadata": {},
   "outputs": [
    {
     "data": {
      "image/png": "[encoded data removed]",
      "text/plain": [
       "<Figure size 1008x360 with 1 Axes>"
      ]
     },
     "metadata": {
      "needs_background": "light"
     },
     "output_type": "display_data"
    }
   ],
   "source": [
    "# код ревьюера\n",
    "df['event_time'].hist(bins=14*24, figsize=(14, 5));"
   ]
  },
  {
   "cell_type": "markdown",
   "id": "740682dc",
   "metadata": {},
   "source": [
    "\n",
    "По гистограмме распределения можем видеть что только с 01 августа 2019 года  мы располагаем   большими массивами данных.\n",
    "Наверное можем удалить  записи   ранее 01 августа 2019.\n",
    "Попробуем удалить данные до   указанного нами период и подсчитать какое количество они оставляют от всего фрейма данных. Если более 10 %  - дальнейшие действия могли бы подвергнуться критике.\n",
    "По  записям с  01 августа 2019 по 07 августа 2019  включительно мы сможем сделать оценку действий пользователей.\n"
   ]
  },
  {
   "cell_type": "code",
   "execution_count": 18,
   "id": "3c5f27eb",
   "metadata": {},
   "outputs": [
    {
     "name": "stdout",
     "output_type": "stream",
     "text": [
      "Новый датафрейм, по  отфильтрованным данным содержит 240887 записей\n"
     ]
    }
   ],
   "source": [
    "#Обрежем данные по дате '2019-08-01'\n",
    "cut = df[df['event_dtime']>='2019-08-01'] \n",
    "print(f'Новый датафрейм, по  отфильтрованным данным содержит {len(cut)} записей')"
   ]
  },
  {
   "cell_type": "code",
   "execution_count": 19,
   "id": "035e9a2c",
   "metadata": {},
   "outputs": [
    {
     "name": "stdout",
     "output_type": "stream",
     "text": [
      "Разница между датафреймом без дубликатов, df и отфильтрованным по дате \"2019-08-01\" составляет 2826 строк\n",
      "Что составляет 1.16 процента от первоначального кол-ва строк\n"
     ]
    }
   ],
   "source": [
    "razn = len(df) - len(cut)\n",
    "print(f'Разница между датафреймом без дубликатов, df и отфильтрованным по дате \"2019-08-01\" составляет {razn} строк')\n",
    "proc = (razn * 100)/len(df)\n",
    "print(f'Что составляет {round(proc,2)} процента от первоначального кол-ва строк')"
   ]
  },
  {
   "cell_type": "code",
   "execution_count": 20,
   "id": "4dc6a978",
   "metadata": {},
   "outputs": [
    {
     "name": "stdout",
     "output_type": "stream",
     "text": [
      " При  определении  актуального временного промежутка  мы удалили: 17 пользователей\n",
      " До  определения  актуального временного промежутка  было: 7551 пользователей\n",
      " Соотношение удаленных 17 польз-ей  к начальным 7551 некритично, составляет 0.23 %\n"
     ]
    }
   ],
   "source": [
    "#Расчитаем сколько уникальных пользователей было  до и после определения актуального временного \n",
    "# промежутка, вычтем, узнаем  скольких лишились и  важно ли их количество\n",
    "df_polz = df.device_id_hash.nunique()\n",
    "cut_polz = cut.device_id_hash.nunique()\n",
    "udaleno = df_polz - cut_polz\n",
    "p = (udaleno/df_polz)*100\n",
    "print(f' При  определении  актуального временного промежутка  мы удалили: {udaleno} пользователей')\n",
    "print(f' До  определения  актуального временного промежутка  было: {df_polz} пользователей')\n",
    "print(f' Соотношение удаленных {udaleno} польз-ей  к начальным {df_polz} некритично, составляет {round(p,2)} %')"
   ]
  },
  {
   "cell_type": "markdown",
   "id": "3fefc09f",
   "metadata": {},
   "source": [
    "Удаление  строк не является критически важным. Далее  расчеты покажут актуальную информацию."
   ]
  },
  {
   "cell_type": "code",
   "execution_count": 21,
   "id": "bf6d82cf",
   "metadata": {},
   "outputs": [
    {
     "data": {
      "text/plain": [
       "array(['Tutorial', 'MainScreenAppear', 'OffersScreenAppear',\n",
       "       'CartScreenAppear', 'PaymentScreenSuccessful'], dtype=object)"
      ]
     },
     "execution_count": 21,
     "metadata": {},
     "output_type": "execute_result"
    }
   ],
   "source": [
    "#выведем категории событий в cut \n",
    "cut.event_name.unique()"
   ]
  },
  {
   "cell_type": "code",
   "execution_count": 22,
   "id": "d764ee22",
   "metadata": {},
   "outputs": [
    {
     "data": {
      "text/plain": [
       "array([246, 247, 248])"
      ]
     },
     "execution_count": 22,
     "metadata": {},
     "output_type": "execute_result"
    }
   ],
   "source": [
    "#выведем группы в cut          \n",
    "cut.exp_id.unique()"
   ]
  },
  {
   "cell_type": "markdown",
   "id": "9ea70433",
   "metadata": {},
   "source": [
    "При удалении части строк группы и категории сохранились. Можем работать далее."
   ]
  },
  {
   "cell_type": "code",
   "execution_count": 23,
   "id": "715be5cf",
   "metadata": {},
   "outputs": [
    {
     "name": "stdout",
     "output_type": "stream",
     "text": [
      " В группе 246: 79302 записей\n",
      " В группе 247: 77022 записей\n",
      " В группе 248: 84563 записей\n"
     ]
    }
   ],
   "source": [
    "#Узнаем сколько записей в каждой из групп\n",
    "\n",
    "group_246 = len(cut[cut['exp_id'] == 246])\n",
    "group_247 = len(cut[cut['exp_id'] == 247])\n",
    "group_248 = len(cut[cut['exp_id'] == 248])\n",
    "print(f' В группе 246: {group_246} записей')\n",
    "print(f' В группе 247: {group_247} записей')\n",
    "print(f' В группе 248: {group_248} записей')"
   ]
  },
  {
   "cell_type": "code",
   "execution_count": 24,
   "id": "7800bb28",
   "metadata": {},
   "outputs": [
    {
     "data": {
      "image/png": "[encoded data removed]",
      "text/plain": [
       "<Figure size 432x288 with 1 Axes>"
      ]
     },
     "metadata": {
      "needs_background": "light"
     },
     "output_type": "display_data"
    }
   ],
   "source": [
    "# Построим гистограмму распределения записей по группам\n",
    "cut.exp_id.hist()\n",
    "plt.title('Группы в колонке \"exp_id\" номер эксперимента  - распределение')\n",
    "plt.xlabel('Группы эксперимента')\n",
    "plt.ylabel('Количество участников по группам');\n",
    "plt.xticks(rotation=13);"
   ]
  },
  {
   "cell_type": "code",
   "execution_count": 25,
   "id": "11627cc6",
   "metadata": {},
   "outputs": [],
   "source": [
    "# #создадим 3 отдельные группы с  общим номером группы\n",
    "# group_246 = len(cut[cut['exp_id'] == 246])\n",
    "# group_247 = len(cut[cut['exp_id'] == 247])\n",
    "# group_248 = len(cut[cut['exp_id'] == 248])"
   ]
  },
  {
   "cell_type": "code",
   "execution_count": 27,
   "id": "dd540540",
   "metadata": {},
   "outputs": [
    {
     "data": {
      "text/html": [
       "<div>\n",
       "<style scoped>\n",
       "    .dataframe tbody tr th:only-of-type {\n",
       "        vertical-align: middle;\n",
       "    }\n",
       "\n",
       "    .dataframe tbody tr th {\n",
       "        vertical-align: top;\n",
       "    }\n",
       "\n",
       "    .dataframe thead th {\n",
       "        text-align: right;\n",
       "    }\n",
       "</style>\n",
       "<table border=\"1\" class=\"dataframe\">\n",
       "  <thead>\n",
       "    <tr style=\"text-align: right;\">\n",
       "      <th></th>\n",
       "      <th>device_id_hash</th>\n",
       "    </tr>\n",
       "    <tr>\n",
       "      <th>exp_id</th>\n",
       "      <th></th>\n",
       "    </tr>\n",
       "  </thead>\n",
       "  <tbody>\n",
       "    <tr>\n",
       "      <th>246</th>\n",
       "      <td>2484</td>\n",
       "    </tr>\n",
       "    <tr>\n",
       "      <th>247</th>\n",
       "      <td>2513</td>\n",
       "    </tr>\n",
       "    <tr>\n",
       "      <th>248</th>\n",
       "      <td>2537</td>\n",
       "    </tr>\n",
       "  </tbody>\n",
       "</table>\n",
       "</div>"
      ],
      "text/plain": [
       "        device_id_hash\n",
       "exp_id                \n",
       "246               2484\n",
       "247               2513\n",
       "248               2537"
      ]
     },
     "execution_count": 27,
     "metadata": {},
     "output_type": "execute_result"
    }
   ],
   "source": [
    "unique_by_groups = cut.groupby('exp_id').agg({'device_id_hash':'nunique'})\n",
    "unique_by_groups"
   ]
  },
  {
   "cell_type": "code",
   "execution_count": 28,
   "id": "480d9950",
   "metadata": {},
   "outputs": [
    {
     "data": {
      "text/plain": [
       "7534"
      ]
     },
     "execution_count": 28,
     "metadata": {},
     "output_type": "execute_result"
    }
   ],
   "source": [
    "users = len_id_246+len_id_247+len_id_248\n",
    "users"
   ]
  },
  {
   "cell_type": "markdown",
   "id": "5de3c22f",
   "metadata": {},
   "source": [
    "В процессе сортировки по дате в фрейме данных осталось 7534 пользователя"
   ]
  },
  {
   "cell_type": "markdown",
   "id": "119758c1",
   "metadata": {},
   "source": [
    "___"
   ]
  },
  {
   "cell_type": "markdown",
   "id": "39a4c602",
   "metadata": {},
   "source": [
    "## Изучим воронку событий"
   ]
  },
  {
   "cell_type": "markdown",
   "id": "bfaf22a6",
   "metadata": {},
   "source": [
    "__Посмотрим, какие события есть в логах, как часто они встречаются. Отсортируем события по частоте.__"
   ]
  },
  {
   "cell_type": "code",
   "execution_count": 29,
   "id": "66c38896",
   "metadata": {},
   "outputs": [
    {
     "data": {
      "image/png": "[encoded data removed]",
      "text/plain": [
       "<Figure size 432x288 with 1 Axes>"
      ]
     },
     "metadata": {
      "needs_background": "light"
     },
     "output_type": "display_data"
    }
   ],
   "source": [
    "#построим гистограмму - распределние  событий в колонке event_time\n",
    "cut.event_name.hist()\n",
    "plt.title('События в колонке event_name - распределение')\n",
    "plt.xlabel('Название')\n",
    "plt.ylabel('Количество событий');\n",
    "plt.xticks(rotation=13);"
   ]
  },
  {
   "cell_type": "markdown",
   "id": "0e447b60",
   "metadata": {},
   "source": [
    "__Посчитаем, сколько пользователей совершали каждое из этих событий. Отсортируем события по числу пользователей. Посчитаем долю пользователей, которые хоть раз совершали событие.__"
   ]
  },
  {
   "cell_type": "code",
   "execution_count": 30,
   "id": "9b46ec9d",
   "metadata": {},
   "outputs": [
    {
     "data": {
      "text/html": [
       "<div>\n",
       "<style scoped>\n",
       "    .dataframe tbody tr th:only-of-type {\n",
       "        vertical-align: middle;\n",
       "    }\n",
       "\n",
       "    .dataframe tbody tr th {\n",
       "        vertical-align: top;\n",
       "    }\n",
       "\n",
       "    .dataframe thead th {\n",
       "        text-align: right;\n",
       "    }\n",
       "</style>\n",
       "<table border=\"1\" class=\"dataframe\">\n",
       "  <thead>\n",
       "    <tr style=\"text-align: right;\">\n",
       "      <th></th>\n",
       "      <th>sum_log</th>\n",
       "      <th>count_id</th>\n",
       "    </tr>\n",
       "    <tr>\n",
       "      <th>event_name</th>\n",
       "      <th></th>\n",
       "      <th></th>\n",
       "    </tr>\n",
       "  </thead>\n",
       "  <tbody>\n",
       "    <tr>\n",
       "      <th>MainScreenAppear</th>\n",
       "      <td>117328</td>\n",
       "      <td>7419</td>\n",
       "    </tr>\n",
       "    <tr>\n",
       "      <th>OffersScreenAppear</th>\n",
       "      <td>46333</td>\n",
       "      <td>4593</td>\n",
       "    </tr>\n",
       "    <tr>\n",
       "      <th>CartScreenAppear</th>\n",
       "      <td>42303</td>\n",
       "      <td>3734</td>\n",
       "    </tr>\n",
       "    <tr>\n",
       "      <th>PaymentScreenSuccessful</th>\n",
       "      <td>33918</td>\n",
       "      <td>3539</td>\n",
       "    </tr>\n",
       "    <tr>\n",
       "      <th>Tutorial</th>\n",
       "      <td>1005</td>\n",
       "      <td>840</td>\n",
       "    </tr>\n",
       "  </tbody>\n",
       "</table>\n",
       "</div>"
      ],
      "text/plain": [
       "                         sum_log  count_id\n",
       "event_name                                \n",
       "MainScreenAppear          117328      7419\n",
       "OffersScreenAppear         46333      4593\n",
       "CartScreenAppear           42303      3734\n",
       "PaymentScreenSuccessful    33918      3539\n",
       "Tutorial                    1005       840"
      ]
     },
     "execution_count": 30,
     "metadata": {},
     "output_type": "execute_result"
    }
   ],
   "source": [
    "event_to_hash = cut.groupby('event_name').agg({'device_id_hash':'count'})\n",
    "event_to_unique = cut.groupby('event_name').agg({'device_id_hash':'nunique'})\n",
    "\n",
    "cumulative_data = event_to_hash.merge(event_to_unique, left_on=['event_name'],right_on=['event_name'])\n",
    "cumulative_data.columns = ['sum_log', 'count_id']\n",
    "cumulative_data.sort_values(by='count_id', ascending = False)   "
   ]
  },
  {
   "cell_type": "markdown",
   "id": "64b9f327",
   "metadata": {},
   "source": [
    "Наибольшее ко-во  записей зарегистрировано по  убыванию: MainScreenAppear, OffersScreenAppear, CartScreenAppear, PaymentScreenSuccessful,Tutorial.\n",
    "\n",
    "Видим что  кол-во  пользователей по  событиям в колонке \"exp_id\" также не одинаково."
   ]
  },
  {
   "cell_type": "code",
   "execution_count": 31,
   "id": "bad592d2",
   "metadata": {},
   "outputs": [
    {
     "data": {
      "text/html": [
       "<div>\n",
       "<style scoped>\n",
       "    .dataframe tbody tr th:only-of-type {\n",
       "        vertical-align: middle;\n",
       "    }\n",
       "\n",
       "    .dataframe tbody tr th {\n",
       "        vertical-align: top;\n",
       "    }\n",
       "\n",
       "    .dataframe thead th {\n",
       "        text-align: right;\n",
       "    }\n",
       "</style>\n",
       "<table border=\"1\" class=\"dataframe\">\n",
       "  <thead>\n",
       "    <tr style=\"text-align: right;\">\n",
       "      <th></th>\n",
       "      <th>device_id_hash</th>\n",
       "    </tr>\n",
       "    <tr>\n",
       "      <th>event_name</th>\n",
       "      <th></th>\n",
       "    </tr>\n",
       "  </thead>\n",
       "  <tbody>\n",
       "    <tr>\n",
       "      <th>MainScreenAppear</th>\n",
       "      <td>98.47</td>\n",
       "    </tr>\n",
       "    <tr>\n",
       "      <th>OffersScreenAppear</th>\n",
       "      <td>60.96</td>\n",
       "    </tr>\n",
       "    <tr>\n",
       "      <th>CartScreenAppear</th>\n",
       "      <td>49.56</td>\n",
       "    </tr>\n",
       "    <tr>\n",
       "      <th>PaymentScreenSuccessful</th>\n",
       "      <td>46.97</td>\n",
       "    </tr>\n",
       "    <tr>\n",
       "      <th>Tutorial</th>\n",
       "      <td>11.15</td>\n",
       "    </tr>\n",
       "  </tbody>\n",
       "</table>\n",
       "</div>"
      ],
      "text/plain": [
       "                         device_id_hash\n",
       "event_name                             \n",
       "MainScreenAppear                  98.47\n",
       "OffersScreenAppear                60.96\n",
       "CartScreenAppear                  49.56\n",
       "PaymentScreenSuccessful           46.97\n",
       "Tutorial                          11.15"
      ]
     },
     "execution_count": 31,
     "metadata": {},
     "output_type": "execute_result"
    }
   ],
   "source": [
    "#мы знаем сколько всего в группах  уникальных пользователей. Также знаем сколько уникльных пользователей прошло в каждое\n",
    "# из окон. Можем посчитать  конверсии переходов.\n",
    "\n",
    "voronka = (event_to_unique/users)*100\n",
    "round(voronka.sort_values(by = 'device_id_hash', ascending=False),2)"
   ]
  },
  {
   "cell_type": "code",
   "execution_count": 32,
   "id": "8cb5e3d6",
   "metadata": {},
   "outputs": [
    {
     "data": {
      "image/png": "[encoded data removed]",
      "text/plain": [
       "<Figure size 576x360 with 1 Axes>"
      ]
     },
     "metadata": {
      "needs_background": "light"
     },
     "output_type": "display_data"
    }
   ],
   "source": [
    "#Построим для визуализации   разницу в переходах\n",
    "\n",
    "plt.figure(figsize=(8, 5))\n",
    "plt.bar(voronka.index, voronka.device_id_hash)\n",
    "plt.title('Воронка распределения переходов')\n",
    "plt.xlabel('События')\n",
    "plt.ylabel('%');\n",
    "plt.xticks(rotation=20)\n",
    "plt.grid(True);\n",
    "plt.show();"
   ]
  },
  {
   "cell_type": "markdown",
   "id": "79e95e75",
   "metadata": {},
   "source": [
    "Как мы видим, постепенно, не обходя другие окна  или прыгая через них пользователи спускаются  к \"Руководству\".\n",
    "\n",
    "Наибольший процент конвертации пользователей  на Главную страницу - 98,47 процентов,  Карточки продуктов смотрят уже 60,96 процентов(разница в 38 процентов!!), до Корзиной проходит 49,56 процентов и также отмечаем большую разницу (более 35 процентов) между  Подтверждением оплаты  - 46,97 процентов и  Руководством - 11,15 процентов.\n",
    "Разница между  конвертацией в Корзину и Подтверждением оплаты - минимальная: 49.56-46.97 процентов!\n",
    "\n",
    "До оплаты доходит только  47 процентов посетителей.\n",
    "\n"
   ]
  },
  {
   "cell_type": "markdown",
   "id": "9af79dc8",
   "metadata": {},
   "source": [
    "Посчитаем, какая доля пользователей проходит на следующий шаг воронки (от числа пользователей на предыдущем). То есть для последовательности событий A → B → C посчитаем отношение числа пользователей с событием B к количеству пользователей с событием A, а также отношение числа пользователей с событием C к количеству пользователей с событием B."
   ]
  },
  {
   "cell_type": "code",
   "execution_count": 33,
   "id": "cbc20e39",
   "metadata": {},
   "outputs": [
    {
     "data": {
      "text/html": [
       "<div>\n",
       "<style scoped>\n",
       "    .dataframe tbody tr th:only-of-type {\n",
       "        vertical-align: middle;\n",
       "    }\n",
       "\n",
       "    .dataframe tbody tr th {\n",
       "        vertical-align: top;\n",
       "    }\n",
       "\n",
       "    .dataframe thead th {\n",
       "        text-align: right;\n",
       "    }\n",
       "</style>\n",
       "<table border=\"1\" class=\"dataframe\">\n",
       "  <thead>\n",
       "    <tr style=\"text-align: right;\">\n",
       "      <th></th>\n",
       "      <th>device_id_hash</th>\n",
       "      <th>perehod</th>\n",
       "      <th>potery</th>\n",
       "    </tr>\n",
       "    <tr>\n",
       "      <th>event_name</th>\n",
       "      <th></th>\n",
       "      <th></th>\n",
       "      <th></th>\n",
       "    </tr>\n",
       "  </thead>\n",
       "  <tbody>\n",
       "    <tr>\n",
       "      <th>MainScreenAppear</th>\n",
       "      <td>7419</td>\n",
       "      <td>NaN</td>\n",
       "      <td>NaN</td>\n",
       "    </tr>\n",
       "    <tr>\n",
       "      <th>OffersScreenAppear</th>\n",
       "      <td>4593</td>\n",
       "      <td>0.619086</td>\n",
       "      <td>38.09</td>\n",
       "    </tr>\n",
       "    <tr>\n",
       "      <th>CartScreenAppear</th>\n",
       "      <td>3734</td>\n",
       "      <td>0.812976</td>\n",
       "      <td>18.70</td>\n",
       "    </tr>\n",
       "    <tr>\n",
       "      <th>PaymentScreenSuccessful</th>\n",
       "      <td>3539</td>\n",
       "      <td>0.947777</td>\n",
       "      <td>5.22</td>\n",
       "    </tr>\n",
       "    <tr>\n",
       "      <th>Tutorial</th>\n",
       "      <td>840</td>\n",
       "      <td>0.237355</td>\n",
       "      <td>76.26</td>\n",
       "    </tr>\n",
       "  </tbody>\n",
       "</table>\n",
       "</div>"
      ],
      "text/plain": [
       "                         device_id_hash   perehod  potery\n",
       "event_name                                               \n",
       "MainScreenAppear                   7419       NaN     NaN\n",
       "OffersScreenAppear                 4593  0.619086   38.09\n",
       "CartScreenAppear                   3734  0.812976   18.70\n",
       "PaymentScreenSuccessful            3539  0.947777    5.22\n",
       "Tutorial                            840  0.237355   76.26"
      ]
     },
     "execution_count": 33,
     "metadata": {},
     "output_type": "execute_result"
    }
   ],
   "source": [
    "event_to_unique.reset_index()\n",
    "# отсортируем \n",
    "event_to_unique = event_to_unique.sort_values(by='device_id_hash', ascending = False)   \n",
    "# разделим  с помощью функц.shift  последующие показатели на предыдущие \n",
    "event_to_unique['perehod'] = (event_to_unique['device_id_hash']/event_to_unique\\\n",
    "                                            ['device_id_hash'].shift(1))\n",
    "#выясним наши потери \n",
    "event_to_unique['potery'] = round((1-event_to_unique['perehod'])*100,2)\n",
    "event_to_unique\n"
   ]
  },
  {
   "cell_type": "markdown",
   "id": "b0d0b361",
   "metadata": {},
   "source": [
    "Можем увидеть  что  при переходе с одного шага на другой  мы имеем не такие серьезные потери если сравнивать  с соотношением Главного окна к  Карточкам продуктов.\n",
    "Потери при переходе   на Руковододство(Tutorial) самые большие.\n",
    "\n",
    "п.с. - кто и  когда читает инструкции?"
   ]
  },
  {
   "cell_type": "markdown",
   "id": "5359ad28",
   "metadata": {},
   "source": [
    "___"
   ]
  },
  {
   "cell_type": "markdown",
   "id": "d129b2c1",
   "metadata": {},
   "source": [
    "## Изучим результаты эксперимента"
   ]
  },
  {
   "cell_type": "markdown",
   "id": "1de0f4f7",
   "metadata": {},
   "source": [
    "__Сколько пользователей в каждой экспериментальной группе?__"
   ]
  },
  {
   "cell_type": "code",
   "execution_count": 34,
   "id": "e12c4b36",
   "metadata": {},
   "outputs": [
    {
     "name": "stdout",
     "output_type": "stream",
     "text": [
      " Количество  уникальных пользователей в группе 246:  2484 пользователя\n",
      " Количество  уникальных пользователей в группе 247:  2513 пользователя\n",
      " Количество  уникальных пользователей в группе 248:  2537 пользователя\n"
     ]
    }
   ],
   "source": [
    "g_246 = cut[cut['exp_id'] == 246]\n",
    "g_247 = cut[cut['exp_id'] == 247]\n",
    "g_248 = cut[cut['exp_id'] == 248]\n",
    "\n",
    "len_id_246 = g_246['device_id_hash'].nunique()\n",
    "len_id_247 = g_247['device_id_hash'].nunique()\n",
    "len_id_248 = g_248['device_id_hash'].nunique()\n",
    "\n",
    "print(f' Количество  уникальных пользователей в группе 246:  {len_id_246} пользователя')\n",
    "print(f' Количество  уникальных пользователей в группе 247:  {len_id_247} пользователя')\n",
    "print(f' Количество  уникальных пользователей в группе 248:  {len_id_248} пользователя')"
   ]
  },
  {
   "cell_type": "markdown",
   "id": "d7617bd2",
   "metadata": {},
   "source": [
    "Посмотрим  не попали ли  пользователи одних групп в другие."
   ]
  },
  {
   "cell_type": "code",
   "execution_count": 35,
   "id": "ce31b397",
   "metadata": {},
   "outputs": [
    {
     "data": {
      "text/plain": [
       "0"
      ]
     },
     "execution_count": 35,
     "metadata": {},
     "output_type": "execute_result"
    }
   ],
   "source": [
    "len(np.intersect1d(cut.query('exp_id == 246')['device_id_hash'], cut.query(\n",
    "'exp_id == 247')['device_id_hash'], assume_unique = False))"
   ]
  },
  {
   "cell_type": "code",
   "execution_count": 36,
   "id": "1f2e4fe1",
   "metadata": {},
   "outputs": [
    {
     "data": {
      "text/plain": [
       "0"
      ]
     },
     "execution_count": 36,
     "metadata": {},
     "output_type": "execute_result"
    }
   ],
   "source": [
    "len(np.intersect1d(cut.query('exp_id == 247')['device_id_hash'], cut.query(\n",
    "'exp_id == 248')['device_id_hash'], assume_unique = False))"
   ]
  },
  {
   "cell_type": "code",
   "execution_count": 37,
   "id": "1c843ae0",
   "metadata": {},
   "outputs": [
    {
     "data": {
      "text/plain": [
       "0"
      ]
     },
     "execution_count": 37,
     "metadata": {},
     "output_type": "execute_result"
    }
   ],
   "source": [
    "len(np.intersect1d(cut.query('exp_id == 246')['device_id_hash'], cut.query(\n",
    "'exp_id == 248')['device_id_hash'], assume_unique = False))"
   ]
  },
  {
   "cell_type": "code",
   "execution_count": 38,
   "id": "7813b52b",
   "metadata": {},
   "outputs": [
    {
     "data": {
      "text/html": [
       "<div>\n",
       "<style scoped>\n",
       "    .dataframe tbody tr th:only-of-type {\n",
       "        vertical-align: middle;\n",
       "    }\n",
       "\n",
       "    .dataframe tbody tr th {\n",
       "        vertical-align: top;\n",
       "    }\n",
       "\n",
       "    .dataframe thead th {\n",
       "        text-align: right;\n",
       "    }\n",
       "</style>\n",
       "<table border=\"1\" class=\"dataframe\">\n",
       "  <thead>\n",
       "    <tr style=\"text-align: right;\">\n",
       "      <th></th>\n",
       "      <th>device_id_hash</th>\n",
       "    </tr>\n",
       "    <tr>\n",
       "      <th>exp_id</th>\n",
       "      <th></th>\n",
       "    </tr>\n",
       "  </thead>\n",
       "  <tbody>\n",
       "    <tr>\n",
       "      <th>246</th>\n",
       "      <td>2484</td>\n",
       "    </tr>\n",
       "    <tr>\n",
       "      <th>247</th>\n",
       "      <td>2513</td>\n",
       "    </tr>\n",
       "    <tr>\n",
       "      <th>248</th>\n",
       "      <td>2537</td>\n",
       "    </tr>\n",
       "  </tbody>\n",
       "</table>\n",
       "</div>"
      ],
      "text/plain": [
       "        device_id_hash\n",
       "exp_id                \n",
       "246               2484\n",
       "247               2513\n",
       "248               2537"
      ]
     },
     "metadata": {},
     "output_type": "display_data"
    },
    {
     "name": "stderr",
     "output_type": "stream",
     "text": [
      "/tmp/ipykernel_455/4288597973.py:6: MatplotlibDeprecationWarning: Adding an axes using the same arguments as a previous axes currently reuses the earlier instance.  In a future version, a new instance will always be created and returned.  Meanwhile, this warning can be suppressed, and the future behavior ensured, by passing a unique label to each axes instance.\n",
      "  ax1 = plt.subplot(1, 1, 1)\n"
     ]
    },
    {
     "data": {
      "text/plain": [
       "<Figure size 720x360 with 0 Axes>"
      ]
     },
     "metadata": {},
     "output_type": "display_data"
    },
    {
     "data": {
      "image/png": "[encoded data removed]",
      "text/plain": [
       "<Figure size 432x288 with 1 Axes>"
      ]
     },
     "metadata": {},
     "output_type": "display_data"
    }
   ],
   "source": [
    "gr = cut.groupby('exp_id').agg({'device_id_hash':'nunique'})\n",
    "\n",
    "display(gr)\n",
    "plt.figure(figsize=(10, 5))\n",
    "gr.plot(kind = 'pie', subplots=True, shadow = True, legend=False, autopct='%.1f%%', cmap=\"Blues_r\")\n",
    "ax1 = plt.subplot(1, 1, 1)\n",
    "plt.title('Количество уникальных пользователей в Группах, распределение')\n",
    "ax1.axes.yaxis.set_visible(False)\n",
    "plt.show();\n"
   ]
  },
  {
   "cell_type": "code",
   "execution_count": 39,
   "id": "e545c111",
   "metadata": {},
   "outputs": [
    {
     "data": {
      "text/html": [
       "<div>\n",
       "<style scoped>\n",
       "    .dataframe tbody tr th:only-of-type {\n",
       "        vertical-align: middle;\n",
       "    }\n",
       "\n",
       "    .dataframe tbody tr th {\n",
       "        vertical-align: top;\n",
       "    }\n",
       "\n",
       "    .dataframe thead th {\n",
       "        text-align: right;\n",
       "    }\n",
       "</style>\n",
       "<table border=\"1\" class=\"dataframe\">\n",
       "  <thead>\n",
       "    <tr style=\"text-align: right;\">\n",
       "      <th></th>\n",
       "      <th>device_id_hash</th>\n",
       "    </tr>\n",
       "    <tr>\n",
       "      <th>exp_id</th>\n",
       "      <th></th>\n",
       "    </tr>\n",
       "  </thead>\n",
       "  <tbody>\n",
       "    <tr>\n",
       "      <th>246</th>\n",
       "      <td>2484</td>\n",
       "    </tr>\n",
       "    <tr>\n",
       "      <th>247</th>\n",
       "      <td>2513</td>\n",
       "    </tr>\n",
       "    <tr>\n",
       "      <th>248</th>\n",
       "      <td>2537</td>\n",
       "    </tr>\n",
       "  </tbody>\n",
       "</table>\n",
       "</div>"
      ],
      "text/plain": [
       "        device_id_hash\n",
       "exp_id                \n",
       "246               2484\n",
       "247               2513\n",
       "248               2537"
      ]
     },
     "metadata": {},
     "output_type": "display_data"
    },
    {
     "data": {
      "text/plain": [
       "4997"
      ]
     },
     "metadata": {},
     "output_type": "display_data"
    },
    {
     "data": {
      "text/html": [
       "<div>\n",
       "<style scoped>\n",
       "    .dataframe tbody tr th:only-of-type {\n",
       "        vertical-align: middle;\n",
       "    }\n",
       "\n",
       "    .dataframe tbody tr th {\n",
       "        vertical-align: top;\n",
       "    }\n",
       "\n",
       "    .dataframe thead th {\n",
       "        text-align: right;\n",
       "    }\n",
       "</style>\n",
       "<table border=\"1\" class=\"dataframe\">\n",
       "  <thead>\n",
       "    <tr style=\"text-align: right;\">\n",
       "      <th></th>\n",
       "      <th>device_id_hash</th>\n",
       "    </tr>\n",
       "    <tr>\n",
       "      <th>exp_id</th>\n",
       "      <th></th>\n",
       "    </tr>\n",
       "  </thead>\n",
       "  <tbody>\n",
       "    <tr>\n",
       "      <th>246</th>\n",
       "      <td>2484</td>\n",
       "    </tr>\n",
       "    <tr>\n",
       "      <th>247</th>\n",
       "      <td>2513</td>\n",
       "    </tr>\n",
       "    <tr>\n",
       "      <th>248</th>\n",
       "      <td>2537</td>\n",
       "    </tr>\n",
       "    <tr>\n",
       "      <th>2467</th>\n",
       "      <td>4997</td>\n",
       "    </tr>\n",
       "  </tbody>\n",
       "</table>\n",
       "</div>"
      ],
      "text/plain": [
       "        device_id_hash\n",
       "exp_id                \n",
       "246               2484\n",
       "247               2513\n",
       "248               2537\n",
       "2467              4997"
      ]
     },
     "metadata": {},
     "output_type": "display_data"
    }
   ],
   "source": [
    "graf =  gr.copy()\n",
    "\n",
    "display(graf)\n",
    "new = 2484+2513\n",
    "graf.loc[2467] = [4997]\n",
    "display(new)\n",
    "display(graf)"
   ]
  },
  {
   "cell_type": "code",
   "execution_count": 40,
   "id": "ea5cb2b3",
   "metadata": {},
   "outputs": [
    {
     "name": "stdout",
     "output_type": "stream",
     "text": [
      " Данные группы \"g_246\" включают  период с 2019-08-01  по 2019-08-07\n",
      " Данные группы \"g_247\" включают  период с 2019-08-01  по 2019-08-07\n",
      " Данные группы \"g_247\" включают  период с 2019-08-01  по 2019-08-07\n"
     ]
    }
   ],
   "source": [
    "g_246_time_min = g_246['event_dtime'].min()\n",
    "g_246_time_max = g_246['event_dtime'].max()\n",
    "print(f' Данные группы \"g_246\" включают  период с {g_246_time_min}  по {g_246_time_max}')\n",
    "\n",
    "g_247_time_min = g_247['event_dtime'].min()\n",
    "g_247_time_max = g_247['event_dtime'].max()\n",
    "print(f' Данные группы \"g_247\" включают  период с {g_247_time_min}  по {g_247_time_max}')\n",
    "\n",
    "g_248_time_min = g_248['event_dtime'].min()\n",
    "g_248_time_max = g_248['event_dtime'].max()\n",
    "print(f' Данные группы \"g_247\" включают  период с {g_248_time_min}  по {g_248_time_max}')"
   ]
  },
  {
   "cell_type": "markdown",
   "id": "7129bf87",
   "metadata": {},
   "source": [
    "Сравнения  уникальных id  показал что пользователи во всех исследуемых группах - уникальные и характерны только их группам, нет пользователей которые  были замечены и в альтернативной.\n",
    "\n",
    "Также отметим что  все группы охватывают один временной промежуток."
   ]
  },
  {
   "cell_type": "markdown",
   "id": "58c9b8c2",
   "metadata": {},
   "source": [
    "___"
   ]
  },
  {
   "cell_type": "code",
   "execution_count": 41,
   "id": "87565da9",
   "metadata": {},
   "outputs": [
    {
     "data": {
      "text/html": [
       "<div>\n",
       "<style scoped>\n",
       "    .dataframe tbody tr th:only-of-type {\n",
       "        vertical-align: middle;\n",
       "    }\n",
       "\n",
       "    .dataframe tbody tr th {\n",
       "        vertical-align: top;\n",
       "    }\n",
       "\n",
       "    .dataframe thead tr th {\n",
       "        text-align: left;\n",
       "    }\n",
       "\n",
       "    .dataframe thead tr:last-of-type th {\n",
       "        text-align: right;\n",
       "    }\n",
       "</style>\n",
       "<table border=\"1\" class=\"dataframe\">\n",
       "  <thead>\n",
       "    <tr>\n",
       "      <th></th>\n",
       "      <th colspan=\"2\" halign=\"left\">event_dtime</th>\n",
       "    </tr>\n",
       "    <tr>\n",
       "      <th></th>\n",
       "      <th>min</th>\n",
       "      <th>max</th>\n",
       "    </tr>\n",
       "    <tr>\n",
       "      <th>exp_id</th>\n",
       "      <th></th>\n",
       "      <th></th>\n",
       "    </tr>\n",
       "  </thead>\n",
       "  <tbody>\n",
       "    <tr>\n",
       "      <th>246</th>\n",
       "      <td>2019-08-01</td>\n",
       "      <td>2019-08-07</td>\n",
       "    </tr>\n",
       "    <tr>\n",
       "      <th>247</th>\n",
       "      <td>2019-08-01</td>\n",
       "      <td>2019-08-07</td>\n",
       "    </tr>\n",
       "    <tr>\n",
       "      <th>248</th>\n",
       "      <td>2019-08-01</td>\n",
       "      <td>2019-08-07</td>\n",
       "    </tr>\n",
       "  </tbody>\n",
       "</table>\n",
       "</div>"
      ],
      "text/plain": [
       "       event_dtime            \n",
       "               min         max\n",
       "exp_id                        \n",
       "246     2019-08-01  2019-08-07\n",
       "247     2019-08-01  2019-08-07\n",
       "248     2019-08-01  2019-08-07"
      ]
     },
     "execution_count": 41,
     "metadata": {},
     "output_type": "execute_result"
    }
   ],
   "source": [
    "dates = cut.groupby('exp_id').agg({'event_dtime':['min','max']})\n",
    "dates"
   ]
  },
  {
   "cell_type": "markdown",
   "id": "e1ee6b0f",
   "metadata": {},
   "source": [
    "__Есть 2 контрольные группы для А/А-эксперимента, чтобы проверить корректность всех механизмов и расчётов, проверим, находят ли статистические критерии разницу между выборками 246 и 247.__"
   ]
  },
  {
   "cell_type": "markdown",
   "id": "82b8fe0c",
   "metadata": {},
   "source": [
    "__Напомню что 246 и 247 — контрольные группы, а 248 — экспериментальная.__"
   ]
  },
  {
   "cell_type": "markdown",
   "id": "e1a59fd3",
   "metadata": {},
   "source": [
    "Уровень статистической значимости — это вероятность случайно получить в реальном наблюдении значение, далёкое от предполагаемого в нулевой гипотезе.\n",
    "\n",
    "Уровень статистической значимости — это одновременно и вероятность ошибиться: отвергнуть нулевую гипотезу, потому что наблюдение отличается от предполагаемого значения слишком сильно. \n",
    "Такая ошибка называется ошибкой первого рода, или ложнопозитивным результатом статистического теста. Это означает, что различий между сравниваемыми группами нет, но тест показал p-value меньше уровня значимости. Получается, есть основания отвергнуть H₀. Так, вероятность ошибки первого рода равна уровню значимости α.\n",
    "Ошибка второго рода — ложнонегативный результат. Он указывает, что различия между группами есть, но тест показал p-value больше уровня значимости α и нет оснований отвергать H₀. Если обозначить вероятность ошибки второго рода как β, то параметр 1 - β будет называться мощностью статистического теста. Раз β — вероятность ошибиться, то 1 - β — вероятность не ошибиться, то есть правильно отклонить нулевую гипотезу, когда она неверна."
   ]
  },
  {
   "cell_type": "markdown",
   "id": "3f37e41f",
   "metadata": {},
   "source": [
    "Прежде всего хочу избавиться от балласта под названием \"Tutorial\" -  к инструкцию пользования (чего? как употреблять продукты?? - цель  мануала не ясна)  переходит не так много пользователей. На сколько может быть  понятно из воронок  по группам, переход на это окно не влияет на активность и действия пользователей. Если только это не является маркетинговым ходом  типа \"Миссии предприятия\", которая используется повсеместно и  носит репутационных характер."
   ]
  },
  {
   "cell_type": "code",
   "execution_count": 46,
   "id": "11a91f1e",
   "metadata": {},
   "outputs": [
    {
     "name": "stdout",
     "output_type": "stream",
     "text": [
      "                event_name  device_id_hash\n",
      "0         MainScreenAppear            2450\n",
      "1       OffersScreenAppear            1542\n",
      "2         CartScreenAppear            1266\n",
      "3  PaymentScreenSuccessful            1200\n",
      "----------\n",
      "                event_name  device_id_hash\n",
      "0         MainScreenAppear            2476\n",
      "1       OffersScreenAppear            1520\n",
      "2         CartScreenAppear            1238\n",
      "3  PaymentScreenSuccessful            1158\n",
      "----------\n",
      "                event_name  device_id_hash\n",
      "0         MainScreenAppear            2493\n",
      "1       OffersScreenAppear            1531\n",
      "2         CartScreenAppear            1230\n",
      "3  PaymentScreenSuccessful            1181\n",
      "----------\n",
      "                event_name  device_id_hash\n",
      "0         MainScreenAppear            4926\n",
      "1       OffersScreenAppear            3062\n",
      "2         CartScreenAppear            2504\n",
      "3  PaymentScreenSuccessful            2358\n"
     ]
    }
   ],
   "source": [
    "#Создадим таблицу переходов   на страницы приложения по контроьной группе а = 246\n",
    "a_group = g_246.groupby('event_name')['device_id_hash'].nunique().sort_values(ascending=False).reset_index() # группируем\n",
    "#поделим количество переходов по страничкам на  уникальных клиентов в группе\n",
    "a_group = a_group.query('event_name  !=\"Tutorial\"')\n",
    "print(a_group)\n",
    "print ('-'*10)\n",
    "\n",
    "# Создадим таблицу переходов   на страницы приложения по контроьной группе аа = 247\n",
    "\n",
    "aa_group = g_247.groupby('event_name')['device_id_hash'].nunique().sort_values(ascending=False).reset_index() # группируем\n",
    "#поделим количество переходов по страничкам на  уникальных клиентов в группе\n",
    "aa_group = aa_group.query('event_name  !=\"Tutorial\"')\n",
    "print(aa_group)\n",
    "print ('-'*10)\n",
    "\n",
    "#Создадим таблицу переходов   на страницы приложения по контрольной группе в = 248\n",
    "b_group = g_248.groupby('event_name')['device_id_hash'].nunique().sort_values(ascending=False).reset_index() # группируем\n",
    "#поделим количество переходов по страничкам на  уникальных клиентов в группе\n",
    "# b_group['perehod'] = round(b_group['device_id_hash']/len_id_248*100,)\n",
    "b_group = b_group.query('event_name  !=\"Tutorial\"')\n",
    "print(b_group)\n",
    "print ('-'*10)\n",
    "\n",
    "#Создадим смешанную группировку  246 и 247\n",
    "aaa_group=a_group.merge(aa_group, on='event_name')\n",
    "aaa_group['device_id_hash']=aaa_group['device_id_hash_x']+aaa_group['device_id_hash_y']\n",
    "aaaa_group = aaa_group[['event_name','device_id_hash']].copy()\n",
    "print(aaaa_group)\n"
   ]
  },
  {
   "cell_type": "markdown",
   "id": "cc32c62c",
   "metadata": {},
   "source": [
    "Сложим группы 246 и 247 вместе и сравним с данными группы 248"
   ]
  },
  {
   "cell_type": "markdown",
   "id": "636b0114",
   "metadata": {},
   "source": [
    "Сравним пропорций двух контрольных групп по количеству переходов пользователей по страницам приложения. Одинаковые (пропорциональное отношение) ли  действие они  совершают?\n",
    "\n",
    "Нулевая  гипотеза Н0 - доли уникальных посетителей, побывавших на этапе воронки одинаковы,  разницы нет.\n",
    "Альтернативная гипотеза Н1 - между долями уникальных посетителей, побывавших на этапе воронки разница  в пропорциях есть.\n"
   ]
  },
  {
   "cell_type": "markdown",
   "id": "6210cbb5",
   "metadata": {},
   "source": [
    "Создадим функцию для расчета  z - теста для расчета пропорций указанных выше"
   ]
  },
  {
   "cell_type": "code",
   "execution_count": 47,
   "id": "3d947638",
   "metadata": {},
   "outputs": [],
   "source": [
    "def sravnim(first, second, n1,n2):\n",
    "\n",
    "    for i in range(len(first)):\n",
    "        successes = np.array([first.loc[i, 'device_id_hash'], second.loc[i, 'device_id_hash']])\n",
    "        trials = (np.array([n1, n2,]))\n",
    "    \n",
    "\n",
    "        p1 = successes[0]/trials[0] # пропорция успехов в первой группе\n",
    "\n",
    "        p2 = successes[1]/trials[1] # пропорция успехов во второй группе\n",
    "\n",
    "        p_combined = (successes[0] + successes[1]) / (trials[0] + trials[1]) # пропорция успехов \n",
    "    \n",
    "        alpha = .05 # критический уровень статистической значимости\n",
    "\n",
    "        difference = p1 - p2  # разница пропорций в группах\n",
    "# считаем статистику в ст.отклонениях стандартного нормального распределения\n",
    "        z_value = difference / mth.sqrt(p_combined * (1 - p_combined) * (1 / trials[0] + 1 / trials[1]))\n",
    "\n",
    "        distr = st.norm(0, 1) # задаем стандартное нормальное распределение\n",
    "\n",
    "        p_value = (1 - distr.cdf(abs(z_value))) * 2\n",
    "        event_name = first['event_name']\n",
    "        print(f'P-значение для {event_name[i]}: {p_value}')\n",
    "\n",
    "        if p_value < alpha:\n",
    "            print('Отвергаем нулевую гипотезу: между долями есть значимая разница')\n",
    "        else:\n",
    "            print('Не получилось отвергнуть нулевую гипотезу, нет оснований считать доли разными')\n",
    "        print('*'*10)"
   ]
  },
  {
   "cell_type": "markdown",
   "id": "e80c9d48",
   "metadata": {},
   "source": [
    "__Выберим самое популярное событие. Посчитаем число пользователей, совершивших это событие в каждой из контрольных групп. Посчитаем долю пользователей, совершивших это событие. Проверим, будет ли отличие между группами статистически достоверным. Проделайте то же самое для всех других событий . Можно ли сказать, что разбиение на группы работает корректно?__"
   ]
  },
  {
   "cell_type": "markdown",
   "id": "4fee6f53",
   "metadata": {},
   "source": [
    "Сравним пропорций двух групп 246 и 247 по количеству переходов пользователей по страницам приложения. Одинаковые (пропорциональное отношение) ли  действие они  совершают?\n",
    "\n",
    "Нулевая  гипотеза Н0 - пропорции одинаковы,  разницы нет.\n",
    "Альтернативная гипотеза Н1 - разница  в пропорциях есть."
   ]
  },
  {
   "cell_type": "code",
   "execution_count": 55,
   "id": "1f6ef53b",
   "metadata": {},
   "outputs": [
    {
     "name": "stdout",
     "output_type": "stream",
     "text": [
      "P-значение для MainScreenAppear: 0.7570597232046099\n",
      "Не получилось отвергнуть нулевую гипотезу, нет оснований считать доли разными\n",
      "**********\n",
      "P-значение для OffersScreenAppear: 0.2480954578522181\n",
      "Не получилось отвергнуть нулевую гипотезу, нет оснований считать доли разными\n",
      "**********\n",
      "P-значение для CartScreenAppear: 0.22883372237997213\n",
      "Не получилось отвергнуть нулевую гипотезу, нет оснований считать доли разными\n",
      "**********\n",
      "P-значение для PaymentScreenSuccessful: 0.11456679313141849\n",
      "Не получилось отвергнуть нулевую гипотезу, нет оснований считать доли разными\n",
      "**********\n"
     ]
    }
   ],
   "source": [
    "# event_name = ['MainScreenAppear', 'OffersScreenAppear', 'CartScreenAppear', 'PaymentScreenSuccessful']\n",
    "sravnim(a_group,aa_group,graf.iloc[0,0],graf.iloc[1,0])"
   ]
  },
  {
   "cell_type": "markdown",
   "id": "52fbd5f0",
   "metadata": {},
   "source": [
    "Согласно проведенным тестам можем не отвергать выдвинутые Нулевые гипотезы  о  равенстве пропорций.\n",
    "Пользователи совершают  ОЧЕНЬ похожие движения  MainScreenAppear - 0.75705972, далее  расходятся данные но в пределах установленного нами уровня статистической значимости - альфа(0,05).\n",
    "Группы 246 и 247 похожи по сегментам переходов.\n"
   ]
  },
  {
   "cell_type": "markdown",
   "id": "06ab126e",
   "metadata": {},
   "source": [
    "___"
   ]
  },
  {
   "cell_type": "markdown",
   "id": "dca4f715",
   "metadata": {},
   "source": [
    "Сравним пропорций двух групп 246 и 248 по количеству переходов пользователей по страницам приложения. Одинаковые (пропорциональное отношение) ли действие они совершают?\n",
    "\n",
    "Нулевая гипотеза Н0 - пропорции одинаковы, разницы нет. Альтернативная гипотеза Н1 - разница в пропорциях есть."
   ]
  },
  {
   "cell_type": "code",
   "execution_count": 56,
   "id": "207aafbf",
   "metadata": {},
   "outputs": [
    {
     "name": "stdout",
     "output_type": "stream",
     "text": [
      "P-значение для MainScreenAppear: 0.2949721933554552\n",
      "Не получилось отвергнуть нулевую гипотезу, нет оснований считать доли разными\n",
      "**********\n",
      "P-значение для OffersScreenAppear: 0.20836205402738917\n",
      "Не получилось отвергнуть нулевую гипотезу, нет оснований считать доли разными\n",
      "**********\n",
      "P-значение для CartScreenAppear: 0.07842923237520116\n",
      "Не получилось отвергнуть нулевую гипотезу, нет оснований считать доли разными\n",
      "**********\n",
      "P-значение для PaymentScreenSuccessful: 0.2122553275697796\n",
      "Не получилось отвергнуть нулевую гипотезу, нет оснований считать доли разными\n",
      "**********\n"
     ]
    }
   ],
   "source": [
    "sravnim(a_group,b_group,graf.iloc[0,0],graf.iloc[2,0])"
   ]
  },
  {
   "cell_type": "markdown",
   "id": "d0b9f838",
   "metadata": {},
   "source": [
    "Согласно проведенным тестам можем не отвергать выдвинутые Нулевые гипотезы о равенстве пропорций уже между одной из контрольных и тестовой (с новым шрифтом) страницы. Пользователи  совершают ОЧЕНЬ похожие движения по всем страницам, а вот у CartScreenAppearpear - всего 7,8 %.. еще бы немного и при нашем  p-value показали бы  уже критические данные и  на этом этапе  диагностировали что пропорции важные,а так  соотношения групп  выше уровеня статистической значимости - альфа(0,05). "
   ]
  },
  {
   "cell_type": "markdown",
   "id": "13e5d0ef",
   "metadata": {},
   "source": [
    "___"
   ]
  },
  {
   "cell_type": "markdown",
   "id": "b60ac45d",
   "metadata": {},
   "source": [
    "Сравним пропорций двух групп 247 и 248 по количеству переходов пользователей по страницам приложения. Одинаковые (пропорциональное отношение) ли  действие они  совершают?\n",
    "\n",
    "Нулевая  гипотеза Н0 - пропорции одинаковы,  разницы нет.\n",
    "Альтернативная гипотеза Н1 - разница  в пропорциях есть."
   ]
  },
  {
   "cell_type": "code",
   "execution_count": 57,
   "id": "5e6ca643",
   "metadata": {},
   "outputs": [
    {
     "name": "stdout",
     "output_type": "stream",
     "text": [
      "P-значение для MainScreenAppear: 0.4587053616621515\n",
      "Не получилось отвергнуть нулевую гипотезу, нет оснований считать доли разными\n",
      "**********\n",
      "P-значение для OffersScreenAppear: 0.9197817830592261\n",
      "Не получилось отвергнуть нулевую гипотезу, нет оснований считать доли разными\n",
      "**********\n",
      "P-значение для CartScreenAppear: 0.5786197879539783\n",
      "Не получилось отвергнуть нулевую гипотезу, нет оснований считать доли разными\n",
      "**********\n",
      "P-значение для PaymentScreenSuccessful: 0.7373415053803964\n",
      "Не получилось отвергнуть нулевую гипотезу, нет оснований считать доли разными\n",
      "**********\n"
     ]
    }
   ],
   "source": [
    "sravnim(aa_group,b_group,graf.iloc[1,0],graf.iloc[2,0])"
   ]
  },
  {
   "cell_type": "markdown",
   "id": "4e909a63",
   "metadata": {},
   "source": [
    "Согласно проведенным тестам можем не отвергать выдвинутые Нулевые гипотезы  о  равенстве пропорций только в отношение Главных страниц между группами 247 и 248. но далее  пропорции нет  статистически значимых различий в ппропорциях переходов в пределах установленного нами уровеня статистической значимости - альфа(0,05).\n"
   ]
  },
  {
   "cell_type": "markdown",
   "id": "e1acc6b1",
   "metadata": {},
   "source": [
    "___"
   ]
  },
  {
   "cell_type": "markdown",
   "id": "21cfadde",
   "metadata": {},
   "source": [
    "Сравним пропорций  сложенных двух групп 246+247 и 248 по количеству переходов пользователей по страницам приложения. Одинаковые (пропорциональное отношение) ли  действие они  совершают?\n",
    "\n",
    "Нулевая  гипотеза Н0 - пропорции одинаковы,  разницы нет.\n",
    "Альтернативная гипотеза Н1 - разница  в пропорциях есть."
   ]
  },
  {
   "cell_type": "code",
   "execution_count": 58,
   "id": "c246b806",
   "metadata": {},
   "outputs": [
    {
     "name": "stdout",
     "output_type": "stream",
     "text": [
      "P-значение для MainScreenAppear: 0.29424526837179577\n",
      "Не получилось отвергнуть нулевую гипотезу, нет оснований считать доли разными\n",
      "**********\n",
      "P-значение для OffersScreenAppear: 0.43425549655188256\n",
      "Не получилось отвергнуть нулевую гипотезу, нет оснований считать доли разными\n",
      "**********\n",
      "P-значение для CartScreenAppear: 0.18175875284404386\n",
      "Не получилось отвергнуть нулевую гипотезу, нет оснований считать доли разными\n",
      "**********\n",
      "P-значение для PaymentScreenSuccessful: 0.6004294282308704\n",
      "Не получилось отвергнуть нулевую гипотезу, нет оснований считать доли разными\n",
      "**********\n"
     ]
    }
   ],
   "source": [
    "sravnim(aaaa_group,b_group,graf.iloc[3,0], graf.iloc[2,0])"
   ]
  },
  {
   "cell_type": "markdown",
   "id": "78cb7e61",
   "metadata": {},
   "source": [
    "Мы получили расчеты которые  снова  не позволяют отвергнуть Нулевую гипотезу о равенстве  долей в комбинированном 246+247 группа  с 248 группой.\n"
   ]
  },
  {
   "cell_type": "markdown",
   "id": "f61df5f3",
   "metadata": {},
   "source": [
    "Что можно на этом основании вынести - изменения в шрифте дизайнеров которые  предпологали опасения маркетологов не  вызвали опасения пользователей. Поведение  пользователей кардинально не изменилась и  активность не уменьшилась. \n"
   ]
  },
  {
   "cell_type": "markdown",
   "id": "cb942f30",
   "metadata": {},
   "source": [
    "__Какой уровень значимости вы выбрали при проверке статистических гипотез выше? Посчитайте, сколько проверок статистических гипотез вы сделали. При уровне значимости 0.1 каждый десятый раз можно получать ложный результат. Какой уровень значимости стоит применить? Если вы хотите изменить его, проделайте предыдущие пункты и проверьте свои выводы.__"
   ]
  },
  {
   "cell_type": "markdown",
   "id": "f4ba218c",
   "metadata": {},
   "source": [
    "Было выбрано p-value максимальное 0,05. 0,01 также можно было применить, но  для чистоты эксперимента этот коэффициент (0,05) применялся ко всем 16 расчетам по  группам данных котоыре нам предоставили. Если бы мы применили 0,01 p-value то согласно показателям никакой роли это не сыграло. Так что смысла менять условия и  по новым показателям сравнивать данные  нет. В том  числе даже если каждый десятый результат будет ложным.  "
   ]
  },
  {
   "cell_type": "markdown",
   "id": "4efec21f",
   "metadata": {},
   "source": [
    "П.с. - в след. раз маркетологов можно попросить предоставить описание окон на русском языке для дальнешей адекватной оценки передвижений пользователей по окнам приложения. Это уменьшит время осознания и поиска адекватного перевода, что  повлияет на скорость  принятия решений аналитиков."
   ]
  },
  {
   "cell_type": "markdown",
   "id": "fa028d79",
   "metadata": {},
   "source": [
    "## Общие выводы"
   ]
  },
  {
   "cell_type": "markdown",
   "id": "493b770f",
   "metadata": {},
   "source": [
    "Интересно почему такая градация распределения по группам:246\t- 2484 уникальных пользователя. 247\t- 2513 пользователя и 248\t- 2537 даже с учетом  удаленных нами юзеров  которые  существовали до 1 августа, соотношение неодинаковое. Нет уточнения когда старт изменений был осуществляет. если с 1 августа- вопросы отпадают, если ранее - возможно настройки для сбора  логов не  было. Возникло много вопросов по данным  к маркетологам этого  проекта.\n",
    "'Рассматриваемый период предоставления данных  стартапа  c 2019-07-25 по 2019-08-07 гг.' Либо стендапперам было жалко денег на отслеживание  изменений и анализ, либо кто-то неправильно посчитал в калькуляторе сроки проведения тестирования, интересно было бы  узнать какие параметры они вводили при расчете, а может вовремя не запустил тестирование, но  за сроки полных данных, от 1 августа за 7 дней понять и рассчитать алгоритм пользователей адекватно малоправдоподобно. \n",
    "\n",
    "Если  ВЕСЬ период   тестирования приходился на   промежуток меду праздниками и рабочими днями - то разрыв в данных (объем) очень  даже  понятен, но опять же вопросы -  адекватно оценить  уровень  восприятия нового шрифта пользователями  трудно. \n",
    "\n",
    "Можно было бы разбить по датам группы по объему покупок (посчитали бы еще и сколько потратили) и сделать еще и эти сравнения.\n",
    "\n",
    "Еще вопрос к контрольным группам - они разбивались по  планшетам и телефонам (у нас же мобильное приложение)  или под конкретную мобильную платформу (iOS, Android, Windows Phone). Обычно приложение разрабатывается на языке высокого уровня и компилируется в нативный код ОС, дающий максимальную производительность.\n",
    "\n",
    "Маркетологам бы  рекомендовала  рассмотреть доп. группы тестирования, увеличить количество контрольных групп, к примеру именно под платформу, увеличить срок  сбора данных (проверить верность вводимых критериев для сбора информации) возможно их пересмотреть. Помимо прочего, если все рассчитано верно изменить сроки тестирования  собрать данные не в Пиковые дни, к примеру   под праздники, тот же Новый год, когда все  практически оптово закупаются, а в обычные рабочие дни + стандартные  субботу и вскр. - как пользователи реагируют  и в выходные дни.\n"
   ]
  },
  {
   "cell_type": "code",
   "execution_count": null,
   "id": "69487aa4",
   "metadata": {},
   "outputs": [],
   "source": []
  }
 ],
 "metadata": {
  "ExecuteTimeLog": [
   {
    "duration": 47,
    "start_time": "2023-01-31T19:32:00.147Z"
   },
   {
    "duration": 6,
    "start_time": "2023-01-31T19:32:11.196Z"
   },
   {
    "duration": 6,
    "start_time": "2023-01-31T19:32:36.705Z"
   },
   {
    "duration": 1284,
    "start_time": "2023-01-31T19:32:44.694Z"
   },
   {
    "duration": 610,
    "start_time": "2023-01-31T19:32:45.980Z"
   },
   {
    "duration": 171,
    "start_time": "2023-01-31T19:32:46.592Z"
   },
   {
    "duration": 89,
    "start_time": "2023-01-31T19:32:46.765Z"
   },
   {
    "duration": 8,
    "start_time": "2023-01-31T19:32:46.857Z"
   },
   {
    "duration": 93,
    "start_time": "2023-01-31T19:32:46.868Z"
   },
   {
    "duration": 1010,
    "start_time": "2023-01-31T19:32:46.962Z"
   },
   {
    "duration": 33,
    "start_time": "2023-01-31T19:32:47.974Z"
   },
   {
    "duration": 13,
    "start_time": "2023-01-31T19:32:48.009Z"
   },
   {
    "duration": 37,
    "start_time": "2023-01-31T19:32:48.026Z"
   },
   {
    "duration": 27,
    "start_time": "2023-01-31T19:32:48.065Z"
   },
   {
    "duration": 10,
    "start_time": "2023-01-31T19:32:48.094Z"
   },
   {
    "duration": 13,
    "start_time": "2023-01-31T19:32:48.105Z"
   },
   {
    "duration": 53,
    "start_time": "2023-01-31T19:32:48.120Z"
   },
   {
    "duration": 8,
    "start_time": "2023-01-31T19:32:48.192Z"
   },
   {
    "duration": 392,
    "start_time": "2023-01-31T19:32:48.202Z"
   },
   {
    "duration": 46,
    "start_time": "2023-01-31T19:32:48.596Z"
   },
   {
    "duration": 5,
    "start_time": "2023-01-31T19:32:48.645Z"
   },
   {
    "duration": 49,
    "start_time": "2023-01-31T19:32:48.652Z"
   },
   {
    "duration": 7,
    "start_time": "2023-01-31T19:32:48.703Z"
   },
   {
    "duration": 35,
    "start_time": "2023-01-31T19:32:48.711Z"
   },
   {
    "duration": 290,
    "start_time": "2023-01-31T19:32:48.748Z"
   },
   {
    "duration": 3,
    "start_time": "2023-01-31T19:32:49.040Z"
   },
   {
    "duration": 83,
    "start_time": "2023-01-31T19:32:49.045Z"
   },
   {
    "duration": 5,
    "start_time": "2023-01-31T19:32:49.131Z"
   },
   {
    "duration": 291,
    "start_time": "2023-01-31T19:32:49.138Z"
   },
   {
    "duration": 102,
    "start_time": "2023-01-31T19:32:49.432Z"
   },
   {
    "duration": 9,
    "start_time": "2023-01-31T19:32:49.538Z"
   },
   {
    "duration": 190,
    "start_time": "2023-01-31T19:32:49.548Z"
   },
   {
    "duration": 18,
    "start_time": "2023-01-31T19:32:49.744Z"
   },
   {
    "duration": 64,
    "start_time": "2023-01-31T19:32:49.764Z"
   },
   {
    "duration": 44,
    "start_time": "2023-01-31T19:32:49.831Z"
   },
   {
    "duration": 54,
    "start_time": "2023-01-31T19:32:49.877Z"
   },
   {
    "duration": 57,
    "start_time": "2023-01-31T19:32:49.934Z"
   },
   {
    "duration": 54,
    "start_time": "2023-01-31T19:32:49.994Z"
   },
   {
    "duration": 145,
    "start_time": "2023-01-31T19:32:50.051Z"
   },
   {
    "duration": 7,
    "start_time": "2023-01-31T19:32:50.198Z"
   },
   {
    "duration": 53,
    "start_time": "2023-01-31T19:32:50.207Z"
   },
   {
    "duration": 73,
    "start_time": "2023-01-31T19:32:50.263Z"
   },
   {
    "duration": 8,
    "start_time": "2023-01-31T19:32:50.339Z"
   },
   {
    "duration": 63,
    "start_time": "2023-01-31T19:32:50.349Z"
   },
   {
    "duration": 8,
    "start_time": "2023-01-31T19:32:50.414Z"
   },
   {
    "duration": 109,
    "start_time": "2023-01-31T19:32:50.424Z"
   },
   {
    "duration": 3,
    "start_time": "2023-01-31T19:32:50.535Z"
   },
   {
    "duration": 19,
    "start_time": "2023-01-31T19:32:50.540Z"
   },
   {
    "duration": 38,
    "start_time": "2023-01-31T19:32:50.562Z"
   },
   {
    "duration": 19,
    "start_time": "2023-01-31T19:32:50.602Z"
   },
   {
    "duration": 43,
    "start_time": "2023-01-31T19:32:50.623Z"
   },
   {
    "duration": 24,
    "start_time": "2023-01-31T19:32:50.667Z"
   },
   {
    "duration": 21,
    "start_time": "2023-01-31T19:32:50.693Z"
   },
   {
    "duration": 29,
    "start_time": "2023-01-31T19:32:50.716Z"
   },
   {
    "duration": 9,
    "start_time": "2023-01-31T19:33:08.285Z"
   },
   {
    "duration": 5,
    "start_time": "2023-01-31T19:35:08.746Z"
   },
   {
    "duration": 776,
    "start_time": "2023-01-31T19:41:06.960Z"
   },
   {
    "duration": 15,
    "start_time": "2023-01-31T19:41:19.450Z"
   },
   {
    "duration": 816,
    "start_time": "2023-01-31T19:41:26.229Z"
   },
   {
    "duration": 1151,
    "start_time": "2023-02-02T20:52:53.785Z"
   },
   {
    "duration": 197,
    "start_time": "2023-02-02T20:52:54.938Z"
   },
   {
    "duration": 141,
    "start_time": "2023-02-02T20:52:55.137Z"
   },
   {
    "duration": 71,
    "start_time": "2023-02-02T20:52:55.280Z"
   },
   {
    "duration": 8,
    "start_time": "2023-02-02T20:52:55.352Z"
   },
   {
    "duration": 85,
    "start_time": "2023-02-02T20:52:55.362Z"
   },
   {
    "duration": 933,
    "start_time": "2023-02-02T20:52:55.448Z"
   },
   {
    "duration": 21,
    "start_time": "2023-02-02T20:52:56.383Z"
   },
   {
    "duration": 23,
    "start_time": "2023-02-02T20:52:56.406Z"
   },
   {
    "duration": 33,
    "start_time": "2023-02-02T20:52:56.434Z"
   },
   {
    "duration": 4,
    "start_time": "2023-02-02T20:52:56.469Z"
   },
   {
    "duration": 13,
    "start_time": "2023-02-02T20:52:56.475Z"
   },
   {
    "duration": 4,
    "start_time": "2023-02-02T20:52:56.490Z"
   },
   {
    "duration": 56,
    "start_time": "2023-02-02T20:52:56.495Z"
   },
   {
    "duration": 6,
    "start_time": "2023-02-02T20:52:56.553Z"
   },
   {
    "duration": 324,
    "start_time": "2023-02-02T20:52:56.560Z"
   },
   {
    "duration": 663,
    "start_time": "2023-02-02T20:52:56.886Z"
   },
   {
    "duration": 34,
    "start_time": "2023-02-02T20:52:57.551Z"
   },
   {
    "duration": 4,
    "start_time": "2023-02-02T20:52:57.588Z"
   },
   {
    "duration": 35,
    "start_time": "2023-02-02T20:52:57.593Z"
   },
   {
    "duration": 19,
    "start_time": "2023-02-02T20:52:57.629Z"
   },
   {
    "duration": 4,
    "start_time": "2023-02-02T20:52:57.650Z"
   },
   {
    "duration": 25,
    "start_time": "2023-02-02T20:52:57.656Z"
   },
   {
    "duration": 208,
    "start_time": "2023-02-02T20:52:57.683Z"
   },
   {
    "duration": 3,
    "start_time": "2023-02-02T20:52:57.892Z"
   },
   {
    "duration": 47,
    "start_time": "2023-02-02T20:52:57.896Z"
   },
   {
    "duration": 52,
    "start_time": "2023-02-02T20:52:57.945Z"
   },
   {
    "duration": 5,
    "start_time": "2023-02-02T20:52:58.002Z"
   },
   {
    "duration": 220,
    "start_time": "2023-02-02T20:52:58.009Z"
   },
   {
    "duration": 74,
    "start_time": "2023-02-02T20:52:58.230Z"
   },
   {
    "duration": 23,
    "start_time": "2023-02-02T20:52:58.306Z"
   },
   {
    "duration": 141,
    "start_time": "2023-02-02T20:52:58.331Z"
   },
   {
    "duration": 12,
    "start_time": "2023-02-02T20:52:58.474Z"
   },
   {
    "duration": 43,
    "start_time": "2023-02-02T20:52:58.487Z"
   },
   {
    "duration": 123,
    "start_time": "2023-02-02T20:52:58.532Z"
   },
   {
    "duration": 37,
    "start_time": "2023-02-02T20:52:58.658Z"
   },
   {
    "duration": 47,
    "start_time": "2023-02-02T20:52:58.697Z"
   },
   {
    "duration": 148,
    "start_time": "2023-02-02T20:52:58.747Z"
   },
   {
    "duration": 15,
    "start_time": "2023-02-02T20:52:58.896Z"
   },
   {
    "duration": 47,
    "start_time": "2023-02-02T20:52:58.927Z"
   },
   {
    "duration": 103,
    "start_time": "2023-02-02T20:52:58.976Z"
   },
   {
    "duration": 2,
    "start_time": "2023-02-02T20:52:59.081Z"
   },
   {
    "duration": 10,
    "start_time": "2023-02-02T20:52:59.085Z"
   },
   {
    "duration": 7,
    "start_time": "2023-02-02T20:52:59.096Z"
   },
   {
    "duration": 4,
    "start_time": "2023-02-02T20:52:59.105Z"
   },
   {
    "duration": 77,
    "start_time": "2023-02-02T20:52:59.111Z"
   },
   {
    "duration": 7,
    "start_time": "2023-02-02T20:52:59.189Z"
   },
   {
    "duration": 7,
    "start_time": "2023-02-02T20:52:59.198Z"
   },
   {
    "duration": 20,
    "start_time": "2023-02-02T20:52:59.207Z"
   },
   {
    "duration": 8,
    "start_time": "2023-02-02T20:52:59.229Z"
   },
   {
    "duration": 7,
    "start_time": "2023-02-02T20:52:59.238Z"
   },
   {
    "duration": 12,
    "start_time": "2023-02-02T20:52:59.246Z"
   },
   {
    "duration": 5,
    "start_time": "2023-02-02T20:52:59.260Z"
   },
   {
    "duration": 8,
    "start_time": "2023-02-02T20:52:59.267Z"
   },
   {
    "duration": 13,
    "start_time": "2023-02-02T20:52:59.277Z"
   },
   {
    "duration": 11,
    "start_time": "2023-02-02T20:52:59.292Z"
   },
   {
    "duration": 9,
    "start_time": "2023-02-02T20:52:59.327Z"
   },
   {
    "duration": 12,
    "start_time": "2023-02-02T20:52:59.338Z"
   }
  ],
  "kernelspec": {
   "display_name": "Python 3 (ipykernel)",
   "language": "python",
   "name": "python3"
  },
  "language_info": {
   "codemirror_mode": {
    "name": "ipython",
    "version": 3
   },
   "file_extension": ".py",
   "mimetype": "text/x-python",
   "name": "python",
   "nbconvert_exporter": "python",
   "pygments_lexer": "ipython3",
   "version": "3.9.7"
  },
  "toc": {
   "base_numbering": 1,
   "nav_menu": {},
   "number_sections": false,
   "sideBar": true,
   "skip_h1_title": false,
   "title_cell": "Table of Contents",
   "title_sidebar": "Contents",
   "toc_cell": true,
   "toc_position": {
    "height": "calc(100% - 180px)",
    "left": "10px",
    "top": "150px",
    "width": "165px"
   },
   "toc_section_display": true,
   "toc_window_display": true
  }
 },
 "nbformat": 4,
 "nbformat_minor": 5
}
