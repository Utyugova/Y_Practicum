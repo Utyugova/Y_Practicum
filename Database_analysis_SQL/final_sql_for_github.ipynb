{
 "cells": [
  {
   "cell_type": "markdown",
   "metadata": {
    "id": "fCa0Hc-Vg1uI"
   },
   "source": [
    "# SQL\n",
    "\n",
    "Коронавирус застал мир врасплох, изменив привычный порядок вещей. В свободное время жители городов больше не выходят на улицу, не посещают кафе и торговые центры. Зато стало больше времени для книг. Это заметили стартаперы — и бросились создавать приложения для тех, кто любит читать.\n",
    "\n",
    "Ваша компания решила быть на волне и купила крупный сервис для чтения книг по подписке. Ваша первая задача как аналитика — проанализировать базу данных.\n",
    "В ней — информация о книгах, издательствах, авторах, а также пользовательские обзоры книг. Эти данные помогут сформулировать ценностное предложение для нового продукта.\n",
    "\n",
    "Необходимо выполнить несколько заданий:\n",
    "- Посчитайте, сколько книг вышло после 1 января 2000 года;\n",
    "- Для каждой книги посчитайте количество обзоров и среднюю оценку;\n",
    "- Определите издательство, которое выпустило наибольшее число книг толще 50 страниц — так вы исключите из анализа брошюры;\n",
    "- Определите автора с самой высокой средней оценкой книг — учитывайте только книги с 50 и более оценками;\n",
    "- Посчитайте среднее количество обзоров от пользователей, которые поставили больше 50 оценок."
   ]
  },
  {
   "cell_type": "markdown",
   "metadata": {
    "id": "emcLPMinhAQF"
   },
   "source": [
    "## Описание данных\n",
    "\n",
    "**Таблица `books`**\n",
    "\n",
    "Содержит данные о книгах:\n",
    "\n",
    "- `book_id` — идентификатор книги;\n",
    "- `author_id` — идентификатор автора;\n",
    "- `title` — название книги;\n",
    "- `num_pages` — количество страниц;\n",
    "- `publication_date` — дата публикации книги;\n",
    "- `publisher_id` — идентификатор издателя.\n",
    "\n",
    "**Таблица `authors`**\n",
    "\n",
    "Содержит данные об авторах:\n",
    "\n",
    "- `author_id` — идентификатор автора;\n",
    "- `author` — имя автора.\n",
    "\n",
    "**Таблица `publishers`**\n",
    "\n",
    "Содержит данные об издательствах:\n",
    "\n",
    "- `publisher_id` — идентификатор издательства;\n",
    "- `publisher` — название издательства;\n",
    "\n",
    "**Таблица `ratings`**\n",
    "\n",
    "Содержит данные о пользовательских оценках книг:\n",
    "\n",
    "- `rating_id` — идентификатор оценки;\n",
    "- `book_id` — идентификатор книги;\n",
    "- `username` — имя пользователя, оставившего оценку;\n",
    "- `rating` — оценка книги.\n",
    "\n",
    "**Таблица `reviews`**\n",
    "\n",
    "Содержит данные о пользовательских обзорах на книги:\n",
    "\n",
    "- `review_id` — идентификатор обзора;\n",
    "- `book_id` — идентификатор книги;\n",
    "- `username` — имя пользователя, написавшего обзор;\n",
    "- `text` — текст обзора."
   ]
  },
  {
   "cell_type": "code",
   "execution_count": 1,
   "metadata": {
    "id": "YSFE4IwR5hJE"
   },
   "outputs": [],
   "source": [
    "import pandas as pd #импортируем библиотеки\n",
    "from sqlalchemy import create_engine "
   ]
  },
  {
   "cell_type": "code",
   "execution_count": 2,
   "metadata": {
    "id": "s86tqZlH5oyZ"
   },
   "outputs": [],
   "source": [
    "#подключаемсяк базе данных\n",
    "db_config = {'user': 'praktikum_student', # имя пользователя            \n",
    "'pwd': 'Sdf4$2;d-d30pp', # пароль\n",
    "'host': 'rc1b-wcoijxj3yxfsf3fs.mdb.yandexcloud.net',\n",
    "'port': 6432, # порт подключения\n",
    "'db': 'data-analyst-final-project-db'} # название базы данных\n",
    "connection_string = 'postgresql://{}:{}@{}:{}/{}'.format(db_config['user'],\n",
    " db_config['pwd'],\n",
    " db_config['host'],\n",
    " db_config['port'],\n",
    " db_config['db'])\n",
    "# сохраняем коннектор\n",
    "engine = create_engine(connection_string, connect_args={'sslmode':'require'})\n"
   ]
  },
  {
   "cell_type": "code",
   "execution_count": 3,
   "metadata": {
    "id": "t-6xWIkJ5tXi"
   },
   "outputs": [],
   "source": [
    "books = '''\n",
    "SELECT *\n",
    "FROM books'''\n",
    "books = pd.io.sql.read_sql(books, con = engine) #работаем с одной из  таблиц"
   ]
  },
  {
   "cell_type": "code",
   "execution_count": 4,
   "metadata": {
    "id": "XMelRS7t5tjS"
   },
   "outputs": [],
   "source": [
    "def showtime(df): #функция для ознакомления с данными\n",
    "    display(\"Выведем первые строки  Данных\")\n",
    "    display(df.head())\n",
    "    display('-'*10)\n",
    "    display(\"Выведем информацию по  имеющимся в файле Данным\")\n",
    "    display(df.info())\n",
    "    display('-'*10)\n",
    "    display(\"Есть ли пропуски в  Данных и их количество\")\n",
    "    display(df.isna().sum())\n",
    "    display('-'*10)\n",
    "    display(\"Какое количество дубликатов в  Данных\")\n",
    "    display(df.duplicated().sum())\n",
    "    \n"
   ]
  },
  {
   "cell_type": "code",
   "execution_count": 5,
   "metadata": {
    "colab": {
     "base_uri": "https://localhost:8080/",
     "height": 739
    },
    "id": "xl83qh-y6N1L",
    "outputId": "05d4bf7d-fa67-4b2f-ccc1-ce8888a7d013"
   },
   "outputs": [
    {
     "data": {
      "text/plain": [
       "'Выведем первые строки  Данных'"
      ]
     },
     "metadata": {},
     "output_type": "display_data"
    },
    {
     "data": {
      "text/html": [
       "<div>\n",
       "<style scoped>\n",
       "    .dataframe tbody tr th:only-of-type {\n",
       "        vertical-align: middle;\n",
       "    }\n",
       "\n",
       "    .dataframe tbody tr th {\n",
       "        vertical-align: top;\n",
       "    }\n",
       "\n",
       "    .dataframe thead th {\n",
       "        text-align: right;\n",
       "    }\n",
       "</style>\n",
       "<table border=\"1\" class=\"dataframe\">\n",
       "  <thead>\n",
       "    <tr style=\"text-align: right;\">\n",
       "      <th></th>\n",
       "      <th>book_id</th>\n",
       "      <th>author_id</th>\n",
       "      <th>title</th>\n",
       "      <th>num_pages</th>\n",
       "      <th>publication_date</th>\n",
       "      <th>publisher_id</th>\n",
       "    </tr>\n",
       "  </thead>\n",
       "  <tbody>\n",
       "    <tr>\n",
       "      <th>0</th>\n",
       "      <td>1</td>\n",
       "      <td>546</td>\n",
       "      <td>'Salem's Lot</td>\n",
       "      <td>594</td>\n",
       "      <td>2005-11-01</td>\n",
       "      <td>93</td>\n",
       "    </tr>\n",
       "    <tr>\n",
       "      <th>1</th>\n",
       "      <td>2</td>\n",
       "      <td>465</td>\n",
       "      <td>1 000 Places to See Before You Die</td>\n",
       "      <td>992</td>\n",
       "      <td>2003-05-22</td>\n",
       "      <td>336</td>\n",
       "    </tr>\n",
       "    <tr>\n",
       "      <th>2</th>\n",
       "      <td>3</td>\n",
       "      <td>407</td>\n",
       "      <td>13 Little Blue Envelopes (Little Blue Envelope...</td>\n",
       "      <td>322</td>\n",
       "      <td>2010-12-21</td>\n",
       "      <td>135</td>\n",
       "    </tr>\n",
       "    <tr>\n",
       "      <th>3</th>\n",
       "      <td>4</td>\n",
       "      <td>82</td>\n",
       "      <td>1491: New Revelations of the Americas Before C...</td>\n",
       "      <td>541</td>\n",
       "      <td>2006-10-10</td>\n",
       "      <td>309</td>\n",
       "    </tr>\n",
       "    <tr>\n",
       "      <th>4</th>\n",
       "      <td>5</td>\n",
       "      <td>125</td>\n",
       "      <td>1776</td>\n",
       "      <td>386</td>\n",
       "      <td>2006-07-04</td>\n",
       "      <td>268</td>\n",
       "    </tr>\n",
       "  </tbody>\n",
       "</table>\n",
       "</div>"
      ],
      "text/plain": [
       "   book_id  author_id                                              title  \\\n",
       "0        1        546                                       'Salem's Lot   \n",
       "1        2        465                 1 000 Places to See Before You Die   \n",
       "2        3        407  13 Little Blue Envelopes (Little Blue Envelope...   \n",
       "3        4         82  1491: New Revelations of the Americas Before C...   \n",
       "4        5        125                                               1776   \n",
       "\n",
       "   num_pages publication_date  publisher_id  \n",
       "0        594       2005-11-01            93  \n",
       "1        992       2003-05-22           336  \n",
       "2        322       2010-12-21           135  \n",
       "3        541       2006-10-10           309  \n",
       "4        386       2006-07-04           268  "
      ]
     },
     "metadata": {},
     "output_type": "display_data"
    },
    {
     "data": {
      "text/plain": [
       "'----------'"
      ]
     },
     "metadata": {},
     "output_type": "display_data"
    },
    {
     "data": {
      "text/plain": [
       "'Выведем информацию по  имеющимся в файле Данным'"
      ]
     },
     "metadata": {},
     "output_type": "display_data"
    },
    {
     "name": "stdout",
     "output_type": "stream",
     "text": [
      "<class 'pandas.core.frame.DataFrame'>\n",
      "RangeIndex: 1000 entries, 0 to 999\n",
      "Data columns (total 6 columns):\n",
      " #   Column            Non-Null Count  Dtype \n",
      "---  ------            --------------  ----- \n",
      " 0   book_id           1000 non-null   int64 \n",
      " 1   author_id         1000 non-null   int64 \n",
      " 2   title             1000 non-null   object\n",
      " 3   num_pages         1000 non-null   int64 \n",
      " 4   publication_date  1000 non-null   object\n",
      " 5   publisher_id      1000 non-null   int64 \n",
      "dtypes: int64(4), object(2)\n",
      "memory usage: 47.0+ KB\n"
     ]
    },
    {
     "data": {
      "text/plain": [
       "None"
      ]
     },
     "metadata": {},
     "output_type": "display_data"
    },
    {
     "data": {
      "text/plain": [
       "'----------'"
      ]
     },
     "metadata": {},
     "output_type": "display_data"
    },
    {
     "data": {
      "text/plain": [
       "'Есть ли пропуски в  Данных и их количество'"
      ]
     },
     "metadata": {},
     "output_type": "display_data"
    },
    {
     "data": {
      "text/plain": [
       "book_id             0\n",
       "author_id           0\n",
       "title               0\n",
       "num_pages           0\n",
       "publication_date    0\n",
       "publisher_id        0\n",
       "dtype: int64"
      ]
     },
     "metadata": {},
     "output_type": "display_data"
    },
    {
     "data": {
      "text/plain": [
       "'----------'"
      ]
     },
     "metadata": {},
     "output_type": "display_data"
    },
    {
     "data": {
      "text/plain": [
       "'Какое количество дубликатов в  Данных'"
      ]
     },
     "metadata": {},
     "output_type": "display_data"
    },
    {
     "data": {
      "text/plain": [
       "0"
      ]
     },
     "metadata": {},
     "output_type": "display_data"
    }
   ],
   "source": [
    "showtime(books) #рассмотрим данные таблицы"
   ]
  },
  {
   "cell_type": "markdown",
   "metadata": {
    "id": "PN4_4P9aiGtS"
   },
   "source": [
    "1 тыс. строк. Все данные в целочисленном и строковых видах, пропусков нет как и дубликатов"
   ]
  },
  {
   "cell_type": "code",
   "execution_count": 6,
   "metadata": {
    "id": "K1zqUpqP6N4a"
   },
   "outputs": [],
   "source": [
    "authors = '''\n",
    "SELECT *\n",
    "FROM authors'''\n",
    "authors = pd.io.sql.read_sql(authors, con = engine) #работаем с фреймом авторы"
   ]
  },
  {
   "cell_type": "code",
   "execution_count": 7,
   "metadata": {
    "colab": {
     "base_uri": "https://localhost:8080/",
     "height": 594
    },
    "id": "bs-YW3PB6N7S",
    "outputId": "9a828d98-624a-46e8-cc02-a892b74f2b7f"
   },
   "outputs": [
    {
     "data": {
      "text/plain": [
       "'Выведем первые строки  Данных'"
      ]
     },
     "metadata": {},
     "output_type": "display_data"
    },
    {
     "data": {
      "text/html": [
       "<div>\n",
       "<style scoped>\n",
       "    .dataframe tbody tr th:only-of-type {\n",
       "        vertical-align: middle;\n",
       "    }\n",
       "\n",
       "    .dataframe tbody tr th {\n",
       "        vertical-align: top;\n",
       "    }\n",
       "\n",
       "    .dataframe thead th {\n",
       "        text-align: right;\n",
       "    }\n",
       "</style>\n",
       "<table border=\"1\" class=\"dataframe\">\n",
       "  <thead>\n",
       "    <tr style=\"text-align: right;\">\n",
       "      <th></th>\n",
       "      <th>author_id</th>\n",
       "      <th>author</th>\n",
       "    </tr>\n",
       "  </thead>\n",
       "  <tbody>\n",
       "    <tr>\n",
       "      <th>0</th>\n",
       "      <td>1</td>\n",
       "      <td>A.S. Byatt</td>\n",
       "    </tr>\n",
       "    <tr>\n",
       "      <th>1</th>\n",
       "      <td>2</td>\n",
       "      <td>Aesop/Laura Harris/Laura Gibbs</td>\n",
       "    </tr>\n",
       "    <tr>\n",
       "      <th>2</th>\n",
       "      <td>3</td>\n",
       "      <td>Agatha Christie</td>\n",
       "    </tr>\n",
       "    <tr>\n",
       "      <th>3</th>\n",
       "      <td>4</td>\n",
       "      <td>Alan Brennert</td>\n",
       "    </tr>\n",
       "    <tr>\n",
       "      <th>4</th>\n",
       "      <td>5</td>\n",
       "      <td>Alan Moore/David   Lloyd</td>\n",
       "    </tr>\n",
       "  </tbody>\n",
       "</table>\n",
       "</div>"
      ],
      "text/plain": [
       "   author_id                          author\n",
       "0          1                      A.S. Byatt\n",
       "1          2  Aesop/Laura Harris/Laura Gibbs\n",
       "2          3                 Agatha Christie\n",
       "3          4                   Alan Brennert\n",
       "4          5        Alan Moore/David   Lloyd"
      ]
     },
     "metadata": {},
     "output_type": "display_data"
    },
    {
     "data": {
      "text/plain": [
       "'----------'"
      ]
     },
     "metadata": {},
     "output_type": "display_data"
    },
    {
     "data": {
      "text/plain": [
       "'Выведем информацию по  имеющимся в файле Данным'"
      ]
     },
     "metadata": {},
     "output_type": "display_data"
    },
    {
     "name": "stdout",
     "output_type": "stream",
     "text": [
      "<class 'pandas.core.frame.DataFrame'>\n",
      "RangeIndex: 636 entries, 0 to 635\n",
      "Data columns (total 2 columns):\n",
      " #   Column     Non-Null Count  Dtype \n",
      "---  ------     --------------  ----- \n",
      " 0   author_id  636 non-null    int64 \n",
      " 1   author     636 non-null    object\n",
      "dtypes: int64(1), object(1)\n",
      "memory usage: 10.1+ KB\n"
     ]
    },
    {
     "data": {
      "text/plain": [
       "None"
      ]
     },
     "metadata": {},
     "output_type": "display_data"
    },
    {
     "data": {
      "text/plain": [
       "'----------'"
      ]
     },
     "metadata": {},
     "output_type": "display_data"
    },
    {
     "data": {
      "text/plain": [
       "'Есть ли пропуски в  Данных и их количество'"
      ]
     },
     "metadata": {},
     "output_type": "display_data"
    },
    {
     "data": {
      "text/plain": [
       "author_id    0\n",
       "author       0\n",
       "dtype: int64"
      ]
     },
     "metadata": {},
     "output_type": "display_data"
    },
    {
     "data": {
      "text/plain": [
       "'----------'"
      ]
     },
     "metadata": {},
     "output_type": "display_data"
    },
    {
     "data": {
      "text/plain": [
       "'Какое количество дубликатов в  Данных'"
      ]
     },
     "metadata": {},
     "output_type": "display_data"
    },
    {
     "data": {
      "text/plain": [
       "0"
      ]
     },
     "metadata": {},
     "output_type": "display_data"
    }
   ],
   "source": [
    "showtime(authors)"
   ]
  },
  {
   "cell_type": "markdown",
   "metadata": {
    "id": "LxVdVeM7inR9"
   },
   "source": [
    "636  ненулевых данных, 2 колонки. одна  в целочисленном формате, другая  в виде строки. пропусков нет, дублей тоже."
   ]
  },
  {
   "cell_type": "code",
   "execution_count": 8,
   "metadata": {
    "id": "R1pOs1q58_vB"
   },
   "outputs": [],
   "source": [
    "publishers= '''\n",
    "SELECT *\n",
    "FROM publishers'''\n",
    "publishers = pd.io.sql.read_sql(publishers, con = engine) #работаем с фреймом publishers"
   ]
  },
  {
   "cell_type": "code",
   "execution_count": 9,
   "metadata": {
    "colab": {
     "base_uri": "https://localhost:8080/",
     "height": 594
    },
    "id": "SvNscnnJ9clr",
    "outputId": "f0ae8561-df13-4650-ea9a-288b895335b0"
   },
   "outputs": [
    {
     "data": {
      "text/plain": [
       "'Выведем первые строки  Данных'"
      ]
     },
     "metadata": {},
     "output_type": "display_data"
    },
    {
     "data": {
      "text/html": [
       "<div>\n",
       "<style scoped>\n",
       "    .dataframe tbody tr th:only-of-type {\n",
       "        vertical-align: middle;\n",
       "    }\n",
       "\n",
       "    .dataframe tbody tr th {\n",
       "        vertical-align: top;\n",
       "    }\n",
       "\n",
       "    .dataframe thead th {\n",
       "        text-align: right;\n",
       "    }\n",
       "</style>\n",
       "<table border=\"1\" class=\"dataframe\">\n",
       "  <thead>\n",
       "    <tr style=\"text-align: right;\">\n",
       "      <th></th>\n",
       "      <th>publisher_id</th>\n",
       "      <th>publisher</th>\n",
       "    </tr>\n",
       "  </thead>\n",
       "  <tbody>\n",
       "    <tr>\n",
       "      <th>0</th>\n",
       "      <td>1</td>\n",
       "      <td>Ace</td>\n",
       "    </tr>\n",
       "    <tr>\n",
       "      <th>1</th>\n",
       "      <td>2</td>\n",
       "      <td>Ace Book</td>\n",
       "    </tr>\n",
       "    <tr>\n",
       "      <th>2</th>\n",
       "      <td>3</td>\n",
       "      <td>Ace Books</td>\n",
       "    </tr>\n",
       "    <tr>\n",
       "      <th>3</th>\n",
       "      <td>4</td>\n",
       "      <td>Ace Hardcover</td>\n",
       "    </tr>\n",
       "    <tr>\n",
       "      <th>4</th>\n",
       "      <td>5</td>\n",
       "      <td>Addison Wesley Publishing Company</td>\n",
       "    </tr>\n",
       "  </tbody>\n",
       "</table>\n",
       "</div>"
      ],
      "text/plain": [
       "   publisher_id                          publisher\n",
       "0             1                                Ace\n",
       "1             2                           Ace Book\n",
       "2             3                          Ace Books\n",
       "3             4                      Ace Hardcover\n",
       "4             5  Addison Wesley Publishing Company"
      ]
     },
     "metadata": {},
     "output_type": "display_data"
    },
    {
     "data": {
      "text/plain": [
       "'----------'"
      ]
     },
     "metadata": {},
     "output_type": "display_data"
    },
    {
     "data": {
      "text/plain": [
       "'Выведем информацию по  имеющимся в файле Данным'"
      ]
     },
     "metadata": {},
     "output_type": "display_data"
    },
    {
     "name": "stdout",
     "output_type": "stream",
     "text": [
      "<class 'pandas.core.frame.DataFrame'>\n",
      "RangeIndex: 340 entries, 0 to 339\n",
      "Data columns (total 2 columns):\n",
      " #   Column        Non-Null Count  Dtype \n",
      "---  ------        --------------  ----- \n",
      " 0   publisher_id  340 non-null    int64 \n",
      " 1   publisher     340 non-null    object\n",
      "dtypes: int64(1), object(1)\n",
      "memory usage: 5.4+ KB\n"
     ]
    },
    {
     "data": {
      "text/plain": [
       "None"
      ]
     },
     "metadata": {},
     "output_type": "display_data"
    },
    {
     "data": {
      "text/plain": [
       "'----------'"
      ]
     },
     "metadata": {},
     "output_type": "display_data"
    },
    {
     "data": {
      "text/plain": [
       "'Есть ли пропуски в  Данных и их количество'"
      ]
     },
     "metadata": {},
     "output_type": "display_data"
    },
    {
     "data": {
      "text/plain": [
       "publisher_id    0\n",
       "publisher       0\n",
       "dtype: int64"
      ]
     },
     "metadata": {},
     "output_type": "display_data"
    },
    {
     "data": {
      "text/plain": [
       "'----------'"
      ]
     },
     "metadata": {},
     "output_type": "display_data"
    },
    {
     "data": {
      "text/plain": [
       "'Какое количество дубликатов в  Данных'"
      ]
     },
     "metadata": {},
     "output_type": "display_data"
    },
    {
     "data": {
      "text/plain": [
       "0"
      ]
     },
     "metadata": {},
     "output_type": "display_data"
    }
   ],
   "source": [
    "showtime(publishers)"
   ]
  },
  {
   "cell_type": "markdown",
   "metadata": {
    "id": "9_8UPb-SjV6n"
   },
   "source": [
    "340 строк данных, 2 колонки,  одна в целочисленном формате, другая в виде строки. пропусков нет, дублей тоже."
   ]
  },
  {
   "cell_type": "code",
   "execution_count": 10,
   "metadata": {
    "id": "ZPikLIGO9cn6"
   },
   "outputs": [],
   "source": [
    "ratings= '''\n",
    "SELECT *\n",
    "FROM ratings'''\n",
    "ratings = pd.io.sql.read_sql(ratings, con = engine) #работаем с фреймом ratings"
   ]
  },
  {
   "cell_type": "code",
   "execution_count": 11,
   "metadata": {
    "colab": {
     "base_uri": "https://localhost:8080/",
     "height": 667
    },
    "id": "gQ83Oxvz9ctK",
    "outputId": "c372977b-ae06-4747-d1b6-8411530f04f5"
   },
   "outputs": [
    {
     "data": {
      "text/plain": [
       "'Выведем первые строки  Данных'"
      ]
     },
     "metadata": {},
     "output_type": "display_data"
    },
    {
     "data": {
      "text/html": [
       "<div>\n",
       "<style scoped>\n",
       "    .dataframe tbody tr th:only-of-type {\n",
       "        vertical-align: middle;\n",
       "    }\n",
       "\n",
       "    .dataframe tbody tr th {\n",
       "        vertical-align: top;\n",
       "    }\n",
       "\n",
       "    .dataframe thead th {\n",
       "        text-align: right;\n",
       "    }\n",
       "</style>\n",
       "<table border=\"1\" class=\"dataframe\">\n",
       "  <thead>\n",
       "    <tr style=\"text-align: right;\">\n",
       "      <th></th>\n",
       "      <th>rating_id</th>\n",
       "      <th>book_id</th>\n",
       "      <th>username</th>\n",
       "      <th>rating</th>\n",
       "    </tr>\n",
       "  </thead>\n",
       "  <tbody>\n",
       "    <tr>\n",
       "      <th>0</th>\n",
       "      <td>1</td>\n",
       "      <td>1</td>\n",
       "      <td>ryanfranco</td>\n",
       "      <td>4</td>\n",
       "    </tr>\n",
       "    <tr>\n",
       "      <th>1</th>\n",
       "      <td>2</td>\n",
       "      <td>1</td>\n",
       "      <td>grantpatricia</td>\n",
       "      <td>2</td>\n",
       "    </tr>\n",
       "    <tr>\n",
       "      <th>2</th>\n",
       "      <td>3</td>\n",
       "      <td>1</td>\n",
       "      <td>brandtandrea</td>\n",
       "      <td>5</td>\n",
       "    </tr>\n",
       "    <tr>\n",
       "      <th>3</th>\n",
       "      <td>4</td>\n",
       "      <td>2</td>\n",
       "      <td>lorichen</td>\n",
       "      <td>3</td>\n",
       "    </tr>\n",
       "    <tr>\n",
       "      <th>4</th>\n",
       "      <td>5</td>\n",
       "      <td>2</td>\n",
       "      <td>mariokeller</td>\n",
       "      <td>2</td>\n",
       "    </tr>\n",
       "  </tbody>\n",
       "</table>\n",
       "</div>"
      ],
      "text/plain": [
       "   rating_id  book_id       username  rating\n",
       "0          1        1     ryanfranco       4\n",
       "1          2        1  grantpatricia       2\n",
       "2          3        1   brandtandrea       5\n",
       "3          4        2       lorichen       3\n",
       "4          5        2    mariokeller       2"
      ]
     },
     "metadata": {},
     "output_type": "display_data"
    },
    {
     "data": {
      "text/plain": [
       "'----------'"
      ]
     },
     "metadata": {},
     "output_type": "display_data"
    },
    {
     "data": {
      "text/plain": [
       "'Выведем информацию по  имеющимся в файле Данным'"
      ]
     },
     "metadata": {},
     "output_type": "display_data"
    },
    {
     "name": "stdout",
     "output_type": "stream",
     "text": [
      "<class 'pandas.core.frame.DataFrame'>\n",
      "RangeIndex: 6456 entries, 0 to 6455\n",
      "Data columns (total 4 columns):\n",
      " #   Column     Non-Null Count  Dtype \n",
      "---  ------     --------------  ----- \n",
      " 0   rating_id  6456 non-null   int64 \n",
      " 1   book_id    6456 non-null   int64 \n",
      " 2   username   6456 non-null   object\n",
      " 3   rating     6456 non-null   int64 \n",
      "dtypes: int64(3), object(1)\n",
      "memory usage: 201.9+ KB\n"
     ]
    },
    {
     "data": {
      "text/plain": [
       "None"
      ]
     },
     "metadata": {},
     "output_type": "display_data"
    },
    {
     "data": {
      "text/plain": [
       "'----------'"
      ]
     },
     "metadata": {},
     "output_type": "display_data"
    },
    {
     "data": {
      "text/plain": [
       "'Есть ли пропуски в  Данных и их количество'"
      ]
     },
     "metadata": {},
     "output_type": "display_data"
    },
    {
     "data": {
      "text/plain": [
       "rating_id    0\n",
       "book_id      0\n",
       "username     0\n",
       "rating       0\n",
       "dtype: int64"
      ]
     },
     "metadata": {},
     "output_type": "display_data"
    },
    {
     "data": {
      "text/plain": [
       "'----------'"
      ]
     },
     "metadata": {},
     "output_type": "display_data"
    },
    {
     "data": {
      "text/plain": [
       "'Какое количество дубликатов в  Данных'"
      ]
     },
     "metadata": {},
     "output_type": "display_data"
    },
    {
     "data": {
      "text/plain": [
       "0"
      ]
     },
     "metadata": {},
     "output_type": "display_data"
    }
   ],
   "source": [
    "showtime(ratings)"
   ]
  },
  {
   "cell_type": "markdown",
   "metadata": {
    "id": "8HdBrIxajpi7"
   },
   "source": [
    "6456  строк данных, 4 колонки, данные в целочисленном и одна колонка в виде строки. пропусков нет, дублей тоже."
   ]
  },
  {
   "cell_type": "code",
   "execution_count": 12,
   "metadata": {
    "id": "p8IKbsaj9vwh"
   },
   "outputs": [],
   "source": [
    "reviews= '''\n",
    "SELECT *\n",
    "FROM reviews'''\n",
    "reviews = pd.io.sql.read_sql(reviews, con = engine) #работаем с фреймом reviews"
   ]
  },
  {
   "cell_type": "code",
   "execution_count": 13,
   "metadata": {
    "colab": {
     "base_uri": "https://localhost:8080/",
     "height": 667
    },
    "id": "w4B6_0by9v3Z",
    "outputId": "53f9e4d5-c462-4f8f-c3e5-a52773cf1501"
   },
   "outputs": [
    {
     "data": {
      "text/plain": [
       "'Выведем первые строки  Данных'"
      ]
     },
     "metadata": {},
     "output_type": "display_data"
    },
    {
     "data": {
      "text/html": [
       "<div>\n",
       "<style scoped>\n",
       "    .dataframe tbody tr th:only-of-type {\n",
       "        vertical-align: middle;\n",
       "    }\n",
       "\n",
       "    .dataframe tbody tr th {\n",
       "        vertical-align: top;\n",
       "    }\n",
       "\n",
       "    .dataframe thead th {\n",
       "        text-align: right;\n",
       "    }\n",
       "</style>\n",
       "<table border=\"1\" class=\"dataframe\">\n",
       "  <thead>\n",
       "    <tr style=\"text-align: right;\">\n",
       "      <th></th>\n",
       "      <th>review_id</th>\n",
       "      <th>book_id</th>\n",
       "      <th>username</th>\n",
       "      <th>text</th>\n",
       "    </tr>\n",
       "  </thead>\n",
       "  <tbody>\n",
       "    <tr>\n",
       "      <th>0</th>\n",
       "      <td>1</td>\n",
       "      <td>1</td>\n",
       "      <td>brandtandrea</td>\n",
       "      <td>Mention society tell send professor analysis. ...</td>\n",
       "    </tr>\n",
       "    <tr>\n",
       "      <th>1</th>\n",
       "      <td>2</td>\n",
       "      <td>1</td>\n",
       "      <td>ryanfranco</td>\n",
       "      <td>Foot glass pretty audience hit themselves. Amo...</td>\n",
       "    </tr>\n",
       "    <tr>\n",
       "      <th>2</th>\n",
       "      <td>3</td>\n",
       "      <td>2</td>\n",
       "      <td>lorichen</td>\n",
       "      <td>Listen treat keep worry. Miss husband tax but ...</td>\n",
       "    </tr>\n",
       "    <tr>\n",
       "      <th>3</th>\n",
       "      <td>4</td>\n",
       "      <td>3</td>\n",
       "      <td>johnsonamanda</td>\n",
       "      <td>Finally month interesting blue could nature cu...</td>\n",
       "    </tr>\n",
       "    <tr>\n",
       "      <th>4</th>\n",
       "      <td>5</td>\n",
       "      <td>3</td>\n",
       "      <td>scotttamara</td>\n",
       "      <td>Nation purpose heavy give wait song will. List...</td>\n",
       "    </tr>\n",
       "  </tbody>\n",
       "</table>\n",
       "</div>"
      ],
      "text/plain": [
       "   review_id  book_id       username  \\\n",
       "0          1        1   brandtandrea   \n",
       "1          2        1     ryanfranco   \n",
       "2          3        2       lorichen   \n",
       "3          4        3  johnsonamanda   \n",
       "4          5        3    scotttamara   \n",
       "\n",
       "                                                text  \n",
       "0  Mention society tell send professor analysis. ...  \n",
       "1  Foot glass pretty audience hit themselves. Amo...  \n",
       "2  Listen treat keep worry. Miss husband tax but ...  \n",
       "3  Finally month interesting blue could nature cu...  \n",
       "4  Nation purpose heavy give wait song will. List...  "
      ]
     },
     "metadata": {},
     "output_type": "display_data"
    },
    {
     "data": {
      "text/plain": [
       "'----------'"
      ]
     },
     "metadata": {},
     "output_type": "display_data"
    },
    {
     "data": {
      "text/plain": [
       "'Выведем информацию по  имеющимся в файле Данным'"
      ]
     },
     "metadata": {},
     "output_type": "display_data"
    },
    {
     "name": "stdout",
     "output_type": "stream",
     "text": [
      "<class 'pandas.core.frame.DataFrame'>\n",
      "RangeIndex: 2793 entries, 0 to 2792\n",
      "Data columns (total 4 columns):\n",
      " #   Column     Non-Null Count  Dtype \n",
      "---  ------     --------------  ----- \n",
      " 0   review_id  2793 non-null   int64 \n",
      " 1   book_id    2793 non-null   int64 \n",
      " 2   username   2793 non-null   object\n",
      " 3   text       2793 non-null   object\n",
      "dtypes: int64(2), object(2)\n",
      "memory usage: 87.4+ KB\n"
     ]
    },
    {
     "data": {
      "text/plain": [
       "None"
      ]
     },
     "metadata": {},
     "output_type": "display_data"
    },
    {
     "data": {
      "text/plain": [
       "'----------'"
      ]
     },
     "metadata": {},
     "output_type": "display_data"
    },
    {
     "data": {
      "text/plain": [
       "'Есть ли пропуски в  Данных и их количество'"
      ]
     },
     "metadata": {},
     "output_type": "display_data"
    },
    {
     "data": {
      "text/plain": [
       "review_id    0\n",
       "book_id      0\n",
       "username     0\n",
       "text         0\n",
       "dtype: int64"
      ]
     },
     "metadata": {},
     "output_type": "display_data"
    },
    {
     "data": {
      "text/plain": [
       "'----------'"
      ]
     },
     "metadata": {},
     "output_type": "display_data"
    },
    {
     "data": {
      "text/plain": [
       "'Какое количество дубликатов в  Данных'"
      ]
     },
     "metadata": {},
     "output_type": "display_data"
    },
    {
     "data": {
      "text/plain": [
       "0"
      ]
     },
     "metadata": {},
     "output_type": "display_data"
    }
   ],
   "source": [
    "showtime(reviews)"
   ]
  },
  {
   "cell_type": "markdown",
   "metadata": {
    "id": "IWjc7h6ykDuh"
   },
   "source": [
    "2793 строк данных, 4 колонки, данные в целочисленном  формати и в  виде строки. пропусков нет, дублей тоже."
   ]
  },
  {
   "cell_type": "markdown",
   "metadata": {
    "id": "2ljCOwPXn-dL"
   },
   "source": [
    "Выводы: по  всем  таблицам  представлены данные в виде чисел и строк, пропусков нет."
   ]
  },
  {
   "cell_type": "markdown",
   "metadata": {
    "id": "VEIGGrIIoJ45"
   },
   "source": [
    "## Выполним задания"
   ]
  },
  {
   "cell_type": "markdown",
   "metadata": {
    "id": "1CR0K0sbeyi3"
   },
   "source": [
    " Задача  1: Посчитайте, сколько книг вышло после 1 января 2000 года;"
   ]
  },
  {
   "cell_type": "code",
   "execution_count": 14,
   "metadata": {
    "id": "hFWOq9RSnG5-"
   },
   "outputs": [],
   "source": [
    "cb =  \"\"\"\n",
    "\n",
    "       SELECT COUNT(*) FROM books WHERE publication_date > '2000-01-01';\n",
    "\"\"\"\n",
    "\n",
    "\n",
    "\n",
    "cb  =  pd.io.sql.read_sql(cb, con = engine)"
   ]
  },
  {
   "cell_type": "code",
   "execution_count": 15,
   "metadata": {
    "colab": {
     "base_uri": "https://localhost:8080/"
    },
    "id": "A9gZUh8meiyg",
    "outputId": "6cd58603-201b-4caf-9694-690355f87c5f",
    "scrolled": true
   },
   "outputs": [
    {
     "name": "stdout",
     "output_type": "stream",
     "text": [
      " После 2020-01-01  года вышло 819 книг\n"
     ]
    }
   ],
   "source": [
    "print(f' После 2020-01-01  года вышло {cb[\"count\"][0]} книг')"
   ]
  },
  {
   "cell_type": "markdown",
   "metadata": {
    "id": "Nv78rSO5t6LV"
   },
   "source": [
    "Задача 2: Для каждой книги посчитайте количество обзоров и среднюю оценку;\n"
   ]
  },
  {
   "cell_type": "code",
   "execution_count": 16,
   "metadata": {
    "id": "OefneoJ0uIui"
   },
   "outputs": [],
   "source": [
    "m_r = '''\n",
    "            WITH first AS\n",
    "                (SELECT books.book_id AS book_id, \n",
    "                COUNT(reviews.text) AS counts,\n",
    "                books.title\n",
    "                FROM reviews\n",
    "                RIGHT JOIN books on reviews.book_id = books.book_id\n",
    "                GROUP BY books.book_id),\n",
    "\n",
    "                second AS\n",
    "                (SELECT books.book_id AS book_id, \n",
    "                ROUND(AVG(ratings.rating),2) AS mid_rating,\n",
    "                books.title\n",
    "                FROM ratings\n",
    "                RIGHT JOIN books on ratings.book_id = books.book_id\n",
    "                GROUP BY books.book_id) \n",
    "\n",
    "                SELECT second.book_id AS book_id,\n",
    "                second.title AS title,\n",
    "                first.counts AS counts,\n",
    "                round(second.mid_rating,2) AS rating                    \n",
    "                FROM first\n",
    "                INNER JOIN second ON first.book_id = second.book_id\n",
    "                ''' \n",
    "\n",
    "m_r = pd.io.sql.read_sql(m_r, con = engine)    \n"
   ]
  },
  {
   "cell_type": "code",
   "execution_count": 17,
   "metadata": {
    "colab": {
     "base_uri": "https://localhost:8080/"
    },
    "id": "s80d7X21u97e",
    "outputId": "fcd1e551-ab7b-4814-8a9e-0d96ad15945a"
   },
   "outputs": [
    {
     "name": "stdout",
     "output_type": "stream",
     "text": [
      "Количество обзоров и средняя оценка  каждой книги\n"
     ]
    }
   ],
   "source": [
    "print('Количество обзоров и средняя оценка  каждой книги')"
   ]
  },
  {
   "cell_type": "code",
   "execution_count": 18,
   "metadata": {
    "colab": {
     "base_uri": "https://localhost:8080/"
    },
    "id": "9_aAEudVua_i",
    "outputId": "b57dea47-ab9d-464d-d2ed-6aeb47aaa682"
   },
   "outputs": [
    {
     "name": "stdout",
     "output_type": "stream",
     "text": [
      "     book_id                                              title  counts  \\\n",
      "0          1                                       'Salem's Lot       2   \n",
      "1          2                 1 000 Places to See Before You Die       1   \n",
      "2          3  13 Little Blue Envelopes (Little Blue Envelope...       3   \n",
      "3          4  1491: New Revelations of the Americas Before C...       2   \n",
      "4          5                                               1776       4   \n",
      "..       ...                                                ...     ...   \n",
      "995      996           Wyrd Sisters (Discworld  #6; Witches #2)       3   \n",
      "996      997                        Xenocide (Ender's Saga  #3)       3   \n",
      "997      998                                    Year of Wonders       4   \n",
      "998      999                        You Suck (A Love Story  #2)       2   \n",
      "999     1000  Zen and the Art of Motorcycle Maintenance: An ...       4   \n",
      "\n",
      "     rating  \n",
      "0      3.67  \n",
      "1      2.50  \n",
      "2      4.67  \n",
      "3      4.50  \n",
      "4      4.00  \n",
      "..      ...  \n",
      "995    3.67  \n",
      "996    3.40  \n",
      "997    3.20  \n",
      "998    4.50  \n",
      "999    3.83  \n",
      "\n",
      "[1000 rows x 4 columns]\n"
     ]
    }
   ],
   "source": [
    "print(m_r)"
   ]
  },
  {
   "cell_type": "markdown",
   "metadata": {
    "id": "qH7Q8ZpguAr9"
   },
   "source": [
    "Задача 3.Определите издательство, которое выпустило наибольшее число книг толще 50 страниц — так вы исключите из анализа брошюры;\n"
   ]
  },
  {
   "cell_type": "code",
   "execution_count": 19,
   "metadata": {
    "id": "y0sBe_WEu8nG"
   },
   "outputs": [],
   "source": [
    "b_p = '''\n",
    "          SELECT\n",
    "          publishers.publisher_id AS id,\n",
    "          publishers.publisher AS name,\n",
    "          COUNT(DISTINCT(books.book_id)) AS count\n",
    "\n",
    "          FROM\n",
    "          publishers\n",
    "\n",
    "          INNER JOIN books ON books.publisher_id = publishers.publisher_id\n",
    "\n",
    "          WHERE\n",
    "          books.num_pages > 50\n",
    "\n",
    "          GROUP BY publishers.publisher_id, publishers.publisher\n",
    "          ORDER BY count DESC\n",
    "\n",
    "          '''\n",
    "b_p = pd.io.sql.read_sql(b_p, con = engine)"
   ]
  },
  {
   "cell_type": "code",
   "execution_count": 20,
   "metadata": {
    "colab": {
     "base_uri": "https://localhost:8080/"
    },
    "id": "PhIidm50u64u",
    "outputId": "d6a6cb76-dd63-4ee1-c0fe-f21e1ad77732"
   },
   "outputs": [
    {
     "name": "stdout",
     "output_type": "stream",
     "text": [
      "Издательство, которое выпустило наибольшее число книг толще 50 страниц  - Penguin Books\n"
     ]
    }
   ],
   "source": [
    "print(f'Издательство, которое выпустило наибольшее число книг толще 50 страниц  - {b_p.loc[0,\"name\"]}')"
   ]
  },
  {
   "cell_type": "markdown",
   "metadata": {
    "id": "30NAjmOItYoY"
   },
   "source": [
    "Задача 4. Определите автора с самой высокой средней оценкой книг — учитывайте только книги с 50 и более оценками;"
   ]
  },
  {
   "cell_type": "code",
   "execution_count": 21,
   "metadata": {
    "id": "ov7g14K_tTkI"
   },
   "outputs": [],
   "source": [
    "author = '''\n",
    "            \n",
    "         SELECT\n",
    "         chart.author_id AS author_id,\n",
    "         chart.author_name AS author_name,\n",
    "         ROUND(AVG(chart.middle),2) AS rating\n",
    "            FROM\n",
    "\n",
    "         (SELECT    \n",
    "          books.author_id AS author_id,\n",
    "          authors.author AS author_name,\n",
    "          ratings.book_id AS book_id,\n",
    "          ROUND(AVG(ratings.rating),2) AS middle   \n",
    "             FROM\n",
    "          ratings\n",
    "          \n",
    "          INNER JOIN\n",
    "          books ON books.book_id = ratings.book_id\n",
    "          \n",
    "          INNER JOIN\n",
    "          authors ON books.author_id = authors.author_id    \n",
    "          GROUP BY ratings.book_id, books.author_id, authors.author\n",
    "              HAVING\n",
    "          COUNT(ratings.rating_id) >= 50) AS chart\n",
    "          GROUP BY chart.author_id, chart.author_name\n",
    "          ORDER BY rating DESC\n",
    "\n",
    "          '''\n",
    "author = pd.io.sql.read_sql(author, con = engine)"
   ]
  },
  {
   "cell_type": "code",
   "execution_count": 22,
   "metadata": {
    "colab": {
     "base_uri": "https://localhost:8080/",
     "height": 488
    },
    "id": "z-8TS7vtc0Ef",
    "outputId": "2da184be-f8de-426e-eaf0-f53a8f349aee"
   },
   "outputs": [
    {
     "data": {
      "text/html": [
       "<div>\n",
       "<style scoped>\n",
       "    .dataframe tbody tr th:only-of-type {\n",
       "        vertical-align: middle;\n",
       "    }\n",
       "\n",
       "    .dataframe tbody tr th {\n",
       "        vertical-align: top;\n",
       "    }\n",
       "\n",
       "    .dataframe thead th {\n",
       "        text-align: right;\n",
       "    }\n",
       "</style>\n",
       "<table border=\"1\" class=\"dataframe\">\n",
       "  <thead>\n",
       "    <tr style=\"text-align: right;\">\n",
       "      <th></th>\n",
       "      <th>author_id</th>\n",
       "      <th>author_name</th>\n",
       "      <th>rating</th>\n",
       "    </tr>\n",
       "  </thead>\n",
       "  <tbody>\n",
       "    <tr>\n",
       "      <th>0</th>\n",
       "      <td>236</td>\n",
       "      <td>J.K. Rowling/Mary GrandPré</td>\n",
       "      <td>4.29</td>\n",
       "    </tr>\n",
       "    <tr>\n",
       "      <th>1</th>\n",
       "      <td>240</td>\n",
       "      <td>J.R.R. Tolkien</td>\n",
       "      <td>4.26</td>\n",
       "    </tr>\n",
       "    <tr>\n",
       "      <th>2</th>\n",
       "      <td>402</td>\n",
       "      <td>Markus Zusak/Cao Xuân Việt Khương</td>\n",
       "      <td>4.26</td>\n",
       "    </tr>\n",
       "    <tr>\n",
       "      <th>3</th>\n",
       "      <td>376</td>\n",
       "      <td>Louisa May Alcott</td>\n",
       "      <td>4.19</td>\n",
       "    </tr>\n",
       "    <tr>\n",
       "      <th>4</th>\n",
       "      <td>498</td>\n",
       "      <td>Rick Riordan</td>\n",
       "      <td>4.08</td>\n",
       "    </tr>\n",
       "    <tr>\n",
       "      <th>5</th>\n",
       "      <td>621</td>\n",
       "      <td>William Golding</td>\n",
       "      <td>3.90</td>\n",
       "    </tr>\n",
       "    <tr>\n",
       "      <th>6</th>\n",
       "      <td>235</td>\n",
       "      <td>J.D. Salinger</td>\n",
       "      <td>3.83</td>\n",
       "    </tr>\n",
       "    <tr>\n",
       "      <th>7</th>\n",
       "      <td>630</td>\n",
       "      <td>William Shakespeare/Paul Werstine/Barbara A. M...</td>\n",
       "      <td>3.79</td>\n",
       "    </tr>\n",
       "    <tr>\n",
       "      <th>8</th>\n",
       "      <td>469</td>\n",
       "      <td>Paulo Coelho/Alan R. Clarke/Özdemir İnce</td>\n",
       "      <td>3.79</td>\n",
       "    </tr>\n",
       "    <tr>\n",
       "      <th>9</th>\n",
       "      <td>106</td>\n",
       "      <td>Dan Brown</td>\n",
       "      <td>3.76</td>\n",
       "    </tr>\n",
       "    <tr>\n",
       "      <th>10</th>\n",
       "      <td>372</td>\n",
       "      <td>Lois Lowry</td>\n",
       "      <td>3.75</td>\n",
       "    </tr>\n",
       "    <tr>\n",
       "      <th>11</th>\n",
       "      <td>195</td>\n",
       "      <td>George Orwell/Boris Grabnar/Peter Škerl</td>\n",
       "      <td>3.73</td>\n",
       "    </tr>\n",
       "    <tr>\n",
       "      <th>12</th>\n",
       "      <td>554</td>\n",
       "      <td>Stephenie Meyer</td>\n",
       "      <td>3.66</td>\n",
       "    </tr>\n",
       "    <tr>\n",
       "      <th>13</th>\n",
       "      <td>311</td>\n",
       "      <td>John Steinbeck</td>\n",
       "      <td>3.62</td>\n",
       "    </tr>\n",
       "  </tbody>\n",
       "</table>\n",
       "</div>"
      ],
      "text/plain": [
       "    author_id                                        author_name  rating\n",
       "0         236                         J.K. Rowling/Mary GrandPré    4.29\n",
       "1         240                                     J.R.R. Tolkien    4.26\n",
       "2         402                  Markus Zusak/Cao Xuân Việt Khương    4.26\n",
       "3         376                                  Louisa May Alcott    4.19\n",
       "4         498                                       Rick Riordan    4.08\n",
       "5         621                                    William Golding    3.90\n",
       "6         235                                      J.D. Salinger    3.83\n",
       "7         630  William Shakespeare/Paul Werstine/Barbara A. M...    3.79\n",
       "8         469           Paulo Coelho/Alan R. Clarke/Özdemir İnce    3.79\n",
       "9         106                                          Dan Brown    3.76\n",
       "10        372                                         Lois Lowry    3.75\n",
       "11        195            George Orwell/Boris Grabnar/Peter Škerl    3.73\n",
       "12        554                                    Stephenie Meyer    3.66\n",
       "13        311                                     John Steinbeck    3.62"
      ]
     },
     "execution_count": 22,
     "metadata": {},
     "output_type": "execute_result"
    }
   ],
   "source": [
    "author"
   ]
  },
  {
   "cell_type": "code",
   "execution_count": 23,
   "metadata": {
    "colab": {
     "base_uri": "https://localhost:8080/"
    },
    "id": "kTguOiFEtTyX",
    "outputId": "de9ecfc1-b078-472f-b77d-1a031482aa8b"
   },
   "outputs": [
    {
     "name": "stdout",
     "output_type": "stream",
     "text": [
      " автор J.K. Rowling/Mary GrandPré с самой высокой средней оценкой книг -  4.29\n"
     ]
    }
   ],
   "source": [
    "print(f' автор {author.loc[0,\"author_name\"]} с самой высокой средней оценкой книг -  {author.loc[0,\"rating\"]}')"
   ]
  },
  {
   "cell_type": "markdown",
   "metadata": {
    "id": "S-Fe2DBxJD_8"
   },
   "source": [
    "Задача 5. Посчитайте среднее количество обзоров от пользователей, которые поставили больше 50 оценок.\n"
   ]
  },
  {
   "cell_type": "code",
   "execution_count": 24,
   "metadata": {
    "id": "iBUlhSrktT1X"
   },
   "outputs": [],
   "source": [
    "m_mark = '''\n",
    "         SELECT \n",
    "         ROUND(AVG(review.number)) AS mid_review\n",
    "           FROM\n",
    "         (SELECT \n",
    "          username AS name,\n",
    "          COUNT(review_id) AS number\n",
    "            FROM \n",
    "          reviews\n",
    "\n",
    "            WHERE \n",
    "          username IN\n",
    "          (SELECT \n",
    "           username AS name\n",
    "             FROM \n",
    "           ratings\n",
    "\n",
    "           GROUP BY name\n",
    "            HAVING \n",
    "           COUNT(rating_id) > 50)\n",
    "           GROUP BY name) AS review\n",
    "\n",
    "                            '''\n",
    "\n",
    "m_mark = pd.io.sql.read_sql(m_mark, con=engine)\n"
   ]
  },
  {
   "cell_type": "code",
   "execution_count": 25,
   "metadata": {
    "colab": {
     "base_uri": "https://localhost:8080/",
     "height": 81
    },
    "id": "8AKqFpkAtT4X",
    "outputId": "acd3f13a-e3af-4b70-a8cc-9182452241aa",
    "scrolled": true
   },
   "outputs": [
    {
     "data": {
      "text/html": [
       "<div>\n",
       "<style scoped>\n",
       "    .dataframe tbody tr th:only-of-type {\n",
       "        vertical-align: middle;\n",
       "    }\n",
       "\n",
       "    .dataframe tbody tr th {\n",
       "        vertical-align: top;\n",
       "    }\n",
       "\n",
       "    .dataframe thead th {\n",
       "        text-align: right;\n",
       "    }\n",
       "</style>\n",
       "<table border=\"1\" class=\"dataframe\">\n",
       "  <thead>\n",
       "    <tr style=\"text-align: right;\">\n",
       "      <th></th>\n",
       "      <th>mid_review</th>\n",
       "    </tr>\n",
       "  </thead>\n",
       "  <tbody>\n",
       "    <tr>\n",
       "      <th>0</th>\n",
       "      <td>24.0</td>\n",
       "    </tr>\n",
       "  </tbody>\n",
       "</table>\n",
       "</div>"
      ],
      "text/plain": [
       "   mid_review\n",
       "0        24.0"
      ]
     },
     "execution_count": 25,
     "metadata": {},
     "output_type": "execute_result"
    }
   ],
   "source": [
    "m_mark"
   ]
  },
  {
   "cell_type": "code",
   "execution_count": 26,
   "metadata": {
    "colab": {
     "base_uri": "https://localhost:8080/"
    },
    "id": "wahgCj49ieNw",
    "outputId": "baf0275c-d001-4b3b-e0f4-7b583c4b5605"
   },
   "outputs": [
    {
     "name": "stdout",
     "output_type": "stream",
     "text": [
      "среднее количество обзоров -  24.0 от пользователей, которые поставили больше 50 оценок\n"
     ]
    }
   ],
   "source": [
    "print(f'среднее количество обзоров -  {m_mark.loc[0,\"mid_review\"]} от пользователей, которые поставили больше 50 оценок')"
   ]
  },
  {
   "cell_type": "markdown",
   "metadata": {
    "id": "cCCrO_lDkYud"
   },
   "source": [
    "1. После 2020-01-01  года вышло 819 книг\n",
    "2. Для каждой книги посчитали количество обзоров и среднюю оценку;\n",
    "3. Издательство, которое выпустило наибольшее число книг толще 50 страниц  - Penguin Books\n",
    "4. Автор J.K. Rowling/Mary GrandPré с самой высокой средней оценкой книг -  4.29\n",
    "5. Среднее количество обзоров -  24.0 от пользователей, которые поставили больше 50 оценок"
   ]
  },
  {
   "cell_type": "code",
   "execution_count": null,
   "metadata": {},
   "outputs": [],
   "source": []
  }
 ],
 "metadata": {
  "ExecuteTimeLog": [
   {
    "duration": 540,
    "start_time": "2023-03-30T13:39:42.826Z"
   },
   {
    "duration": 13271,
    "start_time": "2023-03-30T13:39:43.368Z"
   },
   {
    "duration": 42,
    "start_time": "2023-03-30T13:39:56.644Z"
   },
   {
    "duration": 4,
    "start_time": "2023-03-30T13:39:56.688Z"
   },
   {
    "duration": 51,
    "start_time": "2023-03-30T13:39:56.694Z"
   },
   {
    "duration": 9,
    "start_time": "2023-03-30T13:39:56.747Z"
   },
   {
    "duration": 61,
    "start_time": "2023-03-30T13:39:56.758Z"
   },
   {
    "duration": 15,
    "start_time": "2023-03-30T13:39:56.820Z"
   },
   {
    "duration": 37,
    "start_time": "2023-03-30T13:39:56.837Z"
   },
   {
    "duration": 50,
    "start_time": "2023-03-30T13:39:56.875Z"
   },
   {
    "duration": 33,
    "start_time": "2023-03-30T13:39:56.927Z"
   },
   {
    "duration": 16,
    "start_time": "2023-03-30T13:39:56.962Z"
   },
   {
    "duration": 68,
    "start_time": "2023-03-30T13:39:56.980Z"
   },
   {
    "duration": 11,
    "start_time": "2023-03-30T13:39:57.051Z"
   },
   {
    "duration": 8,
    "start_time": "2023-03-30T13:39:57.064Z"
   },
   {
    "duration": 20,
    "start_time": "2023-03-30T13:39:57.073Z"
   },
   {
    "duration": 12,
    "start_time": "2023-03-30T13:39:57.095Z"
   },
   {
    "duration": 21,
    "start_time": "2023-03-30T13:39:57.109Z"
   },
   {
    "duration": 9,
    "start_time": "2023-03-30T13:39:57.132Z"
   },
   {
    "duration": 4,
    "start_time": "2023-03-30T13:39:57.143Z"
   },
   {
    "duration": 15,
    "start_time": "2023-03-30T13:39:57.148Z"
   },
   {
    "duration": 8,
    "start_time": "2023-03-30T13:39:57.165Z"
   },
   {
    "duration": 6,
    "start_time": "2023-03-30T13:39:57.175Z"
   },
   {
    "duration": 12,
    "start_time": "2023-03-30T13:39:57.182Z"
   },
   {
    "duration": 13,
    "start_time": "2023-03-30T13:39:57.202Z"
   },
   {
    "duration": 9,
    "start_time": "2023-03-30T13:39:57.217Z"
   }
  ],
  "colab": {
   "provenance": []
  },
  "kernelspec": {
   "display_name": "Python 3 (ipykernel)",
   "language": "python",
   "name": "python3"
  },
  "language_info": {
   "codemirror_mode": {
    "name": "ipython",
    "version": 3
   },
   "file_extension": ".py",
   "mimetype": "text/x-python",
   "name": "python",
   "nbconvert_exporter": "python",
   "pygments_lexer": "ipython3",
   "version": "3.9.12"
  },
  "toc": {
   "base_numbering": 1,
   "nav_menu": {},
   "number_sections": true,
   "sideBar": true,
   "skip_h1_title": true,
   "title_cell": "Table of Contents",
   "title_sidebar": "Contents",
   "toc_cell": false,
   "toc_position": {},
   "toc_section_display": true,
   "toc_window_display": false
  }
 },
 "nbformat": 4,
 "nbformat_minor": 1
}
